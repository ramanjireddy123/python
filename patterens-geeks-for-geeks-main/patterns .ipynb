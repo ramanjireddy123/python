{
 "cells": [
  {
   "cell_type": "code",
   "execution_count": 1,
   "id": "f951f3a1-e03c-4beb-9741-70d6aa5517ac",
   "metadata": {},
   "outputs": [
    {
     "name": "stdout",
     "output_type": "stream",
     "text": [
      "  ***  \n",
      " *     \n",
      " *     \n",
      " * *** \n",
      " *   * \n",
      " *   * \n",
      "  ***  \n",
      "\n"
     ]
    }
   ],
   "source": [
    "# Python program to print pattern G\n",
    "def Pattern(line):\n",
    "\tpat=\"\"\n",
    "\tfor i in range(0,line):\n",
    "\t\tfor j in range(0,line):\t\n",
    "\t\t\tif ((j == 1 and i != 0 and i != line-1) or ((i == 0 or\n",
    "\t\t\t\ti == line-1) and j > 1 and j < line-2) or (i == ((line-1)/2)\n",
    "\t\t\t\tand j > line-5 and j < line-1) or (j == line-2 and\n",
    "\t\t\t\ti != 0 and i != line-1 and i >=((line-1)/2))):\n",
    "\t\t\t\tpat=pat+\"*\"\n",
    "\t\t\telse:\t\n",
    "\t\t\t\tpat=pat+\" \"\n",
    "\t\tpat=pat+\"\\n\"\n",
    "\treturn pat\n",
    "line = 7\n",
    "print(Pattern(line))"
   ]
  },
  {
   "cell_type": "code",
   "execution_count": 2,
   "id": "89d31e5e-7e83-46da-ba5f-f23b17fd0895",
   "metadata": {},
   "outputs": [
    {
     "name": "stdout",
     "output_type": "stream",
     "text": [
      "***********\n",
      " **********\n",
      "  *********\n",
      "   ********\n",
      "    *******\n",
      "     ******\n",
      "      *****\n",
      "       ****\n",
      "        ***\n",
      "         **\n",
      "          *\n"
     ]
    }
   ],
   "source": [
    "# python 3 code to print inverted star\n",
    "n=11\n",
    "for i in range (n, 0, -1):\n",
    "\tprint((n-i) * ' ' + i * '*')"
   ]
  },
  {
   "cell_type": "code",
   "execution_count": 3,
   "id": "b81d51c2-df6b-4743-89a4-462017be7c6a",
   "metadata": {},
   "outputs": [
    {
     "name": "stdout",
     "output_type": "stream",
     "text": [
      "  ***  \n",
      " *   * \n",
      " *     \n",
      " * *** \n",
      " *   * \n",
      " *   * \n",
      "  ***  \n",
      "\n"
     ]
    }
   ],
   "source": [
    "result_str=\"\";    \n",
    "for row in range(0,7):    \n",
    "    for column in range(0,7):     \n",
    "        if ((column == 1 and row != 0 and row != 6) or ((row == 0 or row == 6) and column > 1 and column < 5) or (row == 3 and column > 2 and column < 6) or (column == 5 and row != 0 and row != 2 and row != 6)):  \n",
    "            result_str=result_str+\"*\"    \n",
    "        else:      \n",
    "            result_str=result_str+\" \"    \n",
    "    result_str=result_str+\"\\n\"    \n",
    "print(result_str);\n"
   ]
  },
  {
   "cell_type": "code",
   "execution_count": 4,
   "id": "9b6d18a4-3096-4214-8a46-473f4bae53b9",
   "metadata": {},
   "outputs": [
    {
     "name": "stdout",
     "output_type": "stream",
     "text": [
      "         *   * \n",
      "         *   * \n",
      "       *   *   *   * \n",
      "       *   *   *   * \n",
      "     *   *   *   *   *   * \n",
      "     *   *   *   *   *   * \n",
      "   *   *   *   *   *   *   *   * \n",
      "   *   *   *   *   *   *   *   * \n",
      " *   *   *   *   *   *   *   *   *   * \n",
      " *   *   *   *   *   *   *   *   *   * \n"
     ]
    }
   ],
   "source": [
    "# Python3 Program to demonstrate\n",
    "\n",
    "def pattern(n):\n",
    "\t# for loop for rows\n",
    "\tfor i in range(1,n+1):\n",
    "\t\t# conditional operator\n",
    "\t\tk =i + 1 if(i % 2 != 0) else i\n",
    "\t\t# for loop for printing spaces\n",
    "\t\tfor g in range(k,n):\n",
    "\t\t\tif g>=k:\n",
    "\t\t\t\tprint(end=\" \")\n",
    "\t\t# according to value of k carry\n",
    "\t\t# out further operation\n",
    "\t\tfor j in range(0,k):\n",
    "\t\t\tif j == k - 1:\n",
    "\t\t\t\tprint(\" * \")\n",
    "\t\t\telse:\n",
    "\t\t\t\tprint(\" * \", end = \" \")\n",
    "n = 10\n",
    "pattern(n)"
   ]
  },
  {
   "cell_type": "code",
   "execution_count": 5,
   "id": "d410f4f1-f36e-4830-ac12-03b663578665",
   "metadata": {},
   "outputs": [
    {
     "name": "stdout",
     "output_type": "stream",
     "text": [
      "..######..\n",
      "..#.......\n",
      "..#.####.. \n",
      "..#....#..\n",
      "..#####...\n",
      "\n",
      "\n",
      "..######..\n",
      "..#.......\n",
      "..#####... \n",
      "..#.......\n",
      "..######..\n",
      "\n",
      "\n",
      "..######..\n",
      "..#.......\n",
      "..#####... \n",
      "..#.......\n",
      "..######..\n",
      "\n",
      "\n",
      "..#...#...\n",
      "..#..#....\n",
      "..##...... \n",
      "..#..#....\n",
      "..#...#...\n",
      "\n",
      "\n"
     ]
    }
   ],
   "source": [
    "# Python3 code to print input in your own font\n",
    "\n",
    "name = \"GEEK\"\n",
    "\n",
    "# To take input from User\n",
    "# name = input(\"Enter your name: \\n\\n\")\n",
    "\n",
    "lngth = len(name)\n",
    "l = \"\"\n",
    "\n",
    "for x in range(0, lngth):\n",
    "\tc = name[x]\n",
    "\tc = c.upper()\n",
    "\t\n",
    "\tif (c == \"A\"):\n",
    "\t\tprint(\"..######..\\n..#....#..\\n..######..\", end = \" \")\n",
    "\t\tprint(\"\\n..#....#..\\n..#....#..\\n\\n\")\n",
    "\t\t\n",
    "\telif (c == \"B\"):\n",
    "\t\tprint(\"..######..\\n..#....#..\\n..#####...\", end = \" \")\n",
    "\t\tprint(\"\\n..#....#..\\n..######..\\n\\n\")\n",
    "\t\t\n",
    "\telif (c == \"C\"):\n",
    "\t\tprint(\"..######..\\n..#.......\\n..#.......\", end = \" \")\n",
    "\t\tprint(\"\\n..#.......\\n..######..\\n\\n\")\n",
    "\t\t\n",
    "\telif (c == \"D\"):\n",
    "\t\tprint(\"..#####...\\n..#....#..\\n..#....#..\", end = \" \")\n",
    "\t\tprint(\"\\n..#....#..\\n..#####...\\n\\n\")\n",
    "\t\t\n",
    "\telif (c == \"E\"):\n",
    "\t\tprint(\"..######..\\n..#.......\\n..#####...\", end = \" \")\n",
    "\t\tprint(\"\\n..#.......\\n..######..\\n\\n\")\n",
    "\t\t\n",
    "\telif (c == \"F\"):\n",
    "\t\tprint(\"..######..\\n..#.......\\n..#####...\", end = \" \")\n",
    "\t\tprint(\"\\n..#.......\\n..#.......\\n\\n\")\n",
    "\t\t\n",
    "\telif (c == \"G\"):\n",
    "\t\tprint(\"..######..\\n..#.......\\n..#.####..\", end = \" \")\n",
    "\t\tprint(\"\\n..#....#..\\n..#####...\\n\\n\")\n",
    "\t\t\n",
    "\telif (c == \"H\"):\n",
    "\t\tprint(\"..#....#..\\n..#....#..\\n..######..\", end = \" \")\n",
    "\t\tprint(\"\\n..#....#..\\n..#....#..\\n\\n\")\n",
    "\t\t\n",
    "\telif (c == \"I\"):\n",
    "\t\tprint(\"..######..\\n....##....\\n....##....\", end = \" \")\n",
    "\t\tprint(\"\\n....##....\\n..######..\\n\\n\")\n",
    "\t\t\n",
    "\telif (c == \"J\"):\n",
    "\t\tprint(\"..######..\\n....##....\\n....##....\", end = \" \")\n",
    "\t\tprint(\"\\n..#.##....\\n..####....\\n\\n\")\n",
    "\t\t\n",
    "\telif (c == \"K\"):\n",
    "\t\tprint(\"..#...#...\\n..#..#....\\n..##......\", end = \" \")\n",
    "\t\tprint(\"\\n..#..#....\\n..#...#...\\n\\n\")\n",
    "\t\t\n",
    "\telif (c == \"L\"):\n",
    "\t\tprint(\"..#.......\\n..#.......\\n..#.......\", end = \" \")\n",
    "\t\tprint(\"\\n..#.......\\n..######..\\n\\n\")\n",
    "\t\t\n",
    "\telif (c == \"M\"):\n",
    "\t\tprint(\"..#....#..\\n..##..##..\\n..#.##.#..\", end = \" \")\n",
    "\t\tprint(\"\\n..#....#..\\n..#....#..\\n\\n\")\n",
    "\t\t\n",
    "\telif (c == \"N\"):\n",
    "\t\tprint(\"..#....#..\\n..##...#..\\n..#.#..#..\", end = \" \")\n",
    "\t\tprint(\"\\n..#..#.#..\\n..#...##..\\n\\n\")\n",
    "\t\t\n",
    "\telif (c == \"O\"):\n",
    "\t\tprint(\"..######..\\n..#....#..\\n..#....#..\", end = \" \")\n",
    "\t\tprint(\"\\n..#....#..\\n..######..\\n\\n\")\n",
    "\t\t\n",
    "\telif (c == \"P\"):\n",
    "\t\tprint(\"..######..\\n..#....#..\\n..######..\", end = \" \")\n",
    "\t\tprint(\"\\n..#.......\\n..#.......\\n\\n\")\n",
    "\t\t\n",
    "\telif (c == \"Q\"):\n",
    "\t\tprint(\"..######..\\n..#....#..\\n..#.#..#..\", end = \" \")\n",
    "\t\tprint(\"\\n..#..#.#..\\n..######..\\n\\n\")\n",
    "\t\t\n",
    "\telif (c == \"R\"):\n",
    "\t\tprint(\"..######..\\n..#....#..\\n..#.##...\", end = \" \")\n",
    "\t\tprint(\"\\n..#...#...\\n..#....#..\\n\\n\")\n",
    "\t\t\n",
    "\telif (c == \"S\"):\n",
    "\t\tprint(\"..######..\\n..#.......\\n..######..\", end = \" \")\n",
    "\t\tprint(\"\\n.......#..\\n..######..\\n\\n\")\n",
    "\t\t\n",
    "\telif (c == \"T\"):\n",
    "\t\tprint(\"..######..\\n....##....\\n....##....\", end = \" \")\n",
    "\t\tprint(\"\\n....##....\\n....##....\\n\\n\")\n",
    "\t\t\n",
    "\telif (c == \"U\"):\n",
    "\t\tprint(\"..#....#..\\n..#....#..\\n..#....#..\", end = \" \")\n",
    "\t\tprint(\"\\n..#....#..\\n..######..\\n\\n\")\n",
    "\t\t\n",
    "\telif (c == \"V\"):\n",
    "\t\tprint(\"..#....#..\\n..#....#..\\n..#....#..\", end = \" \")\n",
    "\t\tprint(\"\\n...#..#...\\n....##....\\n\\n\")\n",
    "\t\t\n",
    "\telif (c == \"W\"):\n",
    "\t\tprint(\"..#....#..\\n..#....#..\\n..#.##.#..\", end = \" \")\n",
    "\t\tprint(\"\\n..##..##..\\n..#....#..\\n\\n\")\n",
    "\t\t\n",
    "\telif (c == \"X\"):\n",
    "\t\tprint(\"..#....#..\\n...#..#...\\n....##....\", end = \" \")\n",
    "\t\tprint(\"\\n...#..#...\\n..#....#..\\n\\n\")\n",
    "\t\t\n",
    "\telif (c == \"Y\"):\n",
    "\t\tprint(\"..#....#..\\n...#..#...\\n....##....\", end = \" \")\n",
    "\t\tprint(\"\\n....##....\\n....##....\\n\\n\")\n",
    "\t\t\n",
    "\telif (c == \"Z\"):\n",
    "\t\tprint(\"..######..\\n......#...\\n.....#....\", end = \" \")\n",
    "\t\tprint(\"\\n....#.....\\n..######..\\n\\n\")\n",
    "\t\t\n",
    "\telif (c == \" \"):\n",
    "\t\tprint(\"..........\\n..........\\n..........\", end = \" \")\n",
    "\t\tprint(\"\\n..........\\n\\n\")\n",
    "\t\t\n",
    "\telif (c == \".\"):\n",
    "\t\tprint(\"----..----\\n\\n\")\n"
   ]
  },
  {
   "cell_type": "code",
   "execution_count": 6,
   "id": "394bbce3-a8c0-49d4-8b67-111f8163149e",
   "metadata": {},
   "outputs": [
    {
     "name": "stdout",
     "output_type": "stream",
     "text": [
      " ***** \n",
      " *     \n",
      " *     \n",
      " ****  \n",
      " *     \n",
      " *     \n",
      " ***** \n",
      "\n"
     ]
    }
   ],
   "source": [
    "result_str=\"\";    \n",
    "for row in range(0,7):    \n",
    "    for column in range(0,7):     \n",
    "        if (column == 1 or ((row == 0 or row == 6) and (column > 1 and column < 6)) or (row == 3 and column > 1 and column < 5)):  \n",
    "            result_str=result_str+\"*\"    \n",
    "        else:      \n",
    "            result_str=result_str+\" \"    \n",
    "    result_str=result_str+\"\\n\"    \n",
    "print(result_str);"
   ]
  },
  {
   "cell_type": "code",
   "execution_count": 7,
   "id": "a52111bb-df86-48cb-93f6-e496657af838",
   "metadata": {},
   "outputs": [
    {
     "name": "stdout",
     "output_type": "stream",
     "text": [
      " ****  \n",
      " *   * \n",
      " *   * \n",
      " *   * \n",
      " *   * \n",
      " *   * \n",
      " ****  \n",
      "\n"
     ]
    }
   ],
   "source": [
    "result_str=\"\";    \n",
    "for row in range(0,7):    \n",
    "    for column in range(0,7):     \n",
    "        if (column == 1 or ((row == 0 or row == 6) and (column > 1 and column < 5)) or (column == 5 and row != 0 and row != 6)):  \n",
    "            result_str=result_str+\"*\"    \n",
    "        else:      \n",
    "            result_str=result_str+\" \"    \n",
    "    result_str=result_str+\"\\n\"    \n",
    "print(result_str);\n"
   ]
  },
  {
   "cell_type": "code",
   "execution_count": 8,
   "id": "e33f7a12-9e25-4cb3-8d86-66a29ad074cd",
   "metadata": {},
   "outputs": [
    {
     "name": "stdout",
     "output_type": "stream",
     "text": [
      "  ***  \n",
      " *   * \n",
      " *   * \n",
      " ***** \n",
      " *   * \n",
      " *   * \n",
      " *   * \n",
      "\n"
     ]
    }
   ],
   "source": [
    "result_str=\"\";    \n",
    "for row in range(0,7):    \n",
    "    for column in range(0,7):     \n",
    "        if (((column == 1 or column == 5) and row != 0) or ((row == 0 or row == 3) and (column > 1 and column < 5))):    \n",
    "            result_str=result_str+\"*\"    \n",
    "        else:      \n",
    "            result_str=result_str+\" \"    \n",
    "    result_str=result_str+\"\\n\"    \n",
    "print(result_str);\n"
   ]
  },
  {
   "cell_type": "code",
   "execution_count": null,
   "id": "bfa67387-af14-405f-8d60-9c7a8b47c5a7",
   "metadata": {},
   "outputs": [],
   "source": []
  }
 ],
 "metadata": {
  "kernelspec": {
   "display_name": "Python 3",
   "language": "python",
   "name": "python3"
  },
  "language_info": {
   "codemirror_mode": {
    "name": "ipython",
    "version": 3
   },
   "file_extension": ".py",
   "mimetype": "text/x-python",
   "name": "python",
   "nbconvert_exporter": "python",
   "pygments_lexer": "ipython3",
   "version": "3.8.6"
  }
 },
 "nbformat": 4,
 "nbformat_minor": 5
}
