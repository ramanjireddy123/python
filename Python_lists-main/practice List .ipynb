{
 "cells": [
  {
   "cell_type": "code",
   "execution_count": 1,
   "id": "0aae8489-a332-4c51-bcda-b1adca0418be",
   "metadata": {},
   "outputs": [
    {
     "name": "stdout",
     "output_type": "stream",
     "text": [
      "-5\n"
     ]
    }
   ],
   "source": [
    "def sum_list(items):\n",
    "    sum_numbers = 0\n",
    "    for x in items:\n",
    "        sum_numbers += x\n",
    "    return sum_numbers\n",
    "print(sum_list([1,2,-8]))\n"
   ]
  },
  {
   "cell_type": "code",
   "execution_count": 2,
   "id": "3d9b3aad-950e-4085-bf00-b609bc65ba70",
   "metadata": {},
   "outputs": [
    {
     "name": "stdout",
     "output_type": "stream",
     "text": [
      "-16\n"
     ]
    }
   ],
   "source": [
    "def multiply_list(items):\n",
    "    tot = 1\n",
    "    for x in items:\n",
    "        tot *= x\n",
    "    return tot\n",
    "print(multiply_list([1,2,-8]))\n"
   ]
  },
  {
   "cell_type": "code",
   "execution_count": 3,
   "id": "8c6f56a5-3a91-4d63-ac8f-646a2c44ee63",
   "metadata": {},
   "outputs": [
    {
     "name": "stdout",
     "output_type": "stream",
     "text": [
      "2\n"
     ]
    }
   ],
   "source": [
    "def max_num_in_list( list ):\n",
    "    max = list[ 0 ]\n",
    "    for a in list:\n",
    "        if a > max:\n",
    "            max = a\n",
    "    return max\n",
    "print(max_num_in_list([1, 2, -8, 0]))\n"
   ]
  },
  {
   "cell_type": "code",
   "execution_count": 4,
   "id": "ddc8019a-13c7-480b-b6c3-8132da14073d",
   "metadata": {},
   "outputs": [
    {
     "name": "stdout",
     "output_type": "stream",
     "text": [
      "-8\n"
     ]
    }
   ],
   "source": [
    "def smallest_num_in_list( list ):\n",
    "    min = list[ 0 ]\n",
    "    for a in list:\n",
    "        if a < min:\n",
    "            min = a\n",
    "    return min\n",
    "print(smallest_num_in_list([1, 2, -8, 0]))\n"
   ]
  },
  {
   "cell_type": "code",
   "execution_count": 5,
   "id": "34dd1a96-4fc8-415d-8ad2-8a4125dc08b6",
   "metadata": {},
   "outputs": [
    {
     "name": "stdout",
     "output_type": "stream",
     "text": [
      "2\n"
     ]
    }
   ],
   "source": [
    "def match_words(words):\n",
    "  ctr = 0\n",
    "\n",
    "  for word in words:\n",
    "    if len(word) > 1 and word[0] == word[-1]:\n",
    "      ctr += 1\n",
    "  return ctr\n",
    "\n",
    "print(match_words(['abc', 'xyz', 'aba', '1221']))\n"
   ]
  },
  {
   "cell_type": "code",
   "execution_count": 6,
   "id": "cfefb239-a5bd-4989-bca9-907daa91e87d",
   "metadata": {},
   "outputs": [
    {
     "name": "stdout",
     "output_type": "stream",
     "text": [
      "[(2, 1), (1, 2), (2, 3), (4, 4), (2, 5)]\n"
     ]
    }
   ],
   "source": [
    "def last(n): return n[-1]\n",
    "\n",
    "def sort_list_last(tuples):\n",
    "  return sorted(tuples, key=last)\n",
    "\n",
    "print(sort_list_last([(2, 5), (1, 2), (4, 4), (2, 3), (2, 1)]))\n"
   ]
  },
  {
   "cell_type": "code",
   "execution_count": 7,
   "id": "40e601c9-df95-4121-a2f4-df185ae09050",
   "metadata": {},
   "outputs": [
    {
     "name": "stdout",
     "output_type": "stream",
     "text": [
      "{40, 10, 80, 50, 20, 60, 30}\n"
     ]
    }
   ],
   "source": [
    "a = [10,20,30,20,10,50,60,40,80,50,40]\n",
    "\n",
    "dup_items = set()\n",
    "uniq_items = []\n",
    "for x in a:\n",
    "    if x not in dup_items:\n",
    "        uniq_items.append(x)\n",
    "        dup_items.add(x)\n",
    "\n",
    "print(dup_items)\n"
   ]
  },
  {
   "cell_type": "code",
   "execution_count": 8,
   "id": "1b9adc75-894d-4223-bb9c-c39891c2b472",
   "metadata": {},
   "outputs": [
    {
     "name": "stdout",
     "output_type": "stream",
     "text": [
      "List is empty\n"
     ]
    }
   ],
   "source": [
    "l = []\n",
    "if not l:\n",
    "  print(\"List is empty\")\n",
    "  "
   ]
  },
  {
   "cell_type": "code",
   "execution_count": 9,
   "id": "d3d1ec78-3c42-4210-b3dc-e19256341942",
   "metadata": {},
   "outputs": [
    {
     "name": "stdout",
     "output_type": "stream",
     "text": [
      "[10, 22, 44, 23, 4]\n",
      "[10, 22, 44, 23, 4]\n"
     ]
    }
   ],
   "source": [
    "original_list = [10, 22, 44, 23, 4]\n",
    "new_list = list(original_list)\n",
    "print(original_list)\n",
    "print(new_list)\n"
   ]
  },
  {
   "cell_type": "code",
   "execution_count": 10,
   "id": "4cf81e5f-b511-418d-98f4-11aa3e68f4eb",
   "metadata": {},
   "outputs": [
    {
     "name": "stdout",
     "output_type": "stream",
     "text": [
      "['quick', 'brown', 'jumps', 'over', 'lazy']\n"
     ]
    }
   ],
   "source": [
    "def long_words(n, str):\n",
    "    word_len = []\n",
    "    txt = str.split(\" \")\n",
    "    for x in txt:\n",
    "        if len(x) > n:\n",
    "            word_len.append(x)\n",
    "    return word_len\t\n",
    "print(long_words(3, \"The quick brown fox jumps over the lazy dog\"))\n"
   ]
  },
  {
   "cell_type": "code",
   "execution_count": 11,
   "id": "4ee03eb4-675e-4c54-b53f-711a645472c5",
   "metadata": {},
   "outputs": [
    {
     "name": "stdout",
     "output_type": "stream",
     "text": [
      "True\n",
      "None\n"
     ]
    }
   ],
   "source": [
    "def common_data(list1, list2):\n",
    "     result = False\n",
    "     for x in list1:\n",
    "         for y in list2:\n",
    "             if x == y:\n",
    "                 result = True\n",
    "                 return result\n",
    "print(common_data([1,2,3,4,5], [5,6,7,8,9]))\n",
    "print(common_data([1,2,3,4,5], [6,7,8,9]))\n"
   ]
  },
  {
   "cell_type": "code",
   "execution_count": 12,
   "id": "22bcc941-856c-4185-921f-bf2d01ee2d02",
   "metadata": {},
   "outputs": [
    {
     "name": "stdout",
     "output_type": "stream",
     "text": [
      "['Green', 'White', 'Black']\n"
     ]
    }
   ],
   "source": [
    "color = ['Red', 'Green', 'White', 'Black', 'Pink', 'Yellow']\n",
    "color = [x for (i,x) in enumerate(color) if i not in (0,4,5)]\n",
    "print(color)\n"
   ]
  },
  {
   "cell_type": "code",
   "execution_count": 13,
   "id": "1b198e34-7831-4145-b7d6-2e1c49cd2927",
   "metadata": {},
   "outputs": [
    {
     "name": "stdout",
     "output_type": "stream",
     "text": [
      "[[['*', '*', '*', '*', '*', '*'], ['*', '*', '*', '*', '*', '*'], ['*', '*', '*', '*', '*', '*'], ['*', '*', '*', '*', '*', '*']], [['*', '*', '*', '*', '*', '*'], ['*', '*', '*', '*', '*', '*'], ['*', '*', '*', '*', '*', '*'], ['*', '*', '*', '*', '*', '*']], [['*', '*', '*', '*', '*', '*'], ['*', '*', '*', '*', '*', '*'], ['*', '*', '*', '*', '*', '*'], ['*', '*', '*', '*', '*', '*']]]\n"
     ]
    }
   ],
   "source": [
    "array = [[ ['*' for col in range(6)] for col in range(4)] for row in range(3)]\n",
    "print(array)\n"
   ]
  },
  {
   "cell_type": "code",
   "execution_count": 14,
   "id": "eb8fb667-b817-4b52-bad7-cd441387fa83",
   "metadata": {},
   "outputs": [
    {
     "name": "stdout",
     "output_type": "stream",
     "text": [
      "[7, 25, 27]\n"
     ]
    }
   ],
   "source": [
    "num = [7,8, 120, 25, 44, 20, 27]\n",
    "num = [x for x in num if x%2!=0]\n",
    "print(num)\n"
   ]
  },
  {
   "cell_type": "code",
   "execution_count": 15,
   "id": "d8f7351f-7e0c-4e9b-9cfd-7208a3bbe38d",
   "metadata": {},
   "outputs": [
    {
     "name": "stdout",
     "output_type": "stream",
     "text": [
      "['Green', 'Black', 'Pink', 'Red', 'Yellow', 'White']\n"
     ]
    }
   ],
   "source": [
    "from random import shuffle\n",
    "color = ['Red', 'Green', 'White', 'Black', 'Pink', 'Yellow']\n",
    "shuffle(color)\n",
    "print(color)\n"
   ]
  },
  {
   "cell_type": "code",
   "execution_count": 16,
   "id": "37381df2-ab82-4a0c-94f1-a05b9366e1d5",
   "metadata": {},
   "outputs": [
    {
     "name": "stdout",
     "output_type": "stream",
     "text": [
      "[1, 4, 9, 16, 25]\n",
      "[256, 289, 324, 361, 400]\n"
     ]
    }
   ],
   "source": [
    "def printValues():\n",
    "\tl = list()\n",
    "\tfor i in range(1,21):\n",
    "\t\tl.append(i**2)\n",
    "\tprint(l[:5])\n",
    "\tprint(l[-5:])\n",
    "\n",
    "printValues()\n"
   ]
  },
  {
   "cell_type": "code",
   "execution_count": 17,
   "id": "a1eb71d2-8266-467b-9a21-dd254804c852",
   "metadata": {},
   "outputs": [
    {
     "name": "stdout",
     "output_type": "stream",
     "text": [
      "[36, 49, 64, 81, 100, 121, 144, 169, 196, 225, 256, 289, 324, 361, 400, 441, 484, 529, 576, 625, 676, 729, 784, 841, 900]\n"
     ]
    }
   ],
   "source": [
    "def printValues():\n",
    "\tl = list()\n",
    "\tfor i in range(1,31):\n",
    "\t\tl.append(i**2)\n",
    "\tprint(l[5:])\n",
    "printValues()\n"
   ]
  },
  {
   "cell_type": "code",
   "execution_count": 18,
   "id": "d62e533a-f2d8-485b-9d65-45ec88946e1a",
   "metadata": {},
   "outputs": [
    {
     "name": "stdout",
     "output_type": "stream",
     "text": [
      "[(1, 2, 3), (1, 3, 2), (2, 1, 3), (2, 3, 1), (3, 1, 2), (3, 2, 1)]\n"
     ]
    }
   ],
   "source": [
    "import itertools\n",
    "print(list(itertools.permutations([1,2,3])))\n"
   ]
  },
  {
   "cell_type": "code",
   "execution_count": 20,
   "id": "400c8429-0740-4ef3-a6f1-1625b59f10f2",
   "metadata": {},
   "outputs": [
    {
     "name": "stdout",
     "output_type": "stream",
     "text": [
      "[9, 3, 5, 8, 2, 4, 6]\n"
     ]
    }
   ],
   "source": [
    "list1 = [1, 3, 5, 7, 9]\n",
    "list2=[1, 2, 4, 6, 7, 8]\n",
    "diff_list1_list2 = list(set(list1) - set(list2))\n",
    "diff_list2_list1 = list(set(list2) - set(list1))\n",
    "total_diff = diff_list1_list2 + diff_list2_list1\n",
    "print(total_diff)\n"
   ]
  },
  {
   "cell_type": "code",
   "execution_count": 21,
   "id": "3787ed54-1a65-4049-8a41-4cc1a606de18",
   "metadata": {},
   "outputs": [
    {
     "name": "stdout",
     "output_type": "stream",
     "text": [
      "0 5\n",
      "1 15\n",
      "2 35\n",
      "3 8\n",
      "4 98\n"
     ]
    }
   ],
   "source": [
    "nums = [5, 15, 35, 8, 98]\n",
    "for num_index, num_val in enumerate(nums):\n",
    "    print(num_index, num_val)\n",
    "\t"
   ]
  },
  {
   "cell_type": "code",
   "execution_count": 22,
   "id": "bc988663-037d-47ff-92fe-fa7948ad7514",
   "metadata": {},
   "outputs": [
    {
     "name": "stdout",
     "output_type": "stream",
     "text": [
      "abcd\n"
     ]
    }
   ],
   "source": [
    "s = ['a', 'b', 'c', 'd']\n",
    "str1 = ''.join(s)\n",
    "print(str1)\n"
   ]
  },
  {
   "cell_type": "code",
   "execution_count": 23,
   "id": "c597d54b-57cc-4847-80c4-d1011f4cc020",
   "metadata": {},
   "outputs": [
    {
     "name": "stdout",
     "output_type": "stream",
     "text": [
      "1\n"
     ]
    }
   ],
   "source": [
    "num =[10, 30, 4, -6]\n",
    "print(num.index(30))\n"
   ]
  },
  {
   "cell_type": "code",
   "execution_count": 24,
   "id": "53c96612-3fa3-4835-85b5-231ccb85f755",
   "metadata": {},
   "outputs": [
    {
     "name": "stdout",
     "output_type": "stream",
     "text": [
      "[2, 4, 3, 1, 5, 6, 9, 7, 9, 0]\n"
     ]
    }
   ],
   "source": [
    "import itertools\n",
    "original_list = [[2,4,3],[1,5,6], [9], [7,9,0]]\n",
    "new_merged_list = list(itertools.chain(*original_list))\n",
    "print(new_merged_list)\n"
   ]
  },
  {
   "cell_type": "code",
   "execution_count": 25,
   "id": "c8894fbf-0fa0-45fb-8f55-241104b564ee",
   "metadata": {},
   "outputs": [
    {
     "name": "stdout",
     "output_type": "stream",
     "text": [
      "[1, 2, 3, 0, 'Red', 'Green', 'Black']\n"
     ]
    }
   ],
   "source": [
    "list1 = [1, 2, 3, 0]\n",
    "list2 = ['Red', 'Green', 'Black']\n",
    "final_list = list1 + list2\n",
    "print(final_list)\n"
   ]
  },
  {
   "cell_type": "code",
   "execution_count": 29,
   "id": "5928c050-8be3-4346-a460-688dfacfe89a",
   "metadata": {},
   "outputs": [
    {
     "name": "stdout",
     "output_type": "stream",
     "text": [
      "Blue\n"
     ]
    }
   ],
   "source": [
    "import random\n",
    "color_list = ['Red', 'Blue', 'Green', 'White', 'Black']\n",
    "print(random.choice(color_list))\n"
   ]
  },
  {
   "cell_type": "code",
   "execution_count": 30,
   "id": "96c21bbd-a52b-409b-9b26-34fa2989aab5",
   "metadata": {},
   "outputs": [
    {
     "name": "stdout",
     "output_type": "stream",
     "text": [
      "Compare list1 and list2\n",
      "True\n",
      "Compare list1 and list3\n",
      "False\n"
     ]
    }
   ],
   "source": [
    "list1 = [10, 10, 0, 0, 10]\n",
    "list2 = [10, 10, 10, 0, 0]\n",
    "list3 = [1, 10, 10, 0, 0]\n",
    "\n",
    "print('Compare list1 and list2')\n",
    "print(' '.join(map(str, list2)) in ' '.join(map(str, list1 * 2)))\n",
    "print('Compare list1 and list3')\n",
    "print(' '.join(map(str, list3)) in ' '.join(map(str, list1 * 2)))\n"
   ]
  },
  {
   "cell_type": "code",
   "execution_count": 31,
   "id": "17cb849a-b701-4cdc-9874-5a7db310c1f3",
   "metadata": {},
   "outputs": [
    {
     "name": "stdout",
     "output_type": "stream",
     "text": [
      "-2\n",
      "0\n",
      "0\n",
      "None\n",
      "None\n"
     ]
    }
   ],
   "source": [
    "def second_smallest(numbers):\n",
    "  if (len(numbers)<2):\n",
    "    return\n",
    "  if ((len(numbers)==2)  and (numbers[0] == numbers[1]) ):\n",
    "    return\n",
    "  dup_items = set()\n",
    "  uniq_items = []\n",
    "  for x in numbers:\n",
    "    if x not in dup_items:\n",
    "      uniq_items.append(x)\n",
    "      dup_items.add(x)\n",
    "  uniq_items.sort()    \n",
    "  return  uniq_items[1]   \n",
    "\n",
    "print(second_smallest([1, 2, -8, -2, 0, -2]))\n",
    "print(second_smallest([1, 1, 0, 0, 2, -2, -2]))\n",
    "print(second_smallest([1, 1, 1, 0, 0, 0, 2, -2, -2]))\n",
    "print(second_smallest([2,2]))\n",
    "print(second_smallest([2]))\n"
   ]
  },
  {
   "cell_type": "code",
   "execution_count": 32,
   "id": "b6a280d0-1c68-4272-a04f-3a1894cfb29b",
   "metadata": {},
   "outputs": [
    {
     "name": "stdout",
     "output_type": "stream",
     "text": [
      "3\n",
      "1\n",
      "None\n",
      "None\n"
     ]
    }
   ],
   "source": [
    "def second_largest(numbers):\n",
    "  if (len(numbers)<2):\n",
    "    return\n",
    "  if ((len(numbers)==2)  and (numbers[0] == numbers[1]) ):\n",
    "    return\n",
    "  dup_items = set()\n",
    "  uniq_items = []\n",
    "  for x in numbers:\n",
    "    if x not in dup_items:\n",
    "      uniq_items.append(x)\n",
    "      dup_items.add(x)\n",
    "  uniq_items.sort()    \n",
    "  return  uniq_items[-2]   \n",
    "print(second_largest([1,2,3,4,4]))\n",
    "print(second_largest([1, 1, 1, 0, 0, 0, 2, -2, -2]))\n",
    "print(second_largest([2,2]))\n",
    "print(second_largest([1]))\n"
   ]
  },
  {
   "cell_type": "code",
   "execution_count": 33,
   "id": "571ea819-a54c-4274-be66-94309b89e0b7",
   "metadata": {},
   "outputs": [
    {
     "name": "stdout",
     "output_type": "stream",
     "text": [
      "Original List :  [10, 20, 30, 40, 20, 50, 60, 40]\n",
      "List of unique numbers :  [40, 10, 50, 20, 60, 30]\n"
     ]
    }
   ],
   "source": [
    "my_list = [10, 20, 30, 40, 20, 50, 60, 40]\n",
    "print(\"Original List : \",my_list)\n",
    "my_set = set(my_list)\n",
    "my_new_list = list(my_set)\n",
    "print(\"List of unique numbers : \",my_new_list)\n"
   ]
  },
  {
   "cell_type": "code",
   "execution_count": 34,
   "id": "ea2f72a4-4763-49e6-a754-82b13c41a4d4",
   "metadata": {},
   "outputs": [
    {
     "name": "stdout",
     "output_type": "stream",
     "text": [
      "Original List :  [10, 10, 10, 10, 20, 20, 20, 20, 40, 40, 50, 50, 30]\n",
      "Frequency of the elements in the List :  Counter({10: 4, 20: 4, 40: 2, 50: 2, 30: 1})\n"
     ]
    }
   ],
   "source": [
    "import collections\n",
    "my_list = [10,10,10,10,20,20,20,20,40,40,50,50,30]\n",
    "print(\"Original List : \",my_list)\n",
    "ctr = collections.Counter(my_list)\n",
    "print(\"Frequency of the elements in the List : \",ctr)\n"
   ]
  },
  {
   "cell_type": "code",
   "execution_count": 35,
   "id": "9fddf26a-4ff6-4fb5-8fee-c4cb8302d499",
   "metadata": {},
   "outputs": [
    {
     "name": "stdout",
     "output_type": "stream",
     "text": [
      "6\n",
      "5\n"
     ]
    }
   ],
   "source": [
    "def count_range_in_list(li, min, max):\n",
    "\tctr = 0\n",
    "\tfor x in li:\n",
    "\t\tif min <= x <= max:\n",
    "\t\t\tctr += 1\n",
    "\treturn ctr\n",
    "\n",
    "list1 = [10,20,30,40,40,40,70,80,99]\n",
    "print(count_range_in_list(list1, 40, 100))\n",
    "\n",
    "list2 = ['a','b','c','d','e','f']\n",
    "print(count_range_in_list(list2, 'a', 'e'))\n"
   ]
  },
  {
   "cell_type": "code",
   "execution_count": 36,
   "id": "a58c1f13-c4a8-4efc-95ff-bdc8e6621afe",
   "metadata": {},
   "outputs": [
    {
     "name": "stdout",
     "output_type": "stream",
     "text": [
      "True\n",
      "False\n"
     ]
    }
   ],
   "source": [
    "def is_Sublist(l, s):\n",
    "\tsub_set = False\n",
    "\tif s == []:\n",
    "\t\tsub_set = True\n",
    "\telif s == l:\n",
    "\t\tsub_set = True\n",
    "\telif len(s) > len(l):\n",
    "\t\tsub_set = False\n",
    "\n",
    "\telse:\n",
    "\t\tfor i in range(len(l)):\n",
    "\t\t\tif l[i] == s[0]:\n",
    "\t\t\t\tn = 1\n",
    "\t\t\t\twhile (n < len(s)) and (l[i+n] == s[n]):\n",
    "\t\t\t\t\tn += 1\n",
    "\t\t\t\t\n",
    "\t\t\t\tif n == len(s):\n",
    "\t\t\t\t\tsub_set = True\n",
    "\n",
    "\treturn sub_set\n",
    "\n",
    "a = [2,4,3,5,7]\n",
    "b = [4,3]\n",
    "c = [3,7]\n",
    "print(is_Sublist(a, b))\n",
    "print(is_Sublist(a, c))\n"
   ]
  },
  {
   "cell_type": "code",
   "execution_count": 37,
   "id": "447cc44e-91af-4f51-9d28-1d98d07cab49",
   "metadata": {},
   "outputs": [
    {
     "name": "stdout",
     "output_type": "stream",
     "text": [
      "Original list:\n",
      "[10, 20, 30, 40]\n",
      "S\n",
      "[[], [10], [20], [30], [40], [10, 20], [10, 30], [10, 40], [20, 30], [20, 40], [30, 40], [10, 20, 30], [10, 20, 40], [10, 30, 40], [20, 30, 40], [10, 20, 30, 40]]\n",
      "Sublists of the said list:\n",
      "[[], [10], [20], [30], [40], [10, 20], [10, 30], [10, 40], [20, 30], [20, 40], [30, 40], [10, 20, 30], [10, 20, 40], [10, 30, 40], [20, 30, 40], [10, 20, 30, 40]]\n",
      "\n",
      "Original list:\n",
      "['X', 'Y', 'Z']\n",
      "Sublists of the said list:\n",
      "[[], ['X'], ['Y'], ['Z'], ['X', 'Y'], ['X', 'Z'], ['Y', 'Z'], ['X', 'Y', 'Z']]\n"
     ]
    }
   ],
   "source": [
    "from itertools import combinations\n",
    "def sub_lists(my_list):\n",
    "\tsubs = []\n",
    "\tfor i in range(0, len(my_list)+1):\n",
    "\t  temp = [list(x) for x in combinations(my_list, i)]\n",
    "\t  if len(temp)>0:\n",
    "\t    subs.extend(temp)\n",
    "\treturn subs\n",
    "\n",
    "\n",
    "l1 = [10, 20, 30, 40]\n",
    "l2 = ['X', 'Y', 'Z']\n",
    "print(\"Original list:\")\n",
    "print(l1)\n",
    "print(\"S\")\n",
    "print(sub_lists(l1))\n",
    "print(\"Sublists of the said list:\")\n",
    "print(sub_lists(l1))\n",
    "print(\"\\nOriginal list:\")\n",
    "print(l2)\n",
    "print(\"Sublists of the said list:\")\n",
    "print(sub_lists(l2))\n"
   ]
  },
  {
   "cell_type": "code",
   "execution_count": 38,
   "id": "ce141f24-4d1c-4cea-80bb-becc3a26ec55",
   "metadata": {},
   "outputs": [
    {
     "name": "stdout",
     "output_type": "stream",
     "text": [
      "2\n",
      "3\n",
      "5\n",
      "7\n",
      "11\n",
      "13\n",
      "17\n",
      "19\n",
      "23\n",
      "29\n",
      "31\n",
      "37\n",
      "41\n",
      "43\n",
      "47\n",
      "53\n",
      "59\n",
      "61\n",
      "67\n",
      "71\n",
      "73\n",
      "79\n",
      "83\n",
      "89\n",
      "97\n",
      "None\n"
     ]
    }
   ],
   "source": [
    "def prime_eratosthenes(n):\n",
    "    prime_list = []\n",
    "    for i in range(2, n+1):\n",
    "        if i not in prime_list:\n",
    "            print (i)\n",
    "            for j in range(i*i, n+1, i):\n",
    "                prime_list.append(j)\n",
    "\n",
    "print(prime_eratosthenes(100));\n"
   ]
  },
  {
   "cell_type": "code",
   "execution_count": 39,
   "id": "5c2f9530-7c4e-4c7e-913f-93dad93a34c6",
   "metadata": {},
   "outputs": [
    {
     "name": "stdout",
     "output_type": "stream",
     "text": [
      "['p1', 'q1', 'p2', 'q2', 'p3', 'q3', 'p4', 'q4']\n"
     ]
    }
   ],
   "source": [
    "my_list = ['p', 'q']\n",
    "n = 4\n",
    "new_list = ['{}{}'.format(x, y) for y in range(1, n+1) for x in my_list]\n",
    "print(new_list)\n"
   ]
  },
  {
   "cell_type": "code",
   "execution_count": 40,
   "id": "0bd9eb45-62bd-4f2d-89b4-eef98e8cbe19",
   "metadata": {},
   "outputs": [
    {
     "name": "stdout",
     "output_type": "stream",
     "text": [
      "7ff838861300\n",
      "2112a38d2b0\n"
     ]
    }
   ],
   "source": [
    "x = 100\n",
    "print(format(id(x), 'x'))\n",
    "s = 'w3resource'\n",
    "print(format(id(s), 'x')) \n"
   ]
  },
  {
   "cell_type": "code",
   "execution_count": 41,
   "id": "36f5be47-1e7e-4001-a22e-8a0029be73c3",
   "metadata": {},
   "outputs": [
    {
     "name": "stdout",
     "output_type": "stream",
     "text": [
      "{'White', 'Green'}\n"
     ]
    }
   ],
   "source": [
    "color1 = \"Red\", \"Green\", \"Orange\", \"White\"\n",
    "color2 = \"Black\", \"Green\", \"White\", \"Pink\"\n",
    "print(set(color1) & set(color2))\n"
   ]
  },
  {
   "cell_type": "code",
   "execution_count": 42,
   "id": "7a2b20f5-351f-4a41-8771-3d3af1cd5b85",
   "metadata": {},
   "outputs": [
    {
     "name": "stdout",
     "output_type": "stream",
     "text": [
      "[1, 0, 3, 2, 5, 4]\n"
     ]
    }
   ],
   "source": [
    "from itertools import zip_longest, chain, tee\n",
    "def replace2copy(lst):\n",
    "    lst1, lst2 = tee(iter(lst), 2)\n",
    "    return list(chain.from_iterable(zip_longest(lst[1::2], lst[::2])))\n",
    "n = [0,1,2,3,4,5]\n",
    "print(replace2copy(n))\n"
   ]
  },
  {
   "cell_type": "code",
   "execution_count": 43,
   "id": "8aa78aaa-9b47-4634-91e7-f4017987094f",
   "metadata": {},
   "outputs": [
    {
     "name": "stdout",
     "output_type": "stream",
     "text": [
      "Original List:  [11, 33, 50]\n",
      "Single Integer:  113350\n"
     ]
    }
   ],
   "source": [
    "L = [11, 33, 50]\n",
    "print(\"Original List: \",L)\n",
    "x = int(\"\".join(map(str, L)))\n",
    "print(\"Single Integer: \",x)\n"
   ]
  },
  {
   "cell_type": "code",
   "execution_count": 44,
   "id": "11097244-aa76-4fc4-813f-19de2fe9b321",
   "metadata": {},
   "outputs": [
    {
     "name": "stdout",
     "output_type": "stream",
     "text": [
      "a\n",
      "ask\n",
      "b\n",
      "be\n",
      "c\n",
      "call\n",
      "come\n",
      "d\n",
      "do\n",
      "f\n",
      "feel\n",
      "find\n",
      "g\n",
      "get\n",
      "give\n",
      "go\n",
      "h\n",
      "have\n",
      "k\n",
      "know\n",
      "l\n",
      "leave\n",
      "look\n",
      "m\n",
      "make\n",
      "s\n",
      "say\n",
      "see\n",
      "seem\n",
      "t\n",
      "take\n",
      "tell\n",
      "think\n",
      "u\n",
      "use\n",
      "w\n",
      "want\n",
      "work\n"
     ]
    }
   ],
   "source": [
    "from itertools import groupby\n",
    "from operator import itemgetter\n",
    "\n",
    "word_list = ['be','have','do','say','get','make','go','know','take','see','come','think',\n",
    "     'look','want','give','use','find','tell','ask','work','seem','feel','leave','call']\n",
    "\n",
    "for letter, words in groupby(sorted(word_list), key=itemgetter(0)):\n",
    "    print(letter)\n",
    "    for word in words:\n",
    "        print(word)\n"
   ]
  },
  {
   "cell_type": "code",
   "execution_count": 46,
   "id": "cdc9fc85-ce79-487d-8bb3-b2eda92305b1",
   "metadata": {},
   "outputs": [
    {
     "name": "stdout",
     "output_type": "stream",
     "text": [
      "{'1': [], '2': [], '3': [], '4': [], '5': [], '6': [], '7': [], '8': [], '9': [], '10': [], '11': [], '12': [], '13': [], '14': [], '15': [], '16': [], '17': [], '18': [], '19': [], '20': []}\n"
     ]
    }
   ],
   "source": [
    "obj = {}\n",
    "for i in range(1, 21):\n",
    "    obj[str(i)] = []\n",
    "print(obj)"
   ]
  },
  {
   "cell_type": "code",
   "execution_count": 47,
   "id": "d413903b-fa4d-4fe2-bedf-1ea429cf09d7",
   "metadata": {},
   "outputs": [
    {
     "name": "stdout",
     "output_type": "stream",
     "text": [
      "Missing values in second list:  c,a,b\n",
      "Additional values in second list:  h,g\n"
     ]
    }
   ],
   "source": [
    "list1 = ['a','b','c','d','e','f']\n",
    "list2 = ['d','e','f','g','h']\n",
    "print('Missing values in second list: ', ','.join(set(list1).difference(list2)))\n",
    "print('Additional values in second list: ', ','.join(set(list2).difference(list1)))\n"
   ]
  },
  {
   "cell_type": "code",
   "execution_count": 48,
   "id": "eaad698d-2603-4e6d-889c-58ff3875b30e",
   "metadata": {},
   "outputs": [
    {
     "name": "stdout",
     "output_type": "stream",
     "text": [
      "('Black', '#000000', 'rgb(0, 0, 0)')\n",
      "('Red', '#FF0000', 'rgb(255, 0, 0)')\n",
      "('Yellow', '#FFFF00', 'rgb(255, 255, 0)')\n"
     ]
    }
   ],
   "source": [
    "color = [(\"Black\", \"#000000\", \"rgb(0, 0, 0)\"), (\"Red\", \"#FF0000\", \"rgb(255, 0, 0)\"),\n",
    "         (\"Yellow\", \"#FFFF00\", \"rgb(255, 255, 0)\")]\n",
    "var1, var2, var3 = color\n",
    "print(var1)\n",
    "print(var2)\n",
    "print(var3)\n"
   ]
  },
  {
   "cell_type": "code",
   "execution_count": 49,
   "id": "8bd7326e-7942-4427-9c08-783d58e85b95",
   "metadata": {},
   "outputs": [
    {
     "name": "stdout",
     "output_type": "stream",
     "text": [
      "[[1, 2, 3, 4, 5], [6, 7, 8, 9, 10], [11, 12, 13, 14, 15], [16, 17, 18, 19, 20], [21, 22, 23, 24, 25]]\n"
     ]
    }
   ],
   "source": [
    "l = [[5*i + j for j in range(1,6)] for i in range(5)]\n",
    "print(l)\n"
   ]
  },
  {
   "cell_type": "code",
   "execution_count": 50,
   "id": "040cfb28-78eb-4a3b-89c6-e95525b07d32",
   "metadata": {},
   "outputs": [
    {
     "name": "stdout",
     "output_type": "stream",
     "text": [
      "Original List:  [(1, 2), (3, 4), (1, 2), (5, 6), (7, 8), (1, 2), (3, 4), (3, 4), (7, 8), (9, 10)]\n",
      "Sorted Unique Data: [1, 2, 3, 4, 5, 6, 7, 8, 9, 10]\n"
     ]
    }
   ],
   "source": [
    "L = [(1, 2), (3, 4), (1, 2), (5, 6), (7, 8), (1, 2), (3, 4), (3, 4),\n",
    " (7, 8), (9, 10)]\n",
    "print(\"Original List: \", L)\n",
    "print(\"Sorted Unique Data:\",sorted(set().union(*L)))\n"
   ]
  },
  {
   "cell_type": "code",
   "execution_count": 51,
   "id": "6eca895e-a452-4045-b097-38a4c2ad0ffa",
   "metadata": {},
   "outputs": [
    {
     "name": "stdout",
     "output_type": "stream",
     "text": [
      "[1, 3, 5, 7, 9]\n"
     ]
    }
   ],
   "source": [
    "x = [1, 2, 3, 4, 5, 6, 7, 8, 9]\n",
    "print(x[::2])\n"
   ]
  },
  {
   "cell_type": "code",
   "execution_count": 52,
   "id": "59f43e03-fafd-46dc-a90c-ac168767eb6e",
   "metadata": {},
   "outputs": [
    {
     "name": "stdout",
     "output_type": "stream",
     "text": [
      "Original List:  ['Red', 'Green', 'Black']\n",
      "Original List:  ['c', 'Red', 'c', 'Green', 'c', 'Black']\n"
     ]
    }
   ],
   "source": [
    "color = ['Red', 'Green', 'Black']\n",
    "print(\"Original List: \",color)\n",
    "color = [v for elt in color for v in ('c', elt)]\n",
    "print(\"Original List: \",color)\n"
   ]
  },
  {
   "cell_type": "code",
   "execution_count": 53,
   "id": "ed4e520f-5aad-4a13-b3e2-ab0609cbdd7e",
   "metadata": {},
   "outputs": [
    {
     "name": "stdout",
     "output_type": "stream",
     "text": [
      "['Red']\n",
      "['Green']\n",
      "['Black']\n"
     ]
    }
   ],
   "source": [
    "colors = [['Red'], ['Green'], ['Black']]\n",
    "print('\\n'.join([str(lst) for lst in colors]))\n"
   ]
  },
  {
   "cell_type": "code",
   "execution_count": 54,
   "id": "19c56a5f-e67a-4764-b00f-4644b7ebbf17",
   "metadata": {},
   "outputs": [
    {
     "name": "stdout",
     "output_type": "stream",
     "text": [
      "[{'color_name': 'Black', 'color_code': '#000000'}, {'color_name': 'Red', 'color_code': '#FF0000'}, {'color_name': 'Maroon', 'color_code': '#800000'}, {'color_name': 'Yellow', 'color_code': '#FFFF00'}]\n"
     ]
    }
   ],
   "source": [
    "color_name = [\"Black\", \"Red\", \"Maroon\", \"Yellow\"]\n",
    "color_code = [\"#000000\", \"#FF0000\", \"#800000\", \"#FFFF00\"]\n",
    "print([{'color_name': f, 'color_code': c} for f, c in zip(color_name, color_code)])\n"
   ]
  },
  {
   "cell_type": "code",
   "execution_count": 55,
   "id": "ca444771-1b50-4ffe-aeaf-5a9ef78221c0",
   "metadata": {},
   "outputs": [
    {
     "name": "stdout",
     "output_type": "stream",
     "text": [
      "Original List: \n",
      "[{'key': {'subkey': 1}}, {'key': {'subkey': 10}}, {'key': {'subkey': 5}}]\n",
      "Sorted List: \n",
      "[{'key': {'subkey': 10}}, {'key': {'subkey': 5}}, {'key': {'subkey': 1}}]\n"
     ]
    }
   ],
   "source": [
    "my_list = [{'key': {'subkey': 1}}, {'key': {'subkey': 10}}, {'key': {'subkey': 5}}]\n",
    "print(\"Original List: \")\n",
    "print(my_list)\n",
    "my_list.sort(key=lambda e: e['key']['subkey'], reverse=True)\n",
    "print(\"Sorted List: \")\n",
    "print(my_list)\n"
   ]
  },
  {
   "cell_type": "code",
   "execution_count": 56,
   "id": "f938c91c-1f32-4a06-94ec-a103c758e658",
   "metadata": {},
   "outputs": [
    {
     "name": "stdout",
     "output_type": "stream",
     "text": [
      "[['a', 'd', 'g', 'j', 'm'], ['b', 'e', 'h', 'k', 'n'], ['c', 'f', 'i', 'l']]\n"
     ]
    }
   ],
   "source": [
    "C = ['a', 'b', 'c', 'd', 'e', 'f', 'g', 'h', 'i', 'j', 'k', 'l', 'm', 'n']\n",
    "def list_slice(S, step):\n",
    "    return [S[i::step] for i in range(step)]\n",
    "print(list_slice(C,3))\n"
   ]
  },
  {
   "cell_type": "code",
   "execution_count": 57,
   "id": "270efdc4-daaa-4fbe-beca-8df2cbe84ffe",
   "metadata": {},
   "outputs": [
    {
     "name": "stdout",
     "output_type": "stream",
     "text": [
      "Color1-Color2:  ['red', 'orange', 'white']\n",
      "Color2-Color1:  ['black', 'yellow']\n"
     ]
    }
   ],
   "source": [
    "from collections import Counter\n",
    "color1 = [\"red\", \"orange\", \"green\", \"blue\", \"white\"]\n",
    "color2 = [\"black\", \"yellow\", \"green\", \"blue\"]\n",
    "counter1 = Counter(color1)\n",
    "counter2 = Counter(color2)\n",
    "print(\"Color1-Color2: \",list(counter1 - counter2))\n",
    "print(\"Color2-Color1: \",list(counter2 - counter1))\n"
   ]
  },
  {
   "cell_type": "code",
   "execution_count": 58,
   "id": "591adb82-66f6-440c-b26b-f26e35fe2569",
   "metadata": {},
   "outputs": [
    {
     "name": "stdout",
     "output_type": "stream",
     "text": [
      "0\n",
      "1\n",
      "2\n",
      "3\n",
      "4\n"
     ]
    }
   ],
   "source": [
    "import itertools\n",
    "c = itertools.count()\n",
    "print(next(c))\n",
    "print(next(c))\n",
    "print(next(c))\n",
    "print(next(c))\n",
    "print(next(c))\n"
   ]
  },
  {
   "cell_type": "code",
   "execution_count": 59,
   "id": "d2f8df4a-303c-4398-a2aa-e3972cf2f043",
   "metadata": {},
   "outputs": [
    {
     "name": "stdout",
     "output_type": "stream",
     "text": [
      "red-green-orange\n",
      "redgreenorange\n"
     ]
    }
   ],
   "source": [
    "color = ['red', 'green', 'orange']\n",
    "print('-'.join(color))\n",
    "print(''.join(color))\n"
   ]
  },
  {
   "cell_type": "code",
   "execution_count": 60,
   "id": "c8b29a59-ee3d-4ad3-940d-e1d934f8a6ce",
   "metadata": {},
   "outputs": [
    {
     "name": "stdout",
     "output_type": "stream",
     "text": [
      "Original List: \n",
      "[{'key1': 'value1', 'key2': 'value2'}, {'key1': 'value3', 'key2': 'value4'}]\n",
      "New List: \n",
      "[{'key2': 'value2'}, {'key2': 'value4'}]\n"
     ]
    }
   ],
   "source": [
    "original_list = [{'key1':'value1', 'key2':'value2'}, {'key1':'value3', 'key2':'value4'}]\n",
    "print(\"Original List: \")\n",
    "print(original_list)\n",
    "new_list = [{k: v for k, v in d.items() if k != 'key1'} for d in original_list]\n",
    "print(\"New List: \")\n",
    "print(new_list)\n"
   ]
  },
  {
   "cell_type": "code",
   "execution_count": 61,
   "id": "bcd04c0e-524e-4cab-8a0b-ca9aafc2426a",
   "metadata": {},
   "outputs": [
    {
     "name": "stdout",
     "output_type": "stream",
     "text": [
      "['Red', 'Green', 'White']\n"
     ]
    }
   ],
   "source": [
    "import ast\n",
    "color =\"['Red', 'Green', 'White']\"\n",
    "print(ast.literal_eval(color))\n"
   ]
  },
  {
   "cell_type": "code",
   "execution_count": 62,
   "id": "076cbeb1-08ab-44cc-8ff0-e20046c6d4a5",
   "metadata": {},
   "outputs": [
    {
     "name": "stdout",
     "output_type": "stream",
     "text": [
      "False\n",
      "True\n"
     ]
    }
   ],
   "source": [
    "color1 = [\"green\", \"orange\", \"black\", \"white\"]\n",
    "color2 = [\"green\", \"green\", \"green\", \"green\"]\n",
    "\n",
    "print(all(c == 'blue' for c in color1))\n",
    "print(all(c == 'green' for c in color2))\n"
   ]
  },
  {
   "cell_type": "code",
   "execution_count": 63,
   "id": "0bba7732-5332-4647-a4ff-94fec3126c92",
   "metadata": {},
   "outputs": [
    {
     "name": "stdout",
     "output_type": "stream",
     "text": [
      "[1, 3, 5, 7, 9, 2, 4, 6, 8]\n"
     ]
    }
   ],
   "source": [
    "num1 = [1, 3, 5, 7, 9, 10]\n",
    "num2 = [2, 4, 6, 8]\n",
    "num1[-1:] = num2\n",
    "print(num1)\n"
   ]
  },
  {
   "cell_type": "code",
   "execution_count": 64,
   "id": "70374f20-4779-47d9-8bfa-2bf75c831138",
   "metadata": {},
   "outputs": [
    {
     "name": "stdout",
     "output_type": "stream",
     "text": [
      "6\n"
     ]
    }
   ],
   "source": [
    "x = [1, 2, 3, 4, 5, 6]\n",
    "xlen = len(x)-1\n",
    "print(x[xlen])\n"
   ]
  },
  {
   "cell_type": "code",
   "execution_count": 66,
   "id": "73c43d4e-7aaf-4eb4-853d-1c27be615867",
   "metadata": {},
   "outputs": [
    {
     "name": "stdout",
     "output_type": "stream",
     "text": [
      "(6, 0)\n"
     ]
    }
   ],
   "source": [
    "x = [(4, 1), (1, 2), (6, 0)]\n",
    "print(min(x, key=lambda n: (n[1], -n[0])))\n"
   ]
  },
  {
   "cell_type": "code",
   "execution_count": 67,
   "id": "d62e0477-88e3-4f4b-bdd8-2612d26e5837",
   "metadata": {},
   "outputs": [
    {
     "name": "stdout",
     "output_type": "stream",
     "text": [
      "[{}, {}, {}, {}, {}]\n"
     ]
    }
   ],
   "source": [
    "n = 5\n",
    "l = [{} for _ in range(n)]\n",
    "print(l)\n"
   ]
  },
  {
   "cell_type": "code",
   "execution_count": 68,
   "id": "331a0b6b-42f6-4bf1-96de-5f0bc1404a00",
   "metadata": {},
   "outputs": [
    {
     "name": "stdout",
     "output_type": "stream",
     "text": [
      "1 2 3 4 5\n"
     ]
    }
   ],
   "source": [
    "num = [1, 2, 3, 4, 5]\n",
    "print(*num)\n"
   ]
  },
  {
   "cell_type": "code",
   "execution_count": 69,
   "id": "5dcadf17-aca2-49e7-b0c3-150c9800bd31",
   "metadata": {},
   "outputs": [
    {
     "name": "stdout",
     "output_type": "stream",
     "text": [
      "['emp1', 'emp2', 'emp3', 'emp4']\n"
     ]
    }
   ],
   "source": [
    "num = [1,2,3,4]\n",
    "print(['emp{0}'.format(i) for i in  num])\n"
   ]
  },
  {
   "cell_type": "code",
   "execution_count": 70,
   "id": "3e714384-9dfd-42d3-9405-b8ada8e50b56",
   "metadata": {},
   "outputs": [
    {
     "name": "stdout",
     "output_type": "stream",
     "text": [
      "1 red\n",
      "2 white\n",
      "3 black\n"
     ]
    }
   ],
   "source": [
    "num = [1, 2, 3]\n",
    "color = ['red', 'white', 'black']\n",
    "for (a,b) in zip(num, color):\n",
    "     print(a, b)\n",
    "\t "
   ]
  },
  {
   "cell_type": "code",
   "execution_count": 71,
   "id": "e61a7edc-87dc-4677-acdf-9bb631d03f23",
   "metadata": {},
   "outputs": [
    {
     "name": "stdout",
     "output_type": "stream",
     "text": [
      "\n",
      "Original list:\n",
      "[3, 4, 0, 0, 0, 6, 2, 0, 6, 7, 6, 0, 0, 0, 9, 10, 7, 4, 4, 5, 3, 0, 0, 2, 9, 7, 1]\n",
      "\n",
      "Move all zero digits to end of the said list of numbers:\n",
      "[3, 4, 6, 2, 6, 7, 6, 9, 10, 7, 4, 4, 5, 3, 2, 9, 7, 1, 0, 0, 0, 0, 0, 0, 0, 0, 0]\n"
     ]
    }
   ],
   "source": [
    "def test(lst):\n",
    "    result = sorted(lst, key=lambda x: not x) \n",
    "    return result\n",
    "nums = [3,4,0,0,0,6,2,0,6,7,6,0,0,0,9,10,7,4,4,5,3,0,0,2,9,7,1]\n",
    "print(\"\\nOriginal list:\")\n",
    "print(nums)\n",
    "print(\"\\nMove all zero digits to end of the said list of numbers:\")\n",
    "print(test(nums)) \n"
   ]
  },
  {
   "cell_type": "code",
   "execution_count": 72,
   "id": "cdc140f3-2043-44f5-a2cc-a151c3518bfc",
   "metadata": {},
   "outputs": [
    {
     "name": "stdout",
     "output_type": "stream",
     "text": [
      "[10, 11, 12]\n"
     ]
    }
   ],
   "source": [
    "num = [[1,2,3], [4,5,6], [10,11,12], [7,8,9]]\n",
    "print(max(num, key=sum))\n"
   ]
  },
  {
   "cell_type": "code",
   "execution_count": 73,
   "id": "405b6851-0502-4dd0-aeee-09860615fc77",
   "metadata": {},
   "outputs": [
    {
     "name": "stdout",
     "output_type": "stream",
     "text": [
      "True\n",
      "False\n"
     ]
    }
   ],
   "source": [
    "list1 = [220, 330, 500]\n",
    "list2 = [12, 17, 21]\n",
    "print(all(x >= 200 for x in list1))\n",
    "print(all(x >= 25 for x in list2))\n"
   ]
  },
  {
   "cell_type": "code",
   "execution_count": 74,
   "id": "72a275d3-224f-4cf8-a1ab-332ce91c1487",
   "metadata": {},
   "outputs": [
    {
     "name": "stdout",
     "output_type": "stream",
     "text": [
      "[40, 50, 60, 10, 20, 30]\n"
     ]
    }
   ],
   "source": [
    "x = [10, 20, 30]\n",
    "y = [40, 50, 60]\n",
    "x[:0] =y\n",
    "print(x)\n"
   ]
  },
  {
   "cell_type": "code",
   "execution_count": 75,
   "id": "ccde67cb-496e-40b7-ad09-11e3fa9cd63c",
   "metadata": {},
   "outputs": [
    {
     "name": "stdout",
     "output_type": "stream",
     "text": [
      "Original List [[10, 20], [40], [30, 56, 25], [10, 20], [33], [40]]\n",
      "New List [[10, 20], [30, 56, 25], [33], [40]]\n"
     ]
    }
   ],
   "source": [
    "import itertools\n",
    "num = [[10, 20], [40], [30, 56, 25], [10, 20], [33], [40]]\n",
    "print(\"Original List\", num)\n",
    "num.sort()\n",
    "new_num = list(num for num,_ in itertools.groupby(num))\n",
    "print(\"New List\", new_num)\n"
   ]
  },
  {
   "cell_type": "code",
   "execution_count": 76,
   "id": "2a0ce9b6-5481-4daa-8a98-047924109ebe",
   "metadata": {},
   "outputs": [
    {
     "name": "stdout",
     "output_type": "stream",
     "text": [
      "\n",
      "Original list:\n",
      "['abcd', 'abc', 'bcd', 'bkie', 'cder', 'cdsw', 'sdfsd', 'dagfa', 'acjd']\n",
      "\n",
      "Items start with a from the said list:\n",
      "['abcd', 'abc', 'acjd']\n",
      "\n",
      "Items start with d from the said list:\n",
      "['dagfa']\n",
      "\n",
      "Items start with w from the said list:\n",
      "[]\n"
     ]
    }
   ],
   "source": [
    "def test(lst, char):\n",
    "    result = [i for i in lst if i.startswith(char)]\n",
    "    return result\n",
    "text = [\"abcd\", \"abc\", \"bcd\", \"bkie\", \"cder\", \"cdsw\", \"sdfsd\", \"dagfa\", \"acjd\"]\n",
    "print(\"\\nOriginal list:\")\n",
    "print(text)\n",
    "char = \"a\"\n",
    "print(\"\\nItems start with\",char,\"from the said list:\")\n",
    "print(test(text, char))\n",
    "char = \"d\"\n",
    "print(\"\\nItems start with\",char,\"from the said list:\")\n",
    "print(test(text, char))\n",
    "char = \"w\"\n",
    "print(\"\\nItems start with\",char,\"from the said list:\")\n",
    "print(test(text, char))\n"
   ]
  },
  {
   "cell_type": "code",
   "execution_count": 77,
   "id": "233178a4-1f57-4cc2-b3aa-7acc937a190f",
   "metadata": {},
   "outputs": [
    {
     "name": "stdout",
     "output_type": "stream",
     "text": [
      "True\n",
      "False\n"
     ]
    }
   ],
   "source": [
    "my_list = [{},{},{}]\n",
    "my_list1 = [{1,2},{},{}]\n",
    "print(all(not d for d in my_list))\n",
    "print(all(not d for d in my_list1))\n"
   ]
  },
  {
   "cell_type": "code",
   "execution_count": 78,
   "id": "dd238d65-3db7-48b6-8790-03c4c2aa79c6",
   "metadata": {},
   "outputs": [
    {
     "name": "stdout",
     "output_type": "stream",
     "text": [
      "Original list:\n",
      "[0, 10, [20, 30], 40, 50, [60, 70, 80], [90, 100, 110, 120]]\n",
      "\n",
      "Flatten list:\n",
      "[0, 10, 20, 30, 40, 50, 60, 70, 80, 90, 100, 110, 120]\n"
     ]
    }
   ],
   "source": [
    "def flatten_list(n_list):\n",
    "    result_list = []\n",
    "    if not n_list: return result_list\n",
    "    stack = [list(n_list)]\n",
    "    while stack:\n",
    "        c_num = stack.pop()\n",
    "        next = c_num.pop()\n",
    "        if c_num: stack.append(c_num)\n",
    "        if isinstance(next, list):\n",
    "            if next: stack.append(list(next))\n",
    "        else: result_list.append(next)\n",
    "    result_list.reverse()\n",
    "    return result_list \n",
    "n_list = [0, 10, [20, 30], 40, 50, [60, 70, 80], [90, 100, 110, 120]]\n",
    "print(\"Original list:\") \n",
    "print(n_list)\n",
    "print(\"\\nFlatten list:\")\n",
    "print(flatten_list(n_list))\n"
   ]
  },
  {
   "cell_type": "code",
   "execution_count": 79,
   "id": "caaa54e8-086b-4001-adf4-daa3a8c338bb",
   "metadata": {},
   "outputs": [
    {
     "name": "stdout",
     "output_type": "stream",
     "text": [
      "Original encoded list:\n",
      "[[2, 1], 2, 3, [2, 4], 5, 1]\n",
      "\n",
      "Decode a run-length encoded said list:\n",
      "[1, 1, 2, 3, 4, 4, 5, 1]\n"
     ]
    }
   ],
   "source": [
    "def decode(alist):\n",
    "    def aux(g):\n",
    "        if isinstance(g, list):\n",
    "            return [(g[1], range(g[0]))]\n",
    "        else:\n",
    "            return [(g, [0])]\n",
    "    return [x for g in alist for x, R in aux(g) for i in R]\n",
    "n_list = [[2, 1], 2, 3, [2, 4], 5, 1]\n",
    "print(\"Original encoded list:\") \n",
    "print(n_list)\n",
    "print(\"\\nDecode a run-length encoded said list:\")\n",
    "print(decode(n_list))\n"
   ]
  },
  {
   "cell_type": "code",
   "execution_count": 80,
   "id": "e01ef453-dd32-4bb1-975f-a8534590f115",
   "metadata": {},
   "outputs": [
    {
     "name": "stdout",
     "output_type": "stream",
     "text": [
      "Original list:\n",
      "[1, 1, 2, 3, 4, 4, 5, 1]\n",
      "\n",
      "Length of the first part of the list: 3\n",
      "\n",
      "Splited the said list into two parts:\n",
      "([1, 1, 2], [3, 4, 4, 5, 1])\n"
     ]
    }
   ],
   "source": [
    "def split_two_parts(n_list, L):\n",
    "    return n_list[:L], n_list[L:]\n",
    "n_list = [1,1,2,3,4,4,5, 1]\n",
    "print(\"Original list:\") \n",
    "print(n_list)\n",
    "first_list_length = 3\n",
    "print(\"\\nLength of the first part of the list:\",first_list_length)\n",
    "print(\"\\nSplited the said list into two parts:\")\n",
    "print(split_two_parts(n_list, first_list_length))\n",
    "\n"
   ]
  },
  {
   "cell_type": "code",
   "execution_count": 81,
   "id": "ecaf5209-17fa-4175-a702-6607fd34702f",
   "metadata": {},
   "outputs": [
    {
     "name": "stdout",
     "output_type": "stream",
     "text": [
      "Original list:\n",
      "[1, 1, 2, 3, 4, 4, 5, 1]\n",
      "\n",
      "After removing an element at the kth position of the said list:\n",
      "[1, 1, 3, 4, 4, 5, 1]\n"
     ]
    }
   ],
   "source": [
    "def remove_kth_element(n_list, L):\n",
    "    return  n_list[:L-1] + n_list[L:]\n",
    "\n",
    "n_list = [1,1,2,3,4,4,5,1]\n",
    "print(\"Original list:\") \n",
    "print(n_list)\n",
    "kth_position = 3\n",
    "result = remove_kth_element(n_list, kth_position)\n",
    "print(\"\\nAfter removing an element at the kth position of the said list:\")\n",
    "print(result)\n"
   ]
  },
  {
   "cell_type": "code",
   "execution_count": 82,
   "id": "ed2a99c2-6b63-4e5e-8a59-b1515d446520",
   "metadata": {},
   "outputs": [
    {
     "name": "stdout",
     "output_type": "stream",
     "text": [
      "Original list:\n",
      "[1, 1, 2, 3, 4, 4, 5, 1]\n",
      "\n",
      "After inserting an element at kth position in the said list:\n",
      "[1, 1, 12, 2, 3, 4, 4, 5, 1]\n"
     ]
    }
   ],
   "source": [
    "def insert_spec_position(x, n_list, pos):\n",
    "    return n_list[:pos-1]+[x]+n_list[pos-1:]\n",
    "n_list = [1,1,2,3,4,4,5,1]\n",
    "print(\"Original list:\") \n",
    "print(n_list)\n",
    "kth_position = 3\n",
    "x = 12\n",
    "result = insert_spec_position(x, n_list, kth_position)\n",
    "print(\"\\nAfter inserting an element at kth position in the said list:\")\n",
    "print(result)\n"
   ]
  },
  {
   "cell_type": "code",
   "execution_count": 83,
   "id": "e759ff90-d966-403b-9ddf-02bd8470f4a6",
   "metadata": {},
   "outputs": [
    {
     "name": "stdout",
     "output_type": "stream",
     "text": [
      "Original list:\n",
      "[1, 1, 2, 3, 4, 4, 5, 1]\n",
      "\n",
      "Selected 3 random numbers of the above list:\n",
      "[4, 1, 4]\n"
     ]
    }
   ],
   "source": [
    "import random\n",
    "def random_select_nums(n_list, n):\n",
    "        return random.sample(n_list, n)\n",
    "n_list = [1,1,2,3,4,4,5,1]\n",
    "print(\"Original list:\") \n",
    "print(n_list)\n",
    "selec_nums = 3\n",
    "result = random_select_nums(n_list, selec_nums)\n",
    "print(\"\\nSelected 3 random numbers of the above list:\")\n",
    "print(result) \n"
   ]
  },
  {
   "cell_type": "code",
   "execution_count": 84,
   "id": "79ae3347-8d8f-4eb6-b132-6bb39e789454",
   "metadata": {},
   "outputs": [
    {
     "name": "stdout",
     "output_type": "stream",
     "text": [
      "Original list:\n",
      "[1, 2, 3, 4, 5, 6, 7, 8, 9]\n",
      "\n",
      "Combinations of 2 distinct objects:\n",
      "[1, 2]\n",
      "[1, 3]\n",
      "[1, 4]\n",
      "[1, 5]\n",
      "[1, 6]\n",
      "[1, 7]\n",
      "[1, 8]\n",
      "[1, 9]\n",
      "[2, 3]\n",
      "[2, 4]\n",
      "[2, 5]\n",
      "[2, 6]\n",
      "[2, 7]\n",
      "[2, 8]\n",
      "[2, 9]\n",
      "[3, 4]\n",
      "[3, 5]\n",
      "[3, 6]\n",
      "[3, 7]\n",
      "[3, 8]\n",
      "[3, 9]\n",
      "[4, 5]\n",
      "[4, 6]\n",
      "[4, 7]\n",
      "[4, 8]\n",
      "[4, 9]\n",
      "[5, 6]\n",
      "[5, 7]\n",
      "[5, 8]\n",
      "[5, 9]\n",
      "[6, 7]\n",
      "[6, 8]\n",
      "[6, 9]\n",
      "[7, 8]\n",
      "[7, 9]\n",
      "[8, 9]\n"
     ]
    }
   ],
   "source": [
    "def combination(n, n_list):\n",
    "    if n<=0:\n",
    "        yield []\n",
    "        return\n",
    "    for i in range(len(n_list)):\n",
    "        c_num = n_list[i:i+1]\n",
    "        for a_num in combination(n-1, n_list[i+1:]):\n",
    "            yield c_num + a_num\n",
    "n_list = [1,2,3,4,5,6,7,8,9]\n",
    "print(\"Original list:\") \n",
    "print(n_list)\n",
    "n = 2\n",
    "result = combination(n, n_list)\n",
    "print(\"\\nCombinations of\",n,\"distinct objects:\")\n",
    "for e in result:\n",
    "     print(e)\n",
    "\n"
   ]
  },
  {
   "cell_type": "code",
   "execution_count": 85,
   "id": "09479710-3543-4e29-9ef0-67b8e8469229",
   "metadata": {},
   "outputs": [
    {
     "name": "stdout",
     "output_type": "stream",
     "text": [
      "Original list:  [22.4, 4.0, -16.22, -9.1, 11.0, -12.22, 14.2, -5.2, 17.5]\n",
      "Result:\n",
      "243\n"
     ]
    }
   ],
   "source": [
    "nums = [22.4, 4.0, -16.22, -9.10, 11.00, -12.22, 14.20, -5.20, 17.50]\n",
    "print(\"Original list: \", nums)\n",
    "print(\"Result:\")\n",
    "lenght=len(nums)\n",
    "print(sum(list(map(round,nums))* lenght)) \n"
   ]
  },
  {
   "cell_type": "code",
   "execution_count": 86,
   "id": "ff1d1dd9-dced-456d-9f9a-3144ee0b6e8b",
   "metadata": {},
   "outputs": [
    {
     "name": "stdout",
     "output_type": "stream",
     "text": [
      "Original list: [22.4, 4.0, 16.22, 9.1, 11.0, 12.22, 14.2, 5.2, 17.5]\n",
      "Minimum value:  4\n",
      "Maximum value:  22\n",
      "Result:\n",
      "20 25 45 55 60 70 80 90 110 "
     ]
    }
   ],
   "source": [
    "nums = [22.4, 4.0, 16.22, 9.10, 11.00, 12.22, 14.20, 5.20, 17.50]\n",
    "print(\"Original list:\", nums)\n",
    "numbers=list(map(round,nums))\n",
    "print(\"Minimum value: \",min(numbers))\n",
    "print(\"Maximum value: \",max(numbers))\n",
    "numbers=list(set(numbers))\n",
    "numbers=(sorted(map(lambda n:n*5,numbers)))\n",
    "print(\"Result:\")\n",
    "for numb in numbers:\n",
    "    print(numb,end=' ')\n"
   ]
  },
  {
   "cell_type": "code",
   "execution_count": 87,
   "id": "6c02ddcc-dcb0-4260-aeeb-ca878aca652e",
   "metadata": {},
   "outputs": [
    {
     "name": "stdout",
     "output_type": "stream",
     "text": [
      "Multidimensional list:\n",
      "[[0, 0], [0, 0], [0, 0]]\n"
     ]
    }
   ],
   "source": [
    "nums = []\n",
    "\n",
    "for i in range(3):\n",
    "\n",
    "    nums.append([])\n",
    "\n",
    "    for j in range(2):\n",
    "\n",
    "        nums[i].append(0)\n",
    "print(\"Multidimensional list:\")\n",
    "print(nums)\n"
   ]
  },
  {
   "cell_type": "code",
   "execution_count": 88,
   "id": "49079b1c-c366-4237-9828-dfcaa0284837",
   "metadata": {},
   "outputs": [
    {
     "name": "stdout",
     "output_type": "stream",
     "text": [
      "3X3 grid with numbers:\n",
      "[[1, 2, 3], [1, 2, 3], [1, 2, 3]]\n"
     ]
    }
   ],
   "source": [
    "nums = []\n",
    "for i in range(3):\n",
    "    nums.append([])\n",
    "    for j in range(1, 4):\n",
    "        nums[i].append(j)\n",
    "print(\"3X3 grid with numbers:\")\n",
    "print(nums)\n"
   ]
  },
  {
   "cell_type": "code",
   "execution_count": 92,
   "id": "443d8f72-03a0-4806-954f-fae883ca7a2c",
   "metadata": {},
   "outputs": [
    {
     "name": "stdin",
     "output_type": "stream",
     "text": [
      "Input rows:  2\n",
      "Input columns:  2\n"
     ]
    },
    {
     "name": "stdout",
     "output_type": "stream",
     "text": [
      "Input number of elements in a row (1, 2, 3): \n"
     ]
    },
    {
     "name": "stdin",
     "output_type": "stream",
     "text": [
      " 1 2\n",
      " 3 4\n"
     ]
    },
    {
     "name": "stdout",
     "output_type": "stream",
     "text": [
      "sum for each column:\n",
      "4  6  "
     ]
    }
   ],
   "source": [
    "rows = int(input(\"Input rows: \"))\n",
    "columns = int(input(\"Input columns: \"))\n",
    "matrix = [[0]*columns for row in range(rows)]\n",
    "print('Input number of elements in a row (1, 2, 3): ')\n",
    "for row in range(rows):\n",
    "    lines = list(map(int, input().split()))\n",
    "    for column in range(columns):\n",
    "        matrix[row][column] = lines[column]\n",
    "\n",
    "sum = [0]*columns\n",
    "print(\"sum for each column:\")\n",
    "for column in range(columns):\n",
    "    for row in range(rows):\n",
    "        sum[column] += matrix[row][column]\n",
    "    print((sum[column]), ' ', end = '')"
   ]
  },
  {
   "cell_type": "code",
   "execution_count": 95,
   "id": "baa5b13a-8bd2-492d-97c8-1f2266fbc535",
   "metadata": {},
   "outputs": [
    {
     "name": "stdout",
     "output_type": "stream",
     "text": [
      "Original lists:\n",
      "[[1, 3], [5, 7], [9, 11]]\n",
      "[[2, 4], [6, 8], [10, 12, 14]]\n",
      "\n",
      "Zipped list:\n",
      "[[1, 3, 2, 4], [5, 7, 6, 8], [9, 11, 10, 12, 14]]\n"
     ]
    }
   ],
   "source": [
    "list1 = [[1, 3], [5, 7], [9, 11]] \n",
    "list2 = [[2, 4], [6, 8], [10, 12, 14]]   \n",
    "print(\"Original lists:\")\n",
    "print(list1)\n",
    "print(list2)\n",
    "result = list(map(list.__add__, list1, list2)) \n",
    "print(\"\\nZipped list:\\n\" +  str(result))\n"
   ]
  },
  {
   "cell_type": "code",
   "execution_count": 96,
   "id": "b333df1a-157a-4c53-af65-836bcea7fc90",
   "metadata": {},
   "outputs": [
    {
     "name": "stdout",
     "output_type": "stream",
     "text": [
      "Original list:\n",
      "[[1, 3], [5, 7], [9, 11], [13, 15, 17]]\n",
      "\n",
      "Number of lists in said list of lists:\n",
      "4\n",
      "\n",
      "Original list:\n",
      "[[2, 4], [[6, 8], [4, 5, 8]], [10, 12, 14]]\n",
      "\n",
      "Number of lists in said list of lists:\n",
      "3\n"
     ]
    }
   ],
   "source": [
    "def count_list(input_list): \n",
    "    return len(input_list) \n",
    "      \n",
    "list1 = [[1, 3], [5, 7], [9, 11], [13, 15, 17]] \n",
    "list2 = [[2, 4], [[6,8], [4,5,8]], [10, 12, 14]]   \n",
    "print(\"Original list:\")\n",
    "print(list1)\n",
    "print(\"\\nNumber of lists in said list of lists:\")\n",
    "print(count_list(list1))\n",
    "print(\"\\nOriginal list:\")\n",
    "print(list2)\n",
    "print(\"\\nNumber of lists in said list of lists:\")\n",
    "print(count_list(list2))\n"
   ]
  },
  {
   "cell_type": "code",
   "execution_count": 97,
   "id": "ee41152e-040b-45b5-af4d-568e4f20f6f2",
   "metadata": {},
   "outputs": [
    {
     "name": "stdout",
     "output_type": "stream",
     "text": [
      "Original list:\n",
      "[[0], [1, 3], [5, 7], [9, 11], [13, 15, 17]]\n",
      "\n",
      "List with maximum length of lists:\n",
      "(3, [13, 15, 17])\n",
      "\n",
      "List with minimum length of lists:\n",
      "(1, [0])\n",
      "Original list:\n",
      "[[0], [1, 3], [5, 7], [9, 11], [3, 5, 7]]\n",
      "\n",
      "List with maximum length of lists:\n",
      "(3, [3, 5, 7])\n",
      "\n",
      "List with minimum length of lists:\n",
      "(1, [0])\n",
      "Original list:\n",
      "[[12], [1, 3], [1, 34, 5, 7], [9, 11], [3, 5, 7]]\n",
      "\n",
      "List with maximum length of lists:\n",
      "(4, [1, 34, 5, 7])\n",
      "\n",
      "List with minimum length of lists:\n",
      "(1, [12])\n"
     ]
    }
   ],
   "source": [
    "def max_length_list(input_list):\n",
    "    max_length = max(len(x) for x in input_list )\n",
    "    max_list = max(input_list, key = len)\n",
    "    return(max_length, max_list)\n",
    "def min_length_list(input_list):\n",
    "    min_length = min(len(x) for x in input_list )\n",
    "    min_list = min(input_list, key = len)\n",
    "    return(min_length, min_list)\n",
    "list1 = [[0], [1, 3], [5, 7], [9, 11], [13, 15, 17]]\n",
    "print(\"Original list:\")\n",
    "print(list1)\n",
    "print(\"\\nList with maximum length of lists:\")\n",
    "print(max_length_list(list1))\n",
    "print(\"\\nList with minimum length of lists:\")\n",
    "print(min_length_list(list1))\n",
    "list1 =  [[0], [1, 3], [5, 7], [9, 11], [3, 5, 7]]\n",
    "print(\"Original list:\")\n",
    "print(list1)\n",
    "print(\"\\nList with maximum length of lists:\")\n",
    "print(max_length_list(list1))\n",
    "print(\"\\nList with minimum length of lists:\")\n",
    "print(min_length_list(list1))\n",
    "list1 =  [[12], [1, 3], [1, 34, 5, 7], [9, 11], [3, 5, 7]]\n",
    "print(\"Original list:\")\n",
    "print(list1)\n",
    "print(\"\\nList with maximum length of lists:\")\n",
    "print(max_length_list(list1))\n",
    "print(\"\\nList with minimum length of lists:\")\n",
    "print(min_length_list(list1))\n"
   ]
  },
  {
   "cell_type": "code",
   "execution_count": 98,
   "id": "3bae49ca-7c61-4dc0-816f-c97f6b812b48",
   "metadata": {},
   "outputs": [
    {
     "name": "stdout",
     "output_type": "stream",
     "text": [
      "Original list:\n",
      "[[1, 3], [5, 7], [9, 11], [13, 15, 17]]\n",
      "[[1, 3], [13, 15, 17]]\n",
      "\n",
      "If the one of the said list is a subset of another.:\n",
      "True\n",
      "Original list:\n",
      "[[[1, 2], [2, 3]], [[3, 4], [5, 6]]]\n",
      "[[[3, 4], [5, 6]]]\n",
      "\n",
      "If the one of the said list is a subset of another.:\n",
      "True\n",
      "Original list:\n",
      "[[[1, 2], [2, 3]], [[3, 4], [5, 7]]]\n",
      "[[[3, 4], [5, 6]]]\n",
      "\n",
      "If the one of the said list is a subset of another.:\n",
      "False\n"
     ]
    }
   ],
   "source": [
    "def checkSubset(input_list1, input_list2): \n",
    "    return all(map(input_list1.__contains__, input_list2)) \n",
    "      \n",
    "\n",
    "list1 = [[1, 3], [5, 7], [9, 11], [13, 15, 17]] \n",
    "list2 = [[1, 3],[13,15,17]]   \n",
    "print(\"Original list:\")\n",
    "print(list1)\n",
    "print(list2)\n",
    "print(\"\\nIf the one of the said list is a subset of another.:\")\n",
    "print(checkSubset(list1, list2)) \n",
    "\n",
    "list1 = [\n",
    "           [\n",
    "             [1,2],[2,3]\n",
    "           ],\n",
    "           [\n",
    "             [3,4],[5,6]\n",
    "           ]\n",
    "         ]\n",
    "list2 = [\n",
    "           [\n",
    "             [3,4], [5, 6]\n",
    "           ]\n",
    "         ]\n",
    "print(\"Original list:\")\n",
    "print(list1)\n",
    "print(list2)\n",
    "print(\"\\nIf the one of the said list is a subset of another.:\")\n",
    "print(checkSubset(list1, list2)) \n",
    "list1 = [\n",
    "           [\n",
    "             [1,2],[2,3]\n",
    "           ],\n",
    "           [\n",
    "             [3,4],[5,7]\n",
    "           ]\n",
    "         ]\n",
    "list2 = [\n",
    "           [\n",
    "             [3,4], [5, 6]\n",
    "           ]\n",
    "         ]\n",
    "print(\"Original list:\")\n",
    "print(list1)\n",
    "print(list2)\n",
    "print(\"\\nIf the one of the said list is a subset of another.:\")\n",
    "print(checkSubset(list1, list2))\n"
   ]
  },
  {
   "cell_type": "code",
   "execution_count": 99,
   "id": "5fa6f395-8303-49b2-b6b6-09489b1b4d28",
   "metadata": {},
   "outputs": [
    {
     "name": "stdout",
     "output_type": "stream",
     "text": [
      "Original list:\n",
      "[[1, 3], [5, 7], [1, 11], [1, 15, 7]]\n",
      "\n",
      "Count 1 in the said list:\n",
      "3\n",
      "\n",
      "Count 7 in the said list:\n",
      "2\n",
      "\n",
      "Original list:\n",
      "[['A', 'B'], ['A', 'C'], ['A', 'D', 'E'], ['B', 'C', 'D']]\n",
      "\n",
      "Count 'A' in the said list:\n",
      "3\n",
      "\n",
      "Count 'E' in the said list:\n",
      "1\n"
     ]
    }
   ],
   "source": [
    "def count_element_in_list(input_list, x): \n",
    "    ctr = 0\n",
    "    for i in range(len(input_list)): \n",
    "        if x in input_list[i]: \n",
    "            ctr+= 1\n",
    "          \n",
    "    return ctr\n",
    "      \n",
    "\n",
    "list1 = [[1, 3], [5, 7], [1, 11], [1, 15, 7]] \n",
    "print(\"Original list:\")\n",
    "print(list1)\n",
    "print(\"\\nCount 1 in the said list:\")\n",
    "print(count_element_in_list(list1, 1)) \n",
    "print(\"\\nCount 7 in the said list:\")\n",
    "print(count_element_in_list(list1, 7)) \n",
    "\n",
    "\n",
    "list1 = [['A', 'B'], ['A', 'C'], ['A', 'D', 'E'], ['B', 'C', 'D']] \n",
    "print(\"\\nOriginal list:\")\n",
    "print(list1)\n",
    "print(\"\\nCount 'A' in the said list:\")\n",
    "print(count_element_in_list(list1, 'A')) \n",
    "print(\"\\nCount 'E' in the said list:\")\n",
    "print(count_element_in_list(list1, 'E'))\n"
   ]
  },
  {
   "cell_type": "code",
   "execution_count": 104,
   "id": "0aff2bbb-b1b2-44fd-9c72-78a4f5df9778",
   "metadata": {},
   "outputs": [
    {
     "name": "stdout",
     "output_type": "stream",
     "text": [
      "\n",
      "Original list:\n",
      "[['green', 'orange'], ['black', 'white'], ['white', 'black', 'orange']]\n",
      "\n",
      "After sorting each sublist of the said list of lists:\n",
      "[['green', 'orange'], ['black', 'white'], ['black', 'orange', 'white']]\n"
     ]
    }
   ],
   "source": [
    "def sort_sublists(input_list):\n",
    "    result = list(map(sorted, input_list)) \n",
    "    return result\n",
    "color1 = [[\"green\", \"orange\"], [\"black\", \"white\"], [\"white\", \"black\", \"orange\"]]\n",
    "print(\"\\nOriginal list:\")\n",
    "print(color1)  \n",
    "print(\"\\nAfter sorting each sublist of the said list of lists:\")\n",
    "print(sort_sublists(color1))\n"
   ]
  },
  {
   "cell_type": "code",
   "execution_count": 105,
   "id": "87b517b1-c4a4-4627-94e6-3a89ba8abe64",
   "metadata": {},
   "outputs": [
    {
     "name": "stdout",
     "output_type": "stream",
     "text": [
      "\n",
      "Original list:\n",
      "[['green', 'orange'], ['black', 'white'], ['white', 'black', 'orange']]\n",
      "\n",
      "After sorting each sublist of the said list of lists:\n",
      "[['green', 'orange'], ['black', 'white'], ['black', 'orange', 'white']]\n"
     ]
    }
   ],
   "source": [
    "def sort_sublists(input_list):\n",
    "    result = list(map(sorted, input_list)) \n",
    "    return result\n",
    "color1 = [[\"green\", \"orange\"], [\"black\", \"white\"], [\"white\", \"black\", \"orange\"]]\n",
    "print(\"\\nOriginal list:\")\n",
    "print(color1)  \n",
    "print(\"\\nAfter sorting each sublist of the said list of lists:\")\n",
    "print(sort_sublists(color1))\n"
   ]
  },
  {
   "cell_type": "code",
   "execution_count": 106,
   "id": "fe9c6895-2e34-4e40-bfbc-4e87e411d3b6",
   "metadata": {},
   "outputs": [
    {
     "name": "stdout",
     "output_type": "stream",
     "text": [
      "Original list:\n",
      "[[2], [0], [1, 3], [0, 7], [9, 11], [13, 15, 17]]\n",
      "\n",
      "Sort the list of lists by length and value:\n",
      "[[0], [2], [0, 7], [1, 3], [9, 11], [13, 15, 17]]\n"
     ]
    }
   ],
   "source": [
    "def sort_sublists(input_list):\n",
    "    input_list.sort()  # sort by sublist contents\n",
    "    input_list.sort(key=len)\n",
    "    return input_list\n",
    "\n",
    "list1 = [[2], [0], [1, 3], [0, 7], [9, 11], [13, 15, 17]]\n",
    "print(\"Original list:\")\n",
    "print(list1)\n",
    "print(\"\\nSort the list of lists by length and value:\")\n",
    "print(sort_sublists(list1))\n"
   ]
  },
  {
   "cell_type": "code",
   "execution_count": 107,
   "id": "44c4f340-bb01-4c60-add9-151a0cab2bd8",
   "metadata": {},
   "outputs": [
    {
     "name": "stdout",
     "output_type": "stream",
     "text": [
      "Original list:\n",
      "[[2], [0], [1, 2, 3], [0, 1, 2, 3, 6, 7], [9, 11], [13, 14, 15, 17]]\n",
      "\n",
      "After removing sublists from a given list of lists, which contains an element outside the given range:\n",
      "[[13, 14, 15, 17]]\n"
     ]
    }
   ],
   "source": [
    "#Source bit.ly/33MAeHe\n",
    "def remove_list_range(input_list, left_range, rigth_range):\n",
    "   result = [i for i in input_list if (min(i)>=left_range and max(i)<=rigth_range)]\n",
    "   return result\n",
    "list1 = [[2], [0], [1, 2, 3], [0, 1, 2, 3, 6, 7], [9, 11], [13, 14, 15, 17]]\n",
    "left_range = 13\n",
    "rigth_range = 17\n",
    "print(\"Original list:\")\n",
    "print(list1)\n",
    "print(\"\\nAfter removing sublists from a given list of lists, which contains an element outside the given range:\")\n",
    "print(remove_list_range(list1, left_range, rigth_range))\n"
   ]
  },
  {
   "cell_type": "code",
   "execution_count": 108,
   "id": "d1e2ead9-9bb7-46fe-9c89-7f7f33fddef9",
   "metadata": {},
   "outputs": [
    {
     "name": "stdout",
     "output_type": "stream",
     "text": [
      "Original list:\n",
      "['Python', 'list', 'exercises', 'practice', 'solution']\n",
      "\n",
      "After scrambling the letters of the strings of the said list:\n",
      "['yhonPt', 'tisl', 'sexieresc', 'pcareitc', 'sniotolu']\n"
     ]
    }
   ],
   "source": [
    "from random import shuffle\n",
    "\n",
    "def shuffle_word(text_list):\n",
    "    text_list = list(text_list)\n",
    "    shuffle(text_list)\n",
    "    return ''.join(text_list)\n",
    "\n",
    "text_list = ['Python', 'list', 'exercises', 'practice', 'solution'] \n",
    "print(\"Original list:\")\n",
    "print(text_list)\n",
    "print(\"\\nAfter scrambling the letters of the strings of the said list:\")\n",
    "result =  [shuffle_word(word) for word in text_list]\n",
    "print(result) \n"
   ]
  },
  {
   "cell_type": "code",
   "execution_count": 2,
   "id": "701c0246-4cca-48c8-bd9f-7fc98fc52ebd",
   "metadata": {},
   "outputs": [],
   "source": [
    "def max_min_val(list_val):\n",
    "     max_val = max(i for i in list_val if isinstance(i, int)) \n",
    "     min_val = min(i for i in list_val if isinstance(i, int))\n",
    "     return(max_val, min_val)\n",
    "\n",
    "list_val = ['Python', 3, 2, 4, 5, 'version'] \n",
    "print(\"Original list:\")\n",
    "print(list_val)\n",
    "print(\"\\nMaximum and Minimum values in the said list:\")\n",
    "print(max_min_val(list_val))"
   ]
  },
  {
   "cell_type": "code",
   "execution_count": 3,
   "id": "a42b0bc9-074c-4391-a9bc-2533452ad410",
   "metadata": {},
   "outputs": [
    {
     "name": "stdout",
     "output_type": "stream",
     "text": [
      "Original lists:\n",
      "[1, 1, 3, 4, 5, 6, 7]\n",
      "[0, 1, 2, 3, 4, 5, 7]\n",
      "[0, 1, 2, 3, 4, 5, 7]\n",
      "\n",
      "Common index elements of the said lists:\n",
      "[1, 7]\n"
     ]
    }
   ],
   "source": [
    "def extract_index_ele(l1, l2, l3):\n",
    "    result = []\n",
    "    for m, n, o in zip(l1, l2, l3):\n",
    "        if (m == n == o):\n",
    "            result.append(m)\n",
    "    return result\n",
    "\n",
    "nums1 = [1, 1, 3, 4, 5, 6, 7]\n",
    "nums2 = [0, 1, 2, 3, 4, 5, 7]\n",
    "nums3 = [0, 1, 2, 3, 4, 5, 7]\n",
    "\n",
    "print(\"Original lists:\")\n",
    "print(nums1)\n",
    "print(nums2)\n",
    "print(nums3)\n",
    "print(\"\\nCommon index elements of the said lists:\") \n",
    "print(extract_index_ele(nums1, nums2, nums3))"
   ]
  },
  {
   "cell_type": "code",
   "execution_count": 112,
   "id": "d66eb226-6a58-4283-89f6-d8a2d6142685",
   "metadata": {},
   "outputs": [
    {
     "name": "stdout",
     "output_type": "stream",
     "text": [
      "Original list:\n",
      "['Python', 'list', 'exercises', 'practice', 'solution']\n",
      "\n",
      "length of the string to extract:\n",
      "8\n",
      "\n",
      "After extracting strings of specified length from the said list:\n",
      "['practice', 'solution']\n"
     ]
    }
   ],
   "source": [
    "def extract_string(str_list1, l):\n",
    "    result = [e for e in str_list1 if len(e) == l] \n",
    "    return result\n",
    "\n",
    "str_list1 = ['Python', 'list', 'exercises', 'practice', 'solution'] \n",
    "print(\"Original list:\")\n",
    "print(str_list1)\n",
    "l = 8\n",
    "print(\"\\nlength of the string to extract:\")\n",
    "print(l)\n",
    "print(\"\\nAfter extracting strings of specified length from the said list:\") \n",
    "print(extract_string(str_list1 , l))\n"
   ]
  },
  {
   "cell_type": "code",
   "execution_count": 113,
   "id": "c95d0018-635f-4e85-80e3-3d93166f6050",
   "metadata": {},
   "outputs": [
    {
     "name": "stdout",
     "output_type": "stream",
     "text": [
      "Original list:\n",
      "[1, 1, 3, 4, 4, 5, 6, 7]\n",
      "Extract 2 number of elements from the said list which follows each other continuously:\n",
      "[1, 4]\n",
      "Original lists:\n",
      "[0, 1, 2, 3, 4, 4, 4, 4, 5, 7]\n",
      "Extract 4 number of elements from the said list which follows each other continuously:\n",
      "[4]\n"
     ]
    }
   ],
   "source": [
    "from itertools import groupby \n",
    "\n",
    "def extract_elements(nums, n):\n",
    "    result = [i for i, j in groupby(nums) if len(list(j)) == n] \n",
    "    return result\n",
    "\n",
    "nums1 = [1, 1, 3, 4, 4, 5, 6, 7]\n",
    "n = 2\n",
    "print(\"Original list:\")\n",
    "print(nums1)\n",
    "print(\"Extract 2 number of elements from the said list which follows each other continuously:\") \n",
    "print(extract_elements(nums1, n))\n",
    "nums2 = [0, 1, 2, 3, 4, 4, 4, 4, 5, 7]\n",
    "n = 4\n",
    "print(\"Original lists:\")\n",
    "print(nums2)\n",
    "print(\"Extract 4 number of elements from the said list which follows each other continuously:\") \n",
    "print(extract_elements(nums2, n))\n"
   ]
  },
  {
   "cell_type": "code",
   "execution_count": 114,
   "id": "0581e443-7d7a-4df9-8197-b730cb9be556",
   "metadata": {},
   "outputs": [
    {
     "name": "stdout",
     "output_type": "stream",
     "text": [
      "Original list:\n",
      "[1, 1, 3, 4, 4, 5, 6, 7]\n",
      "Difference between consecutive numbers of the said list:\n",
      "[0, 2, 1, 0, 1, 1, 1]\n",
      "\n",
      "Original list:\n",
      "[4, 5, 8, 9, 6, 10]\n",
      "Difference between consecutive numbers of the said list:\n",
      "[1, 3, 1, -3, 4]\n"
     ]
    }
   ],
   "source": [
    "def diff_consecutive_nums(nums):\n",
    "    result = [b-a for a, b in zip(nums[:-1], nums[1:])]\n",
    "    return result\n",
    "\n",
    "nums1 = [1, 1, 3, 4, 4, 5, 6, 7]\n",
    "print(\"Original list:\")\n",
    "print(nums1)\n",
    "print(\"Difference between consecutive numbers of the said list:\") \n",
    "print(diff_consecutive_nums(nums1))\n",
    "\n",
    "nums2 = [4, 5, 8, 9, 6, 10]\n",
    "print(\"\\nOriginal list:\")\n",
    "print(nums2)\n",
    "print(\"Difference between consecutive numbers of the said list:\") \n",
    "print(diff_consecutive_nums(nums2))\n"
   ]
  },
  {
   "cell_type": "code",
   "execution_count": 116,
   "id": "2de20919-0fad-4664-bc23-b326b76d1b8f",
   "metadata": {},
   "outputs": [
    {
     "name": "stdout",
     "output_type": "stream",
     "text": [
      "Original list:\n",
      "[1, 'abcd', 3, 1.2, 4, 'xyz', 5, 'pqr', 7, -5, -12.22]\n",
      "\n",
      "Number of integers in the said mixed list:\n",
      "6\n"
     ]
    }
   ],
   "source": [
    "def count_integer(list1):\n",
    "    ctr = 0\n",
    "    for i in list1:\n",
    "        if isinstance(i, int):\n",
    "            ctr = ctr + 1\n",
    "    return ctr\n",
    "\n",
    "list1 = [1, 'abcd', 3, 1.2, 4, 'xyz', 5, 'pqr', 7, -5, -12.22]\n",
    "\n",
    "print(\"Original list:\")\n",
    "print(list1)\n",
    "\n",
    "print(\"\\nNumber of integers in the said mixed list:\")\n",
    "print(count_integer(list1))\n",
    "\n"
   ]
  },
  {
   "cell_type": "code",
   "execution_count": 117,
   "id": "a60ac95d-384b-475a-946c-e632170b3448",
   "metadata": {},
   "outputs": [
    {
     "name": "stdout",
     "output_type": "stream",
     "text": [
      "Original Nested list:\n",
      "[[1, 2, 3], [2, 4, 5], [1, 1, 1]]\n",
      "After removing 1st column:\n",
      "[[2, 3], [4, 5], [1, 1]]\n",
      "\n",
      "Original Nested list:\n",
      "[[1, 2, 3], [-2, 4, -5], [1, -1, 1]]\n",
      "After removing 3rd column:\n",
      "[[1, 2], [-2, 4], [1, -1]]\n"
     ]
    }
   ],
   "source": [
    "def remove_column(nums, n):\n",
    "   for i in nums: \n",
    "    del i[n] \n",
    "   return nums\n",
    "\n",
    "list1 = [[1, 2, 3], [2, 4, 5], [1, 1, 1]]\n",
    "n = 0\n",
    "print(\"Original Nested list:\")\n",
    "print(list1)\n",
    "print(\"After removing 1st column:\")\n",
    "print(remove_column(list1, n))\n",
    "\n",
    "list2 = [[1, 2, 3], [-2, 4, -5], [1, -1, 1]]\n",
    "n = 2\n",
    "print(\"\\nOriginal Nested list:\")\n",
    "print(list2)\n",
    "print(\"After removing 3rd column:\")\n",
    "print(remove_column(list2, n))\n"
   ]
  },
  {
   "cell_type": "code",
   "execution_count": 118,
   "id": "061f3ada-e3e7-4c81-9343-575cb9c33f15",
   "metadata": {},
   "outputs": [
    {
     "name": "stdout",
     "output_type": "stream",
     "text": [
      "Original Nested list:\n",
      "[[1, 2, 3], [2, 4, 5], [1, 1, 1]]\n",
      "Extract 1st column:\n",
      "[1, 2, 1]\n",
      "\n",
      "Original Nested list:\n",
      "[[1, 2, 3], [-2, 4, -5], [1, -1, 1]]\n",
      "Extract 3rd column:\n",
      "[3, -5, 1]\n"
     ]
    }
   ],
   "source": [
    "def remove_column(nums, n):\n",
    "   result = [i.pop(n) for i in nums]\n",
    "   return result \n",
    "\n",
    "list1 = [[1, 2, 3], [2, 4, 5], [1, 1, 1]]\n",
    "n = 0\n",
    "print(\"Original Nested list:\")\n",
    "print(list1)\n",
    "print(\"Extract 1st column:\")\n",
    "print(remove_column(list1, n))\n",
    "\n",
    "list2 = [[1, 2, 3], [-2, 4, -5], [1, -1, 1]]\n",
    "n = 2\n",
    "print(\"\\nOriginal Nested list:\")\n",
    "print(list2)\n",
    "print(\"Extract 3rd column:\")\n",
    "print(remove_column(list2, n))\n"
   ]
  },
  {
   "cell_type": "code",
   "execution_count": 119,
   "id": "5023f51f-a8c2-45e3-a8b9-f201af04462c",
   "metadata": {},
   "outputs": [
    {
     "name": "stdout",
     "output_type": "stream",
     "text": [
      "original List:\n",
      "[1, 2, 3, 4, 5, 6, 7, 8, 9, 10]\n",
      "\n",
      "Rotate the said list in left direction by 4:\n",
      "[4, 5, 6, 7, 8, 9, 10, 1, 2, 3, 4]\n",
      "\n",
      "Rotate the said list in left direction by 2:\n",
      "[3, 4, 5, 6, 7, 8, 9, 10, 1, 2]\n",
      "\n",
      "Rotate the said list in Right direction by 4:\n",
      "[8, 9, 10, 1, 2, 3, 4, 5, 6]\n",
      "\n",
      "Rotate the said list in Right direction by 2:\n",
      "[9, 10, 1, 2, 3, 4, 5, 6, 7, 8]\n"
     ]
    }
   ],
   "source": [
    "nums1 = [1, 2, 3, 4, 5, 6, 7, 8, 9, 10]\n",
    "print(\"original List:\")\n",
    "print(nums1)\n",
    "print(\"\\nRotate the said list in left direction by 4:\")\n",
    "result = nums1[3:] + nums1[:4]\n",
    "print(result)\n",
    "print(\"\\nRotate the said list in left direction by 2:\")\n",
    "result = nums1[2:] + nums1[:2]\n",
    "print(result)\n",
    "print(\"\\nRotate the said list in Right direction by 4:\")\n",
    "result = nums1[-3:] + nums1[:-4]\n",
    "print(result)\n",
    "print(\"\\nRotate the said list in Right direction by 2:\")\n",
    "result = nums1[-2:] + nums1[:-2]\n",
    "print(result)\n"
   ]
  },
  {
   "cell_type": "code",
   "execution_count": 120,
   "id": "32158736-80da-4551-8068-9c81f3f114ef",
   "metadata": {},
   "outputs": [
    {
     "name": "stdout",
     "output_type": "stream",
     "text": [
      "Original list:\n",
      "[2, 3, 8, 4, 7, 9, 8, 2, 6, 5, 1, 6, 1, 2, 3, 4, 6, 9, 1, 2]\n",
      "\n",
      "Item with maximum occurrences of the said list:\n",
      "2\n"
     ]
    }
   ],
   "source": [
    "def max_occurrences(nums):\n",
    "    max_val = 0\n",
    "    result = nums[0] \n",
    "    for i in nums:\n",
    "        occu = nums.count(i)\n",
    "        if occu > max_val:\n",
    "            max_val = occu\n",
    "            result = i \n",
    "    return result\n",
    "\n",
    "nums = [2,3,8,4,7,9,8,2,6,5,1,6,1,2,3,4,6,9,1,2]\n",
    "print (\"Original list:\")\n",
    "print(nums)\n",
    "print(\"\\nItem with maximum occurrences of the said list:\")\n",
    "print(max_occurrences(nums)) \n"
   ]
  },
  {
   "cell_type": "code",
   "execution_count": 121,
   "id": "7cb42128-a654-4504-ae6a-69fcd4fe83a5",
   "metadata": {},
   "outputs": [
    {
     "name": "stdout",
     "output_type": "stream",
     "text": [
      "Original list:\n",
      "[2, 3, 8, 4, 7, 9, 8, 2, 6, 5, 1, 6, 1, 2, 3, 4, 6, 9, 1, 2]\n",
      "Index list:\n",
      "[0, 3, 5, 7, 10]\n",
      "\n",
      "Items with specified index of the said list:\n",
      "[2, 4, 9, 2, 1]\n"
     ]
    }
   ],
   "source": [
    "def access_elements(nums, list_index):\n",
    "    result = [nums[i] for i in list_index]\n",
    "    return result\n",
    "\n",
    "\n",
    "nums = [2,3,8,4,7,9,8,2,6,5,1,6,1,2,3,4,6,9,1,2]\n",
    "print (\"Original list:\")\n",
    "print(nums)\n",
    "list_index = [0,3,5,7,10]\n",
    "print(\"Index list:\")\n",
    "print(list_index)\n",
    "print(\"\\nItems with specified index of the said list:\")\n",
    "print(access_elements(nums, list_index))\n"
   ]
  },
  {
   "cell_type": "code",
   "execution_count": 122,
   "id": "6a8cffae-70cb-4fa1-a808-305e06059ddf",
   "metadata": {},
   "outputs": [
    {
     "name": "stdout",
     "output_type": "stream",
     "text": [
      "Original list:\n",
      "[1, 2, 4, 6, 8, 10, 12, 14, 16, 17]\n",
      "\n",
      "Is the said list is sorted!\n",
      "True\n",
      "\n",
      "Original list:\n",
      "[1, 2, 4, 6, 8, 10, 12, 14, 16, 17]\n",
      "\n",
      "Is the said list is sorted!\n",
      "False\n"
     ]
    }
   ],
   "source": [
    "def is_sort_list(nums):\n",
    "    result = all(nums[i] <= nums[i+1] for i in range(len(nums)-1))\n",
    "    return result\n",
    "\n",
    "nums1 = [1,2,4,6,8,10,12,14,16,17]\n",
    "print (\"Original list:\")\n",
    "print(nums1)\n",
    "print(\"\\nIs the said list is sorted!\")\n",
    "print(is_sort_list(nums1)) \n",
    "\n",
    "nums2 = [2,3,8,4,7,9,8,2,6,5,1,6,1,2,3,4,6,9,1,2]\n",
    "print (\"\\nOriginal list:\")\n",
    "print(nums1)\n",
    "print(\"\\nIs the said list is sorted!\")\n",
    "print(is_sort_list(nums2))\n"
   ]
  },
  {
   "cell_type": "code",
   "execution_count": 123,
   "id": "a73c0a0d-62d5-4f2e-ab71-f8b09fce6d6f",
   "metadata": {},
   "outputs": [
    {
     "name": "stdout",
     "output_type": "stream",
     "text": [
      "Original list with duplicate dictionary:\n",
      "[{'Green': '#008000'}, {'Black': '#000000'}, {'Blue': '#0000FF'}, {'Green': '#008000'}]\n",
      "\n",
      "After removing duplicate dictionary of the said list:\n",
      "[{'Black': '#000000'}, {'Green': '#008000'}, {'Blue': '#0000FF'}]\n"
     ]
    }
   ],
   "source": [
    "def remove_duplicate_dictionary(list_color):\n",
    "    result = [dict(e) for e in {tuple(d.items()) for d in list_color}]\n",
    "    return result\n",
    "\n",
    "list_color = [{'Green': '#008000'}, {'Black': '#000000'}, {'Blue': '#0000FF'}, {'Green': '#008000'}]\n",
    "print (\"Original list with duplicate dictionary:\")\n",
    "print(list_color)\n",
    "print(\"\\nAfter removing duplicate dictionary of the said list:\")\n",
    "print(remove_duplicate_dictionary(list_color))\n"
   ]
  },
  {
   "cell_type": "code",
   "execution_count": 124,
   "id": "dcf4975a-6d0e-4f04-b8dc-941c8398a623",
   "metadata": {},
   "outputs": [
    {
     "name": "stdout",
     "output_type": "stream",
     "text": [
      "Original list:\n",
      "[('Greyson Fulton', 98, 99), ('Brady Kent', 97, 96), ('Wyatt Knott', 91, 94), ('Beau Turnbull', 94, 98)]\n",
      "\n",
      "Extract nth element ( n = 0 ) from the said list of tuples:\n",
      "['Greyson Fulton', 'Brady Kent', 'Wyatt Knott', 'Beau Turnbull']\n",
      "\n",
      "Extract nth element ( n = 2 ) from the said list of tuples:\n",
      "[99, 96, 94, 98]\n"
     ]
    }
   ],
   "source": [
    "def extract_nth_element(test_list, n):\n",
    "    result = [x[n] for x in test_list]\n",
    "    return result\n",
    "\n",
    "students = [('Greyson Fulton', 98, 99), ('Brady Kent', 97, 96), ('Wyatt Knott', 91, 94), ('Beau Turnbull', 94, 98)] \n",
    "print (\"Original list:\")\n",
    "print(students)\n",
    "n = 0\n",
    "print(\"\\nExtract nth element ( n =\",n,\") from the said list of tuples:\")\n",
    "print(extract_nth_element(students, n))\n",
    "\n",
    "n = 2\n",
    "print(\"\\nExtract nth element ( n =\",n,\") from the said list of tuples:\")\n",
    "print(extract_nth_element(students, n))\n"
   ]
  },
  {
   "cell_type": "code",
   "execution_count": 125,
   "id": "7a6d1df8-a7c4-4eaa-88d0-db57306d22bf",
   "metadata": {},
   "outputs": [
    {
     "name": "stdout",
     "output_type": "stream",
     "text": [
      "Original list:\n",
      "[1, 2, 4, 6, 8, 2, 1, 4, 10, 12, 14, 12, 16, 17]\n",
      "\n",
      "Is the said list contains all unique elements!\n",
      "False\n",
      "\n",
      "Original list:\n",
      "[2, 4, 6, 8, 10, 12, 14]\n",
      "\n",
      "Is the said list contains all unique elements!\n",
      "True\n"
     ]
    }
   ],
   "source": [
    "def all_unique(test_list):\n",
    "    if len(test_list) > len(set(test_list)):\n",
    "        return False\n",
    "    return True\n",
    "\n",
    "nums1 = [1,2,4,6,8,2,1,4,10,12,14,12,16,17]\n",
    "print (\"Original list:\")\n",
    "print(nums1)\n",
    "print(\"\\nIs the said list contains all unique elements!\")\n",
    "print(all_unique(nums1)) \n",
    "\n",
    "nums2 = [2,4,6,8,10,12,14]\n",
    "print (\"\\nOriginal list:\")\n",
    "print(nums2)\n",
    "print(\"\\nIs the said list contains all unique elements!\")\n",
    "print(all_unique(nums2))\n"
   ]
  },
  {
   "cell_type": "code",
   "execution_count": 126,
   "id": "4f8e0929-16ea-4528-a84e-82e3a3f89a48",
   "metadata": {},
   "outputs": [
    {
     "name": "stdout",
     "output_type": "stream",
     "text": [
      "Original list:\n",
      "[('Greyson Fulton', 98, 99), ('Brady Kent', 97, 96), ('Wyatt Knott', 91, 94), ('Beau Turnbull', 94, 98)]\n",
      "\n",
      "Sort the said list of lists by a given index ( Index =  0 ) of the inner list\n",
      "[('Beau Turnbull', 94, 98), ('Brady Kent', 97, 96), ('Greyson Fulton', 98, 99), ('Wyatt Knott', 91, 94)]\n",
      "\n",
      "Sort the said list of lists by a given index ( Index =  2 ) of the inner list\n",
      "[('Wyatt Knott', 91, 94), ('Brady Kent', 97, 96), ('Beau Turnbull', 94, 98), ('Greyson Fulton', 98, 99)]\n"
     ]
    }
   ],
   "source": [
    "from operator import itemgetter\n",
    "def index_on_inner_list(list_data, index_no):\n",
    "    result = sorted(list_data, key=itemgetter(index_no))\n",
    "    return result\n",
    "students = [('Greyson Fulton', 98, 99), ('Brady Kent', 97, 96), ('Wyatt Knott', 91, 94), ('Beau Turnbull', 94, 98)] \n",
    "print (\"Original list:\")\n",
    "print(students)\n",
    "index_no = 0\n",
    "print(\"\\nSort the said list of lists by a given index\",\"( Index = \",index_no,\") of the inner list\")\n",
    "print(index_on_inner_list(students, index_no))\n",
    "index_no = 2\n",
    "print(\"\\nSort the said list of lists by a given index\",\"( Index = \",index_no,\") of the inner list\")\n",
    "print(index_on_inner_list(students, index_no))\n"
   ]
  },
  {
   "cell_type": "code",
   "execution_count": 127,
   "id": "5f2e7e92-7d24-496e-8ab4-32012da8c583",
   "metadata": {},
   "outputs": [
    {
     "name": "stdout",
     "output_type": "stream",
     "text": [
      "Original lists:\n",
      "list1: [1, 2, 3, 4, 5, 6, 7, 8, 9, 10]\n",
      "list2: [2, 4, 6, 8]\n",
      "\n",
      "Remove all elements from 'list1' present in 'list2:\n",
      "[1, 3, 5, 7, 9, 10]\n"
     ]
    }
   ],
   "source": [
    "def index_on_inner_list(list1, list2):\n",
    "    result = [x for x in list1 if x not in list2]\n",
    "    return result\n",
    "\n",
    "list1 = [1,2,3,4,5,6,7,8,9,10]\n",
    "list2 = [2,4,6,8]\n",
    "\n",
    "print(\"Original lists:\")\n",
    "print(\"list1:\", list1)\n",
    "print(\"list2:\", list2)\n",
    "\n",
    "print(\"\\nRemove all elements from 'list1' present in 'list2:\")\n",
    "print(index_on_inner_list(list1, list2))\n"
   ]
  },
  {
   "cell_type": "code",
   "execution_count": 128,
   "id": "35d088a3-6258-41d3-ba9a-bb75d500b25e",
   "metadata": {},
   "outputs": [
    {
     "name": "stdout",
     "output_type": "stream",
     "text": [
      "Original list:\n",
      "[1, 2, 3, 4, 5, 6, 7, 8, 9, 10]\n",
      "\n",
      "Dfference between elements (n+1th – nth) of the said list :\n",
      "[1, 1, 1, 1, 1, 1, 1, 1, 1]\n",
      "\n",
      "Original list:\n",
      "[2, 4, 6, 8]\n",
      "\n",
      "Dfference between elements (n+1th – nth) of the said list :\n",
      "[2, 2, 2]\n"
     ]
    }
   ],
   "source": [
    "def elements_difference(nums):\n",
    "    result = [j-i for i, j in zip(nums[:-1], nums[1:])]\n",
    "    return result\n",
    "\n",
    "nums1 = [1,2,3,4,5,6,7,8,9,10]\n",
    "nums2 = [2,4,6,8]\n",
    "\n",
    "print(\"Original list:\")\n",
    "print(nums1)\n",
    "print(\"\\nDfference between elements (n+1th – nth) of the said list :\")\n",
    "print(elements_difference(nums1))\n",
    "print(\"\\nOriginal list:\")\n",
    "print(nums2)\n",
    "print(\"\\nDfference between elements (n+1th – nth) of the said list :\")\n",
    "print(elements_difference(nums2))\n",
    "\n"
   ]
  },
  {
   "cell_type": "code",
   "execution_count": 129,
   "id": "efbe8e78-d5ad-4086-a63d-cb9466c5ebaa",
   "metadata": {},
   "outputs": [
    {
     "name": "stdout",
     "output_type": "stream",
     "text": [
      "Original list:\n",
      "['red', 'black', 'white', 'green', 'orange']\n",
      "Substring to search:\n",
      "ack\n",
      "Check if a substring presents in the said list of string values:\n",
      "True\n",
      "Substring to search:\n",
      "abc\n",
      "Check if a substring presents in the said list of string values:\n",
      "False\n"
     ]
    }
   ],
   "source": [
    "def find_substring(str1, sub_str):\n",
    "   if any(sub_str in s for s in str1):\n",
    "       return True\n",
    "   return False\n",
    "\n",
    "colors = [\"red\", \"black\", \"white\", \"green\", \"orange\"]\n",
    "print(\"Original list:\")\n",
    "print(colors)\n",
    "sub_str = \"ack\"\n",
    "print(\"Substring to search:\")\n",
    "print(sub_str)\n",
    "print(\"Check if a substring presents in the said list of string values:\")\n",
    "print(find_substring(colors, sub_str))\n",
    "sub_str = \"abc\"\n",
    "print(\"Substring to search:\")\n",
    "print(sub_str)\n",
    "print(\"Check if a substring presents in the said list of string values:\")\n",
    "print(find_substring(colors, sub_str))\n"
   ]
  },
  {
   "cell_type": "code",
   "execution_count": 130,
   "id": "73a3cf02-9f56-4622-97af-c1566019f21e",
   "metadata": {},
   "outputs": [
    {
     "name": "stdout",
     "output_type": "stream",
     "text": [
      "Original list:\n",
      "['red', 'black', 'white', 'green', 'orange']\n",
      "List with alternate elements from the said list:\n",
      "['red', 'white', 'orange']\n",
      "\n",
      "Original list:\n",
      "[2, 0, 3, 4, 0, 2, 8, 3, 4, 2]\n",
      "List with alternate elements from the said list:\n",
      "[2, 3, 0, 8, 4]\n"
     ]
    }
   ],
   "source": [
    "def alternate_elements(list_data):\n",
    "    result=[]\n",
    "    for item in list_data[::2]:\n",
    "        result.append(item)\n",
    "    return result \n",
    "colors = [\"red\", \"black\", \"white\", \"green\", \"orange\"]\n",
    "print(\"Original list:\")\n",
    "print(colors)\n",
    "print(\"List with alternate elements from the said list:\")\n",
    "print(alternate_elements(colors))\n",
    "nums = [2,0,3,4,0,2,8,3,4,2]\n",
    "print(\"\\nOriginal list:\")\n",
    "print(nums)\n",
    "print(\"List with alternate elements from the said list:\")\n",
    "print(alternate_elements(nums))\n"
   ]
  },
  {
   "cell_type": "code",
   "execution_count": 131,
   "id": "376b6570-5144-4c4d-9ad4-6c843b10c9dc",
   "metadata": {},
   "outputs": [
    {
     "name": "stdout",
     "output_type": "stream",
     "text": [
      "\n",
      "Original lists:\n",
      "[1, 2, 3, 4, 5, 6, 7, 8, 9, 10, 11, 12, 13, 14]\n",
      "[[12, 18, 23, 25, 45], [7, 11, 19, 24, 28], [1, 5, 8, 18, 15, 16]]\n",
      "\n",
      "Intersection of said nested lists:\n",
      "[[12], [7, 11], [1, 5, 8]]\n"
     ]
    }
   ],
   "source": [
    "def intersection_nested_lists(l1, l2):\n",
    "    result = [[n for n in lst if n in l1] for lst in l2]\n",
    "    return result\n",
    "nums1 = [1, 2, 3, 4, 5, 6, 7, 8, 9, 10, 11, 12, 13, 14]\n",
    "nums2 = [[12, 18, 23, 25, 45], [7, 11, 19, 24, 28], [1, 5, 8, 18, 15, 16]]\n",
    "print(\"\\nOriginal lists:\")\n",
    "print(nums1)\n",
    "print(nums2)\n",
    "print(\"\\nIntersection of said nested lists:\")\n",
    "print(intersection_nested_lists(nums1, nums2))\n"
   ]
  },
  {
   "cell_type": "code",
   "execution_count": 132,
   "id": "6680fd3f-c6df-4080-960d-ebb602d6f8e8",
   "metadata": {},
   "outputs": [
    {
     "name": "stdout",
     "output_type": "stream",
     "text": [
      "\n",
      "Original lists:\n",
      "[[12, 18, 23, 25, 45], [7, 12, 18, 24, 28], [1, 5, 8, 12, 15, 16, 18]]\n",
      "\n",
      "Common element(s) in nested lists:\n",
      "[18, 12]\n"
     ]
    }
   ],
   "source": [
    "def common_in_nested_lists(nested_list):\n",
    "    result = list(set.intersection(*map(set, nested_list)))\n",
    "    return result\n",
    "nested_list = [[12, 18, 23, 25, 45], [7, 12, 18, 24, 28], [1, 5, 8, 12, 15, 16, 18]]\n",
    "print(\"\\nOriginal lists:\")\n",
    "print(nested_list)\n",
    "print(\"\\nCommon element(s) in nested lists:\")\n",
    "print(common_in_nested_lists(nested_list))\n"
   ]
  },
  {
   "cell_type": "code",
   "execution_count": 133,
   "id": "032f9202-4151-43b0-b8af-854e00a372fd",
   "metadata": {},
   "outputs": [
    {
     "name": "stdout",
     "output_type": "stream",
     "text": [
      "\n",
      "Original lists:\n",
      "['Red', 'Green', 'Blue', 'White', 'Black']\n",
      "\n",
      "Reverse strings of the said given list:\n",
      "['deR', 'neerG', 'eulB', 'etihW', 'kcalB']\n"
     ]
    }
   ],
   "source": [
    "def reverse_strings_list(string_list):\n",
    "    result = [x[::-1] for x in string_list]\n",
    "    return result\n",
    "\n",
    "colors_list = [\"Red\", \"Green\", \"Blue\", \"White\", \"Black\"]\n",
    "print(\"\\nOriginal lists:\")\n",
    "print(colors_list)\n",
    "print(\"\\nReverse strings of the said given list:\")\n",
    "print(reverse_strings_list(colors_list))\n"
   ]
  },
  {
   "cell_type": "code",
   "execution_count": 134,
   "id": "03633f2b-9892-4a28-8d4b-8102d022c690",
   "metadata": {},
   "outputs": [
    {
     "name": "stdout",
     "output_type": "stream",
     "text": [
      "The original list, tuple : \n",
      "[(2, 7), (2, 6), (1, 8), (4, 9)]\n",
      "\n",
      "Maximum and minimum product from the pairs of the said tuple of list:\n",
      "(36, 8)\n"
     ]
    }
   ],
   "source": [
    "def tuple_max_val(nums):\n",
    "    result_max = max([abs(x * y) for x, y in nums] )\n",
    "    result_min = min([abs(x * y) for x, y in nums] )\n",
    "    return result_max,result_min\n",
    "nums = [(2, 7), (2, 6), (1, 8), (4, 9)]   \n",
    "print(\"The original list, tuple : \") \n",
    "print(nums)\n",
    "print(\"\\nMaximum and minimum product from the pairs of the said tuple of list:\")\n",
    "print(tuple_max_val(nums)) \n"
   ]
  },
  {
   "cell_type": "code",
   "execution_count": 135,
   "id": "116f3f07-31a0-49ae-b934-b97710fe7fcb",
   "metadata": {},
   "outputs": [
    {
     "name": "stdout",
     "output_type": "stream",
     "text": [
      "Original List :  [10, 20, 30, 40, 20, 50, 60, 40]\n",
      "Product of the unique numbers of the said list:  720000000\n"
     ]
    }
   ],
   "source": [
    "def unique_product(list_data):\n",
    "    temp = list(set(list_data))\n",
    "    p = 1\n",
    "    for i in temp:\n",
    "        p *= i\n",
    "    return p\n",
    "nums = [10, 20, 30, 40, 20, 50, 60, 40]\n",
    "print(\"Original List : \",nums)\n",
    "print(\"Product of the unique numbers of the said list: \",unique_product(nums))\n"
   ]
  },
  {
   "cell_type": "code",
   "execution_count": 136,
   "id": "f6f6a57b-3641-40d2-8f42-b74c49ba3f05",
   "metadata": {},
   "outputs": [
    {
     "name": "stdout",
     "output_type": "stream",
     "text": [
      "Original list:\n",
      "list1: [1, 2, 3, 4, 5, 6, 7]\n",
      "list2: [10, 20, 30, 40, 50, 60, 70]\n",
      "list3: [100, 200, 300, 400, 500, 600, 700]\n",
      "\n",
      "Interleave multiple lists:\n",
      "[1, 10, 100, 2, 20, 200, 3, 30, 300, 4, 40, 400, 5, 50, 500, 6, 60, 600, 7, 70, 700]\n"
     ]
    }
   ],
   "source": [
    "def interleave_multiple_lists(list1,list2,list3):\n",
    "    result = [el for pair in zip(list1, list2, list3) for el in pair]\n",
    "    return result\n",
    "     \n",
    "list1 = [1,2,3,4,5,6,7]\n",
    "list2 = [10,20,30,40,50,60,70]\n",
    "list3 = [100,200,300,400,500,600,700]\n",
    "print(\"Original list:\")\n",
    "print(\"list1:\",list1)\n",
    "print(\"list2:\",list2)\n",
    "print(\"list3:\",list3)\n",
    "print(\"\\nInterleave multiple lists:\")\n",
    "print(interleave_multiple_lists(list1,list2,list3))\n"
   ]
  },
  {
   "cell_type": "code",
   "execution_count": 137,
   "id": "79c5851d-8154-4666-b608-208c188bb4a6",
   "metadata": {},
   "outputs": [
    {
     "name": "stdout",
     "output_type": "stream",
     "text": [
      "Original list:\n",
      "list1: ['Red color', 'Orange#', 'Green', 'Orange @', 'White']\n",
      "\n",
      "Character list:\n",
      "['#', 'color', '@']\n",
      "\n",
      "New list:\n",
      "['Red', '', 'Green', 'Orange', 'White']\n"
     ]
    }
   ],
   "source": [
    "def remove_words(in_list, char_list):\n",
    "    new_list = []\n",
    "    for line in in_list:\n",
    "        new_words = ' '.join([word for word in line.split() if not any([phrase in word for phrase in char_list])])\n",
    "        new_list.append(new_words)\n",
    "    return new_list\n",
    "     \n",
    "str_list = ['Red color', 'Orange#', 'Green', 'Orange @', \"White\"]\n",
    "print(\"Original list:\")\n",
    "print(\"list1:\",str_list)\n",
    "char_list = ['#', 'color', '@']\n",
    "print(\"\\nCharacter list:\")\n",
    "print(char_list)\n",
    "print(\"\\nNew list:\")\n",
    "print(remove_words(str_list, char_list))\n"
   ]
  },
  {
   "cell_type": "code",
   "execution_count": 138,
   "id": "e02f1134-12a1-4e4f-8096-6afe3bc29202",
   "metadata": {},
   "outputs": [
    {
     "name": "stdout",
     "output_type": "stream",
     "text": [
      "Original list:\n",
      "[2, 1, 5, 6, 8, 3, 4, 9, 10, 11, 8, 12]\n",
      "Range: 8 , 10\n",
      "\n",
      "Sum of the specified range:\n",
      "29\n"
     ]
    }
   ],
   "source": [
    "def sum_Range_list(nums, m, n):                                                                                                                                                                                                \n",
    "    sum_range = 0                                                                                                                                                                                                         \n",
    "    for i in range(m, n+1, 1):                                                                                                                                                                                        \n",
    "        sum_range += nums[i]                                                                                                                                                                                                  \n",
    "    return sum_range   \n",
    "\n",
    "nums = [2,1,5,6,8,3,4,9,10,11,8,12]\n",
    "print(\"Original list:\")\n",
    "print(nums)\n",
    "m = 8\n",
    "n = 10\n",
    "print(\"Range:\",m,\",\",n) \n",
    "print(\"\\nSum of the specified range:\")\n",
    "print(sum_Range_list(nums, m, n))\n"
   ]
  },
  {
   "cell_type": "code",
   "execution_count": 139,
   "id": "2b545128-3ec8-4336-8a2b-13430dbd87e6",
   "metadata": {},
   "outputs": [
    {
     "name": "stdout",
     "output_type": "stream",
     "text": [
      "Original list of lists:\n",
      "[[1, 2, 3, 4], [5, 6, 7, 8], [9, 10, 11, 12], [13, 14, 15, 16]]\n",
      "\n",
      "Reverse each list in the said list of lists:\n",
      "[[4, 3, 2, 1], [8, 7, 6, 5], [12, 11, 10, 9], [16, 15, 14, 13]]\n"
     ]
    }
   ],
   "source": [
    "def reverse_list_lists(nums):\n",
    "    for l in nums:\n",
    "        l.sort(reverse = True)\n",
    "    return nums    \n",
    "nums = [[1, 2, 3, 4], [5, 6, 7, 8], [9, 10, 11, 12], [13, 14, 15, 16]]\n",
    "print(\"Original list of lists:\")\n",
    "print(nums)\n",
    "print(\"\\nReverse each list in the said list of lists:\")\n",
    "print(reverse_list_lists(nums))\n"
   ]
  },
  {
   "cell_type": "code",
   "execution_count": 141,
   "id": "a79c0b7a-1f6f-4833-ab6a-1b6c5e58c0a5",
   "metadata": {},
   "outputs": [
    {
     "name": "stdout",
     "output_type": "stream",
     "text": [
      "Original lists:\n",
      "[1, 2, 2, 2, 4, 4, 4, 5, 5, 5, 5]\n",
      "\n",
      "Consecutive duplicate elements and their frequency:\n",
      "([1, 2, 4, 5], [1, 3, 3, 4])\n"
     ]
    }
   ],
   "source": [
    "def count_dups(nums):\n",
    "    element = []\n",
    "    freque = []\n",
    "    if not nums:\n",
    "        return element\n",
    "    running_count = 1\n",
    "    for i in range(len(nums)-1):\n",
    "        if nums[i] == nums[i+1]:\n",
    "            running_count += 1\n",
    "        else:\n",
    "            freque.append(running_count)\n",
    "            element.append(nums[i])\n",
    "            running_count = 1\n",
    "    freque.append(running_count)\n",
    "    element.append(nums[i+1])\n",
    "    return element,freque\n",
    "\n",
    "\n",
    "nums = [1,2,2,2,4,4,4,5,5,5,5]\n",
    "print(\"Original lists:\")\n",
    "print(nums)\n",
    "\n",
    "print(\"\\nConsecutive duplicate elements and their frequency:\")\n",
    "print(count_dups(nums))\n",
    "\n"
   ]
  },
  {
   "cell_type": "code",
   "execution_count": 142,
   "id": "68fc8725-6c57-43a9-b5d5-3554f69bcef3",
   "metadata": {},
   "outputs": [
    {
     "name": "stdout",
     "output_type": "stream",
     "text": [
      "Original list:\n",
      "[12, 33, 23, 10, 67, 89, 45, 667, 23, 12, 11, 10, 54]\n",
      "\n",
      "Index positions of the maximum value of the said list:\n",
      "[7]\n",
      "\n",
      "Index positions of the minimum value of the said list:\n",
      "[3, 11]\n"
     ]
    }
   ],
   "source": [
    "def position_max_min(nums):\n",
    "    max_val = max(nums)\n",
    "    min_val = min(nums)\n",
    "    max_result = [i for i, j in enumerate(nums) if j == max_val]\n",
    "    min_result = [i for i, j in enumerate(nums) if j == min_val]\n",
    "    return max_result,min_result\n",
    "\n",
    "nums = [12,33,23,10,67,89,45,667,23,12,11,10,54]\n",
    "print(\"Original list:\")\n",
    "print(nums)\n",
    "result = position_max_min(nums)\n",
    "print(\"\\nIndex positions of the maximum value of the said list:\")\n",
    "print(result[0])\n",
    "print(\"\\nIndex positions of the minimum value of the said list:\")\n",
    "print(result[1])\n"
   ]
  },
  {
   "cell_type": "code",
   "execution_count": 143,
   "id": "80d35eb0-9058-477a-9eb3-b5c2f7d0c88e",
   "metadata": {},
   "outputs": [
    {
     "name": "stdout",
     "output_type": "stream",
     "text": [
      "Original lists:\n",
      "['red', 'green', 'black', 'orange']\n",
      "['red', 'pink', 'green', 'white', 'black']\n",
      "['white', 'orange', 'pink', 'black']\n",
      "\n",
      "Test common elements between color1 and color2 are in same order?\n",
      "True\n",
      "\n",
      "Test common elements between color1 and color3 are in same order?\n",
      "False\n",
      "\n",
      "Test common elements between color2 and color3 are in same order?\n",
      "False\n"
     ]
    }
   ],
   "source": [
    "def same_order(l1, l2):\n",
    "    common_elements = set(l1) & set(l2)\n",
    "    l1 = [e for e in l1 if e in common_elements]\n",
    "    l2 = [e for e in l2 if e in common_elements]\n",
    "    return l1 == l2\n",
    "\n",
    "color1 = [\"red\",\"green\",\"black\",\"orange\"]\n",
    "color2 = [\"red\",\"pink\",\"green\",\"white\",\"black\"]\n",
    "color3 = [\"white\",\"orange\",\"pink\",\"black\"]\n",
    "\n",
    "print(\"Original lists:\")\n",
    "print(color1)\n",
    "print(color2)\n",
    "print(color3)\n",
    "print(\"\\nTest common elements between color1 and color2 are in same order?\")\n",
    "print(same_order(color1, color2))\n",
    "print(\"\\nTest common elements between color1 and color3 are in same order?\")\n",
    "print(same_order(color1, color3))\n",
    "print(\"\\nTest common elements between color2 and color3 are in same order?\")\n",
    "print(same_order(color2, color3))\n"
   ]
  },
  {
   "cell_type": "code",
   "execution_count": 144,
   "id": "209fe9c3-cf54-494a-92ac-0b0702d3cf4a",
   "metadata": {},
   "outputs": [
    {
     "name": "stdout",
     "output_type": "stream",
     "text": [
      "Original lists:\n",
      "[1, 1, 2, 3, 3, 4, 4, 5, 6, 7]\n",
      "[1, 1, 2, 4, 5, 6]\n",
      "\n",
      "Difference between two said list including duplicate elements):\n",
      "[3, 3, 4, 7]\n"
     ]
    }
   ],
   "source": [
    "def list_difference(l1,l2):\n",
    "    result = list(l1)\n",
    "    for el in l2:\n",
    "        result.remove(el)\n",
    "    return result\n",
    "l1 = [1,1,2,3,3,4,4,5,6,7]\n",
    "l2 = [1,1,2,4,5,6]\n",
    "\n",
    "print(\"Original lists:\")\n",
    "print(l1)\n",
    "print(l2)\n",
    "print(\"\\nDifference between two said list including duplicate elements):\")\n",
    "print(list_difference(l1,l2))\n"
   ]
  },
  {
   "cell_type": "code",
   "execution_count": 145,
   "id": "e42873dc-1927-4074-9fd5-9066eeca2bec",
   "metadata": {},
   "outputs": [
    {
     "name": "stdout",
     "output_type": "stream",
     "text": [
      "Original lists:\n",
      "[1, 1, 2, 3, 3, 4, 4, 5]\n",
      "\n",
      "Iterate over all pairs of consecutive items of the said list:\n",
      "[(1, 1), (1, 2), (2, 3), (3, 3), (3, 4), (4, 4), (4, 5)]\n"
     ]
    }
   ],
   "source": [
    "def pairwise(l1):\n",
    "    temp = []\n",
    "    for i in range(len(l1) - 1):\n",
    "        current_element, next_element = l1[i], l1[i + 1]\n",
    "        x = (current_element, next_element)\n",
    "        temp.append(x)\n",
    "    return temp\n",
    "l1 = [1,1,2,3,3,4,4,5]\n",
    "print(\"Original lists:\")\n",
    "print(l1)\n",
    "print(\"\\nIterate over all pairs of consecutive items of the said list:\")\n",
    "print(pairwise(l1))\n"
   ]
  },
  {
   "cell_type": "code",
   "execution_count": 146,
   "id": "a8c955f5-af28-477f-9e5a-ea4a9b04e05b",
   "metadata": {},
   "outputs": [
    {
     "name": "stdout",
     "output_type": "stream",
     "text": [
      "Original String:\n",
      "['Python', 'Exercises', 'Practice', 'Solution', 'Exercises']\n",
      "\n",
      "After removing duplicate words from the said list of strings:\n",
      "['Python', 'Exercises', 'Practice', 'Solution']\n"
     ]
    }
   ],
   "source": [
    "def unique_list(l):\n",
    "    temp = []\n",
    "    for x in l:\n",
    "        if x not in temp:\n",
    "            temp.append(x)\n",
    "    return temp\n",
    "\n",
    "text_str = [\"Python\", \"Exercises\", \"Practice\", \"Solution\", \"Exercises\"]\n",
    "print(\"Original String:\")\n",
    "print(text_str)\n",
    "print(\"\\nAfter removing duplicate words from the said list of strings:\")\n",
    "print(unique_list(text_str))\n"
   ]
  },
  {
   "cell_type": "code",
   "execution_count": 147,
   "id": "21779d96-bb48-4f71-8f9a-12c7f91020ab",
   "metadata": {},
   "outputs": [
    {
     "name": "stdout",
     "output_type": "stream",
     "text": [
      "Original list:\n",
      "[1, 3, 5, 7, 4, 1, 6, 8]\n",
      "\n",
      "First even and odd number of the said list of numbers:\n",
      "(4, 1)\n"
     ]
    }
   ],
   "source": [
    "def first_even_odd(nums):\n",
    "    first_even = next((el for el in nums if el%2==0),-1)\n",
    "    first_odd = next((el for el in nums if el%2!=0),-1)\n",
    "    return first_even,first_odd\n",
    "\n",
    "nums= [1,3,5,7,4,1,6,8]\n",
    "print(\"Original list:\")\n",
    "print(nums)\n",
    "print(\"\\nFirst even and odd number of the said list of numbers:\")\n",
    "print(first_even_odd(nums))\n"
   ]
  },
  {
   "cell_type": "code",
   "execution_count": 148,
   "id": "e712a072-b19f-4c84-abf0-2237ca93fc61",
   "metadata": {},
   "outputs": [
    {
     "name": "stdout",
     "output_type": "stream",
     "text": [
      "Original list:\n",
      "[19, 'red', 12, 'green', 'blue', 10, 'white', 'green', 1]\n",
      "\n",
      "Sort the said  mixed list of integers and strings:\n",
      "[1, 10, 12, 19, 'blue', 'green', 'green', 'red', 'white']\n"
     ]
    }
   ],
   "source": [
    "def sort_mixed_list(mixed_list):\n",
    "    int_part = sorted([i for i in mixed_list if type(i) is int])\n",
    "    str_part = sorted([i for i in mixed_list if type(i) is str])\n",
    "    return int_part + str_part\n",
    "mixed_list = [19,'red',12,'green','blue', 10,'white','green',1]\n",
    "print(\"Original list:\")\n",
    "print(mixed_list)\n",
    "print(\"\\nSort the said  mixed list of integers and strings:\")\n",
    "print(sort_mixed_list(mixed_list))\n"
   ]
  },
  {
   "cell_type": "code",
   "execution_count": 149,
   "id": "5e9fd13b-db94-4df1-bdff-2fbea487a32d",
   "metadata": {},
   "outputs": [
    {
     "name": "stdout",
     "output_type": "stream",
     "text": [
      "Original list:\n",
      "['4', '12', '45', '7', '0', '100', '200', '-12', '-500']\n",
      "\n",
      "Sort the said list of strings(numbers) numerically:\n",
      "[-500, -12, 0, 4, 7, 12, 45, 100, 200]\n"
     ]
    }
   ],
   "source": [
    "def sort_numeric_strings(nums_str):\n",
    "    result = [int(x) for x in nums_str]\n",
    "    result.sort()\n",
    "    return result\n",
    "nums_str = ['4','12','45','7','0','100','200','-12','-500']\n",
    "print(\"Original list:\")\n",
    "print(nums_str)\n",
    "print(\"\\nSort the said list of strings(numbers) numerically:\")\n",
    "print(sort_numeric_strings(nums_str))\n"
   ]
  },
  {
   "cell_type": "code",
   "execution_count": 150,
   "id": "73b7efc3-24ed-4ad7-88c6-19d31579b5c2",
   "metadata": {},
   "outputs": [
    {
     "name": "stdout",
     "output_type": "stream",
     "text": [
      "Original list of lists:\n",
      "[['Red', 'Maroon', 'Yellow', 'Olive'], ['#FF0000', '#800000', '#FFFF00', '#808000'], ['rgb(255,0,0)', 'rgb(128,0,0)', 'rgb(255,255,0)', 'rgb(128,128,0)']]\n",
      "\n",
      "Remove 1st item from the said list of lists:\n",
      "[['Maroon', 'Yellow', 'Olive'], ['#800000', '#FFFF00', '#808000'], ['rgb(128,0,0)', 'rgb(255,255,0)', 'rgb(128,128,0)']]\n",
      "\n",
      "Remove 2nd item from the said list of lists:\n",
      "[['Red', 'Yellow', 'Olive'], ['#FF0000', '#FFFF00', '#808000'], ['rgb(255,0,0)', 'rgb(255,255,0)', 'rgb(128,128,0)']]\n",
      "\n",
      "Remove 4th item from the said list of lists:\n",
      "[['Red', 'Maroon', 'Yellow'], ['#FF0000', '#800000', '#FFFF00'], ['rgb(255,0,0)', 'rgb(128,0,0)', 'rgb(255,255,0)']]\n"
     ]
    }
   ],
   "source": [
    "import copy\t\n",
    "def remove_list_of_lists(color, N):\n",
    "    for x in color:\n",
    "        del x[N]\n",
    "    return color\n",
    "\n",
    "nums = [\n",
    "        [\"Red\",\"Maroon\",\"Yellow\",\"Olive\"],\n",
    "        [\"#FF0000\", \"#800000\", \"#FFFF00\", \"#808000\"],\n",
    "        [\"rgb(255,0,0)\",\"rgb(128,0,0)\",\"rgb(255,255,0)\",\"rgb(128,128,0)\"]\n",
    "       ]\n",
    "nums1 =  copy.deepcopy(nums)\n",
    "nums2 =  copy.deepcopy(nums)\n",
    "nums3 =  copy.deepcopy(nums)\n",
    "\n",
    "print(\"Original list of lists:\")\n",
    "print(nums)\n",
    "N = 0\n",
    "print(\"\\nRemove 1st item from the said list of lists:\")\n",
    "print(remove_list_of_lists(nums1, N))\n",
    "N = 1\n",
    "print(\"\\nRemove 2nd item from the said list of lists:\")\n",
    "print(remove_list_of_lists(nums2, N))\n",
    "N = 3\n",
    "print(\"\\nRemove 4th item from the said list of lists:\")\n",
    "print(remove_list_of_lists(nums3, N))\n"
   ]
  },
  {
   "cell_type": "code",
   "execution_count": 4,
   "id": "b179da36-c8f7-4afe-8a11-d71383061c18",
   "metadata": {},
   "outputs": [
    {
     "name": "stdout",
     "output_type": "stream",
     "text": [
      "Original list:\n",
      "[[], [], [], 'Red', 'Green', [1, 2], 'Blue', [], []]\n",
      "\n",
      "After deleting the empty lists from the said lists of lists\n",
      "['Red', 'Green', [1, 2], 'Blue']\n"
     ]
    }
   ],
   "source": [
    "list1 = [[], [], [], 'Red', 'Green', [1,2], 'Blue', [], []]\n",
    "print(\"Original list:\")\n",
    "print(list1)\n",
    "print(\"\\nAfter deleting the empty lists from the said lists of lists\")\n",
    "list2 = [x for x in list1 if x!=[]]\n",
    "print(list2)\n"
   ]
  },
  {
   "cell_type": "code",
   "execution_count": 153,
   "id": "17df9c91-a21b-4c4a-8da3-23d2efdfbaa6",
   "metadata": {},
   "outputs": [
    {
     "name": "stdout",
     "output_type": "stream",
     "text": [
      "Original list of lists:\n",
      "[[1, 2, 3, 2], [4, 5, 6, 2], [7, 8, 9, 5]]\n",
      "\n",
      "Frequency of the elements in the said list of lists:\n",
      "{1: 1, 2: 3, 3: 1, 4: 1, 5: 2, 6: 1, 7: 1, 8: 1, 9: 1}\n"
     ]
    }
   ],
   "source": [
    "def count_elements_lists(nums):\n",
    "    nums = [item for sublist in nums for item in sublist]\n",
    "    dic_data = {}\n",
    "    for num in nums:\n",
    "        if num in dic_data.keys():\n",
    "            dic_data[num] += 1\n",
    "        else:\n",
    "            key = num\n",
    "            value = 1\n",
    "            dic_data[key] = value\n",
    "    return dic_data\n",
    "\n",
    "nums = [\n",
    "        [1,2,3,2],\n",
    "        [4,5,6,2],\n",
    "        [7,8,9,5],\n",
    "       ]    \n",
    "print(\"Original list of lists:\")\n",
    "print(nums)\n",
    "print(\"\\nFrequency of the elements in the said list of lists:\")\n",
    "print(count_elements_lists(nums))\n",
    "\n"
   ]
  },
  {
   "cell_type": "code",
   "execution_count": 154,
   "id": "10d689b2-cbf0-4a34-ad06-f3a3d989ebe2",
   "metadata": {},
   "outputs": [
    {
     "name": "stdout",
     "output_type": "stream",
     "text": [
      "Original list of lists:\n",
      "[[1, 2, 3, 2], [4, 5, 6, 2], [7, 1, 9, 5]]\n",
      "\n",
      "Extract every first element from the said given two dimensional list:\n",
      "[1, 4, 7]\n",
      "\n",
      "Extract every third element from the said given two dimensional list:\n",
      "[3, 6, 9]\n"
     ]
    }
   ],
   "source": [
    "def specified_element(nums, N):\n",
    "    result = [i[N] for i in nums]\n",
    "    return result\n",
    "    \n",
    "nums = [\n",
    "        [1,2,3,2],\n",
    "        [4,5,6,2],\n",
    "        [7,1,9,5],\n",
    "       ]\n",
    "    \n",
    "print(\"Original list of lists:\")\n",
    "print(nums)\n",
    "N = 0\n",
    "print(\"\\nExtract every first element from the said given two dimensional list:\")\n",
    "print(specified_element(nums, N))\n",
    "N = 2\n",
    "print(\"\\nExtract every third element from the said given two dimensional list:\")\n",
    "print(specified_element(nums, N))\n"
   ]
  },
  {
   "cell_type": "code",
   "execution_count": 155,
   "id": "5a5b09ab-7096-4991-bb99-f81ffc3aa1d6",
   "metadata": {},
   "outputs": [
    {
     "name": "stdout",
     "output_type": "stream",
     "text": [
      "\n",
      "Generate a number in a specified range (1, 10) except [2, 9, 10]\n",
      "3\n",
      "\n",
      "Generate a number in a specified range (-5, 5) except [-5,0,4,3,2]\n",
      "-3\n"
     ]
    }
   ],
   "source": [
    "from random import choice\n",
    "def generate_random(start_range, end_range, nums):\n",
    "    result = choice([i for i in range(start_range,end_range) if i not in nums])\n",
    "    return result\n",
    "   \n",
    "start_range = 1\n",
    "end_range = 10\n",
    "nums = [2, 9, 10]\n",
    "print(\"\\nGenerate a number in a specified range (1, 10) except [2, 9, 10]\")\n",
    "print(generate_random(start_range,end_range,nums))\n",
    "\n",
    "start_range = -5\n",
    "end_range = 5\n",
    "nums = [-5,0,4,3,2]\n",
    "\n",
    "print(\"\\nGenerate a number in a specified range (-5, 5) except [-5,0,4,3,2]\")\n",
    "print(generate_random(start_range,end_range,nums))\n"
   ]
  },
  {
   "cell_type": "code",
   "execution_count": 157,
   "id": "8b5eba03-1fca-440e-8551-f8b8cfc7a967",
   "metadata": {},
   "outputs": [
    {
     "name": "stdout",
     "output_type": "stream",
     "text": [
      "Original lists:\n",
      "[1, 2, 7, 8, 3, 7]\n",
      "[4, 3, 8, 9, 4, 3, 8, 9]\n",
      "\n",
      "Interleave two given list into another list randomly:\n",
      "[4, 3, 8, 9, 1, 4, 2, 7, 3, 8, 8, 3, 7, 9]\n"
     ]
    }
   ],
   "source": [
    "import random\n",
    "def randomly_interleave(nums1, nums2):\n",
    "    result =  [x.pop(0) for x in random.sample([nums1]*len(nums1) + [nums2]*len(nums2), len(nums1)+len(nums2))]\n",
    "    return result\n",
    "nums1 = [1,2,7,8,3,7]\n",
    "nums2 = [4,3,8,9,4,3,8,9]\n",
    "print(\"Original lists:\") \n",
    "print(nums1)\n",
    "print(nums2)\n",
    "print(\"\\nInterleave two given list into another list randomly:\")\n",
    "print(randomly_interleave(nums1, nums2))\n",
    "\n"
   ]
  },
  {
   "cell_type": "code",
   "execution_count": 158,
   "id": "5cf3081f-69e8-4f48-8259-1d4bc125043a",
   "metadata": {},
   "outputs": [
    {
     "name": "stdout",
     "output_type": "stream",
     "text": [
      "Original list:\n",
      "['red', 'green', 'blue', 'white', 'black', 'orange']\n",
      "\n",
      "Remove words:\n",
      "['white', 'orange']\n",
      "\n",
      "After removing the specified words from the said list:\n",
      "['red', 'green', 'blue', 'black']\n"
     ]
    }
   ],
   "source": [
    "def remove_words(list1, remove_words):\n",
    "    for word in list(list1):\n",
    "        if word in remove_words:\n",
    "            list1.remove(word)\n",
    "    return list1        \n",
    "colors = ['red', 'green', 'blue', 'white', 'black', 'orange']\n",
    "remove_colors = ['white', 'orange']\n",
    "print(\"Original list:\")\n",
    "print(colors)\n",
    "print(\"\\nRemove words:\")\n",
    "print(remove_colors)\n",
    "print(\"\\nAfter removing the specified words from the said list:\")\n",
    "print(remove_words(colors, remove_colors))\n"
   ]
  },
  {
   "cell_type": "code",
   "execution_count": 159,
   "id": "52592805-411e-4ba3-b8b5-ecd869b4ea7c",
   "metadata": {},
   "outputs": [
    {
     "name": "stdout",
     "output_type": "stream",
     "text": [
      "Original list:\n",
      "['orange', 'red', 'green', 'blue']\n",
      "\n",
      "All possible combinations of the said list’s elements:\n",
      "[[], ['orange'], ['red'], ['red', 'orange'], ['green'], ['green', 'orange'], ['green', 'red'], ['green', 'red', 'orange'], ['blue'], ['blue', 'orange'], ['blue', 'red'], ['blue', 'red', 'orange'], ['blue', 'green'], ['blue', 'green', 'orange'], ['blue', 'green', 'red'], ['blue', 'green', 'red', 'orange']]\n"
     ]
    }
   ],
   "source": [
    "def combinations_list(colors):\n",
    "    if len(colors) == 0:\n",
    "        return [[]]\n",
    "    result = []\n",
    "    for el in combinations_list(colors[1:]):\n",
    "        result += [el, el+[colors[0]]]\n",
    "    return result\n",
    "colors = ['orange', 'red', 'green', 'blue']\n",
    "print(\"Original list:\")\n",
    "print(colors)\n",
    "print(\"\\nAll possible combinations of the said list’s elements:\")\n",
    "print(combinations_list(colors))\n"
   ]
  },
  {
   "cell_type": "code",
   "execution_count": 160,
   "id": "55fafe09-8291-4cd6-8638-5b8cc079b6ea",
   "metadata": {},
   "outputs": [
    {
     "name": "stdout",
     "output_type": "stream",
     "text": [
      "Original list:\n",
      "[['orange', 'red'], ['green', 'blue'], ['white', 'black', 'pink']]\n",
      "\n",
      "Reverse said list of lists:\n",
      "[['white', 'black', 'pink'], ['green', 'blue'], ['orange', 'red']]\n",
      "\n",
      "Original list:\n",
      "[[1, 2, 3, 4], [0, 2, 4, 5], [2, 3, 4, 2, 4]]\n",
      "\n",
      "Reverse said list of lists:\n",
      "[[2, 3, 4, 2, 4], [0, 2, 4, 5], [1, 2, 3, 4]]\n"
     ]
    }
   ],
   "source": [
    "def reverse_list_of_lists(list1):\n",
    "    return list1[::-1]\n",
    "colors = [['orange', 'red'], ['green', 'blue'], ['white', 'black', 'pink']]\n",
    "print(\"Original list:\")\n",
    "print(colors)\n",
    "print(\"\\nReverse said list of lists:\")\n",
    "print(reverse_list_of_lists(colors))\n",
    "nums = [[1,2,3,4], [0,2,4,5], [2,3,4,2,4]]\n",
    "print(\"\\nOriginal list:\")\n",
    "print(nums)\n",
    "print(\"\\nReverse said list of lists:\")\n",
    "print(reverse_list_of_lists(nums))\n"
   ]
  },
  {
   "cell_type": "code",
   "execution_count": 161,
   "id": "2bddc743-1b4a-4d4f-971c-9e91322033bf",
   "metadata": {},
   "outputs": [],
   "source": [
    "nums = [4,3,0,5,3,0,2,3,4,2,4,3,5]\n",
    "l=[]\n",
    "for i,j in nums\n"
   ]
  },
  {
   "cell_type": "code",
   "execution_count": 161,
   "id": "b4e31bae-994a-48ef-a7f4-77191113a537",
   "metadata": {},
   "outputs": [
    {
     "name": "stdout",
     "output_type": "stream",
     "text": [
      "Original list:\n",
      "[4, 3, 0, 5, 3, 0, 2, 3, 4, 2, 4, 3, 5]\n",
      "\n",
      "Index range:\n",
      "3 to 8\n",
      "\n",
      "Maximum and minimum values of the said given list within index range:\n",
      "(5, 0)\n"
     ]
    }
   ],
   "source": [
    "def reverse_list_of_lists(nums,lr,hr):\n",
    "    temp = []\n",
    "    for idx, el in enumerate(nums):\n",
    "        if idx >= lr and idx < hr:\n",
    "            temp.append(el)\n",
    "    result_max = max(temp) \n",
    "    result_min = min(temp) \n",
    "    return result_max, result_min\n",
    "nums = [4,3,0,5,3,0,2,3,4,2,4,3,5]\n",
    "print(\"Original list:\")\n",
    "print(nums)\n",
    "print(\"\\nIndex range:\")\n",
    "lr = 3\n",
    "hr = 8\n",
    "print(lr,\"to\",hr)\n",
    "print(\"\\nMaximum and minimum values of the said given list within index range:\")\n",
    "print(reverse_list_of_lists(nums,lr,hr))"
   ]
  },
  {
   "cell_type": "code",
   "execution_count": 1,
   "id": "b33388d4-15d4-496e-b777-a42dcc8f0706",
   "metadata": {},
   "outputs": [
    {
     "data": {
      "text/plain": [
       "[0, 1, 2, 3, 4, 5, 6, 7, 8, 9, 10, 11]"
      ]
     },
     "execution_count": 1,
     "metadata": {},
     "output_type": "execute_result"
    }
   ],
   "source": [
    "nums1 = [1, 3, 5, 7, 9, 11]\n",
    "nums2 = [0, 2, 4, 6, 8, 10]\n",
    "nums3=nums1+nums2\n",
    "sorted(nums3)"
   ]
  },
  {
   "cell_type": "code",
   "execution_count": 162,
   "id": "bbe3df98-1fc7-4321-9ffd-f986146d321e",
   "metadata": {},
   "outputs": [
    {
     "name": "stdout",
     "output_type": "stream",
     "text": [
      "Original sorted lists:\n",
      "[1, 3, 5, 7, 9, 11]\n",
      "[0, 2, 4, 6, 8, 10]\n",
      "\n",
      "After merging the said two sorted lists:\n",
      "[0, 1, 2, 3, 4, 5, 6, 7, 8, 9, 10, 11]\n"
     ]
    }
   ],
   "source": [
    "from heapq import merge\n",
    "nums1 = [1, 3, 5, 7, 9, 11]\n",
    "nums2 = [0, 2, 4, 6, 8, 10]\n",
    "print(\"Original sorted lists:\")\n",
    "print(nums1)\n",
    "print(nums2)\n",
    "print(\"\\nAfter merging the said two sorted lists:\")\n",
    "print(list(merge(nums1, nums2)))"
   ]
  },
  {
   "cell_type": "code",
   "execution_count": 163,
   "id": "b98b1af9-b0f7-48c2-a09f-028c7a5e769b",
   "metadata": {},
   "outputs": [
    {
     "name": "stdout",
     "output_type": "stream",
     "text": [
      "Original list:\n",
      "[0, 1, 3, 5, 0, 3, 4, 5, 0, 8, 0, 3, 6, 0, 3, 1, 1, 0]\n",
      "\n",
      "Check if 3 occurs at least 4 times in a list:\n",
      "True\n",
      "\n",
      "Check if 0 occurs at least 5 times in a list:\n",
      "True\n",
      "\n",
      "Check if 8 occurs at least 3 times in a list:\n",
      "False\n"
     ]
    }
   ],
   "source": [
    "def check_element_in_list(lst, x, n):\n",
    "    t = 0\n",
    "    try:\n",
    "        for _ in range(n):\n",
    "            t = lst.index(x, t) + 1\n",
    "        return True\n",
    "    except ValueError:\n",
    "        return False\n",
    "\n",
    "nums = [0,1,3,5,0,3,4,5,0,8,0,3,6,0,3,1,1,0]\n",
    "print(\"Original list:\")\n",
    "print(nums)\n",
    "x = 3\n",
    "n = 4\n",
    "print(\"\\nCheck if\",x,\"occurs at least\",n,\"times in a list:\")\n",
    "print(check_element_in_list(nums,x,n))\n",
    "x = 0\n",
    "n = 5\n",
    "print(\"\\nCheck if\",x,\"occurs at least\",n,\"times in a list:\")\n",
    "print(check_element_in_list(nums,x,n))\n",
    "x = 8\n",
    "n = 3\n",
    "print(\"\\nCheck if\",x,\"occurs at least\",n,\"times in a list:\")\n",
    "print(check_element_in_list(nums,x,n))\n"
   ]
  },
  {
   "cell_type": "code",
   "execution_count": 164,
   "id": "03e2c9af-74db-481a-b0f5-0f996c11ed48",
   "metadata": {},
   "outputs": [
    {
     "name": "stdout",
     "output_type": "stream",
     "text": [
      "Original lists:\n",
      "[[10, 20], [30, 40], [50, 60], [30, 20, 80]]\n",
      "[[61], [12, 14, 15], [12, 13, 19, 20], [12]]\n",
      "\n",
      "Join the said two lists element wise:\n",
      "[[10, 20, 61], [30, 40, 12, 14, 15], [50, 60, 12, 13, 19, 20], [30, 20, 80, 12]]\n",
      "\n",
      "Original lists:\n",
      "[['a', 'b'], ['b', 'c', 'd'], ['e', 'f']]\n",
      "[['p', 'q'], ['p', 's', 't'], ['u', 'v', 'w']]\n",
      "\n",
      "Join the said two lists element wise:\n",
      "[['a', 'b', 'p', 'q'], ['b', 'c', 'd', 'p', 's', 't'], ['e', 'f', 'u', 'v', 'w']]\n"
     ]
    }
   ],
   "source": [
    "def elementswise_join(l1, l2):\n",
    "    result = [x + y for x, y in zip(l1, l2)]\n",
    "    return result\n",
    "\n",
    "nums1 = [[10,20], [30,40], [50,60], [30,20,80]]\n",
    "nums2 = [[61], [12,14,15], [12,13,19,20], [12]]\n",
    "print(\"Original lists:\")\n",
    "print(nums1)\n",
    "print(nums2)\n",
    "print(\"\\nJoin the said two lists element wise:\")\n",
    "print(elementswise_join(nums1, nums2))\n",
    "\n",
    "list1 = [['a','b'], ['b','c','d'], ['e', 'f']]\n",
    "list2 = [['p','q'], ['p','s','t'], ['u','v','w']]\n",
    "print(\"\\nOriginal lists:\")\n",
    "print(list1)\n",
    "print(list2)\n",
    "print(\"\\nJoin the said two lists element wise:\")\n",
    "print(elementswise_join(list1, list2))\n"
   ]
  },
  {
   "cell_type": "code",
   "execution_count": 165,
   "id": "156f62fb-e73f-47f8-82f8-0110dd21bbf5",
   "metadata": {},
   "outputs": [
    {
     "name": "stdout",
     "output_type": "stream",
     "text": [
      "\n",
      "Original lists:\n",
      "[2, 4, 7, 0, 5, 8]\n",
      "[3, 3, -1, 7]\n",
      "\n",
      "Add said two lists from left:\n",
      "[5, 7, 6, 7, 5, 8]\n",
      "\n",
      "Original lists:\n",
      "[1, 2, 3, 4, 5, 6]\n",
      "[2, 4, -3]\n",
      "\n",
      "Add said two lists from left:\n",
      "[3, 6, 0, 4, 5, 6]\n"
     ]
    }
   ],
   "source": [
    "def elementswise_left_join(l1, l2):\n",
    "    f_len = len(l1)-(len(l2) - 1)\n",
    "    for i in range(0, len(l2), 1):\n",
    "        if f_len - i >= len(l1):\n",
    "            break\n",
    "        else:\n",
    "            l1[i] = l1[i] + l2[i]\n",
    "    return l1\n",
    "\n",
    "nums1 = [2, 4, 7, 0, 5, 8]\n",
    "nums2 = [3, 3, -1, 7]\n",
    "print(\"\\nOriginal lists:\")\n",
    "print(nums1)\n",
    "print(nums2)\n",
    "print(\"\\nAdd said two lists from left:\")\n",
    "print(elementswise_left_join(nums1,nums2))\n",
    "\n",
    "nums3 = [1, 2, 3, 4, 5, 6]\n",
    "nums4 = [2, 4, -3]\n",
    "print(\"\\nOriginal lists:\")\n",
    "print(nums3)\n",
    "print(nums4)\n",
    "print(\"\\nAdd said two lists from left:\")\n",
    "print(elementswise_left_join(nums3,nums4))\n"
   ]
  },
  {
   "cell_type": "code",
   "execution_count": 3,
   "id": "c8dfb2c7-87fe-428d-a016-3d4cbdcf4fff",
   "metadata": {},
   "outputs": [
    {
     "ename": "TypeError",
     "evalue": "'list' object is not callable",
     "output_type": "error",
     "traceback": [
      "\u001b[1;31m---------------------------------------------------------------------------\u001b[0m",
      "\u001b[1;31mTypeError\u001b[0m                                 Traceback (most recent call last)",
      "\u001b[1;32m<ipython-input-3-6f15b194c132>\u001b[0m in \u001b[0;36m<module>\u001b[1;34m\u001b[0m\n\u001b[0;32m      3\u001b[0m \u001b[0mres_list\u001b[0m\u001b[1;33m=\u001b[0m\u001b[1;33m[\u001b[0m\u001b[1;33m]\u001b[0m\u001b[1;33m\u001b[0m\u001b[1;33m\u001b[0m\u001b[0m\n\u001b[0;32m      4\u001b[0m \u001b[1;32mfor\u001b[0m \u001b[0mi\u001b[0m \u001b[1;32min\u001b[0m \u001b[0mrange\u001b[0m\u001b[1;33m(\u001b[0m\u001b[1;36m0\u001b[0m\u001b[1;33m,\u001b[0m \u001b[0mlen\u001b[0m\u001b[1;33m(\u001b[0m\u001b[0mnums1\u001b[0m\u001b[1;33m)\u001b[0m\u001b[1;33m)\u001b[0m\u001b[1;33m:\u001b[0m\u001b[1;33m\u001b[0m\u001b[1;33m\u001b[0m\u001b[0m\n\u001b[1;32m----> 5\u001b[1;33m     \u001b[0mres_list\u001b[0m\u001b[1;33m.\u001b[0m\u001b[0mappend\u001b[0m\u001b[1;33m(\u001b[0m\u001b[0mnums1\u001b[0m\u001b[1;33m(\u001b[0m\u001b[0mi\u001b[0m\u001b[1;33m)\u001b[0m\u001b[1;33m+\u001b[0m\u001b[0mnums2\u001b[0m\u001b[1;33m(\u001b[0m\u001b[0mi\u001b[0m\u001b[1;33m)\u001b[0m\u001b[1;33m)\u001b[0m\u001b[1;33m\u001b[0m\u001b[1;33m\u001b[0m\u001b[0m\n\u001b[0m\u001b[0;32m      6\u001b[0m \u001b[0mprint\u001b[0m\u001b[1;33m(\u001b[0m\u001b[0mres_list\u001b[0m\u001b[1;33m)\u001b[0m\u001b[1;33m\u001b[0m\u001b[1;33m\u001b[0m\u001b[0m\n\u001b[0;32m      7\u001b[0m \u001b[1;33m\u001b[0m\u001b[0m\n",
      "\u001b[1;31mTypeError\u001b[0m: 'list' object is not callable"
     ]
    }
   ],
   "source": [
    "nums1 = [2, 4, 7, 0, 5, 8]\n",
    "nums2 = [3, 3, -1, 7]\n",
    "res_list=[]\n",
    "for i in range(0, len(nums1)):\n",
    "    res_list.append(nums1(i)+nums2(i))\n",
    "print(res_list)\n",
    "    "
   ]
  },
  {
   "cell_type": "code",
   "execution_count": 166,
   "id": "5fb46635-8857-40a1-b8aa-16a547cd1948",
   "metadata": {},
   "outputs": [
    {
     "name": "stdout",
     "output_type": "stream",
     "text": [
      "\n",
      "Original lists:\n",
      "[2, 4, 7, 0, 5, 8]\n",
      "[3, 3, -1, 7]\n",
      "\n",
      "Add said two lists from left:\n",
      "[2, 4, 10, 3, 4, 15]\n",
      "\n",
      "Original lists:\n",
      "[1, 2, 3, 4, 5, 6]\n",
      "[2, 4, -3]\n",
      "\n",
      "Add said two lists from left:\n",
      "[1, 2, 3, 6, 9, 3]\n"
     ]
    }
   ],
   "source": [
    "def elementswise_right_join(l1, l2):\n",
    "    f_len = len(l1)-(len(l2) - 1)\n",
    "    for i in range(len(l1), 0, -1):\n",
    "        if i-f_len < 0:\n",
    "            break\n",
    "        else:\n",
    "            l1[i-1] = l1[i-1] + l2[i-f_len]\n",
    "    return l1\n",
    "\n",
    "nums1 = [2, 4, 7, 0, 5, 8]\n",
    "nums2 = [3, 3, -1, 7]\n",
    "print(\"\\nOriginal lists:\")\n",
    "print(nums1)\n",
    "print(nums2)\n",
    "print(\"\\nAdd said two lists from left:\")\n",
    "print(elementswise_right_join(nums1, nums2))\n",
    "\n",
    "nums3 = [1, 2, 3, 4, 5, 6]\n",
    "nums4 = [2, 4, -3]\n",
    "print(\"\\nOriginal lists:\")\n",
    "print(nums3)\n",
    "print(nums4)\n",
    "print(\"\\nAdd said two lists from left:\")\n",
    "print(elementswise_right_join(nums3, nums4))"
   ]
  },
  {
   "cell_type": "code",
   "execution_count": 167,
   "id": "1c4823aa-5c0c-482c-9a4d-402cc7e21fdf",
   "metadata": {},
   "outputs": [
    {
     "name": "stdout",
     "output_type": "stream",
     "text": [
      "\n",
      "Original lists:\n",
      "[2, 4, 7, 0, 5, 8]\n",
      "[2, 5, 8]\n",
      "[0, 1]\n",
      "[3, 3, -1, 7]\n",
      "\n",
      "Interleave said lists of different lengths:\n",
      "[2, 2, 0, 3, 4, 5, 1, 3, 7, 8, -1, 0, 7, 5, 8]\n"
     ]
    }
   ],
   "source": [
    "def interleave_diff_len_lists(list1, list2, list3, list4):\n",
    "    result = []\n",
    "    l1 = len(list1)\n",
    "    l2 = len(list2)\n",
    "    l3 = len(list3)\n",
    "    l4 = len(list4)\n",
    "    \n",
    "    for i in range(max(l1, l2, l3, l4)):\n",
    "        if i < l1:\n",
    "            result.append(list1[i])\n",
    "        if i < l2:\n",
    "            result.append(list2[i])\n",
    "        if i < l3:\n",
    "            result.append(list3[i])\n",
    "        if i < l4:\n",
    "            result.append(list4[i])\n",
    "    return result\n",
    "\n",
    "nums1 = [2, 4, 7, 0, 5, 8]\n",
    "nums2 = [2, 5, 8]\n",
    "nums3 = [0, 1]\n",
    "nums4 = [3, 3, -1, 7]\n",
    "\n",
    "print(\"\\nOriginal lists:\")\n",
    "print(nums1)\n",
    "print(nums2)\n",
    "print(nums3)\n",
    "print(nums4)\n",
    "\n",
    "print(\"\\nInterleave said lists of different lengths:\")\n",
    "print(interleave_diff_len_lists(nums1, nums2, nums3, nums4))\n"
   ]
  },
  {
   "cell_type": "code",
   "execution_count": 168,
   "id": "2a0ef10d-219a-4183-bcb4-53c20052dee9",
   "metadata": {},
   "outputs": [
    {
     "name": "stdout",
     "output_type": "stream",
     "text": [
      "Original list with tuples:\n",
      "[('V', 60), ('VI', 70), ('VII', 75), ('VIII', 72), ('IX', 78), ('X', 70)]\n",
      "\n",
      "Maximum and minimum values of the said list of tuples:\n",
      "(78, 60)\n"
     ]
    }
   ],
   "source": [
    "from operator import itemgetter\n",
    "\n",
    "def max_min_list_tuples(class_students):\n",
    "    return_max = max(class_students,key=itemgetter(1))[1] \n",
    "    return_min = min(class_students,key=itemgetter(1))[1] \n",
    "    return return_max, return_min\n",
    "   \n",
    "class_students = [('V', 60), ('VI', 70), ('VII', 75), ('VIII', 72), ('IX', 78), ('X', 70)]\n",
    "print(\"Original list with tuples:\")\n",
    "print(class_students)\n",
    "print(\"\\nMaximum and minimum values of the said list of tuples:\")\n",
    "print(max_min_list_tuples(class_students))\n"
   ]
  },
  {
   "cell_type": "code",
   "execution_count": 169,
   "id": "844e84a7-01aa-469d-a095-24b5dcf9724b",
   "metadata": {},
   "outputs": [
    {
     "name": "stdout",
     "output_type": "stream",
     "text": [
      "Add a value(7), 5 times, to a list:\n",
      "['7', '7', '7', '7', '7']\n",
      "\n",
      "Add 5, 6 times, to a list:\n",
      "[1, 2, 3, 4, 5, 5, 5, 5, 5, 5]\n",
      "\n",
      "Add a list, 4 times, to a list of lists:\n",
      "[[1, 2, 5], [1, 2, 5], [1, 2, 5], [1, 2, 5]]\n",
      "\n",
      "Add a list, 4 times, to a list of lists:\n",
      "[[5, 6, 7], [1, 2, 5], [1, 2, 5], [1, 2, 5], [1, 2, 5]]\n"
     ]
    }
   ],
   "source": [
    "print(\"Add a value(7), 5 times, to a list:\")\n",
    "nums = []\n",
    "nums += 5 * ['7']\n",
    "print(nums)\n",
    "nums1 = [1,2,3,4]\n",
    "print(\"\\nAdd 5, 6 times, to a list:\")\n",
    "nums1 += 6 * [5]\n",
    "print(nums1)\n",
    "print(\"\\nAdd a list, 4 times, to a list of lists:\")\n",
    "nums1 = []\n",
    "nums1 += 4 * [[1,2,5]]\n",
    "print(nums1)\n",
    "print(\"\\nAdd a list, 4 times, to a list of lists:\")\n",
    "nums1 = [[5,6,7]]\n",
    "nums1 += 4 * [[1,2,5]]\n",
    "print(nums1)\n"
   ]
  },
  {
   "cell_type": "code",
   "execution_count": 170,
   "id": "3b1088e7-e5d8-41ec-928a-b40fb6ecbf6e",
   "metadata": {},
   "outputs": [
    {
     "name": "stdout",
     "output_type": "stream",
     "text": [
      "Original list:\n",
      "[3, 10, 4, 7, 5, 7, 8, 3, 3, 4, 5, 9, 3, 4, 9, 8, 5]\n",
      "\n",
      "Remove first 4 even numbers from the said list:\n",
      "[3, 7, 5, 7, 3, 3, 5, 9, 3, 4, 9, 8, 5]\n"
     ]
    }
   ],
   "source": [
    "def condition_match(x):\n",
    "    return ((x % 2) == 0)\n",
    "def remove_items_con(data, N):\n",
    "    ctr = 1\n",
    "    result = []\n",
    "    for x in data:\n",
    "        if ctr > N or not condition_match(x):\n",
    "            result.append(x)\n",
    "        else:\n",
    "            ctr = ctr + 1\n",
    "    return result\n",
    "nums = [3,10,4,7,5,7,8,3,3,4,5,9,3,4,9,8,5]\n",
    "N = 4\n",
    "print(\"Original list:\")\n",
    "print(nums)\n",
    "print(\"\\nRemove first 4 even numbers from the said list:\")\n",
    "print(remove_items_con(nums, N))\n"
   ]
  },
  {
   "cell_type": "code",
   "execution_count": 171,
   "id": "505476e5-fa57-4bba-ae76-f7c134edc9a8",
   "metadata": {},
   "outputs": [
    {
     "name": "stdout",
     "output_type": "stream",
     "text": [
      "True\n",
      "True\n",
      "True\n",
      "True\n",
      "True\n",
      "True\n",
      "True\n",
      "True\n",
      "True\n",
      "True\n",
      "True\n",
      "False\n",
      "False\n",
      "False\n",
      "False\n",
      "False\n"
     ]
    }
   ],
   "source": [
    "# Source: https://bit.ly/3qZqcwm\n",
    "def almost_increasing_sequence(sequence):\n",
    "    if len(sequence) < 3:\n",
    "        return True\n",
    "\n",
    "    a, b, *sequence = sequence\n",
    "    skipped = 0\n",
    "    for c in sequence:\n",
    "        if a < b < c:  # XXX\n",
    "            a, b = b, c\n",
    "            continue\n",
    "        elif b < c:    # !XX\n",
    "            a, b = b, c\n",
    "        elif a < c:    # X!X\n",
    "            a, b = a, c\n",
    "        skipped += 1\n",
    "        if skipped == 2:\n",
    "            return False\n",
    "    return a < b\n",
    "\n",
    "print(almost_increasing_sequence([]))\n",
    "print(almost_increasing_sequence([1]))\n",
    "print(almost_increasing_sequence([1, 2]))\n",
    "print(almost_increasing_sequence([1, 2, 3]))\n",
    "print(almost_increasing_sequence([3, 1, 2]))\n",
    "print(almost_increasing_sequence([1, 2, 3, 0, 4, 5, 6]))\n",
    "print(almost_increasing_sequence([1, 2, 3, 0]))\n",
    "print(almost_increasing_sequence([1, 2, 0, 3]))\n",
    "print(almost_increasing_sequence([10, 1, 2, 3, 4, 5]))\n",
    "print(almost_increasing_sequence([1, 2, 10, 3, 4]))\n",
    "print(almost_increasing_sequence([1, 2, 3, 12, 4, 5]))\n",
    "\n",
    "print(almost_increasing_sequence([3, 2, 1]))\n",
    "print(almost_increasing_sequence([1, 2, 0, -1]))\n",
    "print(almost_increasing_sequence([5, 6, 1, 2]))\n",
    "print(almost_increasing_sequence([1, 2, 3, 0, -1]))\n",
    "print(almost_increasing_sequence([10, 11, 12, 2, 3, 4, 5]))\n"
   ]
  },
  {
   "cell_type": "code",
   "execution_count": 172,
   "id": "79a9f00b-83c9-42be-8fcd-85dc12a80253",
   "metadata": {},
   "outputs": [
    {
     "name": "stdout",
     "output_type": "stream",
     "text": [
      "Original list:\n",
      "['s', 'd', 'f', 's', 'd', 'f', 's', 'f', 'k', 'o', 'p', 'i', 'w', 'e', 'k', 'c']\n",
      "Last occurrence of f in the said list:\n",
      "7\n",
      "Last occurrence of c in the said list:\n",
      "15\n",
      "Last occurrence of k in the said list:\n",
      "14\n",
      "Last occurrence of w in the said list:\n",
      "12\n"
     ]
    }
   ],
   "source": [
    "def last_occurrence(l1, ch):\n",
    "    return ''.join(l1).rindex(ch)\n",
    "\n",
    "chars = ['s','d','f','s','d','f','s','f','k','o','p','i','w','e','k','c']\n",
    "print(\"Original list:\")\n",
    "print(chars)\n",
    "ch = 'f'\n",
    "print(\"Last occurrence of\",ch,\"in the said list:\")\n",
    "print(last_occurrence(chars, ch))\n",
    "ch = 'c'\n",
    "print(\"Last occurrence of\",ch,\"in the said list:\")\n",
    "print(last_occurrence(chars, ch))\n",
    "ch = 'k'\n",
    "print(\"Last occurrence of\",ch,\"in the said list:\")\n",
    "print(last_occurrence(chars, ch))\n",
    "ch = 'w'\n",
    "print(\"Last occurrence of\",ch,\"in the said list:\")\n",
    "print(last_occurrence(chars, ch)) \n"
   ]
  },
  {
   "cell_type": "code",
   "execution_count": 10,
   "id": "9a5a97da-b300-40ab-b4c2-1bfffe66bb2e",
   "metadata": {},
   "outputs": [
    {
     "name": "stdout",
     "output_type": "stream",
     "text": [
      "Original list:\n",
      "[12, 45, 23, 67, 78, 90, 100, 76, 38, 62, 73, 29, 83]\n",
      "\n",
      "Index of the first element which is greater than 73 in the said list:\n",
      "4\n",
      "\n",
      "Index of the first element which is greater than 21 in the said list:\n",
      "1\n",
      "\n",
      "Index of the first element which is greater than 80 in the said list:\n",
      "5\n",
      "\n",
      "Index of the first element which is greater than 55 in the said list:\n",
      "3\n"
     ]
    }
   ],
   "source": [
    "def first_index(l1, n):\n",
    "    return next(a[0] for a in enumerate(l1) if a[1] > n)\n",
    " \n",
    "nums = [12,45,23,67,78,90,100,76,38,62,73,29,83]\n",
    "print(\"Original list:\")\n",
    "print(nums)\n",
    "n = 73\n",
    "print(\"\\nIndex of the first element which is greater than\",n,\"in the said list:\")\n",
    "print(first_index(nums,n))\n",
    "n = 21\n",
    "print(\"\\nIndex of the first element which is greater than\",n,\"in the said list:\")\n",
    "print(first_index(nums,n))\n",
    "n = 80\n",
    "print(\"\\nIndex of the first element which is greater than\",n,\"in the said list:\")\n",
    "print(first_index(nums,n))\n",
    "n = 55\n",
    "print(\"\\nIndex of the first element which is greater than\",n,\"in the said list:\")\n",
    "print(first_index(nums,n))\n"
   ]
  },
  {
   "cell_type": "code",
   "execution_count": 175,
   "id": "5727fb7e-696b-48b5-843f-9fa8a9e99ba7",
   "metadata": {},
   "outputs": [
    {
     "name": "stdout",
     "output_type": "stream",
     "text": [
      "Original list:\n",
      "[12, 45, 23, 67, 78, 90, 45, 32, 100, 76, 38, 62, 73, 29, 83]\n",
      "\n",
      "Split the said list into equal size 3\n",
      "[[12, 45, 23], [67, 78, 90], [45, 32, 100], [76, 38, 62], [73, 29, 83]]\n",
      "\n",
      "Split the said list into equal size 4\n",
      "[[12, 45, 23, 67], [78, 90, 45, 32], [100, 76, 38, 62], [73, 29, 83]]\n",
      "\n",
      "Split the said list into equal size 5\n",
      "[[12, 45, 23, 67, 78], [90, 45, 32, 100, 76], [38, 62, 73, 29, 83]]\n"
     ]
    }
   ],
   "source": [
    "def split_list(lst, n):\n",
    "    result = list((lst[i:i+n] for i in range(0, len(lst), n)))\n",
    "    return result\n",
    "nums = [12,45,23,67,78,90,45,32,100,76,38,62,73,29,83]\n",
    "print(\"Original list:\")\n",
    "print(nums)\n",
    "n = 3\n",
    "print(\"\\nSplit the said list into equal size\",n)\n",
    "print(split_list(nums,n))\n",
    "n = 4\n",
    "print(\"\\nSplit the said list into equal size\",n)\n",
    "print(split_list(nums,n))\n",
    "n = 5\n",
    "print(\"\\nSplit the said list into equal size\",n)\n",
    "print(split_list(nums,n))\n"
   ]
  },
  {
   "cell_type": "code",
   "execution_count": 176,
   "id": "2ed2f281-2bfd-4526-9cf8-0993f968314c",
   "metadata": {},
   "outputs": [
    {
     "name": "stdout",
     "output_type": "stream",
     "text": [
      "Original list:\n",
      "[12, 0, None, 23, None, -55, 234, 89, None, 0, 6, -12]\n",
      "\n",
      "Remove None value from the said list:\n",
      "[12, 0, 23, -55, 234, 89, 0, 6, -12]\n"
     ]
    }
   ],
   "source": [
    "def remove_none(nums):\n",
    "    result = [x for x in nums if x is not None]\n",
    "    return result\n",
    "nums = [12, 0, None, 23, None, -55, 234, 89, None, 0, 6, -12]\n",
    "print(\"Original list:\")\n",
    "print(nums)\n",
    "print(\"\\nRemove None value from the said list:\")\n",
    "print(remove_none(nums))\n"
   ]
  },
  {
   "cell_type": "code",
   "execution_count": 177,
   "id": "cfa4daa0-3f44-4916-b921-ab853cfa4b7f",
   "metadata": {},
   "outputs": [
    {
     "name": "stdout",
     "output_type": "stream",
     "text": [
      "Original list of strings:\n",
      "['Red', 'Maroon', 'Yellow', 'Olive']\n",
      "\n",
      "Convert the said list of strings into list of lists:\n",
      "[['R', 'e', 'd'], ['M', 'a', 'r', 'o', 'o', 'n'], ['Y', 'e', 'l', 'l', 'o', 'w'], ['O', 'l', 'i', 'v', 'e']]\n"
     ]
    }
   ],
   "source": [
    "def strings_to_listOflists(colors):\n",
    "    result = [list(word) for word in colors]\n",
    "    return result\n",
    "\n",
    "colors = [\"Red\", \"Maroon\", \"Yellow\", \"Olive\"]\n",
    "print('Original list of strings:')\n",
    "print(colors)\n",
    "print(\"\\nConvert the said list of strings into list of lists:\")\n",
    "print(strings_to_listOflists(colors))\n"
   ]
  },
  {
   "cell_type": "code",
   "execution_count": 178,
   "id": "d3a37da4-4d2e-4ee1-9796-0b1c1cae6eac",
   "metadata": {},
   "outputs": [
    {
     "name": "stdout",
     "output_type": "stream",
     "text": [
      "Original list:\n",
      "['a', 'b', 'c', 'd', 'e', 'f']\n",
      "\n",
      "Display each element vertically of the said list:\n",
      "a\n",
      "b\n",
      "c\n",
      "d\n",
      "e\n",
      "f\n",
      "Original list:\n",
      "[[1, 2, 5], [4, 5, 8], [7, 3, 6]]\n",
      "\n",
      "Display each element vertically of the said list of lists:\n",
      "1 4 7\n",
      "2 5 3\n",
      "5 8 6\n"
     ]
    }
   ],
   "source": [
    "text = [\"a\", \"b\", \"c\", \"d\",\"e\", \"f\"]\n",
    "print(\"Original list:\")\n",
    "print(text)\n",
    "print(\"\\nDisplay each element vertically of the said list:\")\n",
    "for i in text:\n",
    "       print(i)\n",
    "nums = [[1, 2, 5], [4, 5, 8], [7, 3, 6]] \n",
    "print(\"Original list:\")\n",
    "print(nums)\n",
    "print(\"\\nDisplay each element vertically of the said list of lists:\")\n",
    "for a,b,c in zip(*nums): \n",
    "    print(a, b, c)\n"
   ]
  },
  {
   "cell_type": "code",
   "execution_count": 179,
   "id": "a727404b-efc4-4943-8b75-54c9044c3dc8",
   "metadata": {},
   "outputs": [
    {
     "name": "stdout",
     "output_type": "stream",
     "text": [
      "Original list:\n",
      "['red', 'white', 'a', 'b', 'black', 'f']\n",
      "\n",
      "Convert the said list of strings and characters to a single list of characters:\n",
      "['r', 'e', 'd', 'w', 'h', 'i', 't', 'e', 'a', 'b', 'b', 'l', 'a', 'c', 'k', 'f']\n"
     ]
    }
   ],
   "source": [
    "def l_strs_to_l_chars(lst):\n",
    "    result = [i for element in lst for i in element]\n",
    "    return result\n",
    "\n",
    "colors = [\"red\", \"white\", \"a\", \"b\", \"black\", \"f\"]\n",
    "print(\"Original list:\")\n",
    "print(colors)\n",
    "print(\"\\nConvert the said list of strings and characters to a single list of characters:\")\n",
    "print(l_strs_to_l_chars(colors))\n"
   ]
  },
  {
   "cell_type": "code",
   "execution_count": 180,
   "id": "eecf4448-9ca0-4485-b5bb-6d1a4f3c03ce",
   "metadata": {},
   "outputs": [
    {
     "name": "stdout",
     "output_type": "stream",
     "text": [
      "Original list:\n",
      "[1, 2, 3, 4, 5, 6, 7, 8, 9, 0]\n",
      "\n",
      "Insert a in the said list after 2 nd element:\n",
      "[1, 2, 'a', 3, 4, 'a', 5, 6, 'a', 7, 8, 'a', 9, 0]\n",
      "\n",
      "Insert b in the said list after 4 th element:\n",
      "[1, 2, 3, 4, 'b', 5, 6, 7, 8, 'b', 9, 0]\n"
     ]
    }
   ],
   "source": [
    "def insert_elemnt_nth(lst, ele, n):\n",
    "    result = []\n",
    "    for st_idx in range(0, len(lst), n):\n",
    "        result.extend(lst[st_idx:st_idx+n])\n",
    "        result.append(ele)\n",
    "    result.pop()    \n",
    "    return result\n",
    "\n",
    "nums = [1,2,3,4,5,6,7,8,9,0]\n",
    "print(\"Original list:\")\n",
    "print(nums)\n",
    "i_ele = 'a'\n",
    "i_ele_pos = 2\n",
    "print(\"\\nInsert\",i_ele,\"in the said list after\",i_ele_pos,\"nd element:\")\n",
    "print(insert_elemnt_nth(nums, i_ele, i_ele_pos))\n",
    "i_ele = 'b'\n",
    "i_ele_pos = 4\n",
    "print(\"\\nInsert\",i_ele,\"in the said list after\",i_ele_pos,\"th element:\")\n",
    "print(insert_elemnt_nth(nums, i_ele, i_ele_pos))\n"
   ]
  },
  {
   "cell_type": "code",
   "execution_count": 181,
   "id": "2db31989-b0d8-46e3-9741-4dc9c20fe7d8",
   "metadata": {},
   "outputs": [
    {
     "name": "stdout",
     "output_type": "stream",
     "text": [
      "Original lists:\n",
      "['0', '1', '2', '3', '4']\n",
      "['red', 'green', 'black', 'blue', 'white']\n",
      "['100', '200', '300', '400', '500']\n",
      "\n",
      "Concatenate element-wise three said lists:\n",
      "['0red100', '1green200', '2black300', '3blue400', '4white500']\n"
     ]
    }
   ],
   "source": [
    "def concatenate_lists(l1,l2,l3):\n",
    "    return [i + j + k for i, j, k in zip(l1, l2, l3)]\n",
    "    \n",
    "l1 = ['0','1','2','3','4'] \n",
    "l2 = ['red','green','black','blue','white']\n",
    "l3 = ['100','200','300','400','500'] \n",
    "\n",
    "print(\"Original lists:\")\n",
    "print(l1)\n",
    "print(l2)\n",
    "print(l3)\n",
    "print(\"\\nConcatenate element-wise three said lists:\")\n",
    "print(concatenate_lists(l1,l2,l3))\n"
   ]
  },
  {
   "cell_type": "code",
   "execution_count": 182,
   "id": "1aa6f9dc-3b10-4b80-902e-39a2a822f3a6",
   "metadata": {},
   "outputs": [
    {
     "name": "stdout",
     "output_type": "stream",
     "text": [
      "Original lists:\n",
      "[2, 3, 9, 8, 2, 0, 39, 84, 2, 2, 34, 2, 34, 5, 3, 5]\n",
      "\n",
      "Remove the last 3 elements from the said list:\n",
      "[2, 3, 9, 8, 2, 0, 39, 84, 2, 2, 34, 2, 34]\n",
      "\n",
      "Remove the last 5 elements from the said list:\n",
      "[2, 3, 9, 8, 2, 0, 39, 84, 2, 2, 34]\n",
      "\n",
      "Remove the last 1 element from the said list:\n",
      "[2, 3, 9, 8, 2, 0, 39, 84, 2, 2, 34, 2, 34, 5, 3]\n"
     ]
    }
   ],
   "source": [
    "def remove_last_n(nums, N):\n",
    "    result = nums[:len(nums)-N]\n",
    "    return result    \n",
    "nums = [2,3,9,8,2,0,39,84,2,2,34,2,34,5,3,5]\n",
    "print(\"Original lists:\")\n",
    "print(nums)\n",
    "N = 3\n",
    "print(\"\\nRemove the last\",N,\"elements from the said list:\")\n",
    "print(remove_last_n(nums, N))\n",
    "N = 5\n",
    "print(\"\\nRemove the last\",N,\"elements from the said list:\")\n",
    "print(remove_last_n(nums, N))\n",
    "N = 1\n",
    "print(\"\\nRemove the last\",N,\"element from the said list:\")\n",
    "print(remove_last_n(nums, N))\n"
   ]
  },
  {
   "cell_type": "code",
   "execution_count": 183,
   "id": "942931c8-86ee-44cf-9f39-84964ee5882f",
   "metadata": {},
   "outputs": [
    {
     "name": "stdout",
     "output_type": "stream",
     "text": [
      "Original lists:\n",
      "['a', 'b', 'c', 'd', 'e', 'f', 'g']\n",
      "\n",
      "Merge items from 2 to 4 in the said List:\n",
      "['a', 'b', 'cd', 'e', 'f', 'g']\n",
      "\n",
      "Merge items from 3 to 7 in the said List:\n",
      "['a', 'b', 'c', 'defg']\n"
     ]
    }
   ],
   "source": [
    "def merge_some_chars(lst,merge_from,merge_to):\n",
    "    result = lst\n",
    "    result[merge_from:merge_to] = [''.join(result[merge_from:merge_to])]    \n",
    "    return result    \n",
    "chars = ['a', 'b', 'c', 'd', 'e', 'f', 'g']\n",
    "print(\"Original lists:\")\n",
    "print(chars)\n",
    "merge_from = 2\n",
    "merge_to = 4\n",
    "print(\"\\nMerge items from\",merge_from,\"to\",merge_to,\"in the said List:\")\n",
    "print(merge_some_chars(chars,merge_from,merge_to))\n",
    "chars = ['a', 'b', 'c', 'd', 'e', 'f', 'g']\n",
    "merge_from = 3\n",
    "merge_to = 7\n",
    "print(\"\\nMerge items from\",merge_from,\"to\",merge_to,\"in the said List:\")\n",
    "print(merge_some_chars(chars,merge_from,merge_to))\n"
   ]
  },
  {
   "cell_type": "code",
   "execution_count": 184,
   "id": "6285dcc5-a794-4b7c-9a9b-10d0965acb06",
   "metadata": {},
   "outputs": [
    {
     "name": "stdout",
     "output_type": "stream",
     "text": [
      "Original lists:\n",
      "[3, 8, 9, 4, 5, 0, 5, 0, 3]\n",
      "\n",
      "Add 3 to each element in the said list:\n",
      "[6, 11, 12, 7, 8, 3, 8, 3, 6]\n",
      "\n",
      "Original lists:\n",
      "[3.2, 8, 9.9, 4.2, 5, 0.1, 5, 3.11, 0]\n",
      "\n",
      "Add 0.51 to each element in the said list:\n",
      "[3.71, 8.51, 10.41, 4.71, 5.51, 0.61, 5.51, 3.62, 0.51]\n"
     ]
    }
   ],
   "source": [
    "def add_val_to_list(lst, add_val):\n",
    "    result = lst\n",
    "    result = [x+add_val for x in result]   \n",
    "    return result    \n",
    "nums = [3,8,9,4,5,0,5,0,3]\n",
    "print(\"Original lists:\")\n",
    "print(nums)\n",
    "add_val = 3\n",
    "print(\"\\nAdd\",add_val,\"to each element in the said list:\")\n",
    "print(add_val_to_list(nums, add_val))\n",
    "nums = [3.2,8,9.9,4.2,5,0.1,5,3.11,0]\n",
    "print(\"\\nOriginal lists:\")\n",
    "print(nums)\n",
    "add_val = .51\n",
    "print(\"\\nAdd\",add_val,\"to each element in the said list:\")\n",
    "print(add_val_to_list(nums, add_val))\n"
   ]
  },
  {
   "cell_type": "code",
   "execution_count": 185,
   "id": "5876377f-83a8-4b69-b323-ca8df735b066",
   "metadata": {},
   "outputs": [
    {
     "name": "stdout",
     "output_type": "stream",
     "text": [
      "Original list:\n",
      "[(2, 3), (2, 4), (0, 6), (7, 1)]\n",
      "\n",
      "Maximum value  for each tuple position in the said list of tuples:\n",
      "[7, 6]\n",
      "\n",
      "Minimum value  for each tuple position in the said list of tuples:\n",
      "[0, 1]\n"
     ]
    }
   ],
   "source": [
    "def max_min_list_tuples(nums):\n",
    "    zip(*nums)\n",
    "    result1 = map(max, zip(*nums))\n",
    "    result2 = map(min, zip(*nums))\n",
    "    return list(result1), list(result2)\n",
    "\n",
    "nums = [(2,3),(2,4),(0,6),(7,1)]\n",
    "print(\"Original list:\")\n",
    "print(nums)\n",
    "\n",
    "result = max_min_list_tuples(nums)\n",
    "print(\"\\nMaximum value  for each tuple position in the said list of tuples:\")\n",
    "print(result[0])\n",
    "print(\"\\nMinimum value  for each tuple position in the said list of tuples:\")\n",
    "print(result[1])\n"
   ]
  },
  {
   "cell_type": "code",
   "execution_count": 186,
   "id": "04d6a5f3-f6c3-4118-b055-537f4645b5f5",
   "metadata": {},
   "outputs": [
    {
     "name": "stdout",
     "output_type": "stream",
     "text": [
      "Original list:\n",
      "[7, 2, 3, 4, 9, 2, 3]\n",
      "[7, 2, 3, 4, 9, 2, 3]\n",
      "[0.7777777777777778, 0.25, 1.5, 1.3333333333333333, 3.0, 2.0, 1.5]\n"
     ]
    }
   ],
   "source": [
    "def dividing_two_lists(l1,l2):\n",
    "    result = [x/y for x, y in zip(l1,l2)]\n",
    "    return result \n",
    "nums1 = [7,2,3,4,9,2,3]\n",
    "nums2 = [9,8,2,3,3,1,2]\n",
    "print(\"Original list:\")\n",
    "print(nums1)\n",
    "print(nums1)\n",
    "print(dividing_two_lists(nums1, nums2))\n"
   ]
  },
  {
   "cell_type": "code",
   "execution_count": 187,
   "id": "43fbf9c4-5f4d-4a96-9d0d-68ea1e6fd1aa",
   "metadata": {},
   "outputs": [
    {
     "name": "stdout",
     "output_type": "stream",
     "text": [
      "Original list:\n",
      "[[7, 2, 3, 4, 7], [9, 2, 3, 2, 5], [8, 2, 3, 4, 4]]\n",
      "\n",
      "Common elements of the said list of lists:\n",
      "[2, 3]\n",
      "\n",
      "Original list:\n",
      "[['a', 'b', 'c'], ['b', 'c', 'd'], ['c', 'd', 'e']]\n",
      "\n",
      "Common elements of the said list of lists:\n",
      "['c']\n"
     ]
    }
   ],
   "source": [
    "def common_list_of_lists(lst):\n",
    "    temp = set(lst[0]).intersection(*lst)\n",
    "    return list(temp) \n",
    "\n",
    "nums = [[7,2,3,4,7],[9,2,3,2,5],[8,2,3,4,4]]\n",
    "print(\"Original list:\")\n",
    "print(nums)\n",
    "print(\"\\nCommon elements of the said list of lists:\")\n",
    "print(common_list_of_lists(nums))\n",
    "chars = [['a','b','c'],['b','c','d'],['c','d','e']]\n",
    "print(\"\\nOriginal list:\")\n",
    "print(chars)\n",
    "print(\"\\nCommon elements of the said list of lists:\")\n",
    "print(common_list_of_lists(chars))\n"
   ]
  },
  {
   "cell_type": "code",
   "execution_count": 188,
   "id": "ee2abad8-a53a-4f34-8ed0-66c463c809e0",
   "metadata": {},
   "outputs": [
    {
     "name": "stdout",
     "output_type": "stream",
     "text": [
      "Original list:\n",
      "[1, 3, 5, 7, 9, 11, 0, 2, 4, 6, 8, 10, 8, 9, 0, 4, 3, 0]\n",
      "\n",
      "Insert 20 in said list after every 4 th element:\n",
      "[1, 3, 5, 7, 20, 9, 11, 0, 2, 20, 4, 6, 8, 10, 20, 8, 9, 0, 4, 20, 3, 0]\n",
      "\n",
      "Original list:\n",
      "['s', 'd', 'f', 'j', 's', 'a', 'j', 'd', 'f', 'd']\n",
      "\n",
      "Insert Z in said list after every 3 th element:\n",
      "['s', 'd', 'f', 'Z', 'j', 's', 'a', 'Z', 'j', 'd', 'f', 'Z', 'd']\n"
     ]
    }
   ],
   "source": [
    "def inset_element_list(lst, x, n):\n",
    "    i = n\n",
    "    while i < len(lst):\n",
    "        lst.insert(i, x)\n",
    "        i+= n+1\n",
    "    return lst\n",
    "\n",
    "nums = [1, 3, 5, 7, 9, 11,0, 2, 4, 6, 8, 10,8,9,0,4,3,0]\n",
    "print(\"Original list:\")\n",
    "print(nums)\n",
    "x = 20\n",
    "n = 4\n",
    "print(\"\\nInsert\",x,\"in said list after every\",n,\"th element:\")\n",
    "print(inset_element_list(nums, x, n))\n",
    "\n",
    "chars = ['s','d','f','j','s','a','j','d','f','d']\n",
    "print(\"\\nOriginal list:\")\n",
    "print(chars)\n",
    "x = 'Z'\n",
    "n = 3\n",
    "print(\"\\nInsert\",x,\"in said list after every\",n,\"th element:\")\n",
    "print(inset_element_list(chars, x, n))\n"
   ]
  },
  {
   "cell_type": "code",
   "execution_count": 189,
   "id": "356cc9ed-6cdc-481e-bd07-b72e1320a815",
   "metadata": {},
   "outputs": [
    {
     "name": "stdout",
     "output_type": "stream",
     "text": [
      "Original list:\n",
      "[3, 40, 41, 43, 74, 9]\n",
      "Largest possible number using the elements of the said list of positive integers:\n",
      "9744341403\n",
      "\n",
      "Original list:\n",
      "[10, 40, 20, 30, 50, 60]\n",
      "Largest possible number using the elements of the said list of positive integers:\n",
      "605040302010\n",
      "\n",
      "Original list:\n",
      "[8, 4, 2, 9, 5, 6, 1, 0]\n",
      "Largest possible number using the elements of the said list of positive integers:\n",
      "98654210\n"
     ]
    }
   ],
   "source": [
    "def create_largest_number(lst):\n",
    "    if all(val == 0 for val in lst):\n",
    "        return '0'\n",
    "    result = ''.join(sorted((str(val) for val in lst), reverse=True,\n",
    "                      key=lambda i: i*( len(str(max(lst))) * 2 // len(i))))\n",
    "    return result\n",
    "nums = [3, 40, 41, 43, 74, 9]\n",
    "print(\"Original list:\")\n",
    "print(nums)\n",
    "print(\"Largest possible number using the elements of the said list of positive integers:\")\n",
    "print(create_largest_number(nums))\n",
    "\n",
    "nums = [10, 40, 20, 30, 50, 60]\n",
    "print(\"\\nOriginal list:\")\n",
    "print(nums)\n",
    "print(\"Largest possible number using the elements of the said list of positive integers:\")\n",
    "print(create_largest_number(nums))\n",
    "nums = [8, 4, 2, 9, 5, 6, 1, 0]\n",
    "print(\"\\nOriginal list:\")\n",
    "print(nums)\n",
    "print(\"Largest possible number using the elements of the said list of positive integers:\")\n",
    "print(create_largest_number(nums))\n"
   ]
  },
  {
   "cell_type": "code",
   "execution_count": 190,
   "id": "ae8848ae-dfc7-4033-bf9c-c298d8d6f555",
   "metadata": {},
   "outputs": [
    {
     "name": "stdout",
     "output_type": "stream",
     "text": [
      "Original list:\n",
      "[3, 40, 41, 43, 74, 9]\n",
      "Smallest possible number using the elements of the said list of positive integers:\n",
      "3404143749\n",
      "\n",
      "Original list:\n",
      "[10, 40, 20, 30, 50, 60]\n",
      "Smallest possible number using the elements of the said list of positive integers:\n",
      "102030405060\n",
      "\n",
      "Original list:\n",
      "[8, 4, 2, 9, 5, 6, 1, 0]\n",
      "Smallest possible number using the elements of the said list of positive integers:\n",
      "01245689\n"
     ]
    }
   ],
   "source": [
    "def create_largest_number(lst):\n",
    "    if all(val == 0 for val in lst):\n",
    "        return '0'\n",
    "    result = ''.join(sorted((str(val) for val in lst), reverse=False,\n",
    "                      key=lambda i: i*( len(str(min(lst))) * 2 // len(i))))\n",
    "    return result\n",
    "\n",
    "\n",
    "nums = [3, 40, 41, 43, 74, 9]\n",
    "print(\"Original list:\")\n",
    "print(nums)\n",
    "print(\"Smallest possible number using the elements of the said list of positive integers:\")\n",
    "print(create_largest_number(nums))\n",
    "\n",
    "nums = [10, 40, 20, 30, 50, 60]\n",
    "print(\"\\nOriginal list:\")\n",
    "print(nums)\n",
    "print(\"Smallest possible number using the elements of the said list of positive integers:\")\n",
    "print(create_largest_number(nums))\n",
    "nums = [8, 4, 2, 9, 5, 6, 1, 0]\n",
    "print(\"\\nOriginal list:\")\n",
    "print(nums)\n",
    "print(\"Smallest possible number using the elements of the said list of positive integers:\")\n",
    "print(create_largest_number(nums))\n"
   ]
  },
  {
   "cell_type": "code",
   "execution_count": 191,
   "id": "7b1f5540-c6e6-4e6b-806c-67a18483213b",
   "metadata": {},
   "outputs": [
    {
     "name": "stdout",
     "output_type": "stream",
     "text": [
      "Original list:\n",
      "['a', 'b', 'c', 'd', 'e', 'f', 'g', 'h']\n",
      "\n",
      "Iterate the said  list cyclically on specific index position 3 :\n",
      "['d', 'e', 'f', 'g', 'h', 'a', 'b', 'c']\n",
      "\n",
      "Iterate the said  list cyclically on specific index position 5 :\n",
      "['f', 'g', 'h', 'a', 'b', 'c', 'd', 'e']\n"
     ]
    }
   ],
   "source": [
    "def cyclically_iteration(lst,spec_index):\n",
    "    result = []\n",
    "    length = len(lst)\n",
    "    for i in range(length):\n",
    "        element_index = spec_index % length\n",
    "        result.append(lst[element_index])\n",
    "        spec_index += 1\n",
    "    return result\n",
    "\n",
    "chars = ['a', 'b', 'c', 'd', 'e', 'f', 'g', 'h']\n",
    "print(\"Original list:\")\n",
    "print(chars)\n",
    "spec_index = 3\n",
    "print(\"\\nIterate the said  list cyclically on specific index position\",spec_index,\":\")\n",
    "print(cyclically_iteration(chars,spec_index))\n",
    "spec_index = 5\n",
    "print(\"\\nIterate the said  list cyclically on specific index position\",spec_index,\":\")\n",
    "print(cyclically_iteration(chars,spec_index))\n"
   ]
  },
  {
   "cell_type": "code",
   "execution_count": 193,
   "id": "e590e01c-0b5b-40e1-9aef-fbfccc07e602",
   "metadata": {},
   "outputs": [
    {
     "name": "stdout",
     "output_type": "stream",
     "text": [
      "Original list:\n",
      "[[1, 2, 3, 5], [2, 3, 5, 4], [0, 5, 4, 1], [3, 7, 2, 1], [1, 2, 1, 2]]\n",
      "Unique values of the said list of lists:\n",
      "[0, 1, 2, 3, 4, 5, 7]\n",
      "\n",
      "Original list:\n",
      "[['h', 'g', 'l', 'k'], ['a', 'b', 'd', 'e', 'c'], ['j', 'i', 'y'], ['n', 'b', 'v', 'c'], ['x', 'z']]\n",
      "Unique values of the said list of lists:\n",
      "['k', 'i', 'x', 'a', 'e', 'g', 'b', 'j', 'y', 'v', 'd', 'c', 'z', 'n', 'h', 'l']\n"
     ]
    }
   ],
   "source": [
    "def unique_values_in_list_of_lists(lst):\n",
    "    result = set(x for l in lst for x in l)\n",
    "    return list(result)\n",
    "nums = [[1,2,3,5], [2,3,5,4], [0,5,4,1], [3,7,2,1], [1,2,1,2]]\n",
    "print(\"Original list:\")\n",
    "print(nums)\n",
    "print(\"Unique values of the said list of lists:\")\n",
    "print(unique_values_in_list_of_lists(nums))\n",
    "chars = [['h','g','l','k'], ['a','b','d','e','c'], ['j','i','y'], ['n','b','v','c'], ['x','z']]\n",
    "print(\"\\nOriginal list:\")\n",
    "print(chars)\n",
    "print(\"Unique values of the said list of lists:\")\n",
    "print(unique_values_in_list_of_lists(chars))\n",
    "\n"
   ]
  },
  {
   "cell_type": "code",
   "execution_count": 194,
   "id": "a0c31e57-2dbb-4e41-891e-e173464f38b8",
   "metadata": {},
   "outputs": [
    {
     "name": "stdout",
     "output_type": "stream",
     "text": [
      "Original list:\n",
      "['Sum all the items in a list', 'Find the second smallest number in a list']\n",
      "\n",
      "Bigram sequence of the said list:\n",
      "[('Sum', 'all'), ('all', 'the'), ('the', 'items'), ('items', 'in'), ('in', 'a'), ('a', 'list'), ('Find', 'the'), ('the', 'second'), ('second', 'smallest'), ('smallest', 'number'), ('number', 'in'), ('in', 'a'), ('a', 'list')]\n"
     ]
    }
   ],
   "source": [
    "def bigram_sequence(text_lst):\n",
    "    result = [a for ls in text_lst for a in zip(ls.split(\" \")[:-1], ls.split(\" \")[1:])]\n",
    "    return result\n",
    "text = [\"Sum all the items in a list\", \"Find the second smallest number in a list\"]\n",
    "print(\"Original list:\")\n",
    "print(text)\n",
    "print(\"\\nBigram sequence of the said list:\")\n",
    "print(bigram_sequence(text))\n"
   ]
  },
  {
   "cell_type": "code",
   "execution_count": 195,
   "id": "08ec2223-43a2-4eaf-b3b6-8c4d7e564ff0",
   "metadata": {},
   "outputs": [
    {
     "name": "stdout",
     "output_type": "stream",
     "text": [
      "Original Number: 8\n",
      "Decimal number ( 8 ) to binary list:\n",
      "[1, 0, 0, 0]\n",
      "\n",
      "Original Number: 45\n",
      "Decimal number ( 45 ) to binary list:\n",
      "[1, 0, 1, 1, 0, 1]\n",
      "\n",
      "Original Number: 100\n",
      "Decimal number ( 100 ) to binary list:\n",
      "[1, 1, 0, 0, 1, 0, 0]\n"
     ]
    }
   ],
   "source": [
    "def decimal_to_binary_list(n):\n",
    "    result = [int(x) for x in list('{0:0b}'.format(n))]\n",
    "    return result\n",
    "n = 8\n",
    "print(\"Original Number:\",n)\n",
    "print(\"Decimal number (\",n,\") to binary list:\")\n",
    "print(decimal_to_binary_list(n))\n",
    "n = 45\n",
    "print(\"\\nOriginal Number:\",n)\n",
    "print(\"Decimal number (\",n,\") to binary list:\")\n",
    "print(decimal_to_binary_list(n))\n",
    "n = 100\n",
    "print(\"\\nOriginal Number:\",n)\n",
    "print(\"Decimal number (\",n,\") to binary list:\")\n",
    "print(decimal_to_binary_list(n))\n"
   ]
  },
  {
   "cell_type": "code",
   "execution_count": 196,
   "id": "28e2920d-9c0e-4857-90c3-88de6d484361",
   "metadata": {},
   "outputs": [
    {
     "name": "stdout",
     "output_type": "stream",
     "text": [
      "Original list:\n",
      "[0, 1, 2, 3, 4, 5, 6, 7, 8, 9, 10, 11, 12, 13, 14, 15]\n",
      "\n",
      "Swap two sublists of the said list:\n",
      "[0, 6, 7, 8, 9, 3, 4, 5, 1, 2, 10, 11, 12, 13, 14, 15]\n",
      "\n",
      "Swap two sublists of the said list:\n",
      "[0, 9, 3, 8, 6, 7, 4, 5, 1, 2, 10, 11, 12, 13, 14, 15]\n"
     ]
    }
   ],
   "source": [
    "nums = [0, 1, 2, 3, 4, 5, 6, 7, 8, 9, 10, 11, 12, 13, 14, 15]\n",
    "print(\"Original list:\")\n",
    "print(nums)\n",
    "nums[6:10], nums[1:3] = nums[1:3], nums[6:10]\n",
    "print(\"\\nSwap two sublists of the said list:\")\n",
    "print(nums)\n",
    "nums[1:3], nums[4:6] = nums[4:6], nums[1:3]\n",
    "print(\"\\nSwap two sublists of the said list:\")\n",
    "print(nums)\n"
   ]
  },
  {
   "cell_type": "code",
   "execution_count": 197,
   "id": "8d54898c-19b2-408a-b404-1cf303f6be92",
   "metadata": {},
   "outputs": [
    {
     "name": "stdout",
     "output_type": "stream",
     "text": [
      "Original list of tuples:\n",
      "[('red', 'green'), ('black', 'white'), ('orange', 'pink')]\n",
      "\n",
      "Convert the said list of tuples to a list of strings:\n",
      "['red green', 'black white', 'orange pink']\n",
      "\n",
      "Original list of tuples:\n",
      "[('Laiba', 'Delacruz'), ('Mali', 'Stacey', 'Drummond'), ('Raja', 'Welch'), ('Saarah', 'Stone')]\n",
      "\n",
      "Convert the said list of tuples to a list of strings:\n",
      "['Laiba Delacruz', 'Mali Stacey Drummond', 'Raja Welch', 'Saarah Stone']\n"
     ]
    }
   ],
   "source": [
    "def tuples_to_list_str(lst):\n",
    "    result = [(\"%s \"*len(el)%el).strip() for el in lst]\n",
    "    return result   \n",
    "colors = [('red', 'green'), ('black', 'white'), ('orange', 'pink')]\n",
    "print(\"Original list of tuples:\")\n",
    "print(colors)\n",
    "print(\"\\nConvert the said list of tuples to a list of strings:\")\n",
    "print(tuples_to_list_str(colors))\n",
    "names = [('Laiba','Delacruz'), ('Mali','Stacey','Drummond'), ('Raja','Welch'), ('Saarah','Stone')]\n",
    "print(\"\\nOriginal list of tuples:\")\n",
    "print(names)\n",
    "print(\"\\nConvert the said list of tuples to a list of strings:\")\n",
    "print(tuples_to_list_str(names))\n"
   ]
  },
  {
   "cell_type": "code",
   "execution_count": 198,
   "id": "f2f46f3d-cc0d-4255-8193-7a5afb246817",
   "metadata": {},
   "outputs": [
    {
     "name": "stdout",
     "output_type": "stream",
     "text": [
      "Original list of tuples:\n",
      "[('item2', 10, 10.12), ('item3', 15, 25.1), ('item1', 11, 24.5), ('item4', 12, 22.5)]\n",
      "\n",
      "Sort on 1st element of the tuple of the said list:\n",
      "[('item1', 11, 24.5), ('item2', 10, 10.12), ('item3', 15, 25.1), ('item4', 12, 22.5)]\n",
      "\n",
      "Sort on 2nd element of the tuple of the said list:\n",
      "[('item2', 10, 10.12), ('item1', 11, 24.5), ('item4', 12, 22.5), ('item3', 15, 25.1)]\n",
      "\n",
      "Sort on 3rd element of the tuple of the said list:\n",
      "[('item2', 10, 10.12), ('item4', 12, 22.5), ('item1', 11, 24.5), ('item3', 15, 25.1)]\n"
     ]
    }
   ],
   "source": [
    "def sort_on_specific_item(lst, n):\n",
    "    result = sorted((lst), key=lambda x: x[n])\n",
    "    return result   \n",
    "items = [('item2', 10, 10.12), ('item3', 15, 25.10), ('item1', 11, 24.50),('item4', 12, 22.50)]\n",
    "print(\"Original list of tuples:\")\n",
    "print(items)\n",
    "print(\"\\nSort on 1st element of the tuple of the said list:\")\n",
    "n = 0\n",
    "print(sort_on_specific_item(items, n))\n",
    "print(\"\\nSort on 2nd element of the tuple of the said list:\")\n",
    "n = 1\n",
    "print(sort_on_specific_item(items, n))\n",
    "print(\"\\nSort on 3rd element of the tuple of the said list:\")\n",
    "n = 2\n",
    "print(sort_on_specific_item(items, n))\n"
   ]
  },
  {
   "cell_type": "code",
   "execution_count": 199,
   "id": "d50a2557-c0a5-4638-a68c-f93049647a8f",
   "metadata": {},
   "outputs": [
    {
     "name": "stdout",
     "output_type": "stream",
     "text": [
      "Original list:\n",
      "[1, 2, 3, 4, 5, 6, 7]\n",
      "Shift last element to first position and first element to last position of the said list:\n",
      "[7, 2, 3, 4, 5, 6, 1]\n",
      "\n",
      "Original list:\n",
      "['s', 'd', 'f', 'd', 's', 's', 'd', 'f']\n",
      "Shift last element to first position and first element to last position of the said list:\n",
      "['f', 'd', 'f', 'd', 's', 's', 'd', 's']\n"
     ]
    }
   ],
   "source": [
    "def shift_first_last(lst):\n",
    "    x = lst.pop(0)\n",
    "    y = lst.pop()\n",
    "    lst.insert(0, y)\n",
    "    lst.insert(len(lst), x)\n",
    "    return lst\n",
    "\n",
    "nums = [1,2,3,4,5,6,7]\n",
    "print(\"Original list:\")\n",
    "print(nums)\n",
    "print(\"Shift last element to first position and first element to last position of the said list:\")\n",
    "print(shift_first_last(nums))\n",
    "\n",
    "chars = ['s','d','f','d','s','s','d','f']\n",
    "print(\"\\nOriginal list:\")\n",
    "print(chars)\n",
    "print(\"Shift last element to first position and first element to last position of the said list:\")\n",
    "print(shift_first_last(chars))\n"
   ]
  },
  {
   "cell_type": "code",
   "execution_count": 200,
   "id": "5e7adbf1-6074-4a36-a64d-ed1dd3bc6426",
   "metadata": {},
   "outputs": [
    {
     "name": "stdout",
     "output_type": "stream",
     "text": [
      "Original lists:\n",
      "[1, 2, 3, 4, 5, 6]\n",
      "[3, 6, 8, 9, 10, 6] \n",
      "\n",
      "3 Number of largest products from the said two lists:\n",
      "[60, 54, 50]\n",
      "4 Number of largest products from the said two lists:\n",
      "[60, 54, 50, 48]\n"
     ]
    }
   ],
   "source": [
    "def top_product(nums1, nums2, N):\n",
    "    result = sorted([x*y for x in nums1 for y in nums2], reverse=True)[:N]\n",
    "    return result\n",
    "nums1 = [1, 2, 3, 4, 5, 6]\n",
    "nums2 = [3, 6, 8, 9, 10, 6]\n",
    "print(\"Original lists:\")\n",
    "print(nums1)\n",
    "print(nums2,\"\\n\")\n",
    "N = 3\n",
    "print(N,\"Number of largest products from the said two lists:\")\n",
    "print(top_product(nums1, nums2, N))\n",
    "N = 4\n",
    "print(N,\"Number of largest products from the said two lists:\")\n",
    "print(top_product(nums1, nums2, N))\n"
   ]
  },
  {
   "cell_type": "code",
   "execution_count": 201,
   "id": "4b32ebb4-8dda-4d6f-b471-16942c47a720",
   "metadata": {},
   "outputs": [
    {
     "name": "stdout",
     "output_type": "stream",
     "text": [
      "Original lists:\n",
      "[2, 3, 5, 8, 7, 2, 3]\n",
      "[4, 3, 9, 0, 4, 3, 9]\n",
      "[2, 1, 5, 6, 5, 5, 4]\n",
      "Maximum value of the said three lists:\n",
      "9\n",
      "Minimum value of the said three lists:\n",
      "0\n"
     ]
    }
   ],
   "source": [
    "nums1 = [2,3,5,8,7,2,3]\n",
    "nums2 = [4,3,9,0,4,3,9]\n",
    "nums3 = [2,1,5,6,5,5,4]\n",
    "print(\"Original lists:\")\n",
    "print(nums1)\n",
    "print(nums2)\n",
    "print(nums3)\n",
    "print(\"Maximum value of the said three lists:\")\n",
    "print(max(nums1+nums2+nums3))\n",
    "print(\"Minimum value of the said three lists:\")\n",
    "print(min(nums1+nums2+nums3)) \n"
   ]
  },
  {
   "cell_type": "code",
   "execution_count": 203,
   "id": "ed28891d-4782-4c31-8946-ebcde7951b58",
   "metadata": {},
   "outputs": [
    {
     "name": "stdout",
     "output_type": "stream",
     "text": [
      "\n",
      "Original list:\n",
      "[(100, 'Math'), (80, 'Math'), (90, 'Math'), (88, 'Science', 89), (90, 'Science', 92)]\n",
      "\n",
      "Remove all strings from the said list of tuples:\n",
      "[(100,), (80,), (90,), (88, 89), (90, 92)]\n"
     ]
    }
   ],
   "source": [
    "def test(list1):\n",
    "    result =   [tuple(v for v in i if not isinstance(v, str)) for i in list1]\n",
    "    return list(result)\n",
    "\n",
    "marks = [(100, 'Math'), (80, 'Math'), (90, 'Math'), (88, 'Science', 89), (90, 'Science', 92)]\n",
    "print(\"\\nOriginal list:\")\n",
    "print(marks)\n",
    "print(\"\\nRemove all strings from the said list of tuples:\")\n",
    "print(test(marks))\n"
   ]
  },
  {
   "cell_type": "code",
   "execution_count": 204,
   "id": "eeb99918-9d17-485a-986d-62715eafec33",
   "metadata": {},
   "outputs": [
    {
     "name": "stdout",
     "output_type": "stream",
     "text": [
      "\n",
      "Original list:\n",
      "[[1, 2], [2, 4]]\n",
      "Dimension of the said matrix:\n",
      "(2, 2)\n",
      "\n",
      "Original list:\n",
      "[[0, 1, 2], [2, 4, 5]]\n",
      "Dimension of the said matrix:\n",
      "(2, 3)\n",
      "\n",
      "Original list:\n",
      "[[0, 1, 2], [2, 4, 5], [2, 3, 4]]\n",
      "Dimension of the said matrix:\n",
      "(3, 3)\n"
     ]
    }
   ],
   "source": [
    "def matrix_dimensions(test_list):\n",
    "    row = len(test_list)\n",
    "    column = len(test_list[0])\n",
    "    return row,column\n",
    "\n",
    "lst = [[1,2],[2,4]]\n",
    "print(\"\\nOriginal list:\")\n",
    "print(lst)\n",
    "print(\"Dimension of the said matrix:\")\n",
    "print(matrix_dimensions(lst))\n",
    "lst = [[0,1,2],[2,4,5]]\n",
    "print(\"\\nOriginal list:\")\n",
    "print(lst)\n",
    "print(\"Dimension of the said matrix:\")\n",
    "print(matrix_dimensions(lst))\n",
    "lst = [[0,1,2],[2,4,5],[2,3,4]]\n",
    "print(\"\\nOriginal list:\")\n",
    "print(lst)\n",
    "print(\"Dimension of the said matrix:\")\n",
    "print(matrix_dimensions(lst)) \n"
   ]
  },
  {
   "cell_type": "code",
   "execution_count": 206,
   "id": "e72fb4fc-1945-40d6-be52-c14098183b2d",
   "metadata": {},
   "outputs": [
    {
     "name": "stdout",
     "output_type": "stream",
     "text": [
      "Original list:\n",
      "['red', 'green', 'white', 'black']\n",
      "\n",
      "Traverse the said list in reverse order:\n",
      "black\n",
      "white\n",
      "green\n",
      "red\n",
      "\n",
      "Traverse the said list in reverse order with original index:\n",
      "3 black\n",
      "2 white\n",
      "1 green\n",
      "0 red\n"
     ]
    }
   ],
   "source": [
    "color = [\"red\", \"green\", \"white\", \"black\"]\n",
    "print(\"Original list:\")\n",
    "print(color)\n",
    "print(\"\\nTraverse the said list in reverse order:\")\n",
    "for i in reversed(color):\n",
    "    print(i)\n",
    "print(\"\\nTraverse the said list in reverse order with original index:\")\n",
    "for i, el in reversed(list(enumerate(color))):\n",
    "    print(i, el) \n",
    "\n"
   ]
  },
  {
   "cell_type": "code",
   "execution_count": 207,
   "id": "5bea7a66-d13e-483a-85f2-03779cecc5ff",
   "metadata": {},
   "outputs": [
    {
     "name": "stdout",
     "output_type": "stream",
     "text": [
      "Original list:\n",
      "['red', 'green', 'white', 'black', 'orange']\n",
      "Move white at the end of the said list:\n",
      "['red', 'green', 'black', 'orange', 'white']\n",
      "\n",
      "Original list:\n",
      "['red', 'green', 'white', 'black', 'orange']\n",
      "Move red at the end of the said list:\n",
      "['green', 'white', 'black', 'orange', 'red']\n",
      "\n",
      "Original list:\n",
      "['red', 'green', 'white', 'black', 'orange']\n",
      "Move black at the end of the said list:\n",
      "['red', 'green', 'white', 'orange', 'black']\n"
     ]
    }
   ],
   "source": [
    "def group_similar_items(seq,el):\n",
    "    seq.append(seq.pop(seq.index(el)))\n",
    "    return seq \n",
    "\n",
    "colors = ['red','green','white','black','orange']\n",
    "print(\"Original list:\")\n",
    "print(colors)\n",
    "el = \"white\"\n",
    "print(\"Move\",el,\"at the end of the said list:\")\n",
    "print(group_similar_items(colors, el))\n",
    "\n",
    "colors = ['red','green','white','black','orange']\n",
    "print(\"\\nOriginal list:\")\n",
    "print(colors)\n",
    "el = \"red\"\n",
    "print(\"Move\",el,\"at the end of the said list:\")\n",
    "print(group_similar_items(colors, el))\n",
    "\n",
    "colors = ['red','green','white','black','orange']\n",
    "print(\"\\nOriginal list:\")\n",
    "print(colors)\n",
    "el = \"black\"\n",
    "print(\"Move\",el,\"at the end of the said list:\")\n",
    "print(group_similar_items(colors, el))\n"
   ]
  },
  {
   "cell_type": "code",
   "execution_count": 209,
   "id": "3529ab30-5e4b-4768-bd87-11a500f60fcd",
   "metadata": {},
   "outputs": [
    {
     "name": "stdout",
     "output_type": "stream",
     "text": [
      "Original lists:\n",
      "[1, 2, 3, 4, 5, 6]\n",
      "[7, 8, 5, 2, 10, 12]\n",
      "Compare said two lists and get the indices of the values present in both lists:\n",
      "[1, 4]\n",
      "\n",
      "Original lists:\n",
      "[1, 2, 3, 4, 5, 6]\n",
      "[7, 8, 5, 7, 10, 12]\n",
      "Compare said two lists and get the indices of the values present in both lists:\n",
      "[4]\n",
      "\n",
      "Original lists:\n",
      "[1, 2, 3, 4, 15, 6]\n",
      "[7, 8, 5, 7, 10, 12]\n",
      "Compare said two lists and get the indices of the values present in both lists:\n",
      "[]\n"
     ]
    }
   ],
   "source": [
    "def matched_index(l1, l2):\n",
    "    l2 = set(l2)\n",
    "    return [i for i, el in enumerate(l1) if el in l2]\n",
    "\n",
    "nums1 = [1, 2, 3, 4, 5 ,6]\n",
    "nums2 = [7, 8, 5, 2, 10, 12]\n",
    "print(\"Original lists:\")\n",
    "print(nums1)\n",
    "print(nums2)\n",
    "print(\"Compare said two lists and get the indices of the values present in both lists:\")\n",
    "print(matched_index(nums1, nums2))\n",
    "\n",
    "nums1 = [1, 2, 3, 4, 5 ,6]\n",
    "nums2 = [7, 8, 5, 7, 10, 12]\n",
    "print(\"\\nOriginal lists:\")\n",
    "print(nums1)\n",
    "print(nums2)\n",
    "print(\"Compare said two lists and get the indices of the values present in both lists:\")\n",
    "print(matched_index(nums1, nums2))\n",
    "\n",
    "nums1 = [1, 2, 3, 4, 15 ,6]\n",
    "nums2 = [7, 8, 5, 7, 10, 12]\n",
    "print(\"\\nOriginal lists:\")\n",
    "print(nums1)\n",
    "print(nums2)\n",
    "print(\"Compare said two lists and get the indices of the values present in both lists:\")\n",
    "print(matched_index(nums1, nums2))\n"
   ]
  },
  {
   "cell_type": "code",
   "execution_count": 210,
   "id": "c56fb900-206e-4a66-b2b7-befafb187ffe",
   "metadata": {},
   "outputs": [
    {
     "name": "stdout",
     "output_type": "stream",
     "text": [
      "Original lists:\n",
      "['S001', 'S002', 'S003', 'S004']\n",
      " Convert the said unicode list to a list contains strings:\n",
      "['S001', 'S002', 'S003', 'S004']\n"
     ]
    }
   ],
   "source": [
    "def unicode_to_str(lst):\n",
    "    result = [str(x) for x in lst]\n",
    "    return result\n",
    "students =  [u'S001', u'S002', u'S003', u'S004']\n",
    "print(\"Original lists:\")\n",
    "print(students)\n",
    "print(\" Convert the said unicode list to a list contains strings:\")\n",
    "print(unicode_to_str(students))\n"
   ]
  },
  {
   "cell_type": "code",
   "execution_count": 211,
   "id": "04607368-99bc-4a75-bca2-058956579837",
   "metadata": {},
   "outputs": [
    {
     "name": "stdout",
     "output_type": "stream",
     "text": [
      "Original lists:\n",
      "[1, 2, 3, 4, 5, 6]\n",
      "Pair up the consecutive elements of the said list:\n",
      "[[1, 2], [2, 3], [3, 4], [4, 5], [5, 6]]\n",
      "\n",
      "Original lists:\n",
      "[1, 2, 3, 4, 5]\n",
      "Pair up the consecutive elements of the said list:\n",
      "[[1, 2], [2, 3], [3, 4], [4, 5]]\n"
     ]
    }
   ],
   "source": [
    "def pair_consecutive_elements(lst):\n",
    "    result = [[lst[i], lst[i + 1]] for i in range(len(lst) - 1)]\n",
    "    return result\n",
    "nums =  [1,2,3,4,5,6]\n",
    "print(\"Original lists:\")\n",
    "print(nums)\n",
    "print(\"Pair up the consecutive elements of the said list:\")\n",
    "print(pair_consecutive_elements(nums))\n",
    "nums =  [1,2,3,4,5]\n",
    "print(\"\\nOriginal lists:\")\n",
    "print(nums)\n",
    "print(\"Pair up the consecutive elements of the said list:\")\n",
    "print(pair_consecutive_elements(nums))\n"
   ]
  },
  {
   "cell_type": "code",
   "execution_count": 212,
   "id": "26f26505-90bc-4d5d-9ef6-d5d2daaa7bc8",
   "metadata": {},
   "outputs": [
    {
     "name": "stdout",
     "output_type": "stream",
     "text": [
      "The original string and list: \n",
      "https://www.w3resource.com/python-exercises/list/\n",
      "['.com', '.edu', '.tv']\n",
      "\n",
      "Check if https://www.w3resource.com/python-exercises/list/ contains an element, which is present in the list ['.com', '.edu', '.tv']\n",
      "True\n",
      "\n",
      "The original string and list: https://www.w3resource.net\n",
      "https://www.w3resource.net\n",
      "['.com', '.edu', '.tv']\n",
      "\n",
      "Check if https://www.w3resource.net contains an element, which is present in the list ['.com', '.edu', '.tv']\n",
      "False\n"
     ]
    }
   ],
   "source": [
    "def test(lst,str1):\n",
    "    result = [el for el in lst if(el in str1)] \n",
    "    return bool(result)\n",
    "\n",
    "\n",
    "str1 = \"https://www.w3resource.com/python-exercises/list/\"\n",
    "lst = ['.com', '.edu', '.tv']   \n",
    "print(\"The original string and list: \") \n",
    "print(str1)\n",
    "print(lst)\n",
    "print(\"\\nCheck if\",str1,\"contains an element, which is present in the list\",lst)\n",
    "print(test(lst,str1))\n",
    "str1 = \"https://www.w3resource.net\"\n",
    "lst = ['.com', '.edu', '.tv']   \n",
    "print(\"\\nThe original string and list: \" + str1) \n",
    "print(str1)\n",
    "print(lst)\n",
    "print(\"\\nCheck if\",str1,\"contains an element, which is present in the list\",lst)\n",
    "print(test(lst,str1))\n"
   ]
  },
  {
   "cell_type": "code",
   "execution_count": 213,
   "id": "59dfa4f1-2b74-4b29-a7fe-449f36d519ec",
   "metadata": {},
   "outputs": [
    {
     "name": "stdout",
     "output_type": "stream",
     "text": [
      "Original list:\n",
      "[1, None, 5, 4, None, 0, None, None]\n",
      "\n",
      "Indexes of all None items of the list:\n",
      "[1, 4, 6, 7]\n"
     ]
    }
   ],
   "source": [
    "def relative_order(lst):\n",
    "    result = [i for i in range(len(lst)) if lst[i] == None]\n",
    "    return result\n",
    "\n",
    "nums = [1, None, 5, 4,None, 0, None, None]\n",
    "print(\"Original list:\")\n",
    "print(nums)\n",
    "print(\"\\nIndexes of all None items of the list:\")\n",
    "print(relative_order(nums))\n"
   ]
  },
  {
   "cell_type": "code",
   "execution_count": 214,
   "id": "0c02fd99-b9ca-41a9-afa8-b52d81070ec8",
   "metadata": {},
   "outputs": [
    {
     "name": "stdout",
     "output_type": "stream",
     "text": [
      "Original list:\n",
      "['1', '2', '3', '4', '5', '6', '7', '8']\n",
      "\n",
      "Join adjacent members of a given list:\n",
      "['12', '34', '56', '78']\n",
      "\n",
      "Original list:\n",
      "['1', '2', '3']\n",
      "\n",
      "Join adjacent members of a given list:\n",
      "['12']\n"
     ]
    }
   ],
   "source": [
    "def test(lst):\n",
    "    result = [x + y for x, y in zip(lst[::2],lst[1::2])]\n",
    "    return result\n",
    "\n",
    "nums = ['1','2','3','4','5','6','7','8']\n",
    "print(\"Original list:\")\n",
    "print(nums)\n",
    "print(\"\\nJoin adjacent members of a given list:\")\n",
    "print(test(nums))\n",
    "\n",
    "nums = ['1','2','3']\n",
    "print(\"\\nOriginal list:\")\n",
    "print(nums)\n",
    "print(\"\\nJoin adjacent members of a given list:\")\n",
    "print(test(nums))\n"
   ]
  },
  {
   "cell_type": "code",
   "execution_count": 215,
   "id": "f3a03a57-0b6d-4316-b7d2-0f52a49b1a2f",
   "metadata": {},
   "outputs": [
    {
     "name": "stdout",
     "output_type": "stream",
     "text": [
      "\n",
      "Original list:\n",
      "[1234, 122, 1984, 19372, 100]\n",
      "Check if first digit in each element of the said given list is same or not!\n",
      "True\n",
      "\n",
      "Original list:\n",
      "[1234, 922, 1984, 19372, 100]\n",
      "Check if first digit in each element of the said given list is same or not!\n",
      "False\n",
      "\n",
      "Original list:\n",
      "['aabc', 'abc', 'ab', 'a']\n",
      "Check if first character in each element of the said given list is same or not!\n",
      "True\n",
      "\n",
      "Original list:\n",
      "['aabc', 'abc', 'ab', 'ha']\n",
      "Check if first character in each element of the said given list is same or not!\n",
      "False\n"
     ]
    }
   ],
   "source": [
    "def test(lst):\n",
    "    result = all(str(x)[0] == str(lst[0])[0] for x in lst) \n",
    "    return result\n",
    "nums = [1234, 122, 1984, 19372, 100]\n",
    "print(\"\\nOriginal list:\")\n",
    "print(nums)\n",
    "print(\"Check if first digit in each element of the said given list is same or not!\")\n",
    "print(test(nums))\n",
    "nums = [1234, 922, 1984, 19372, 100]\n",
    "print(\"\\nOriginal list:\")\n",
    "print(nums)\n",
    "print(\"Check if first digit in each element of the said given list is same or not!\")\n",
    "print(test(nums))\n",
    "nums = ['aabc', 'abc', 'ab', 'a']\n",
    "print(\"\\nOriginal list:\")\n",
    "print(nums)\n",
    "print(\"Check if first character in each element of the said given list is same or not!\")\n",
    "print(test(nums))\n",
    "nums = ['aabc', 'abc', 'ab', 'ha']\n",
    "print(\"\\nOriginal list:\")\n",
    "print(nums)\n",
    "print(\"Check if first character in each element of the said given list is same or not!\")\n",
    "print(test(nums))\n"
   ]
  },
  {
   "cell_type": "code",
   "execution_count": 216,
   "id": "3f5399d9-a345-40d4-8ccb-d4899dd0c6b9",
   "metadata": {},
   "outputs": [
    {
     "name": "stdout",
     "output_type": "stream",
     "text": [
      "\n",
      "Original list:\n",
      "[1234, 1522, 1984, 19372, 1000, 2342, 7626]\n",
      "Indices of elements of the said list, greater than 3000\n",
      "[3, 6]\n",
      "\n",
      "Original list:\n",
      "[1234, 1522, 1984, 19372, 1000, 2342, 7626]\n",
      "Indices of elements of the said list, greater than 20000\n",
      "[]\n"
     ]
    }
   ],
   "source": [
    "def test(lst, value):\n",
    "    result = [i for i,val in enumerate(lst) if val > value]\n",
    "    return result\n",
    "nums = [1234, 1522, 1984, 19372, 1000, 2342, 7626]\n",
    "print(\"\\nOriginal list:\")\n",
    "print(nums)\n",
    "val = 3000\n",
    "print(\"Indices of elements of the said list, greater than\",val)\n",
    "print(test(nums,val))\n",
    "nums = [1234, 1522, 1984, 19372, 1000, 2342, 7626]\n",
    "print(\"\\nOriginal list:\")\n",
    "print(nums)\n",
    "val = 20000\n",
    "print(\"Indices of elements of the said list, greater than\",val)\n",
    "print(test(nums,val))\n"
   ]
  },
  {
   "cell_type": "code",
   "execution_count": 217,
   "id": "02df4d3d-e094-4078-8f74-d32345c40d53",
   "metadata": {},
   "outputs": [
    {
     "name": "stdout",
     "output_type": "stream",
     "text": [
      "\n",
      "Original list:\n",
      "['abc ', '  ', ' ', 'sdfds ', ' ', '     ', 'sdfds ', 'huy']\n",
      "Remove additional spaces from the said list:\n",
      "['abc', '', '', 'sdfds', '', '', 'sdfds', 'huy']\n"
     ]
    }
   ],
   "source": [
    "def test(lst):\n",
    "    result =[]\n",
    "    for i in lst:\n",
    "        j = i.replace(' ','')\n",
    "        result.append(j)\n",
    "    return result\n",
    "\n",
    "text = ['abc ', '  ', ' ', 'sdfds ', ' ', '     ', 'sdfds ', 'huy']\n",
    "print(\"\\nOriginal list:\")\n",
    "print(text)\n",
    "print(\"Remove additional spaces from the said list:\")\n",
    "print(test(text))\n"
   ]
  },
  {
   "cell_type": "code",
   "execution_count": 218,
   "id": "58017651-465e-4417-bb82-07575c3c93ca",
   "metadata": {},
   "outputs": [
    {
     "name": "stdout",
     "output_type": "stream",
     "text": [
      "\n",
      "Original lists:\n",
      "[('red', 'green'), ('black', 'white'), ('orange', 'pink')]\n",
      "[('red', 'green'), ('orange', 'pink')]\n",
      "\n",
      "Common tuples between two said lists\n",
      "[('orange', 'pink'), ('red', 'green')]\n",
      "\n",
      "Original lists:\n",
      "[('red', 'green'), ('orange', 'pink')]\n",
      "[('red', 'green'), ('black', 'white'), ('orange', 'pink')]\n",
      "\n",
      "Common tuples between two said lists\n",
      "[('orange', 'pink'), ('red', 'green')]\n"
     ]
    }
   ],
   "source": [
    "def test(list1, list2):\n",
    "    result =  set(list1).intersection(list2)\n",
    "    return list(result)\n",
    "list1 =  [('red', 'green'), ('black', 'white'), ('orange', 'pink')] \n",
    "list2 =  [('red', 'green'), ('orange', 'pink')] \n",
    "print(\"\\nOriginal lists:\")\n",
    "print(list1)\n",
    "print(list2)\n",
    "print(\"\\nCommon tuples between two said lists\")\n",
    "print(test(list1,list2)) \n",
    "list1 =  [('red', 'green'), ('orange', 'pink')] \n",
    "list2 =  [('red', 'green'), ('black', 'white'), ('orange', 'pink')] \n",
    "print(\"\\nOriginal lists:\")\n",
    "print(list1)\n",
    "print(list2)\n",
    "print(\"\\nCommon tuples between two said lists\")\n",
    "print(test(list1,list2))\n"
   ]
  },
  {
   "cell_type": "code",
   "execution_count": 219,
   "id": "e1ed8087-969f-4b1e-b145-5ef7bff028e1",
   "metadata": {},
   "outputs": [
    {
     "name": "stdout",
     "output_type": "stream",
     "text": [
      "\n",
      "Original list:\n",
      "[1, 2, 3, 4, 5, 6, 7]\n",
      "\n",
      "Sum the said list of numbers:\n",
      "[1.5, 2.5, 3.5, 4.5, 5.5, 6.5]\n",
      "\n",
      "Original list:\n",
      "[0, 1, -3, 3, 7, -5, 6, 7, 11]\n",
      "\n",
      "Sum the said list of numbers:\n",
      "[0.5, -1.0, 0.0, 5.0, 1.0, 0.5, 6.5, 9.0]\n"
     ]
    }
   ],
   "source": [
    "#Source: shorturl.at/csxLM\n",
    "def test(list1):\n",
    "    result =   [(x + y) / 2.0 for (x, y) in zip(list1[:-1], list1[1:])]\n",
    "    return list(result)\n",
    "\n",
    "nums =  [1,2,3,4,5,6,7]\n",
    "print(\"\\nOriginal list:\")\n",
    "print(nums)\n",
    "print(\"\\nSum the said list of numbers:\")\n",
    "print(test(nums))\n",
    "\n",
    "nums =  [0,1,-3,3,7,-5,6,7,11]\n",
    "print(\"\\nOriginal list:\")\n",
    "print(nums)\n",
    "print(\"\\nSum the said list of numbers:\")\n",
    "print(test(nums))\n"
   ]
  },
  {
   "cell_type": "code",
   "execution_count": 220,
   "id": "f7ff9da0-7124-40f4-b52e-0633414a335b",
   "metadata": {},
   "outputs": [
    {
     "name": "stdout",
     "output_type": "stream",
     "text": [
      "\n",
      "Original list:\n",
      "[3, 4, 6, 2, 0, 0, 0, 0, 0, 0, 6, 7, 6, 9, 10, 0, 0, 0, 0, 0, 5, 9, 9, 7, 4, 4, 0, 0, 0, 0, 0, 0, 5, 3, 2, 9, 7, 1]\n",
      "\n",
      "Number of groups of non-zero numbers separated by zeros of the said list:\n",
      "4\n"
     ]
    }
   ],
   "source": [
    "def test(lst):\n",
    "    previous_digit = 0\n",
    "    ctr = 0\n",
    "    for digit in lst:\n",
    "        if previous_digit==0 and digit!=0:\n",
    "            ctr+=1\n",
    "        previous_digit = digit\n",
    "    return ctr\n",
    "\n",
    "nums = [3,4,6,2,0,0,0,0,0,0,6,7,6,9,10,0,0,0,0,0,5,9,9,7,4,4,0,0,0,0,0,0,5,3,2,9,7,1]\n",
    "\n",
    "print(\"\\nOriginal list:\")\n",
    "print(nums)\n",
    "print(\"\\nNumber of groups of non-zero numbers separated by zeros of the said list:\")\n",
    "print(test(nums)) \n"
   ]
  },
  {
   "cell_type": "code",
   "execution_count": 221,
   "id": "b279a65d-05f7-45b6-809b-e99213170365",
   "metadata": {},
   "outputs": [
    {
     "name": "stdout",
     "output_type": "stream",
     "text": [
      "\n",
      "Original list:\n",
      "[3, 4, 6, 2, 0, 0, 0, 0, 0, 0, 6, 7, 6, 9, 10, 0, 0, 0, 0, 0, 7, 4, 4, 0, 0, 0, 0, 0, 0, 5, 3, 2, 9, 7, 1, 0, 0, 0]\n",
      "\n",
      "Compute the sum of non-zero groups (separated by zeros) of the said list of numbers:\n",
      "[15, 38, 15, 27]\n"
     ]
    }
   ],
   "source": [
    "def test(lst):\n",
    "    result = []\n",
    "    ele_val = 0\n",
    "    for digit in lst:\n",
    "        if digit == 0:\n",
    "            if ele_val != 0:\n",
    "                result.append(ele_val)\n",
    "                ele_val = 0\n",
    "        else:\n",
    "            ele_val += digit \n",
    "    if ele_val>0:\n",
    "        result.append(ele_val) \n",
    "    return result\n",
    "nums = [3,4,6,2,0,0,0,0,0,0,6,7,6,9,10,0,0,0,0,0,7,4,4,0,0,0,0,0,0,5,3,2,9,7,1,0,0,0]\n",
    "print(\"\\nOriginal list:\")\n",
    "print(nums)\n",
    "print(\"\\nCompute the sum of non-zero groups (separated by zeros) of the said list of numbers:\")\n",
    "print(test(nums))\n"
   ]
  },
  {
   "cell_type": "code",
   "execution_count": 222,
   "id": "a1e2c741-04bb-4e04-9fcf-2cf6e313c72a",
   "metadata": {},
   "outputs": [
    {
     "name": "stdout",
     "output_type": "stream",
     "text": [
      "Original list:\n",
      "['Ricky Rivera', 98, 'Math', 90, 'Science']\n",
      "\n",
      "After deleting an element:, using index of the element:\n",
      "[98, 'Math', 90, 'Science']\n"
     ]
    }
   ],
   "source": [
    "student = ['Ricky Rivera', 98, 'Math', 90, 'Science']\n",
    "print(\"Original list:\")\n",
    "print(student)\n",
    "print(\"\\nAfter deleting an element:, using index of the element:\")\n",
    "del(student[0])\n",
    "print(student)\n"
   ]
  },
  {
   "cell_type": "code",
   "execution_count": 223,
   "id": "62fcc6db-65e7-4c5c-a376-d90146f00694",
   "metadata": {},
   "outputs": [
    {
     "name": "stdout",
     "output_type": "stream",
     "text": [
      "Original list: [34.67, 12, -94.89, 'Python', 0, 'C#']\n",
      "After removing all the values except integer values from the said array of mixed values:\n",
      "[12, 0]\n"
     ]
    }
   ],
   "source": [
    "def test(lst):\n",
    "    return [lst for lst in lst if isinstance(lst, int)]\n",
    "mixed_list = [34.67, 12, -94.89, \"Python\", 0, \"C#\"]\n",
    "print(\"Original list:\", mixed_list)\n",
    "print(\"After removing all the values except integer values from the said array of mixed values:\")\n",
    "print(test(mixed_list)) \n"
   ]
  },
  {
   "cell_type": "code",
   "execution_count": 224,
   "id": "c2d742b7-967f-4a09-a84d-6c39dd4d724c",
   "metadata": {},
   "outputs": [
    {
     "name": "stdout",
     "output_type": "stream",
     "text": [
      "Original list elements:\n",
      "[-14, 15, -10, -11, -12, -13, 16, 17, 18, 19, 20]\n",
      "Sum of two lowest negative numbers of the said array of integers:  -27\n",
      "\n",
      "Original list elements:\n",
      "[-4, 5, -2, 0, 3, -1, 4, 9]\n",
      "Sum of two lowest negative numbers of the said array of integers:  -6\n"
     ]
    }
   ],
   "source": [
    "def test(nums):\n",
    "    result = sorted([item for item in nums if item < 0])\n",
    "    return result[0]+result[1]\n",
    "\n",
    "nums = [-14, 15, -10, -11, -12, -13, 16, 17, 18, 19, 20]\n",
    "print(\"Original list elements:\")\n",
    "print(nums)\n",
    "print(\"Sum of two lowest negative numbers of the said array of integers: \",test(nums))\n",
    "nums = [-4, 5, -2, 0, 3, -1, 4 , 9]\n",
    "print(\"\\nOriginal list elements:\")\n",
    "print(nums)\n",
    "print(\"Sum of two lowest negative numbers of the said array of integers: \",test(nums))\n"
   ]
  },
  {
   "cell_type": "code",
   "execution_count": 225,
   "id": "7487c769-0e5d-42da-a74e-31ff331c35ce",
   "metadata": {},
   "outputs": [
    {
     "name": "stdout",
     "output_type": "stream",
     "text": [
      "Original Number:  134543\n",
      "Descending order of the said number:  544331\n",
      "Ascending order of the said number:  133445\n",
      "\n",
      "Original Number:  43750973\n",
      "Descending order of the said number:  97754330\n",
      "Ascending order of the said number:  3345779\n"
     ]
    }
   ],
   "source": [
    "def test_dsc(n):\n",
    "    return int(''.join(sorted(str(n), reverse = True)))\n",
    "\n",
    "def test_asc(n):\n",
    "    return int(''.join(sorted(list(str(n))))[::1])\n",
    "\n",
    "n = 134543\n",
    "print(\"Original Number: \",n);\n",
    "print(\"Descending order of the said number: \", test_dsc(n));\n",
    "print(\"Ascending order of the said number: \", test_asc(n));\n",
    "n = 43750973\n",
    "print(\"\\nOriginal Number: \",n);\n",
    "print(\"Descending order of the said number: \", test_dsc(n));\n",
    "print(\"Ascending order of the said number: \", test_asc(n));\n"
   ]
  },
  {
   "cell_type": "code",
   "execution_count": null,
   "id": "551cc273-5fef-49cc-b0f3-10392c2577f1",
   "metadata": {},
   "outputs": [],
   "source": []
  }
 ],
 "metadata": {
  "kernelspec": {
   "display_name": "Python 3",
   "language": "python",
   "name": "python3"
  },
  "language_info": {
   "codemirror_mode": {
    "name": "ipython",
    "version": 3
   },
   "file_extension": ".py",
   "mimetype": "text/x-python",
   "name": "python",
   "nbconvert_exporter": "python",
   "pygments_lexer": "ipython3",
   "version": "3.8.6"
  }
 },
 "nbformat": 4,
 "nbformat_minor": 5
}
