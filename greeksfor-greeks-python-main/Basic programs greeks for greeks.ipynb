{
 "cells": [
  {
   "cell_type": "code",
   "execution_count": 1,
   "id": "0302bb89-7424-4782-a32b-3c796cfc27f7",
   "metadata": {},
   "outputs": [
    {
     "name": "stdout",
     "output_type": "stream",
     "text": [
      "7\n"
     ]
    }
   ],
   "source": [
    "x = 3 \n",
    "y = 4\n",
    "print(x+y)"
   ]
  },
  {
   "cell_type": "code",
   "execution_count": 2,
   "id": "84542fa4-955e-41ab-a0ca-c21e30cd4faf",
   "metadata": {},
   "outputs": [
    {
     "name": "stdin",
     "output_type": "stream",
     "text": [
      "first number: 5\n",
      "\n",
      "second number: 6\n"
     ]
    },
    {
     "name": "stdout",
     "output_type": "stream",
     "text": [
      "11\n"
     ]
    }
   ],
   "source": [
    "x = input (\"first number:\")\n",
    "y = input (\"\\nsecond number:\")\n",
    "sum = int(x) + int(y)\n",
    "print(sum)"
   ]
  },
  {
   "cell_type": "code",
   "execution_count": 3,
   "id": "c7d8888c-33e9-4bc5-ae19-5d78a16c4cb5",
   "metadata": {},
   "outputs": [
    {
     "name": "stdin",
     "output_type": "stream",
     "text": [
      "First number:  15.3\n",
      "\n",
      "Second number:  2.6\n"
     ]
    },
    {
     "name": "stdout",
     "output_type": "stream",
     "text": [
      "The sum of 15.3 and 2.6 is 17.900000000000002\n"
     ]
    }
   ],
   "source": [
    "number1 = input(\"First number: \")\n",
    "number2 = input(\"\\nSecond number: \")\n",
    "sum = float(number1) + float(number2)\n",
    "print(\"The sum of {0} and {1} is {2}\" .format(number1, number2, sum))"
   ]
  },
  {
   "cell_type": "code",
   "execution_count": 4,
   "id": "6727e188-e3b2-4c2f-a445-a96a9d97153c",
   "metadata": {},
   "outputs": [
    {
     "name": "stdout",
     "output_type": "stream",
     "text": [
      "sum of 3 and 4 is 7\n"
     ]
    }
   ],
   "source": [
    "x = 3 \n",
    "y = 4\n",
    "sum = x + y\n",
    "print(\"sum of {0} and {1} is {2}\" .format(x, y, sum))"
   ]
  },
  {
   "cell_type": "code",
   "execution_count": 5,
   "id": "07800f43-d1de-4175-974c-d0d6a2f12a27",
   "metadata": {},
   "outputs": [
    {
     "name": "stdout",
     "output_type": "stream",
     "text": [
      "3\n"
     ]
    }
   ],
   "source": [
    "def maximum (a , b): #condition by using if-else\n",
    "    if a >= b:\n",
    "        return a\n",
    "    else:\n",
    "        return b\n",
    "a = 2\n",
    "b = 3\n",
    "print(maximum (a , b))"
   ]
  },
  {
   "cell_type": "code",
   "execution_count": 6,
   "id": "1300eead-4689-4695-a7f3-50f98a2469dd",
   "metadata": {},
   "outputs": [
    {
     "name": "stdout",
     "output_type": "stream",
     "text": [
      "3\n"
     ]
    }
   ],
   "source": [
    "a = 2\n",
    "b = 3\n",
    "x = max(a, b)\n",
    "print(x)"
   ]
  },
  {
   "cell_type": "code",
   "execution_count": 7,
   "id": "7d57c043-ab97-4c21-b773-dd4b93812926",
   "metadata": {},
   "outputs": [
    {
     "name": "stdout",
     "output_type": "stream",
     "text": [
      "Factorial of 5 is 120\n"
     ]
    }
   ],
   "source": [
    "def factorial(n):\n",
    "     return 1 if (n==1 or n==0) else n * factorial(n - 1);\n",
    "x = 5;\n",
    "print(\"Factorial of\",x,\"is\",\n",
    "factorial(x))\n"
   ]
  },
  {
   "cell_type": "code",
   "execution_count": 8,
   "id": "f1880d72-8f90-460d-ac8c-2aa1c80a26a3",
   "metadata": {},
   "outputs": [
    {
     "name": "stdout",
     "output_type": "stream",
     "text": [
      "120\n"
     ]
    }
   ],
   "source": [
    "def factorial(n):\n",
    "     return 1 if (n==1 or n==0) else n * factorial(n - 1);\n",
    "x = 5;\n",
    "print(factorial(x))"
   ]
  },
  {
   "cell_type": "code",
   "execution_count": 12,
   "id": "56b73433-ad31-4c5e-bbe2-ea50fa35f79d",
   "metadata": {},
   "outputs": [
    {
     "name": "stdout",
     "output_type": "stream",
     "text": [
      "120\n"
     ]
    }
   ],
   "source": [
    "def factorial(n):\n",
    "    if n < 0 :\n",
    "        return 0\n",
    "    elif n == 0 or n == 1:\n",
    "        return 1\n",
    "    else:\n",
    "        fact = 1\n",
    "        while(n > 1):\n",
    "            fact *= n\n",
    "            n -= 1\n",
    "        return fact\n",
    "x = 5;\n",
    "print(factorial(x))"
   ]
  },
  {
   "cell_type": "code",
   "execution_count": 13,
   "id": "b0f5933a-eadb-4b7b-9675-279e4d21897b",
   "metadata": {},
   "outputs": [
    {
     "name": "stdout",
     "output_type": "stream",
     "text": [
      "120\n"
     ]
    }
   ],
   "source": [
    "import math\n",
    "def factorial(n):\n",
    "    return(math.factorial(n))\n",
    "x =5\n",
    "print(factorial(x))"
   ]
  },
  {
   "cell_type": "code",
   "execution_count": 15,
   "id": "6c6c1296-7e84-45d2-9b85-06af29527f49",
   "metadata": {},
   "outputs": [
    {
     "name": "stdout",
     "output_type": "stream",
     "text": [
      "principal intrest 7\n",
      "time period 8\n",
      "rate of intrest 9\n",
      "simple intrest 5.04\n"
     ]
    },
    {
     "data": {
      "text/plain": [
       "5.04"
      ]
     },
     "execution_count": 15,
     "metadata": {},
     "output_type": "execute_result"
    }
   ],
   "source": [
    "#simple intrest\n",
    "def simple_intrest(p,t,r):\n",
    "    print(\"principal intrest\", p)\n",
    "    print(\"time period\", t)\n",
    "    print(\"rate of intrest\", r)\n",
    "    \n",
    "    si = (p*t*r)/100\n",
    "    print(\"simple intrest\",si)\n",
    "    return si\n",
    "simple_intrest( 7,8,9)"
   ]
  },
  {
   "cell_type": "code",
   "execution_count": 26,
   "id": "7f46b319-b9c8-4471-9db1-e0e281ad0b99",
   "metadata": {},
   "outputs": [
    {
     "name": "stdout",
     "output_type": "stream",
     "text": [
      "Compound interest is 6288.946267774416\n"
     ]
    }
   ],
   "source": [
    "def compound_interest(principle, rate, time):\n",
    "    Amount = principle * (pow((1 + rate / 100), time))\n",
    "    CI = Amount - principle\n",
    "    print(\"Compound interest is\", CI)\n",
    "compound_interest(10000, 10.25, 5)"
   ]
  },
  {
   "cell_type": "code",
   "execution_count": 31,
   "id": "0841cb54-a219-4b1c-9590-3104b8f9b478",
   "metadata": {},
   "outputs": [
    {
     "name": "stdout",
     "output_type": "stream",
     "text": [
      "371\n"
     ]
    }
   ],
   "source": [
    "# Python3 Program to find Nth Armstrong Number\n",
    "import math;\n",
    "import sys;\n",
    " \n",
    "# Function to find Nth Armstrong Number\n",
    "def NthArmstrong(n):\n",
    " \n",
    "    count = 0;\n",
    "     \n",
    "    # upper limit from integer\n",
    "    for i in range(1, sys.maxsize):\n",
    " \n",
    "        num = i;\n",
    "        rem = 0;\n",
    "        digit = 0;\n",
    "        sum = 0;\n",
    "         \n",
    "        # Copy the value for num in num\n",
    "        num = i;\n",
    "         \n",
    "        # Find total digits in num\n",
    "        digit = int(math.log10(num) + 1);\n",
    "         \n",
    "        # Calculate sum of power of digits\n",
    "        while(num > 0):\n",
    "            rem = num % 10;\n",
    "            sum = sum + pow(rem, digit);\n",
    "            num = num // 10;\n",
    "               # Check for Armstrong number\n",
    "        if(i == sum):\n",
    "            count += 1;\n",
    "        if(count == n):\n",
    "            return i;\n",
    " \n",
    "# Driver Code\n",
    "n = 12;\n",
    "print(NthArmstrong(n));"
   ]
  },
  {
   "cell_type": "code",
   "execution_count": 32,
   "id": "e605511a-bbc9-45d3-bf42-a23101c45073",
   "metadata": {},
   "outputs": [
    {
     "name": "stdout",
     "output_type": "stream",
     "text": [
      "False\n",
      "True\n",
      "[0, 1, 153, 370, 371, 407]\n"
     ]
    }
   ],
   "source": [
    "def isArmstrong(val:int) -> bool:\n",
    "     \n",
    "    \"\"\"val will be tested to see if its an Armstrong number.\n",
    "    Arguments:\n",
    "        val {int} -- positive integer only.\n",
    "    Returns:\n",
    "        bool -- true is /false isn't\n",
    "    \"\"\"\n",
    "     \n",
    "    # break the int into its respective digits\n",
    "    parts = [int(_) for _ in str(val)]\n",
    "     \n",
    "    # begin test.\n",
    "    counter = 0\n",
    "    for _ in parts:\n",
    "        counter += _**3\n",
    "    return ( counter == val )\n",
    " \n",
    "# Check Armstrong number\n",
    "print(isArmstrong(100))\n",
    " \n",
    "print(isArmstrong(153))\n",
    " \n",
    "# Get all the Armstrong number in range(1000)\n",
    "print([ _ for _ in range(1000) if isArmstrong(_)])"
   ]
  },
  {
   "cell_type": "code",
   "execution_count": 33,
   "id": "73a9fd3f-305b-4ce8-94f5-9f0ebd29ec82",
   "metadata": {},
   "outputs": [
    {
     "name": "stdout",
     "output_type": "stream",
     "text": [
      "False\n"
     ]
    }
   ],
   "source": [
    "print(isArmstrong(100))"
   ]
  },
  {
   "cell_type": "code",
   "execution_count": 34,
   "id": "c297cc49-7834-40aa-b203-9d1c42f41876",
   "metadata": {},
   "outputs": [
    {
     "name": "stdout",
     "output_type": "stream",
     "text": [
      "True\n"
     ]
    }
   ],
   "source": [
    "print(isArmstrong(153))"
   ]
  },
  {
   "cell_type": "code",
   "execution_count": 39,
   "id": "deeefa36-512d-4acd-bf1d-84526d51a2e6",
   "metadata": {},
   "outputs": [
    {
     "name": "stdout",
     "output_type": "stream",
     "text": [
      "78.55\n"
     ]
    }
   ],
   "source": [
    "def findarea(r):\n",
    "    PI = 3.142\n",
    "    return PI*(r*r);\n",
    "print(findarea(5));\n"
   ]
  },
  {
   "cell_type": "code",
   "execution_count": 44,
   "id": "49c9a26a-8540-48c6-ab78-0cf3cf36a816",
   "metadata": {},
   "outputs": [
    {
     "name": "stdout",
     "output_type": "stream",
     "text": [
      "11\n",
      "13\n",
      "17\n",
      "19\n",
      "23\n",
      "29\n",
      "31\n"
     ]
    }
   ],
   "source": [
    "x = 11\n",
    "y = 31\n",
    "\n",
    "for i in range(x , y+1):\n",
    "    if i > 1:\n",
    "        for j in range(2, i):\n",
    "            if (i % j == 0):\n",
    "                break\n",
    "        else:\n",
    "            print(i)\n",
    "            "
   ]
  },
  {
   "cell_type": "code",
   "execution_count": 48,
   "id": "9c5e6b4b-c500-4a43-a3e7-619126b7b13e",
   "metadata": {},
   "outputs": [
    {
     "name": "stdout",
     "output_type": "stream",
     "text": [
      "11 is a prime number\n"
     ]
    }
   ],
   "source": [
    "num = 11\n",
    "\n",
    "# If given number is greater than 1\n",
    "if num > 1:\n",
    " \n",
    "    # Iterate from 2 to n / 2\n",
    "    for i in range(2, int(num/2)+1):\n",
    " \n",
    "        # If num is divisible by any number between\n",
    "        # 2 and n / 2, it is not prime\n",
    "        if (num % i) == 0:\n",
    "            print(num, \"is not a prime number\")\n",
    "            break\n",
    "    else:\n",
    "        print(num, \"is a prime number\")"
   ]
  },
  {
   "cell_type": "code",
   "execution_count": 49,
   "id": "00e7949b-f25a-42cb-be19-4bff4dacdcef",
   "metadata": {},
   "outputs": [
    {
     "name": "stdout",
     "output_type": "stream",
     "text": [
      "11 is  a prime number\n"
     ]
    }
   ],
   "source": [
    "num = 11\n",
    "\n",
    "# If given number is greater than 1\n",
    "if num > 1:\n",
    " \n",
    "    # Iterate from 2 to n / 2\n",
    "    for i in range(2, int(num/2)+1):\n",
    " \n",
    "        # If num is divisible by any number between\n",
    "        # 2 and n / 2, it is not prime\n",
    "        if (num % i) != 0:\n",
    "            print(num, \"is  a prime number\")\n",
    "            break\n",
    "    else:\n",
    "        print(num, \"is not a prime number\")"
   ]
  },
  {
   "cell_type": "code",
   "execution_count": 50,
   "id": "664e1226-c066-4f39-9f49-db51fa677b04",
   "metadata": {},
   "outputs": [
    {
     "name": "stdout",
     "output_type": "stream",
     "text": [
      "input is incoorect\n",
      "None\n"
     ]
    }
   ],
   "source": [
    "def Fibonacci(n):\n",
    "    if n<=0:\n",
    "        print(\"input is incoorect\")\n",
    "    elif n == 1:\n",
    "        return 0\n",
    "    elif n == 2:\n",
    "        return 1\n",
    "    else:\n",
    "        return Fibonacci(n-1)+Fibonacci(n-2)\n",
    "print(Fibonacci(0))\n",
    "    "
   ]
  },
  {
   "cell_type": "code",
   "execution_count": 53,
   "id": "95da9c80-f9ca-4406-bdaf-3612780412e5",
   "metadata": {},
   "outputs": [
    {
     "name": "stdout",
     "output_type": "stream",
     "text": [
      "21\n"
     ]
    }
   ],
   "source": [
    "# Function for nth fibonacci number - Dynamic Programming\n",
    "# Taking 1st two fibonacci nubers as 0 and 1\n",
    "\n",
    "FibArray = [0, 1]\n",
    "\n",
    "def fibonacci(n):\n",
    "\tif n<0:\n",
    "\t\tprint(\"Incorrect input\")\n",
    "\telif n<= len(FibArray):\n",
    "\t\treturn FibArray[n-1]\n",
    "\telse:\n",
    "\t\ttemp_fib = fibonacci(n-1)+fibonacci(n-2)\n",
    "\t\tFibArray.append(temp_fib)\n",
    "\t\treturn temp_fib\n",
    "\n",
    "# Driver Program\n",
    "\n",
    "print(fibonacci(9))\n",
    "\n",
    "# This code is contributed by Saket Modi\n"
   ]
  },
  {
   "cell_type": "code",
   "execution_count": 54,
   "id": "c0d2f86b-ecc1-46f7-9237-b7ea51b42723",
   "metadata": {},
   "outputs": [
    {
     "name": "stdout",
     "output_type": "stream",
     "text": [
      "21\n"
     ]
    }
   ],
   "source": [
    "# Function for nth fibonacci number - Space Optimisataion\n",
    "# Taking 1st two fibonacci numbers as 0 and 1\n",
    "\n",
    "def fibonacci(n):\n",
    "\ta = 0\n",
    "\tb = 1\n",
    "\tif n < 0:\n",
    "\t\tprint(\"Incorrect input\")\n",
    "\telif n == 0:\n",
    "\t\treturn a\n",
    "\telif n == 1:\n",
    "\t\treturn b\n",
    "\telse:\n",
    "\t\tfor i in range(2, n):\n",
    "\t\t\tc = a + b\n",
    "\t\t\ta = b\n",
    "\t\t\tb = c\n",
    "\t\treturn b\n",
    "\n",
    "# Driver Program\n",
    "\n",
    "print(fibonacci(9))\n",
    "\n",
    "# This code is contributed by Saket Modi\n"
   ]
  },
  {
   "cell_type": "code",
   "execution_count": 78,
   "id": "45bbedbc-6ad5-4fef-b7ab-48dfc0adaf9e",
   "metadata": {},
   "outputs": [
    {
     "name": "stdout",
     "output_type": "stream",
     "text": [
      "0\n",
      "1\n",
      "1\n",
      "2\n",
      "3\n",
      "5\n",
      "8\n",
      "13\n",
      "21\n",
      "34\n"
     ]
    }
   ],
   "source": [
    "def fibonacci (n):\n",
    "    a = 0\n",
    "    b = 1\n",
    "    \n",
    "    print(a)\n",
    "    print(b)\n",
    "    \n",
    "    for i in range(2,n):\n",
    "        c = a + b\n",
    "        a = b\n",
    "        b = c\n",
    "        print(c)\n",
    "fibonacci(10)    "
   ]
  },
  {
   "cell_type": "code",
   "execution_count": 86,
   "id": "b6c5249c-ebed-42f8-86b9-1e25090c934b",
   "metadata": {},
   "outputs": [
    {
     "name": "stdout",
     "output_type": "stream",
     "text": [
      "1\n",
      "2\n",
      "3\n"
     ]
    }
   ],
   "source": [
    "def fibonacci (n):\n",
    "    a = 0\n",
    "    b = 1\n",
    "    if n == 1:\n",
    "        print(a)\n",
    "    else:\n",
    "        for i in range(2,n):\n",
    "            c = a + b\n",
    "            a = b\n",
    "            b = c\n",
    "            print(c)  \n",
    "fibonacci(5)    \n"
   ]
  },
  {
   "cell_type": "code",
   "execution_count": 91,
   "id": "6961c567-7284-487b-ae34-cea56950454d",
   "metadata": {},
   "outputs": [
    {
     "name": "stdout",
     "output_type": "stream",
     "text": [
      "1\n",
      "2\n",
      "3\n",
      "5\n",
      "8\n",
      "13\n",
      "21\n",
      "34\n",
      "55\n",
      "89\n",
      "144\n",
      "233\n",
      "377\n",
      "610\n",
      "987\n",
      "1597\n",
      "2584\n",
      "4181\n",
      "6765\n",
      "10946\n",
      "17711\n",
      "28657\n",
      "46368\n",
      "75025\n",
      "121393\n",
      "196418\n",
      "317811\n",
      "514229\n",
      "832040\n",
      "1346269\n",
      "2178309\n",
      "3524578\n",
      "5702887\n",
      "9227465\n",
      "14930352\n",
      "24157817\n",
      "39088169\n",
      "63245986\n",
      "102334155\n",
      "165580141\n",
      "267914296\n",
      "433494437\n",
      "701408733\n",
      "1134903170\n",
      "1836311903\n",
      "2971215073\n",
      "4807526976\n",
      "7778742049\n",
      "12586269025\n",
      "20365011074\n",
      "32951280099\n",
      "53316291173\n",
      "86267571272\n",
      "139583862445\n",
      "225851433717\n",
      "365435296162\n",
      "591286729879\n",
      "956722026041\n",
      "1548008755920\n",
      "2504730781961\n",
      "4052739537881\n",
      "6557470319842\n",
      "10610209857723\n",
      "17167680177565\n",
      "27777890035288\n",
      "44945570212853\n",
      "72723460248141\n",
      "117669030460994\n",
      "190392490709135\n",
      "308061521170129\n",
      "498454011879264\n",
      "806515533049393\n",
      "1304969544928657\n",
      "2111485077978050\n",
      "3416454622906707\n",
      "5527939700884757\n",
      "8944394323791464\n",
      "14472334024676221\n",
      "23416728348467685\n",
      "37889062373143906\n",
      "61305790721611591\n",
      "99194853094755497\n",
      "160500643816367088\n",
      "259695496911122585\n",
      "420196140727489673\n",
      "679891637638612258\n",
      "1100087778366101931\n",
      "1779979416004714189\n",
      "2880067194370816120\n",
      "4660046610375530309\n",
      "7540113804746346429\n",
      "12200160415121876738\n",
      "19740274219868223167\n",
      "31940434634990099905\n",
      "51680708854858323072\n",
      "83621143489848422977\n",
      "135301852344706746049\n",
      "218922995834555169026\n"
     ]
    }
   ],
   "source": [
    "def fibonacci (n):\n",
    "    a = 0\n",
    "    b = 1\n",
    "    if n == 1:\n",
    "        print(a)\n",
    "    else:\n",
    "        for i in range(2,n):\n",
    "            c = a + b\n",
    "            a = b\n",
    "            b = c\n",
    "            print(c)  \n",
    "fibonacci(100)    "
   ]
  },
  {
   "cell_type": "code",
   "execution_count": 98,
   "id": "85e694b3-69ab-4333-b5e8-996fda268797",
   "metadata": {},
   "outputs": [
    {
     "name": "stdout",
     "output_type": "stream",
     "text": [
      "1\n",
      "2\n",
      "3\n",
      "4\n",
      "5\n",
      "6\n",
      "7\n",
      "8\n",
      "9\n",
      "10\n"
     ]
    }
   ],
   "source": [
    "import math\n",
    "  \n",
    "# A utility function that returns true if x is perfect square\n",
    "def isPerfectSquare(x):\n",
    "    s = int(math.sqrt(x))\n",
    "    return s*s == x\n",
    "  \n",
    "# Returns true if n is a Fibinacci Number, else false\n",
    "def isFibonacci(n):\n",
    "  \n",
    "    # n is Fibinacci if one of 5*n*n + 4 or 5*n*n - 4 or both\n",
    "    # is a perferct square\n",
    "    return isPerfectSquare(5*n*n + 4) or isPerfectSquare(5*n*n - 4)\n",
    "     \n",
    "# A utility function to test above functions\n",
    "for i in range(1,11):\n",
    "     if (isFibonacci(i) == True):\n",
    "         print(i),\"is a Fibonacci Number\"\n",
    "     else:\n",
    "         print(i),\"is a not Fibonacci Number \""
   ]
  },
  {
   "cell_type": "code",
   "execution_count": 105,
   "id": "92831eef-9441-4fc1-8bca-6f9b9e907842",
   "metadata": {},
   "outputs": [
    {
     "name": "stdout",
     "output_type": "stream",
     "text": [
      "Position of n'th multiple of k inFibonacci Seires is 5\n"
     ]
    }
   ],
   "source": [
    "def findposition(k,n):\n",
    "    a = 0\n",
    "    b = 1\n",
    "    i = 2;\n",
    "    while i!= 0:\n",
    "        c= a+b\n",
    "        a = b\n",
    "        b = c\n",
    "        if b % k == 0:\n",
    "            return n*1\n",
    "        i +=1\n",
    "    return\n",
    "n = 5;\n",
    "k = 4;\n",
    "print(\"Position of n\\'th multiple of k in\"\n",
    "\t\t\t\t\"Fibonacci Seires is\", findposition(k,n));\n",
    "            \n",
    "        \n",
    "    "
   ]
  },
  {
   "cell_type": "code",
   "execution_count": 108,
   "id": "4ba480e9-4ff5-47bf-9119-9a67f775ec47",
   "metadata": {},
   "outputs": [
    {
     "name": "stdout",
     "output_type": "stream",
     "text": [
      "Position of n'th multiple of k inFibonacci Seires is 30\n"
     ]
    }
   ],
   "source": [
    "# Python Program to find position of n\\'th multiple\n",
    "# of a mumber k in Fibonacci Series\n",
    "\n",
    "def findPosition(k, n):\n",
    "\tf1 = 0\n",
    "\tf2 = 1\n",
    "\ti =2;\n",
    "\twhile i!=0:\n",
    "\t\tf3 = f1 + f2;\n",
    "\t\tf1 = f2;\n",
    "\t\tf2 = f3;\n",
    "\n",
    "\t\tif f2%k == 0:\n",
    "\t\t\treturn n*i\n",
    "\n",
    "\t\ti+=1\n",
    "\t\t\n",
    "\treturn\n",
    "\n",
    "\n",
    "# Multiple no.\n",
    "n = 5;\n",
    "# Number of whose multiple we are finding\n",
    "k = 4;\n",
    "\n",
    "print(\"Position of n\\'th multiple of k in\"\n",
    "\t\t\t\t\"Fibonacci Seires is\",  findPosition(k,n));\n",
    "\n",
    "# Code contributed by Mohit Gupta_OMG\n"
   ]
  },
  {
   "cell_type": "code",
   "execution_count": 109,
   "id": "f1308126-fd4b-49fd-a5ec-3ce73b1063fd",
   "metadata": {},
   "outputs": [
    {
     "name": "stdout",
     "output_type": "stream",
     "text": [
      "The ASCII valve of 'x' is 120\n"
     ]
    }
   ],
   "source": [
    "c = \"x\"\n",
    "print(\"The ASCII valve of '\" + c +\"' is\", ord(c))"
   ]
  },
  {
   "cell_type": "code",
   "execution_count": 110,
   "id": "bdc19691-31ea-439a-a825-1ee4210d53a2",
   "metadata": {},
   "outputs": [
    {
     "name": "stdout",
     "output_type": "stream",
     "text": [
      "The ASCII value of 'g' is 103\n"
     ]
    }
   ],
   "source": [
    "c = 'g'\n",
    "print(\"The ASCII value of '\" + c + \"' is\", ord(c))"
   ]
  },
  {
   "cell_type": "code",
   "execution_count": 111,
   "id": "075af86b-b131-4207-b972-23e7ba9587cc",
   "metadata": {},
   "outputs": [
    {
     "name": "stdout",
     "output_type": "stream",
     "text": [
      "30\n"
     ]
    }
   ],
   "source": [
    "def squaresum(n):\n",
    "    x = 0\n",
    "    for i in range(1, n+1):\n",
    "        x = x + (i*i)\n",
    "    return x\n",
    "n = 4\n",
    "print(squaresum(n))\n",
    "        "
   ]
  },
  {
   "cell_type": "code",
   "execution_count": 113,
   "id": "2aef6069-ca0e-4230-9625-3d57d0228e47",
   "metadata": {},
   "outputs": [
    {
     "name": "stdout",
     "output_type": "stream",
     "text": [
      "30\n"
     ]
    }
   ],
   "source": [
    "def squaresum(n):\n",
    "    return(n* (n + 1) * (2 * n + 1))//6\n",
    "n = 4\n",
    "print(squaresum(n))"
   ]
  },
  {
   "cell_type": "code",
   "execution_count": 116,
   "id": "0f4c8a8a-a456-4836-be75-20525555d7ee",
   "metadata": {},
   "outputs": [
    {
     "name": "stdout",
     "output_type": "stream",
     "text": [
      "30\n"
     ]
    }
   ],
   "source": [
    "def squaresum(n):\n",
    "    return(n * (n + 1) / 2) * (2 * n + 1)/3\n",
    "n = 4\n",
    "print(int(squaresum(n)));"
   ]
  },
  {
   "cell_type": "code",
   "execution_count": 117,
   "id": "dbdb34fb-7208-478c-9b27-3e82207cde77",
   "metadata": {},
   "outputs": [
    {
     "name": "stdout",
     "output_type": "stream",
     "text": [
      "30.0\n"
     ]
    }
   ],
   "source": [
    "def squaresum(n):\n",
    "    return(n * (n + 1) / 2) * (2 * n + 1)/3\n",
    "n = 4\n",
    "print(squaresum(n))"
   ]
  },
  {
   "cell_type": "code",
   "execution_count": 118,
   "id": "c8d94c78-21e7-416b-9794-708f3498d7c7",
   "metadata": {},
   "outputs": [
    {
     "name": "stdout",
     "output_type": "stream",
     "text": [
      "30\n"
     ]
    }
   ],
   "source": [
    "def squaresum(n):\n",
    "    return(n * (n + 1) / 2) * (2 * n + 1)/3\n",
    "n = 4\n",
    "print(int(squaresum(n)))"
   ]
  },
  {
   "cell_type": "code",
   "execution_count": 119,
   "id": "97b0a55c-e488-4a7a-9292-09c58bdbe452",
   "metadata": {},
   "outputs": [
    {
     "name": "stdout",
     "output_type": "stream",
     "text": [
      "225\n"
     ]
    }
   ],
   "source": [
    "def sumofseris(n):\n",
    "    sum = 0\n",
    "    for i in range(1, n+1):\n",
    "        sum += i*i*i\n",
    "    return sum\n",
    "n = 5\n",
    "print(sumofseris(n))"
   ]
  },
  {
   "cell_type": "code",
   "execution_count": 125,
   "id": "1da47773-8116-457b-a5ef-a9e79009e5b9",
   "metadata": {},
   "outputs": [
    {
     "name": "stdout",
     "output_type": "stream",
     "text": [
      "225\n"
     ]
    }
   ],
   "source": [
    "def sumofseris(n):\n",
    "    x = (n *(n +1)/2)\n",
    "    return(int)(x * x)\n",
    "n = 5\n",
    "print(sumofseris(n))"
   ]
  },
  {
   "cell_type": "code",
   "execution_count": null,
   "id": "5d5de8e1-6a41-454a-8757-d60208411dc0",
   "metadata": {},
   "outputs": [],
   "source": []
  }
 ],
 "metadata": {
  "kernelspec": {
   "display_name": "Python 3",
   "language": "python",
   "name": "python3"
  },
  "language_info": {
   "codemirror_mode": {
    "name": "ipython",
    "version": 3
   },
   "file_extension": ".py",
   "mimetype": "text/x-python",
   "name": "python",
   "nbconvert_exporter": "python",
   "pygments_lexer": "ipython3",
   "version": "3.8.6"
  }
 },
 "nbformat": 4,
 "nbformat_minor": 5
}
