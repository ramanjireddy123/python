{
 "cells": [
  {
   "cell_type": "code",
   "execution_count": 1,
   "id": "a479bc27-dabc-4972-af27-ba3e3ac9e5c7",
   "metadata": {},
   "outputs": [
    {
     "name": "stdout",
     "output_type": "stream",
     "text": [
      "{'gfg': [5, 6, 7, 8], 'is': [10, 11, 7, 5], 'best': [6, 12, 10, 8], 'for': [1, 2, 5]}\n",
      "[1, 2, 5, 6, 7, 8, 10, 11, 12]\n"
     ]
    }
   ],
   "source": [
    "# Python – Extract Unique values dictionary values\n",
    "# Using sorted() + set comprehension + values()     Using set comprehension + values() + sorted()\n",
    "test_dict = {'gfg' : [5, 6, 7, 8],\n",
    "\t\t\t'is' : [10, 11, 7, 5],\n",
    "\t\t\t'best' : [6, 12, 10, 8],\n",
    "\t\t\t'for' : [1, 2, 5]}\n",
    "print(test_dict)\n",
    "res = list(sorted({ele for val in test_dict.values() for ele in val}))\n",
    "print(res)"
   ]
  },
  {
   "cell_type": "code",
   "execution_count": 2,
   "id": "b3c288b6-cbc5-449e-8605-674efa7dcc58",
   "metadata": {},
   "outputs": [
    {
     "name": "stdout",
     "output_type": "stream",
     "text": [
      "{'gfg': [5, 6, 7, 8], 'is': [10, 11, 7, 5], 'best': [6, 12, 10, 8], 'for': [1, 2, 5]}\n",
      "[1, 2, 5, 6, 7, 8, 10, 11, 12]\n"
     ]
    }
   ],
   "source": [
    "# Using chain() + sorted() + values()\n",
    "from itertools import chain\n",
    "test_dict = {'gfg' : [5, 6, 7, 8],\n",
    "\t\t\t'is' : [10, 11, 7, 5],\n",
    "\t\t\t'best' : [6, 12, 10, 8],\n",
    "\t\t\t'for' : [1, 2, 5]}\n",
    "print(test_dict)\n",
    "res = list(sorted(set(chain(*test_dict.values()))))\n",
    "print(res)"
   ]
  },
  {
   "cell_type": "code",
   "execution_count": 3,
   "id": "fc4faa32-c824-4f2e-902c-b9b409350f53",
   "metadata": {},
   "outputs": [
    {
     "name": "stdout",
     "output_type": "stream",
     "text": [
      "600\n"
     ]
    }
   ],
   "source": [
    "# Python program to find the sum of all items in a dictionary\n",
    "# Using Inbuilt sum() Function\n",
    "def returnSum(myDict):\t\n",
    "\tsum = 0\n",
    "\tfor i in myDict:\n",
    "\t\tsum = sum + myDict[i]\n",
    "\treturn sum\n",
    "dict = {'a': 100, 'b':200, 'c':300}\n",
    "print(returnSum(dict))\n"
   ]
  },
  {
   "cell_type": "code",
   "execution_count": 4,
   "id": "dd049196-99b3-4860-ad6c-3cefca0434a9",
   "metadata": {},
   "outputs": [
    {
     "name": "stdout",
     "output_type": "stream",
     "text": [
      "Sum : 600\n"
     ]
    }
   ],
   "source": [
    "# Using For loop to iterate through values using values()\n",
    "def returnSum(dict):\t\n",
    "\tsum = 0\n",
    "\tfor i in dict.values():\n",
    "\t\tsum = sum + i\n",
    "\treturn sum\n",
    "dict = {'a': 100, 'b':200, 'c':300}\n",
    "print(\"Sum :\", returnSum(dict))\n"
   ]
  },
  {
   "cell_type": "code",
   "execution_count": 5,
   "id": "dc668ed1-9630-4204-b418-1aa4dd34b06f",
   "metadata": {},
   "outputs": [
    {
     "name": "stdout",
     "output_type": "stream",
     "text": [
      "600\n"
     ]
    }
   ],
   "source": [
    "# Using For loop to iterate through items of Dictionary\n",
    "def returnSum(dict):\n",
    "\tsum = 0\n",
    "\tfor i in dict:\n",
    "\t\tsum = sum + dict[i]\n",
    "\treturn sum\n",
    "dict = {'a': 100, 'b':200, 'c':300}\n",
    "print(returnSum(dict))"
   ]
  },
  {
   "cell_type": "code",
   "execution_count": 6,
   "id": "6684eb20-6ea7-4a16-9f00-a875f4ffb731",
   "metadata": {},
   "outputs": [
    {
     "name": "stdout",
     "output_type": "stream",
     "text": [
      "{'Arushi': 22, 'Anuradha': 21, 'Mani': 21, 'Haritha': 21}\n",
      "{'Arushi': 22, 'Anuradha': 21, 'Haritha': 21}\n"
     ]
    },
    {
     "ename": "KeyError",
     "evalue": "'Manjeet'",
     "output_type": "error",
     "traceback": [
      "\u001b[1;31m---------------------------------------------------------------------------\u001b[0m",
      "\u001b[1;31mKeyError\u001b[0m                                  Traceback (most recent call last)",
      "\u001b[1;32m<ipython-input-6-6d4974f10ac6>\u001b[0m in \u001b[0;36m<module>\u001b[1;34m\u001b[0m\n\u001b[0;32m      7\u001b[0m \u001b[1;32mdel\u001b[0m \u001b[0mtest_dict\u001b[0m\u001b[1;33m[\u001b[0m\u001b[1;34m'Mani'\u001b[0m\u001b[1;33m]\u001b[0m\u001b[1;33m\u001b[0m\u001b[1;33m\u001b[0m\u001b[0m\n\u001b[0;32m      8\u001b[0m \u001b[0mprint\u001b[0m\u001b[1;33m(\u001b[0m\u001b[0mtest_dict\u001b[0m\u001b[1;33m)\u001b[0m\u001b[1;33m\u001b[0m\u001b[1;33m\u001b[0m\u001b[0m\n\u001b[1;32m----> 9\u001b[1;33m \u001b[1;32mdel\u001b[0m \u001b[0mtest_dict\u001b[0m\u001b[1;33m[\u001b[0m\u001b[1;34m'Manjeet'\u001b[0m\u001b[1;33m]\u001b[0m\u001b[1;33m\u001b[0m\u001b[1;33m\u001b[0m\u001b[0m\n\u001b[0m",
      "\u001b[1;31mKeyError\u001b[0m: 'Manjeet'"
     ]
    }
   ],
   "source": [
    "# Python | Ways to remove a key from dictionary\n",
    "# Demonstrating key-value pair deletion using del\n",
    "# removal of dict. pair   # using del\n",
    "\n",
    "test_dict = {\"Arushi\" : 22, \"Anuradha\" : 21, \"Mani\" : 21, \"Haritha\" : 21}\n",
    "print(test_dict)\n",
    "del test_dict['Mani']\n",
    "print(test_dict)\n",
    "del test_dict['Manjeet']"
   ]
  },
  {
   "cell_type": "code",
   "execution_count": 7,
   "id": "80621392-2c2a-4a53-aa2c-91ad8f80359a",
   "metadata": {},
   "outputs": [
    {
     "name": "stdout",
     "output_type": "stream",
     "text": [
      "{'Arushi': 22, 'Anuradha': 21, 'Mani': 21, 'Haritha': 21}\n",
      "{'Arushi': 22, 'Anuradha': 21, 'Haritha': 21}\n",
      "21\n",
      "\n",
      "{'Arushi': 22, 'Anuradha': 21, 'Haritha': 21}\n",
      "No Key found\n"
     ]
    }
   ],
   "source": [
    "# Using pop()\n",
    "# removal of dict. pair       # using pop()\n",
    "test_dict = {\"Arushi\" : 22, \"Anuradha\" : 21, \"Mani\" : 21, \"Haritha\" : 21}\n",
    "print(test_dict)\n",
    "removed_value = test_dict.pop('Mani')\n",
    "print(test_dict)\n",
    "print(removed_value)\n",
    "print ('\\r')\n",
    "removed_value = test_dict.pop('Manjeet', 'No Key found')\n",
    "print(test_dict)\n",
    "print(removed_value)"
   ]
  },
  {
   "cell_type": "code",
   "execution_count": 8,
   "id": "dc8d3bc0-7a84-46a0-b30e-3f420bc83870",
   "metadata": {},
   "outputs": [
    {
     "name": "stdout",
     "output_type": "stream",
     "text": [
      "{'Arushi': 22, 'Anuradha': 21, 'Mani': 21, 'Haritha': 21}\n",
      "{'Arushi': 22, 'Anuradha': 21, 'Haritha': 21}\n"
     ]
    }
   ],
   "source": [
    "# Using items() + dict comprehension\n",
    "# removal of dict. pair\n",
    "# using items() + dict comprehension\n",
    "test_dict = {\"Arushi\" : 22, \"Anuradha\" : 21, \"Mani\" : 21, \"Haritha\" : 21}\n",
    "print(test_dict)\n",
    "new_dict = {key:val for key, val in test_dict.items() if key != 'Mani'}\n",
    "print(new_dict)"
   ]
  },
  {
   "cell_type": "code",
   "execution_count": 9,
   "id": "c1877c3f-3059-4280-ba03-15e81d309ebd",
   "metadata": {},
   "outputs": [
    {
     "name": "stdout",
     "output_type": "stream",
     "text": [
      "The list printed sorting by age: \n"
     ]
    },
    {
     "ename": "AttributeError",
     "evalue": "'list' object has no attribute 'items'",
     "output_type": "error",
     "traceback": [
      "\u001b[1;31m---------------------------------------------------------------------------\u001b[0m",
      "\u001b[1;31mAttributeError\u001b[0m                            Traceback (most recent call last)",
      "\u001b[1;32m<ipython-input-9-ea2294c5b89a>\u001b[0m in \u001b[0;36m<module>\u001b[1;34m\u001b[0m\n\u001b[0;32m      8\u001b[0m { \"name\" : \"Nikhil\" , \"age\" : 19 }]\n\u001b[0;32m      9\u001b[0m \u001b[0mprint\u001b[0m\u001b[1;33m(\u001b[0m\u001b[1;34m\"The list printed sorting by age: \"\u001b[0m\u001b[1;33m)\u001b[0m\u001b[1;33m\u001b[0m\u001b[1;33m\u001b[0m\u001b[0m\n\u001b[1;32m---> 10\u001b[1;33m \u001b[0msorted\u001b[0m\u001b[1;33m(\u001b[0m\u001b[0mlis\u001b[0m\u001b[1;33m.\u001b[0m\u001b[0mitems\u001b[0m\u001b[1;33m(\u001b[0m\u001b[1;33m)\u001b[0m\u001b[1;33m,\u001b[0m \u001b[0mkey\u001b[0m\u001b[1;33m=\u001b[0m\u001b[0moperator\u001b[0m\u001b[1;33m.\u001b[0m\u001b[0mitemgetter\u001b[0m\u001b[1;33m(\u001b[0m\u001b[1;34m\"age\"\u001b[0m\u001b[1;33m)\u001b[0m\u001b[1;33m)\u001b[0m\u001b[1;33m\u001b[0m\u001b[1;33m\u001b[0m\u001b[0m\n\u001b[0m\u001b[0;32m     11\u001b[0m \u001b[0msortdict\u001b[0m\u001b[1;33m=\u001b[0m\u001b[0mdict\u001b[0m\u001b[1;33m(\u001b[0m\u001b[0mlis\u001b[0m\u001b[1;33m)\u001b[0m\u001b[1;33m\u001b[0m\u001b[1;33m\u001b[0m\u001b[0m\n\u001b[0;32m     12\u001b[0m \u001b[0mprint\u001b[0m\u001b[1;33m(\u001b[0m\u001b[0msortdict\u001b[0m\u001b[1;33m)\u001b[0m\u001b[1;33m\u001b[0m\u001b[1;33m\u001b[0m\u001b[0m\n",
      "\u001b[1;31mAttributeError\u001b[0m: 'list' object has no attribute 'items'"
     ]
    }
   ],
   "source": [
    "# Ways to sort list of dictionaries by values in Python – Using itemgetter\n",
    "# Python code demonstrate the working of sorted()\n",
    "# and itemgetter\n",
    "# importing \"operator\" for implementing itemgetter\n",
    "from operator import itemgetter\n",
    "lis = [{ \"name\" : \"Nandini\", \"age\" : 20},\n",
    "{ \"name\" : \"Manjeet\", \"age\" : 20 },\n",
    "{ \"name\" : \"Nikhil\" , \"age\" : 19 }]\n",
    "print(\"The list printed sorting by age: \")\n",
    "sorted(lis.items(), key=operator.itemgetter(\"age\"))\n",
    "sortdict=dict(lis)\n",
    "print(sortdict)"
   ]
  },
  {
   "cell_type": "code",
   "execution_count": 10,
   "id": "cac9fb2e-5e7f-45eb-a6d9-b0e5460704e7",
   "metadata": {},
   "outputs": [
    {
     "ename": "SyntaxError",
     "evalue": "invalid syntax (<ipython-input-10-e27a0ee47f09>, line 7)",
     "output_type": "error",
     "traceback": [
      "\u001b[1;36m  File \u001b[1;32m\"<ipython-input-10-e27a0ee47f09>\"\u001b[1;36m, line \u001b[1;32m7\u001b[0m\n\u001b[1;33m    print sorted(lis, key = lambda i: i['age'])\u001b[0m\n\u001b[1;37m          ^\u001b[0m\n\u001b[1;31mSyntaxError\u001b[0m\u001b[1;31m:\u001b[0m invalid syntax\n"
     ]
    }
   ],
   "source": [
    "# Ways to sort list of dictionaries by values in Python – Using lambda function\n",
    "# sorted() with lambda\n",
    "lis = [{ \"name\" : \"Nandini\", \"age\" : 20},\n",
    "{ \"name\" : \"Manjeet\", \"age\" : 20 },\n",
    "{ \"name\" : \"Nikhil\" , \"age\" : 19 }]\n",
    "print(\"The list printed sorting by age: \")\n",
    "print sorted(lis, key = lambda i: i['age'])\n",
    "print (\"\\r\")\n",
    "print(\"The list printed sorting by age and name: \")\n",
    "print sorted(lis, key = lambda i: (i['age'], i['name']))\n",
    "print (\"\\r\")\n",
    "print(\"The list printed sorting by age in descending order: \")\n",
    "print sorted(lis, key = lambda i: i['age'],reverse=True)"
   ]
  },
  {
   "cell_type": "code",
   "execution_count": 11,
   "id": "db91bed4-9c27-41f2-a3c1-8540229435f4",
   "metadata": {},
   "outputs": [
    {
     "name": "stdout",
     "output_type": "stream",
     "text": [
      "None\n",
      "{'d': 6, 'c': 4, 'a': 10, 'b': 8}\n"
     ]
    }
   ],
   "source": [
    "# Python | Merging two Dictionaries\n",
    "# Python code to merge dict using update() method\n",
    "def Merge(dict1, dict2):\n",
    "\treturn(dict2.update(dict1))\n",
    "dict1 = {'a': 10, 'b': 8}\n",
    "dict2 = {'d': 6, 'c': 4}\n",
    "print(Merge(dict1, dict2))\n",
    "print(dict2)"
   ]
  },
  {
   "cell_type": "code",
   "execution_count": 12,
   "id": "492a7619-80de-4a2c-ae66-f80e7103d257",
   "metadata": {},
   "outputs": [
    {
     "name": "stdout",
     "output_type": "stream",
     "text": [
      "{'a': 10, 'b': 8, 'd': 6, 'c': 4}\n"
     ]
    }
   ],
   "source": [
    "# Using ** in Python\n",
    "def Merge(dict1, dict2):\n",
    "\tres = {**dict1, **dict2}\n",
    "\treturn res\n",
    "dict1 = {'a': 10, 'b': 8}\n",
    "dict2 = {'d': 6, 'c': 4}\n",
    "dict3 = Merge(dict1, dict2)\n",
    "print(dict3)"
   ]
  },
  {
   "cell_type": "code",
   "execution_count": 14,
   "id": "6f857d11-83f3-4380-8f55-12618a34219d",
   "metadata": {},
   "outputs": [
    {
     "ename": "TypeError",
     "evalue": "unsupported operand type(s) for |: 'dict' and 'dict'",
     "output_type": "error",
     "traceback": [
      "\u001b[1;31m---------------------------------------------------------------------------\u001b[0m",
      "\u001b[1;31mTypeError\u001b[0m                                 Traceback (most recent call last)",
      "\u001b[1;32m<ipython-input-14-89133a921ace>\u001b[0m in \u001b[0;36m<module>\u001b[1;34m\u001b[0m\n\u001b[0;32m      4\u001b[0m \u001b[0mdict1\u001b[0m \u001b[1;33m=\u001b[0m \u001b[1;33m{\u001b[0m\u001b[1;34m'x'\u001b[0m\u001b[1;33m:\u001b[0m \u001b[1;36m10\u001b[0m\u001b[1;33m,\u001b[0m \u001b[1;34m'y'\u001b[0m\u001b[1;33m:\u001b[0m \u001b[1;36m8\u001b[0m\u001b[1;33m}\u001b[0m\u001b[1;33m\u001b[0m\u001b[1;33m\u001b[0m\u001b[0m\n\u001b[0;32m      5\u001b[0m \u001b[0mdict2\u001b[0m \u001b[1;33m=\u001b[0m \u001b[1;33m{\u001b[0m\u001b[1;34m'a'\u001b[0m\u001b[1;33m:\u001b[0m \u001b[1;36m6\u001b[0m\u001b[1;33m,\u001b[0m \u001b[1;34m'b'\u001b[0m\u001b[1;33m:\u001b[0m \u001b[1;36m4\u001b[0m\u001b[1;33m}\u001b[0m\u001b[1;33m\u001b[0m\u001b[1;33m\u001b[0m\u001b[0m\n\u001b[1;32m----> 6\u001b[1;33m \u001b[0mdict3\u001b[0m \u001b[1;33m=\u001b[0m \u001b[0mMerge\u001b[0m\u001b[1;33m(\u001b[0m\u001b[0mdict1\u001b[0m\u001b[1;33m,\u001b[0m \u001b[0mdict2\u001b[0m\u001b[1;33m)\u001b[0m\u001b[1;33m\u001b[0m\u001b[1;33m\u001b[0m\u001b[0m\n\u001b[0m\u001b[0;32m      7\u001b[0m \u001b[0mprint\u001b[0m\u001b[1;33m(\u001b[0m\u001b[0mdict3\u001b[0m\u001b[1;33m)\u001b[0m\u001b[1;33m\u001b[0m\u001b[1;33m\u001b[0m\u001b[0m\n",
      "\u001b[1;32m<ipython-input-14-89133a921ace>\u001b[0m in \u001b[0;36mMerge\u001b[1;34m(dict1, dict2)\u001b[0m\n\u001b[0;32m      1\u001b[0m \u001b[1;32mdef\u001b[0m \u001b[0mMerge\u001b[0m\u001b[1;33m(\u001b[0m\u001b[0mdict1\u001b[0m\u001b[1;33m,\u001b[0m \u001b[0mdict2\u001b[0m\u001b[1;33m)\u001b[0m\u001b[1;33m:\u001b[0m\u001b[1;33m\u001b[0m\u001b[1;33m\u001b[0m\u001b[0m\n\u001b[1;32m----> 2\u001b[1;33m         \u001b[0mres\u001b[0m \u001b[1;33m=\u001b[0m \u001b[0mdict1\u001b[0m \u001b[1;33m|\u001b[0m \u001b[0mdict2\u001b[0m\u001b[1;33m\u001b[0m\u001b[1;33m\u001b[0m\u001b[0m\n\u001b[0m\u001b[0;32m      3\u001b[0m         \u001b[1;32mreturn\u001b[0m \u001b[0mres\u001b[0m\u001b[1;33m\u001b[0m\u001b[1;33m\u001b[0m\u001b[0m\n\u001b[0;32m      4\u001b[0m \u001b[0mdict1\u001b[0m \u001b[1;33m=\u001b[0m \u001b[1;33m{\u001b[0m\u001b[1;34m'x'\u001b[0m\u001b[1;33m:\u001b[0m \u001b[1;36m10\u001b[0m\u001b[1;33m,\u001b[0m \u001b[1;34m'y'\u001b[0m\u001b[1;33m:\u001b[0m \u001b[1;36m8\u001b[0m\u001b[1;33m}\u001b[0m\u001b[1;33m\u001b[0m\u001b[1;33m\u001b[0m\u001b[0m\n\u001b[0;32m      5\u001b[0m \u001b[0mdict2\u001b[0m \u001b[1;33m=\u001b[0m \u001b[1;33m{\u001b[0m\u001b[1;34m'a'\u001b[0m\u001b[1;33m:\u001b[0m \u001b[1;36m6\u001b[0m\u001b[1;33m,\u001b[0m \u001b[1;34m'b'\u001b[0m\u001b[1;33m:\u001b[0m \u001b[1;36m4\u001b[0m\u001b[1;33m}\u001b[0m\u001b[1;33m\u001b[0m\u001b[1;33m\u001b[0m\u001b[0m\n",
      "\u001b[1;31mTypeError\u001b[0m: unsupported operand type(s) for |: 'dict' and 'dict'"
     ]
    }
   ],
   "source": [
    "def Merge(dict1, dict2):\n",
    "\tres = dict1 | dict2\n",
    "\treturn res\n",
    "dict1 = {'x': 10, 'y': 8}\n",
    "dict2 = {'a': 6, 'b': 4}\n",
    "dict3 = Merge(dict1, dict2)\n",
    "print(dict3)"
   ]
  },
  {
   "cell_type": "code",
   "execution_count": 16,
   "id": "f11cf3eb-5025-43d6-a3cc-a150abc82b6f",
   "metadata": {},
   "outputs": [
    {
     "name": "stdout",
     "output_type": "stream",
     "text": [
      "{'month': [1, 2, 3], 'name': ['Jan', 'Feb', 'March']}\n"
     ]
    },
    {
     "ename": "TypeError",
     "evalue": "'dict' object is not callable",
     "output_type": "error",
     "traceback": [
      "\u001b[1;31m---------------------------------------------------------------------------\u001b[0m",
      "\u001b[1;31mTypeError\u001b[0m                                 Traceback (most recent call last)",
      "\u001b[1;32m<ipython-input-16-9b81d9309771>\u001b[0m in \u001b[0;36m<module>\u001b[1;34m\u001b[0m\n\u001b[0;32m      4\u001b[0m \t\t\t'name' : ['Jan', 'Feb', 'March']}\n\u001b[0;32m      5\u001b[0m \u001b[0mprint\u001b[0m\u001b[1;33m(\u001b[0m\u001b[0mtest_dict\u001b[0m\u001b[1;33m)\u001b[0m\u001b[1;33m\u001b[0m\u001b[1;33m\u001b[0m\u001b[0m\n\u001b[1;32m----> 6\u001b[1;33m \u001b[0mres\u001b[0m \u001b[1;33m=\u001b[0m \u001b[0mdict\u001b[0m\u001b[1;33m(\u001b[0m\u001b[0mzip\u001b[0m\u001b[1;33m(\u001b[0m\u001b[0mtest_dict\u001b[0m\u001b[1;33m[\u001b[0m\u001b[1;34m'month'\u001b[0m\u001b[1;33m]\u001b[0m\u001b[1;33m,\u001b[0m \u001b[0mtest_dict\u001b[0m\u001b[1;33m[\u001b[0m\u001b[1;34m'name'\u001b[0m\u001b[1;33m]\u001b[0m\u001b[1;33m)\u001b[0m\u001b[1;33m)\u001b[0m\u001b[1;33m\u001b[0m\u001b[1;33m\u001b[0m\u001b[0m\n\u001b[0m\u001b[0;32m      7\u001b[0m \u001b[0mprint\u001b[0m\u001b[1;33m(\u001b[0m\u001b[0mres\u001b[0m\u001b[1;33m)\u001b[0m\u001b[1;33m\u001b[0m\u001b[1;33m\u001b[0m\u001b[0m\n",
      "\u001b[1;31mTypeError\u001b[0m: 'dict' object is not callable"
     ]
    }
   ],
   "source": [
    "# Python – Convert key-values list to flat dictionary   zip() + dict()\n",
    "from itertools import product\n",
    "test_dict = {'month' : [1, 2, 3],\n",
    "\t\t\t'name' : ['Jan', 'Feb', 'March']}\n",
    "print(test_dict)\n",
    "res = dict(zip(test_dict['month'], test_dict['name']))\n",
    "print(res)"
   ]
  },
  {
   "cell_type": "code",
   "execution_count": 17,
   "id": "9ee44cfb-6740-4757-9da6-c94cdec1ff45",
   "metadata": {},
   "outputs": [
    {
     "name": "stdout",
     "output_type": "stream",
     "text": [
      "Resultant Dictionary : OrderedDict([('manjeet', '3'), ('akshat', '1'), ('nikhil', '2')])\n"
     ]
    }
   ],
   "source": [
    "# Python – Insertion at the beginning in OrderedDict\n",
    "# Using OrderedDict.move_to_end()\n",
    "from collections import OrderedDict\n",
    "iniordered_dict = OrderedDict([('akshat', '1'), ('nikhil', '2')])\n",
    "iniordered_dict.update({'manjeet':'3'})\n",
    "iniordered_dict.move_to_end('manjeet', last = False)\n",
    "print (\"Resultant Dictionary : \"+str(iniordered_dict))"
   ]
  },
  {
   "cell_type": "code",
   "execution_count": 18,
   "id": "95b21e13-cc5f-45ee-b448-7efe06e6065c",
   "metadata": {},
   "outputs": [
    {
     "name": "stdout",
     "output_type": "stream",
     "text": [
      "Resultant Dictionary :OrderedDict([('manjeet', '4'), ('akash', '4'), ('akshat', '1'), ('nikhil', '2')])\n"
     ]
    }
   ],
   "source": [
    "# Using Naive Approach\n",
    "from collections import OrderedDict\n",
    "ini_dict1 = OrderedDict([('akshat', '1'), ('nikhil', '2')])\n",
    "ini_dict2 = OrderedDict([(\"manjeet\", '4'), (\"akash\", '4')])\n",
    "both = OrderedDict(list(ini_dict2.items()) + list(ini_dict1.items()))\n",
    "print (\"Resultant Dictionary :\"+str(both))"
   ]
  },
  {
   "cell_type": "code",
   "execution_count": 19,
   "id": "b8862a2c-7827-470a-85de-5aee056d295e",
   "metadata": {},
   "outputs": [
    {
     "name": "stdout",
     "output_type": "stream",
     "text": [
      "true\n"
     ]
    }
   ],
   "source": [
    "# Python | Check order of character in string using OrderedDict( )\n",
    "from collections import OrderedDict\n",
    "def checkOrder(input, pattern):\n",
    "\tdict = OrderedDict.fromkeys(input)\n",
    "\tptrlen = 0\n",
    "\tfor key,value in dict.items():\n",
    "\t\tif (key == pattern[ptrlen]):\n",
    "\t\t\tptrlen = ptrlen + 1\n",
    "\t\t# pattern string\n",
    "\t\tif (ptrlen == (len(pattern))):\n",
    "\t\t\treturn 'true'\n",
    "\treturn 'false'\n",
    "if __name__ == \"__main__\":\n",
    "\tinput = 'engineers rock'\n",
    "\tpattern = 'egr'\n",
    "\tprint (checkOrder(input,pattern))"
   ]
  },
  {
   "cell_type": "code",
   "execution_count": 20,
   "id": "eef34976-4263-4734-a8eb-77754934391a",
   "metadata": {},
   "outputs": [
    {
     "name": "stdout",
     "output_type": "stream",
     "text": [
      "john\n"
     ]
    }
   ],
   "source": [
    "# Dictionary and counter in Python to find winner of election\n",
    "# Function to find winner of an election where votes\n",
    "# are represented as candidate names\n",
    "from collections import Counter\n",
    "def winner(input):\n",
    "\tvotes = Counter(input)\n",
    "\tdict = {}\n",
    "\tfor value in votes.values():\n",
    "\t\tdict[value] = []\n",
    "\tfor (key,value) in votes.items():\n",
    "\t\tdict[value].append(key)\n",
    "\tmaxVote = sorted(dict.keys(),reverse=True)[0]\n",
    "\tif len(dict[maxVote])>1:\n",
    "\t\tprint (sorted(dict[maxVote])[0])\n",
    "\telse:\n",
    "\t\tprint (dict[maxVote][0])\n",
    "if __name__ == \"__main__\":\n",
    "\tinput =['john','johnny','jackie','johnny',\n",
    "\t\t\t'john','jackie','jamie','jamie',\n",
    "\t\t\t'john','johnny','jamie','johnny',\n",
    "\t\t\t'john']\n",
    "\twinner(input)\n"
   ]
  },
  {
   "cell_type": "code",
   "execution_count": 21,
   "id": "309b0785-2cba-42c4-819a-9e670dd17b9d",
   "metadata": {},
   "outputs": [
    {
     "name": "stdout",
     "output_type": "stream",
     "text": [
      "john\n"
     ]
    }
   ],
   "source": [
    "from collections import Counter\n",
    "\n",
    "votes =['john','johnny','jackie','johnny','john','jackie',\n",
    "\t'jamie','jamie','john','johnny','jamie','johnny','john']\n",
    "vote_count=Counter(votes)\n",
    "max_votes=max(vote_count.values())\n",
    "lst=[i for i in vote_count.keys() if vote_count[i]==max_votes]\n",
    "print(sorted(lst)[0])\n"
   ]
  },
  {
   "cell_type": "code",
   "execution_count": null,
   "id": "c1ca2769-75c1-4bb3-a8ba-671dbc2c4e37",
   "metadata": {},
   "outputs": [],
   "source": []
  }
 ],
 "metadata": {
  "kernelspec": {
   "display_name": "Python 3",
   "language": "python",
   "name": "python3"
  },
  "language_info": {
   "codemirror_mode": {
    "name": "ipython",
    "version": 3
   },
   "file_extension": ".py",
   "mimetype": "text/x-python",
   "name": "python",
   "nbconvert_exporter": "python",
   "pygments_lexer": "ipython3",
   "version": "3.8.6"
  }
 },
 "nbformat": 4,
 "nbformat_minor": 5
}
