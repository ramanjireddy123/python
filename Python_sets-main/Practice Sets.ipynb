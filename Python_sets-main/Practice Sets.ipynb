{
 "cells": [
  {
   "cell_type": "code",
   "execution_count": 1,
   "id": "21ce0135-9f92-42ee-8682-29f7984609b0",
   "metadata": {},
   "outputs": [
    {
     "name": "stdout",
     "output_type": "stream",
     "text": [
      "Create a new set:\n",
      "set()\n",
      "<class 'set'>\n",
      "\n",
      "Create a non empty set:\n",
      "{0, 1, 2, 3, 4}\n",
      "<class 'set'>\n",
      "\n",
      "Using a literal:\n",
      "<class 'set'>\n",
      "{1, 2, 3, 'foo', 'bar'}\n"
     ]
    }
   ],
   "source": [
    "print(\"Create a new set:\")\n",
    "x = set()\n",
    "print(x)\n",
    "print(type(x))\n",
    "print(\"\\nCreate a non empty set:\")\n",
    "n = set([0, 1, 2, 3, 4])\n",
    "print(n)\n",
    "print(type(n))\n",
    "print(\"\\nUsing a literal:\")\n",
    "a = {1,2,3,'foo','bar'}\n",
    "print(type(a))\n",
    "print(a)\n"
   ]
  },
  {
   "cell_type": "code",
   "execution_count": 2,
   "id": "cace26d7-b8f4-4c62-8ef0-bc119a1a7060",
   "metadata": {},
   "outputs": [
    {
     "name": "stdout",
     "output_type": "stream",
     "text": [
      "0 1 2 3 4 5 \n",
      "\n",
      "Creating a set using string:\n",
      "c w e o 3 u r s "
     ]
    }
   ],
   "source": [
    "#Create a set \n",
    "num_set = set([0, 1, 2, 3, 4, 5])\n",
    "for n in num_set:\n",
    "  print(n, end=' ')\n",
    "print(\"\\n\\nCreating a set using string:\")\n",
    "char_set = set(\"w3resource\")  \n",
    "# Iterating using for loop\n",
    "for val in char_set:\n",
    "    print(val, end=' ')\n"
   ]
  },
  {
   "cell_type": "code",
   "execution_count": 3,
   "id": "6c6612b6-cedc-4448-882e-0b31abbdb512",
   "metadata": {},
   "outputs": [
    {
     "name": "stdout",
     "output_type": "stream",
     "text": [
      "set()\n",
      "\n",
      "Add single element:\n",
      "{'Red'}\n",
      "\n",
      "Add multiple items:\n",
      "{'Blue', 'Green', 'Red'}\n"
     ]
    }
   ],
   "source": [
    "#A new empty set\n",
    "color_set = set()\n",
    "print(color_set)\n",
    "print(\"\\nAdd single element:\")\n",
    "color_set.add(\"Red\")\n",
    "print(color_set)\n",
    "print(\"\\nAdd multiple items:\")\n",
    "color_set.update([\"Blue\", \"Green\"])\n",
    "print(color_set)\n"
   ]
  },
  {
   "cell_type": "code",
   "execution_count": 4,
   "id": "67cf14a7-7b28-40bf-ba3c-0ccd9e9db6e3",
   "metadata": {},
   "outputs": [
    {
     "name": "stdout",
     "output_type": "stream",
     "text": [
      "Original set:\n",
      "{0, 1, 3, 4, 5}\n",
      "\n",
      "After removing the first element from the said set:\n",
      "{1, 3, 4, 5}\n"
     ]
    }
   ],
   "source": [
    "num_set = set([0, 1, 3, 4, 5])\n",
    "print(\"Original set:\")\n",
    "print(num_set)\n",
    "num_set.pop()\n",
    "print(\"\\nAfter removing the first element from the said set:\")\n",
    "print(num_set)\n"
   ]
  },
  {
   "cell_type": "code",
   "execution_count": 5,
   "id": "1ea3bd36-2888-4095-8581-13bf8680a4bc",
   "metadata": {},
   "outputs": [
    {
     "name": "stdout",
     "output_type": "stream",
     "text": [
      "Original set elements:\n",
      "{0, 1, 2, 3, 4, 5}\n",
      "\n",
      "Remove 0 from the said set:\n",
      "{0, 1, 2, 3, 5}\n",
      "\n",
      "Remove 5 from the said set:\n",
      "{0, 1, 2, 3}\n",
      "\n",
      "Remove 2 from the said set:\n",
      "{0, 1, 2, 3}\n",
      "\n",
      "Remove 7 from the said set:\n",
      "{0, 1, 2, 3}\n"
     ]
    }
   ],
   "source": [
    "#Create a new set\n",
    "num_set = set([0, 1, 2, 3, 4, 5])\n",
    "print(\"Original set elements:\")\n",
    "print(num_set)\n",
    "print(\"\\nRemove 0 from the said set:\")\n",
    "num_set.discard(4)\n",
    "print(num_set)\n",
    "print(\"\\nRemove 5 from the said set:\")\n",
    "num_set.discard(5)\n",
    "print(num_set)\n",
    "print(\"\\nRemove 2 from the said set:\")\n",
    "num_set.discard(5)\n",
    "print(num_set)\n",
    "print(\"\\nRemove 7 from the said set:\")\n",
    "num_set.discard(15)\n",
    "print(num_set)\n"
   ]
  },
  {
   "cell_type": "code",
   "execution_count": 6,
   "id": "7606c350-906c-4e64-8659-c097ca92aa2e",
   "metadata": {},
   "outputs": [
    {
     "name": "stdout",
     "output_type": "stream",
     "text": [
      "Original set elements:\n",
      "{'green', 'blue'}\n",
      "{'yellow', 'blue'}\n",
      "\n",
      "Intersection of two said sets:\n",
      "{'blue'}\n"
     ]
    }
   ],
   "source": [
    "setx = set([\"green\", \"blue\"])\n",
    "sety = set([\"blue\", \"yellow\"])\n",
    "print(\"Original set elements:\")\n",
    "print(setx)\n",
    "print(sety)\n",
    "print(\"\\nIntersection of two said sets:\")\n",
    "setz = setx & sety\n",
    "print(setz)\n"
   ]
  },
  {
   "cell_type": "code",
   "execution_count": 7,
   "id": "dd12b0a5-50e0-4b9c-bc69-f77e4e706a80",
   "metadata": {},
   "outputs": [
    {
     "name": "stdout",
     "output_type": "stream",
     "text": [
      "Original sets:\n",
      "{'green', 'blue'}\n",
      "{'yellow', 'blue'}\n",
      "\n",
      "Union of above sets:\n",
      "{'yellow', 'green', 'blue'}\n",
      "\n",
      "Original sets:\n",
      "{1, 2, 3, 4, 5}\n",
      "{1, 5, 6, 7, 8, 9}\n",
      "\n",
      "Union of above sets:\n",
      "{1, 2, 3, 4, 5, 6, 7, 8, 9}\n"
     ]
    }
   ],
   "source": [
    "setc1 = set([\"green\", \"blue\"])\n",
    "setc2 = set([\"blue\", \"yellow\"])\n",
    "print(\"Original sets:\")\n",
    "print(setc1)\n",
    "print(setc2)\n",
    "setc = setc1.union(setc2)\n",
    "print(\"\\nUnion of above sets:\")\n",
    "print(setc)\n",
    "setn1 = set([1, 1, 2, 3, 4, 5])\n",
    "setn2 = set([1, 5, 6, 7, 8, 9])\n",
    "print(\"\\nOriginal sets:\")\n",
    "print(setn1)\n",
    "print(setn2)\n",
    "print(\"\\nUnion of above sets:\")\n",
    "setn = setn1.union(setn2)\n",
    "print(setn)\n"
   ]
  },
  {
   "cell_type": "code",
   "execution_count": 8,
   "id": "fddb4d4b-8380-4e12-af74-3474f0cffc07",
   "metadata": {},
   "outputs": [
    {
     "name": "stdout",
     "output_type": "stream",
     "text": [
      "Original sets:\n",
      "{'green', 'blue'}\n",
      "{'yellow', 'blue'}\n",
      "\n",
      "Difference of setc1 - setc2:\n",
      "{'green'}\n",
      "\n",
      "Difference of setc2 - setc1:\n",
      "{'yellow'}\n",
      "\n",
      "Original sets:\n",
      "{1, 2, 3, 4, 5}\n",
      "{1, 5, 6, 7, 8, 9}\n",
      "\n",
      "Difference of setn1 - setn2:\n",
      "{2, 3, 4}\n",
      "\n",
      "Difference of setn2 - setn1:\n",
      "{8, 9, 6, 7}\n"
     ]
    }
   ],
   "source": [
    "setc1 = set([\"green\", \"blue\"])\n",
    "setc2 = set([\"blue\", \"yellow\"])\n",
    "print(\"Original sets:\")\n",
    "print(setc1)\n",
    "print(setc2)\n",
    "r1 = setc1.difference(setc2)\n",
    "print(\"\\nDifference of setc1 - setc2:\")\n",
    "print(r1)\n",
    "r2 = setc2.difference(setc1)\n",
    "print(\"\\nDifference of setc2 - setc1:\")\n",
    "print(r2)\n",
    "setn1 = set([1, 1, 2, 3, 4, 5])\n",
    "setn2 = set([1, 5, 6, 7, 8, 9])\n",
    "print(\"\\nOriginal sets:\")\n",
    "print(setn1)\n",
    "print(setn2)\n",
    "r1 = setn1.difference(setn2)\n",
    "print(\"\\nDifference of setn1 - setn2:\")\n",
    "print(r1)\n",
    "r2 = setn2.difference(setn1)\n",
    "print(\"\\nDifference of setn2 - setn1:\")\n",
    "print(r2)\n"
   ]
  },
  {
   "cell_type": "code",
   "execution_count": 9,
   "id": "347cc917-6e4b-42b7-8aae-214b6e26ff1a",
   "metadata": {},
   "outputs": [
    {
     "name": "stdout",
     "output_type": "stream",
     "text": [
      "Original sets:\n",
      "{'green', 'blue'}\n",
      "{'yellow', 'blue'}\n",
      "\n",
      "Symmetric difference of setc1 - setc2:\n",
      "{'yellow', 'green'}\n",
      "\n",
      "Symmetric difference of setc2 - setc1:\n",
      "{'yellow', 'green'}\n",
      "\n",
      "Original sets:\n",
      "{1, 2, 3, 4, 5}\n",
      "{1, 5, 6, 7, 8, 9}\n",
      "\n",
      "Symmetric difference of setn1 - setn2:\n",
      "{2, 3, 4, 6, 7, 8, 9}\n",
      "\n",
      "Symmetric difference of setn2 - setn1:\n",
      "{2, 3, 4, 6, 7, 8, 9}\n"
     ]
    }
   ],
   "source": [
    "setc1 = set([\"green\", \"blue\"])\n",
    "setc2 = set([\"blue\", \"yellow\"])\n",
    "print(\"Original sets:\")\n",
    "print(setc1)\n",
    "print(setc2)\n",
    "r1 = setc1.symmetric_difference(setc2)\n",
    "print(\"\\nSymmetric difference of setc1 - setc2:\")\n",
    "print(r1)\n",
    "r2 = setc2.symmetric_difference(setc1)\n",
    "print(\"\\nSymmetric difference of setc2 - setc1:\")\n",
    "print(r2)\n",
    "setn1 = set([1, 1, 2, 3, 4, 5])\n",
    "setn2 = set([1, 5, 6, 7, 8, 9])\n",
    "print(\"\\nOriginal sets:\")\n",
    "print(setn1)\n",
    "print(setn2)\n",
    "r1 = setn1.symmetric_difference(setn2)\n",
    "print(\"\\nSymmetric difference of setn1 - setn2:\")\n",
    "print(r1)\n",
    "r2 = setn2.symmetric_difference(setn1)\n",
    "print(\"\\nSymmetric difference of setn2 - setn1:\")\n",
    "print(r2)\n"
   ]
  },
  {
   "cell_type": "code",
   "execution_count": 10,
   "id": "b987a981-7aaa-460c-975c-42cafe14e32f",
   "metadata": {},
   "outputs": [
    {
     "name": "stdout",
     "output_type": "stream",
     "text": [
      "Check if a set is a subset of another set, using comparison operators and issubset():\n",
      "\n",
      "x:  {'apple', 'mango'}\n",
      "y:  {'orange', 'mango'}\n",
      "z:  {'mango'} \n",
      "\n",
      "If x is subset of y\n",
      "False\n",
      "False\n",
      "If y is subset of x\n",
      "False\n",
      "False\n",
      "\n",
      "If y is subset of z\n",
      "False\n",
      "False\n",
      "If z is subset of y\n",
      "True\n",
      "True\n"
     ]
    }
   ],
   "source": [
    "print(\"Check if a set is a subset of another set, using comparison operators and issubset():\\n\")\n",
    "setx = set([\"apple\", \"mango\"])\n",
    "sety = set([\"mango\", \"orange\"])\n",
    "setz = set([\"mango\"])\n",
    "print(\"x: \",setx)\n",
    "print(\"y: \",sety)\n",
    "print(\"z: \",setz,\"\\n\")\n",
    "print(\"If x is subset of y\")\n",
    "print(setx <= sety)\n",
    "print(setx.issubset(sety))\n",
    "print(\"If y is subset of x\")\n",
    "print(sety <= setx)\n",
    "print(sety.issubset(setx))\n",
    "print(\"\\nIf y is subset of z\")\n",
    "print(sety <= setz)\n",
    "print(sety.issubset(setz))\n",
    "print(\"If z is subset of y\")\n",
    "print(setz <= sety)\n",
    "print(setz.issubset(sety))\n"
   ]
  },
  {
   "cell_type": "code",
   "execution_count": 11,
   "id": "3202a774-ceda-43bd-ab94-85c3720e42b3",
   "metadata": {},
   "outputs": [
    {
     "name": "stdout",
     "output_type": "stream",
     "text": [
      "{'Green', 'Red'}\n"
     ]
    }
   ],
   "source": [
    "setp = set([\"Red\", \"Green\"])\n",
    "setq = set([\"Green\", \"Red\"])\n",
    "#A shallow copy\n",
    "setr = setp.copy()\n",
    "print(setr)\n",
    "\n"
   ]
  },
  {
   "cell_type": "code",
   "execution_count": 12,
   "id": "5c7fb478-e0c9-43f3-87b1-d1601ca97ea9",
   "metadata": {},
   "outputs": [
    {
     "name": "stdout",
     "output_type": "stream",
     "text": [
      "Original set elements:\n",
      "{'Green', 'Black', 'White', 'Red'}\n",
      "\n",
      "After removing all elements of the said set.\n",
      "set()\n"
     ]
    }
   ],
   "source": [
    "setc = {\"Red\", \"Green\", \"Black\", \"White\"}\n",
    "print(\"Original set elements:\")\n",
    "print(setc)        \n",
    "print(\"\\nAfter removing all elements of the said set.\")\n",
    "setc.clear()\n",
    "print(setc)\n"
   ]
  },
  {
   "cell_type": "code",
   "execution_count": 13,
   "id": "173198a1-b521-481f-954a-cfdb14397310",
   "metadata": {},
   "outputs": [
    {
     "name": "stdout",
     "output_type": "stream",
     "text": [
      "False\n",
      "frozenset({1, 2})\n",
      "frozenset({1, 2, 3, 4, 5, 6, 7})\n"
     ]
    }
   ],
   "source": [
    "x = frozenset([1, 2, 3, 4, 5])\n",
    "y = frozenset([3, 4, 5, 6, 7])\n",
    "#use isdisjoint(). Return True if the set has no elements in common with other. \n",
    "print(x.isdisjoint(y))\n",
    "#use difference(). Return a new set with elements in the set that are not in the others.\n",
    "print(x.difference(y))\n",
    "#new set with elements from both x and y\n",
    "print(x | y)\n"
   ]
  },
  {
   "cell_type": "code",
   "execution_count": 14,
   "id": "48ba9e1d-2831-49e9-8974-e8c4d411aaf3",
   "metadata": {},
   "outputs": [
    {
     "name": "stdout",
     "output_type": "stream",
     "text": [
      "Original set elements:\n",
      "{2, 3, 5, 10, 15, 20}\n",
      "<class 'set'>\n",
      "\n",
      "Maximum value of the said set:\n",
      "20\n",
      "\n",
      "Minimum value of the said set:\n",
      "2\n"
     ]
    }
   ],
   "source": [
    "#Create a set\n",
    "setn = {5, 10, 3, 15, 2, 20}\n",
    "print(\"Original set elements:\")\n",
    "print(setn)\n",
    "print(type(setn))\n",
    "print(\"\\nMaximum value of the said set:\")\n",
    "print(max(setn))\n",
    "print(\"\\nMinimum value of the said set:\")\n",
    "print(min(setn))\n"
   ]
  },
  {
   "cell_type": "code",
   "execution_count": 15,
   "id": "a3076c2e-53bc-4882-932b-aa4399367e17",
   "metadata": {},
   "outputs": [
    {
     "name": "stdout",
     "output_type": "stream",
     "text": [
      "Original set elements:\n",
      "{2, 3, 5, 10, 15, 20}\n",
      "<class 'set'>\n",
      "\n",
      "Length of the said set:\n",
      "6\n",
      "Original set elements:\n",
      "{5}\n",
      "<class 'set'>\n",
      "\n",
      "Length of the said set:\n",
      "1\n",
      "Original set elements:\n",
      "{5, 7}\n",
      "<class 'set'>\n",
      "\n",
      "Length of the said set:\n",
      "2\n"
     ]
    }
   ],
   "source": [
    "#Create a set\n",
    "setn = {5, 10, 3, 15, 2, 20}\n",
    "print(\"Original set elements:\")\n",
    "print(setn)\n",
    "print(type(setn))\n",
    "print(\"\\nLength of the said set:\")\n",
    "print(len(setn))\n",
    "\n",
    "setn = {5, 5, 5, 5, 5, 5}\n",
    "print(\"Original set elements:\")\n",
    "print(setn)\n",
    "print(type(setn))\n",
    "print(\"\\nLength of the said set:\")\n",
    "print(len(setn))\n",
    "\n",
    "setn = {5, 5, 5, 5, 5, 5, 7}\n",
    "print(\"Original set elements:\")\n",
    "print(setn)\n",
    "print(type(setn))\n",
    "print(\"\\nLength of the said set:\")\n",
    "print(len(setn))\n"
   ]
  },
  {
   "cell_type": "code",
   "execution_count": 16,
   "id": "da36280c-d2b8-4786-808c-e2f9229df174",
   "metadata": {},
   "outputs": [
    {
     "name": "stdout",
     "output_type": "stream",
     "text": [
      "Original sets(nums):  {1, 3, 5, 7, 9, 11} \n",
      "\n",
      "Test if 6 exists in nums:\n",
      "False\n",
      "Test if 7 exists in nums:\n",
      "True\n",
      "Test if 11 exists in nums:\n",
      "True\n",
      "Test if 0 exists in nums:\n",
      "False\n",
      "\n",
      "Test if 6 is not in nums\n",
      "True\n",
      "Test if 7 is not in nums\n",
      "False\n",
      "Test if 11 is not in nums\n",
      "False\n",
      "Test if 0 is not in nums\n",
      "True\n"
     ]
    }
   ],
   "source": [
    "nums = {1, 3, 5, 7, 9, 11}\n",
    "print(\"Original sets(nums): \",nums,\"\\n\")\n",
    "print(\"Test if 6 exists in nums:\")\n",
    "print(6 in nums)\n",
    "print(\"Test if 7 exists in nums:\")\n",
    "print(7 in nums)\n",
    "print(\"Test if 11 exists in nums:\")\n",
    "print(11 in nums)\n",
    "print(\"Test if 0 exists in nums:\")\n",
    "print(0 in nums)\n",
    "print(\"\\nTest if 6 is not in nums\")\n",
    "print(6 not in nums)\n",
    "print(\"Test if 7 is not in nums\")\n",
    "print(7 not in nums)\n",
    "print(\"Test if 11 is not in nums\")\n",
    "print(11 not in nums)\n",
    "print(\"Test if 0 is not in nums\")\n",
    "print(0 not in nums)\n"
   ]
  },
  {
   "cell_type": "code",
   "execution_count": 17,
   "id": "d3c9106a-6e80-454f-83f3-c6baf3559ae7",
   "metadata": {},
   "outputs": [
    {
     "name": "stdout",
     "output_type": "stream",
     "text": [
      "Original set elements:\n",
      "{1, 2, 3, 4}\n",
      "{4, 5, 6, 7}\n",
      "{8}\n",
      "\n",
      "Confirm two given sets have no element(s) in common:\n",
      "\n",
      "Compare x and y:\n",
      "False\n",
      "\n",
      "Compare x and z:\n",
      "True\n",
      "\n",
      "Compare y and z:\n",
      "True\n"
     ]
    }
   ],
   "source": [
    "x = {1,2,3,4}\n",
    "y = {4,5,6,7}\n",
    "z = {8}\n",
    "print(\"Original set elements:\")\n",
    "print(x)\n",
    "print(y)\n",
    "print(z)\n",
    "print(\"\\nConfirm two given sets have no element(s) in common:\")\n",
    "print(\"\\nCompare x and y:\")\n",
    "print(x.isdisjoint(y))\n",
    "print(\"\\nCompare x and z:\")\n",
    "print(z.isdisjoint(x))\n",
    "print(\"\\nCompare y and z:\")\n",
    "print(y.isdisjoint(z))\n"
   ]
  },
  {
   "cell_type": "code",
   "execution_count": 18,
   "id": "dc68c40f-dca6-4a98-bbd1-3faa4a41d410",
   "metadata": {},
   "outputs": [
    {
     "name": "stdout",
     "output_type": "stream",
     "text": [
      "Original set:  {40, 10, 50, 20, 30}\n",
      "If nums is superset of itself?\n",
      "True\n",
      "\n",
      "num1 =  {1, 2, 3, 4, 5, 7}\n",
      "num2 =  {2, 4}\n",
      "num3 =  {2, 4}\n",
      "If mum1 is superset of num2:\n",
      "True\n",
      "Compare mum2 and num3:\n",
      "If mum2 is superset of num3:\n",
      "False\n",
      "If mum3 is superset of num2:\n",
      "False\n"
     ]
    }
   ],
   "source": [
    "nums = {10,20,30,40,50}\n",
    "print(\"Original set: \",nums)\n",
    "print(\"If nums is superset of itself?\")\n",
    "print(nums.issuperset(nums))\n",
    "num1 = {1, 2, 3, 4, 5, 7}\n",
    "num2 = {2, 4}\n",
    "num3 = {2, 4}\n",
    "print(\"\\nnum1 = \", num1)\n",
    "print(\"num2 = \", num2)\n",
    "print(\"num3 = \", num3)\n",
    "print(\"If mum1 is superset of num2:\")\n",
    "print(num1>num2)\n",
    "print(\"Compare mum2 and num3:\")\n",
    "print(\"If mum2 is superset of num3:\")\n",
    "print(num2>num3)\n",
    "print(\"If mum3 is superset of num2:\")\n",
    "print(num3>num2)\n"
   ]
  },
  {
   "cell_type": "code",
   "execution_count": 19,
   "id": "faddb92a-68e0-41c4-92fa-21ddb9dcaa3c",
   "metadata": {},
   "outputs": [
    {
     "name": "stdout",
     "output_type": "stream",
     "text": [
      "Original sets:\n",
      "{1, 2, 3, 4, 5}\n",
      "{4, 5, 6, 7, 8}\n",
      "Difference of sn1 and sn2 using difference():\n",
      "{1, 2, 3}\n",
      "Difference of sn2 and sn1 using difference():\n",
      "{8, 6, 7}\n",
      "Difference of sn1 and sn2 using - operator:\n",
      "{1, 2, 3}\n",
      "Difference of sn2 and sn1 using - operator:\n",
      "{8, 6, 7}\n"
     ]
    }
   ],
   "source": [
    "sn1 = {1,2,3,4,5}\n",
    "sn2 = {4,5,6,7,8}\n",
    "print(\"Original sets:\")\n",
    "print(sn1)\n",
    "print(sn2)\n",
    "print(\"Difference of sn1 and sn2 using difference():\")\n",
    "print(sn1.difference(sn2))\n",
    "print(\"Difference of sn2 and sn1 using difference():\")\n",
    "print(sn2.difference(sn1))\n",
    "print(\"Difference of sn1 and sn2 using - operator:\")\n",
    "print(sn1-sn2)\n",
    "print(\"Difference of sn2 and sn1 using - operator:\")\n",
    "print(sn2-sn1)\n"
   ]
  },
  {
   "cell_type": "code",
   "execution_count": 20,
   "id": "9ab23273-c22d-4f12-87ea-df2f20d43026",
   "metadata": {},
   "outputs": [
    {
     "name": "stdout",
     "output_type": "stream",
     "text": [
      "Original sets:\n",
      "{1, 2, 3, 4, 5}\n",
      "{4, 5, 6, 7, 8}\n",
      "\n",
      "Remove the intersection of a 2nd set from the 1st set using difference_update():\n",
      "sn1:  {1, 2, 3}\n",
      "sn2:  {4, 5, 6, 7, 8}\n",
      "\n",
      "Remove the intersection of a 2nd set from the 1st set using -= operator:\n",
      "sn1:  {1, 2, 3}\n",
      "sn2:  {4, 5, 6, 7, 8}\n"
     ]
    }
   ],
   "source": [
    "sn1 = {1,2,3,4,5}\n",
    "sn2 = {4,5,6,7,8}\n",
    "print(\"Original sets:\")\n",
    "print(sn1)\n",
    "print(sn2)\n",
    "print(\"\\nRemove the intersection of a 2nd set from the 1st set using difference_update():\")\n",
    "sn1.difference_update(sn2)\n",
    "print(\"sn1: \",sn1)\n",
    "print(\"sn2: \",sn2)\n",
    "sn1 = {1,2,3,4,5}\n",
    "sn2 = {4,5,6,7,8}\n",
    "print(\"\\nRemove the intersection of a 2nd set from the 1st set using -= operator:\")\n",
    "sn1-=sn2\n",
    "print(\"sn1: \",sn1)\n",
    "print(\"sn2: \",sn2)\n"
   ]
  },
  {
   "cell_type": "code",
   "execution_count": null,
   "id": "3548070b-3dac-4afe-a23b-e29d1b1a1774",
   "metadata": {},
   "outputs": [],
   "source": []
  }
 ],
 "metadata": {
  "kernelspec": {
   "display_name": "Python 3",
   "language": "python",
   "name": "python3"
  },
  "language_info": {
   "codemirror_mode": {
    "name": "ipython",
    "version": 3
   },
   "file_extension": ".py",
   "mimetype": "text/x-python",
   "name": "python",
   "nbconvert_exporter": "python",
   "pygments_lexer": "ipython3",
   "version": "3.8.6"
  }
 },
 "nbformat": 4,
 "nbformat_minor": 5
}
