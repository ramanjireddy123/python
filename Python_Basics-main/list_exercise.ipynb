{
  "nbformat": 4,
  "nbformat_minor": 0,
  "metadata": {
    "colab": {
      "name": "list exercise",
      "provenance": [],
      "collapsed_sections": [],
      "authorship_tag": "ABX9TyOu7GBGWpRL+cof37Oasc/K",
      "include_colab_link": true
    },
    "kernelspec": {
      "display_name": "Python 3",
      "name": "python3"
    },
    "language_info": {
      "name": "python"
    }
  },
  "cells": [
    {
      "cell_type": "markdown",
      "metadata": {
        "id": "view-in-github",
        "colab_type": "text"
      },
      "source": [
        "<a href=\"https://colab.research.google.com/github/ramanjireddy123/Python_Basics/blob/main/list_exercise.ipynb\" target=\"_parent\"><img src=\"https://colab.research.google.com/assets/colab-badge.svg\" alt=\"Open In Colab\"/></a>"
      ]
    },
    {
      "cell_type": "code",
      "metadata": {
        "colab": {
          "base_uri": "https://localhost:8080/"
        },
        "id": "fdWJDvXcf1uE",
        "outputId": "3a8c27e0-2095-47b2-d46d-832de5c8c8e3"
      },
      "source": [
        "original_list = [{'key1':'value1', 'key2':'value2'}, {'key1':'value3', 'key2':'value4'}]\n",
        "new_list = [{k: v for k, v in d.items() if k != 'key1'} for d in original_list]\n",
        "print(new_list)\n"
      ],
      "execution_count": null,
      "outputs": [
        {
          "output_type": "stream",
          "text": [
            "[{'key2': 'value2'}, {'key2': 'value4'}]\n"
          ],
          "name": "stdout"
        }
      ]
    },
    {
      "cell_type": "code",
      "metadata": {
        "colab": {
          "base_uri": "https://localhost:8080/"
        },
        "id": "Dtb6EyGBgRfq",
        "outputId": "973e186c-f448-4038-e7bc-c715e44931e1"
      },
      "source": [
        "import ast\n",
        "color =\"['Red', 'Green', 'White']\"\n",
        "print(ast.literal_eval(color))"
      ],
      "execution_count": null,
      "outputs": [
        {
          "output_type": "stream",
          "text": [
            "['Red', 'Green', 'White']\n"
          ],
          "name": "stdout"
        }
      ]
    },
    {
      "cell_type": "code",
      "metadata": {
        "id": "-airhumHiNs5",
        "colab": {
          "base_uri": "https://localhost:8080/"
        },
        "outputId": "42e1778f-42b6-43c4-b29f-535633e2d7e4"
      },
      "source": [
        "\n",
        "color1 = [\"green\", \"orange\", \"black\", \"white\"]\n",
        "color2 = [\"green\", \"green\", \"green\", \"green\"]\n",
        "\n",
        "print(all(c == 'blue' for c in color1))\n",
        "print(all(c == 'green' for c in color2))"
      ],
      "execution_count": null,
      "outputs": [
        {
          "output_type": "stream",
          "text": [
            "False\n",
            "True\n"
          ],
          "name": "stdout"
        }
      ]
    },
    {
      "cell_type": "code",
      "metadata": {
        "colab": {
          "base_uri": "https://localhost:8080/"
        },
        "id": "f03dRFwziu3o",
        "outputId": "0c01899e-64a2-493b-b052-0036377513ce"
      },
      "source": [
        "num1 = [1, 3, 5, 7, 9, 10]\n",
        "num2 = [2, 4, 6, 8]\n",
        "num1[-1:] = num2\n",
        "print(num1)"
      ],
      "execution_count": null,
      "outputs": [
        {
          "output_type": "stream",
          "text": [
            "[1, 3, 5, 7, 9, 2, 4, 6, 8]\n"
          ],
          "name": "stdout"
        }
      ]
    },
    {
      "cell_type": "code",
      "metadata": {
        "colab": {
          "base_uri": "https://localhost:8080/"
        },
        "id": "HgYiD4cZyC-U",
        "outputId": "24583997-27b6-4af7-98f2-16717b51313c"
      },
      "source": [
        "x = [1, 2, 3, 4, 5, 6]\n",
        "xlen = len(x)-1\n",
        "print(x[xlen])\n"
      ],
      "execution_count": null,
      "outputs": [
        {
          "output_type": "stream",
          "text": [
            "6\n"
          ],
          "name": "stdout"
        }
      ]
    },
    {
      "cell_type": "code",
      "metadata": {
        "id": "XhUyrdDLypZn",
        "colab": {
          "base_uri": "https://localhost:8080/"
        },
        "outputId": "fc5dad76-7ee2-4515-8535-898e84509dc8"
      },
      "source": [
        "x = [(4, 1), (1, 2), (6, 0)]\n",
        "print(min(x, key=lambda n: (n[1], -n[0])))"
      ],
      "execution_count": null,
      "outputs": [
        {
          "output_type": "stream",
          "text": [
            "(6, 0)\n"
          ],
          "name": "stdout"
        }
      ]
    },
    {
      "cell_type": "code",
      "metadata": {
        "colab": {
          "base_uri": "https://localhost:8080/"
        },
        "id": "Wf2NMcuCMVcH",
        "outputId": "112f11bc-6f52-4bad-b9ef-b8e8fabee756"
      },
      "source": [
        "n = 5\n",
        "l = [{} for _ in range(n)]\n",
        "print(l)"
      ],
      "execution_count": null,
      "outputs": [
        {
          "output_type": "stream",
          "text": [
            "[{}, {}, {}, {}, {}]\n"
          ],
          "name": "stdout"
        }
      ]
    },
    {
      "cell_type": "code",
      "metadata": {
        "colab": {
          "base_uri": "https://localhost:8080/"
        },
        "id": "SXT12PchMun5",
        "outputId": "1ab84cd6-63d9-4608-93e5-7e09211316c1"
      },
      "source": [
        "num = [1, 2, 3, 4, 5]\n",
        "print(*num)"
      ],
      "execution_count": null,
      "outputs": [
        {
          "output_type": "stream",
          "text": [
            "1 2 3 4 5\n"
          ],
          "name": "stdout"
        }
      ]
    },
    {
      "cell_type": "code",
      "metadata": {
        "colab": {
          "base_uri": "https://localhost:8080/"
        },
        "id": "-xwhIBwLM2Iy",
        "outputId": "b4adac7d-2bab-464a-eb05-4884e9697757"
      },
      "source": [
        "num = [1,2,3,4]\n",
        "print(['emp{0}'.format(i) for i in  num])"
      ],
      "execution_count": null,
      "outputs": [
        {
          "output_type": "stream",
          "text": [
            "['emp1', 'emp2', 'emp3', 'emp4']\n"
          ],
          "name": "stdout"
        }
      ]
    },
    {
      "cell_type": "code",
      "metadata": {
        "colab": {
          "base_uri": "https://localhost:8080/"
        },
        "id": "apQ-15e8M8Nw",
        "outputId": "15345870-30f5-468b-f2b4-a0744d6f93d6"
      },
      "source": [
        "num = [1, 2, 3]\n",
        "color = ['red', 'white', 'black']\n",
        "for (a,b) in zip(num, color):\n",
        "     print(a, b)"
      ],
      "execution_count": null,
      "outputs": [
        {
          "output_type": "stream",
          "text": [
            "1 red\n",
            "2 white\n",
            "3 black\n"
          ],
          "name": "stdout"
        }
      ]
    },
    {
      "cell_type": "code",
      "metadata": {
        "colab": {
          "base_uri": "https://localhost:8080/"
        },
        "id": "B0qNqTbqNJ1m",
        "outputId": "354c72af-a053-4b13-8129-1c098269cbe7"
      },
      "source": [
        "def test(lst):\n",
        "    result = sorted(lst, key=lambda x: not x) \n",
        "    return result\n",
        "nums = [3,4,0,0,0,6,2,0,6,7,6,0,0,0,9,10,7,4,4,5,3,0,0,2,9,7,1]\n",
        "print(\"\\nMove all zero digits to end of the said list of numbers:\")\n",
        "print(test(nums)) \n"
      ],
      "execution_count": null,
      "outputs": [
        {
          "output_type": "stream",
          "text": [
            "\n",
            "Move all zero digits to end of the said list of numbers:\n",
            "[3, 4, 6, 2, 6, 7, 6, 9, 10, 7, 4, 4, 5, 3, 2, 9, 7, 1, 0, 0, 0, 0, 0, 0, 0, 0, 0]\n"
          ],
          "name": "stdout"
        }
      ]
    },
    {
      "cell_type": "code",
      "metadata": {
        "colab": {
          "base_uri": "https://localhost:8080/"
        },
        "id": "jCDL0DTYNa2S",
        "outputId": "3ed47b2c-2332-47a2-b526-3cba52c00fa4"
      },
      "source": [
        "num = [[1,2,3], [4,5,6], [10,11,12], [7,8,9]]\n",
        "print(max(num, key=sum))\n"
      ],
      "execution_count": null,
      "outputs": [
        {
          "output_type": "stream",
          "text": [
            "[10, 11, 12]\n"
          ],
          "name": "stdout"
        }
      ]
    },
    {
      "cell_type": "code",
      "metadata": {
        "colab": {
          "base_uri": "https://localhost:8080/"
        },
        "id": "_JvEKD8VOsK-",
        "outputId": "e791b533-93f6-4d08-8fcb-305dfed35604"
      },
      "source": [
        "list1 = [220, 330, 500]\n",
        "list2 = [12, 17, 21]\n",
        "print(all(x >= 200 for x in list1))\n",
        "print(all(x >= 25 for x in list2))"
      ],
      "execution_count": null,
      "outputs": [
        {
          "output_type": "stream",
          "text": [
            "True\n",
            "False\n"
          ],
          "name": "stdout"
        }
      ]
    },
    {
      "cell_type": "code",
      "metadata": {
        "colab": {
          "base_uri": "https://localhost:8080/"
        },
        "id": "olwHi8skO403",
        "outputId": "169ae528-8a7b-425b-d8d8-77ebc1cae274"
      },
      "source": [
        "x = [10, 20, 30]\n",
        "y = [40, 50, 60]\n",
        "x[:0] =y\n",
        "print(x)"
      ],
      "execution_count": null,
      "outputs": [
        {
          "output_type": "stream",
          "text": [
            "[40, 50, 60, 10, 20, 30]\n"
          ],
          "name": "stdout"
        }
      ]
    },
    {
      "cell_type": "code",
      "metadata": {
        "colab": {
          "base_uri": "https://localhost:8080/"
        },
        "id": "FrTHuKg8O5rZ",
        "outputId": "7a815ba7-5586-47a1-e544-2a963175ebf5"
      },
      "source": [
        "import itertools\n",
        "num = [[10, 20], [40], [30, 56, 25], [10, 20], [33], [40]]\n",
        "print(\"Original List\", num)\n",
        "num.sort()\n",
        "new_num = list(num for num,_ in itertools.groupby(num))\n",
        "print(\"New List\", new_num)"
      ],
      "execution_count": null,
      "outputs": [
        {
          "output_type": "stream",
          "text": [
            "Original List [[10, 20], [40], [30, 56, 25], [10, 20], [33], [40]]\n",
            "New List [[10, 20], [30, 56, 25], [33], [40]]\n"
          ],
          "name": "stdout"
        }
      ]
    },
    {
      "cell_type": "code",
      "metadata": {
        "colab": {
          "base_uri": "https://localhost:8080/"
        },
        "id": "GTdhwNsWO_WT",
        "outputId": "06e7c483-44dd-4b0f-874f-1b35fa5fd76c"
      },
      "source": [
        "def test(lst, char):\n",
        "    result = [i for i in lst if i.startswith(char)]\n",
        "    return result\n",
        "text = [\"abcd\", \"abc\", \"bcd\", \"bkie\", \"cder\", \"cdsw\", \"sdfsd\", \"dagfa\", \"acjd\"]\n",
        "print(\"\\nOriginal list:\")\n",
        "print(text)\n",
        "char = \"a\"\n",
        "print(\"\\nItems start with\",char,\"from the said list:\")\n",
        "print(test(text, char))\n",
        "char = \"d\"\n",
        "print(\"\\nItems start with\",char,\"from the said list:\")\n",
        "print(test(text, char))\n",
        "char = \"w\"\n",
        "print(\"\\nItems start with\",char,\"from the said list:\")\n",
        "print(test(text, char))"
      ],
      "execution_count": null,
      "outputs": [
        {
          "output_type": "stream",
          "text": [
            "\n",
            "Original list:\n",
            "['abcd', 'abc', 'bcd', 'bkie', 'cder', 'cdsw', 'sdfsd', 'dagfa', 'acjd']\n",
            "\n",
            "Items start with a from the said list:\n",
            "['abcd', 'abc', 'acjd']\n",
            "\n",
            "Items start with d from the said list:\n",
            "['dagfa']\n",
            "\n",
            "Items start with w from the said list:\n",
            "[]\n"
          ],
          "name": "stdout"
        }
      ]
    },
    {
      "cell_type": "code",
      "metadata": {
        "colab": {
          "base_uri": "https://localhost:8080/"
        },
        "id": "SfaS08C_PI67",
        "outputId": "935ba5fc-3d3c-4848-cc00-b16052cfd8c7"
      },
      "source": [
        "my_list = [{},{},{}]\n",
        "my_list1 = [{1,2},{},{}]\n",
        "print(all(not d for d in my_list))\n",
        "print(all(not d for d in my_list1))"
      ],
      "execution_count": null,
      "outputs": [
        {
          "output_type": "stream",
          "text": [
            "True\n",
            "False\n"
          ],
          "name": "stdout"
        }
      ]
    },
    {
      "cell_type": "code",
      "metadata": {
        "colab": {
          "base_uri": "https://localhost:8080/"
        },
        "id": "f-zT_AvkPPv_",
        "outputId": "5ab6732c-fb7a-4262-8c89-dc33722be902"
      },
      "source": [
        "from itertools import groupby\n",
        "def compress(l_nums):\n",
        "    return [key for key, group in groupby(l_nums)] \n",
        "n_list = [0, 0, 1, 2, 3, 4, 4, 5, 6, 6, 6, 7, 8, 9, 4, 4 ]\n",
        "print(\"Original list:\") \n",
        "print(n_list)\n",
        "print(\"\\nAfter removing consecutive duplicates:\")\n",
        "print(compress(n_list)) "
      ],
      "execution_count": null,
      "outputs": [
        {
          "output_type": "stream",
          "text": [
            "Original list:\n",
            "[0, 0, 1, 2, 3, 4, 4, 5, 6, 6, 6, 7, 8, 9, 4, 4]\n",
            "\n",
            "After removing consecutive duplicates:\n",
            "[0, 1, 2, 3, 4, 5, 6, 7, 8, 9, 4]\n"
          ],
          "name": "stdout"
        }
      ]
    },
    {
      "cell_type": "code",
      "metadata": {
        "colab": {
          "base_uri": "https://localhost:8080/"
        },
        "id": "TH_pA7ZrPgVd",
        "outputId": "a9515814-68f2-415a-b704-c765ac3ed4ed"
      },
      "source": [
        "from itertools import groupby\n",
        "def encode_list(s_list):\n",
        "    return [[len(list(group)), key] for key, group in groupby(s_list)]\n",
        "n_list = [1,1,2,3,4,4.3,5, 1]\n",
        "print(\"Original list:\") \n",
        "print(n_list)\n",
        "print(\"\\nList reflecting the run-length encoding from the said list:\")\n",
        "print(encode_list(n_list))\n",
        "n_list = 'automatically'\n",
        "print(\"\\nOriginal String:\") \n",
        "print(n_list)\n",
        "print(\"\\nList reflecting the run-length encoding from the said string:\")\n",
        "print(encode_list(n_list))"
      ],
      "execution_count": null,
      "outputs": [
        {
          "output_type": "stream",
          "text": [
            "Original list:\n",
            "[1, 1, 2, 3, 4, 4.3, 5, 1]\n",
            "\n",
            "List reflecting the run-length encoding from the said list:\n",
            "[[2, 1], [1, 2], [1, 3], [1, 4], [1, 4.3], [1, 5], [1, 1]]\n",
            "\n",
            "Original String:\n",
            "automatically\n",
            "\n",
            "List reflecting the run-length encoding from the said string:\n",
            "[[1, 'a'], [1, 'u'], [1, 't'], [1, 'o'], [1, 'm'], [1, 'a'], [1, 't'], [1, 'i'], [1, 'c'], [1, 'a'], [2, 'l'], [1, 'y']]\n"
          ],
          "name": "stdout"
        }
      ]
    },
    {
      "cell_type": "code",
      "metadata": {
        "colab": {
          "base_uri": "https://localhost:8080/"
        },
        "id": "VWYjITWkPuAP",
        "outputId": "a31f3d7e-500b-4802-8fa2-a38809588cac"
      },
      "source": [
        "def split_two_parts(n_list, L):\n",
        "    return n_list[:L], n_list[L:]\n",
        "n_list = [1,1,2,3,4,4,5, 1]\n",
        "print(\"Original list:\") \n",
        "print(n_list)\n",
        "first_list_length = 3\n",
        "print(\"\\nLength of the first part of the list:\",first_list_length)\n",
        "print(\"\\nSplited the said list into two parts:\")\n",
        "print(split_two_parts(n_list, first_list_length))\n"
      ],
      "execution_count": null,
      "outputs": [
        {
          "output_type": "stream",
          "text": [
            "Original list:\n",
            "[1, 1, 2, 3, 4, 4, 5, 1]\n",
            "\n",
            "Length of the first part of the list: 3\n",
            "\n",
            "Splited the said list into two parts:\n",
            "([1, 1, 2], [3, 4, 4, 5, 1])\n"
          ],
          "name": "stdout"
        }
      ]
    },
    {
      "cell_type": "code",
      "metadata": {
        "colab": {
          "base_uri": "https://localhost:8080/"
        },
        "id": "s12OLT6BQ2ul",
        "outputId": "fec74a83-4cb8-46bc-ecb2-d534ae104193"
      },
      "source": [
        "def remove_kth_element(n_list, L):\n",
        "    return  n_list[:L-1] + n_list[L:]\n",
        "\n",
        "n_list = [1,1,2,3,4,4,5,1]\n",
        "print(\"Original list:\") \n",
        "print(n_list)\n",
        "kth_position = 3\n",
        "result = remove_kth_element(n_list, kth_position)\n",
        "print(\"\\nAfter removing an element at the kth position of the said list:\")\n",
        "print(result)"
      ],
      "execution_count": null,
      "outputs": [
        {
          "output_type": "stream",
          "text": [
            "Original list:\n",
            "[1, 1, 2, 3, 4, 4, 5, 1]\n",
            "\n",
            "After removing an element at the kth position of the said list:\n",
            "[1, 1, 3, 4, 4, 5, 1]\n"
          ],
          "name": "stdout"
        }
      ]
    },
    {
      "cell_type": "code",
      "metadata": {
        "colab": {
          "base_uri": "https://localhost:8080/"
        },
        "id": "eTRiSyjNRGmZ",
        "outputId": "68924e27-c60d-4675-8dc8-cc6fd4041445"
      },
      "source": [
        "def insert_spec_position(x, n_list, pos):\n",
        "    return n_list[:pos-1]+[x]+n_list[pos-1:]\n",
        "n_list = [1,1,2,3,4,4,5,1]\n",
        "print(\"Original list:\") \n",
        "print(n_list)\n",
        "kth_position = 3\n",
        "x = 12\n",
        "result = insert_spec_position(x, n_list, kth_position)\n",
        "print(\"\\nAfter inserting an element at kth position in the said list:\")\n",
        "print(result)"
      ],
      "execution_count": null,
      "outputs": [
        {
          "output_type": "stream",
          "text": [
            "Original list:\n",
            "[1, 1, 2, 3, 4, 4, 5, 1]\n",
            "\n",
            "After inserting an element at kth position in the said list:\n",
            "[1, 1, 12, 2, 3, 4, 4, 5, 1]\n"
          ],
          "name": "stdout"
        }
      ]
    },
    {
      "cell_type": "code",
      "metadata": {
        "colab": {
          "base_uri": "https://localhost:8080/"
        },
        "id": "QA9QbO9HROE7",
        "outputId": "6e003208-2885-4865-8536-82d33b0cdf42"
      },
      "source": [
        "import random\n",
        "def random_select_nums(n_list, n):\n",
        "        return random.sample(n_list, n)\n",
        "n_list = [1,1,2,3,4,4,5,1]\n",
        "print(\"Original list:\") \n",
        "print(n_list)\n",
        "selec_nums = 3\n",
        "result = random_select_nums(n_list, selec_nums)\n",
        "print(\"\\nSelected 3 random numbers of the above list:\")\n",
        "print(result) "
      ],
      "execution_count": null,
      "outputs": [
        {
          "output_type": "stream",
          "text": [
            "Original list:\n",
            "[1, 1, 2, 3, 4, 4, 5, 1]\n",
            "\n",
            "Selected 3 random numbers of the above list:\n",
            "[4, 1, 3]\n"
          ],
          "name": "stdout"
        }
      ]
    },
    {
      "cell_type": "code",
      "metadata": {
        "colab": {
          "base_uri": "https://localhost:8080/"
        },
        "id": "_20evzafR_MP",
        "outputId": "a4582132-3056-47c6-eac0-499bf2aff112"
      },
      "source": [
        "def combination(n, n_list):\n",
        "    if n<=0:\n",
        "        yield []\n",
        "        return\n",
        "    for i in range(len(n_list)):\n",
        "        c_num = n_list[i:i+1]\n",
        "        for a_num in combination(n-1, n_list[i+1:]):\n",
        "            yield c_num + a_num\n",
        "n_list = [1,2,3,4,5,6,7,8,9]\n",
        "print(\"Original list:\") \n",
        "print(n_list)\n",
        "n = 2\n",
        "result = combination(n, n_list)\n",
        "print(\"\\nCombinations of\",n,\"distinct objects:\")\n",
        "for e in result:\n",
        "     print(e)"
      ],
      "execution_count": null,
      "outputs": [
        {
          "output_type": "stream",
          "text": [
            "Original list:\n",
            "[1, 2, 3, 4, 5, 6, 7, 8, 9]\n",
            "\n",
            "Combinations of 2 distinct objects:\n",
            "[1, 2]\n",
            "[1, 3]\n",
            "[1, 4]\n",
            "[1, 5]\n",
            "[1, 6]\n",
            "[1, 7]\n",
            "[1, 8]\n",
            "[1, 9]\n",
            "[2, 3]\n",
            "[2, 4]\n",
            "[2, 5]\n",
            "[2, 6]\n",
            "[2, 7]\n",
            "[2, 8]\n",
            "[2, 9]\n",
            "[3, 4]\n",
            "[3, 5]\n",
            "[3, 6]\n",
            "[3, 7]\n",
            "[3, 8]\n",
            "[3, 9]\n",
            "[4, 5]\n",
            "[4, 6]\n",
            "[4, 7]\n",
            "[4, 8]\n",
            "[4, 9]\n",
            "[5, 6]\n",
            "[5, 7]\n",
            "[5, 8]\n",
            "[5, 9]\n",
            "[6, 7]\n",
            "[6, 8]\n",
            "[6, 9]\n",
            "[7, 8]\n",
            "[7, 9]\n",
            "[8, 9]\n"
          ],
          "name": "stdout"
        }
      ]
    },
    {
      "cell_type": "code",
      "metadata": {
        "colab": {
          "base_uri": "https://localhost:8080/"
        },
        "id": "RO8Zww9jSX7H",
        "outputId": "8e99b5e4-037b-45ac-9ebc-a28cd807c26f"
      },
      "source": [
        "nums = [22.4, 4.0, -16.22, -9.10, 11.00, -12.22, 14.20, -5.20, 17.50]\n",
        "print(\"Original list: \", nums)\n",
        "print(\"Result:\")\n",
        "lenght=len(nums)\n",
        "print(sum(list(map(round,nums))* lenght)) "
      ],
      "execution_count": null,
      "outputs": [
        {
          "output_type": "stream",
          "text": [
            "Original list:  [22.4, 4.0, -16.22, -9.1, 11.0, -12.22, 14.2, -5.2, 17.5]\n",
            "Result:\n",
            "243\n"
          ],
          "name": "stdout"
        }
      ]
    },
    {
      "cell_type": "code",
      "metadata": {
        "colab": {
          "base_uri": "https://localhost:8080/"
        },
        "id": "xX7ZhdwEShpK",
        "outputId": "0a8beaec-593f-45cb-bc46-6e53d28e1671"
      },
      "source": [
        "nums = [22.4, 4.0, 16.22, 9.10, 11.00, 12.22, 14.20, 5.20, 17.50]\n",
        "print(\"Original list:\", nums)\n",
        "numbers=list(map(round,nums))\n",
        "print(\"Minimum value: \",min(numbers))\n",
        "print(\"Maximum value: \",max(numbers))\n",
        "numbers=list(set(numbers))\n",
        "numbers=(sorted(map(lambda n:n*5,numbers)))\n",
        "print(\"Result:\")\n",
        "for numb in numbers:\n",
        "    print(numb,end=' ')"
      ],
      "execution_count": null,
      "outputs": [
        {
          "output_type": "stream",
          "text": [
            "Original list: [22.4, 4.0, 16.22, 9.1, 11.0, 12.22, 14.2, 5.2, 17.5]\n",
            "Minimum value:  4\n",
            "Maximum value:  22\n",
            "Result:\n",
            "20 25 45 55 60 70 80 90 110 "
          ],
          "name": "stdout"
        }
      ]
    },
    {
      "cell_type": "code",
      "metadata": {
        "colab": {
          "base_uri": "https://localhost:8080/"
        },
        "id": "OmjGdeiwSnle",
        "outputId": "08d1f4cc-d9b9-43d3-fe9a-a12529a9ac9e"
      },
      "source": [
        "nums = []\n",
        "\n",
        "for i in range(3):\n",
        "\n",
        "    nums.append([])\n",
        "\n",
        "    for j in range(2):\n",
        "\n",
        "        nums[i].append(0)\n",
        "print(\"Multidimensional list:\")\n",
        "print(nums)"
      ],
      "execution_count": null,
      "outputs": [
        {
          "output_type": "stream",
          "text": [
            "Multidimensional list:\n",
            "[[0, 0], [0, 0], [0, 0]]\n"
          ],
          "name": "stdout"
        }
      ]
    },
    {
      "cell_type": "code",
      "metadata": {
        "colab": {
          "base_uri": "https://localhost:8080/"
        },
        "id": "QSpWAoprStvq",
        "outputId": "ce621c0f-3993-408b-f769-5650105e98cd"
      },
      "source": [
        "nums = []\n",
        "for i in range(3):\n",
        "    nums.append([])\n",
        "    for j in range(1, 4):\n",
        "        nums[i].append(j)\n",
        "print(\"3X3 grid with numbers:\")\n",
        "print(nums)"
      ],
      "execution_count": null,
      "outputs": [
        {
          "output_type": "stream",
          "text": [
            "3X3 grid with numbers:\n",
            "[[1, 2, 3], [1, 2, 3], [1, 2, 3]]\n"
          ],
          "name": "stdout"
        }
      ]
    },
    {
      "cell_type": "code",
      "metadata": {
        "id": "tT78tsjnS8ny"
      },
      "source": [
        "rows = int(input(\"Input rows: \"))\n",
        "columns = int(input(\"Input columns: \"))\n",
        "matrix = [[0]*columns for row in range(rows)]\n",
        "print('Input number of elements in a row (1, 2, 3): ')\n",
        "for row in range(rows):\n",
        "    lines = list(map(int, input().split()))\n",
        "    for column in range(columns):\n",
        "        matrix[row][column] = lines[column]\n",
        "\n",
        "sum = [0]*columns\n",
        "print(\"sum for each column:\")\n",
        "for column in range(columns):\n",
        "    for row in range(rows):\n",
        "        sum[column] += matrix[row][column]\n",
        "    print((sum[column]), ' ', end = '')"
      ],
      "execution_count": null,
      "outputs": []
    },
    {
      "cell_type": "code",
      "metadata": {
        "id": "KJsAH7oOThIS"
      },
      "source": [
        "size = int(input(\"Input the size of the matrix: \"))\n",
        "matrix = [[0] * size for row in range(0, size)]\n",
        "for x in range(0, size):\n",
        "\n",
        "    line = list(map(int, input().split()))\n",
        "\n",
        "    for y in range(0, size):\n",
        "        matrix[x][y] = line[y]\n",
        "\n",
        "matrix_sum_diagonal = sum(matrix[size - i - 1][size - i - 1] for i in range(size))\n",
        "print(\"Sum of matrix primary diagonal:\")\n",
        "print(matrix_sum_diagonal)"
      ],
      "execution_count": null,
      "outputs": []
    },
    {
      "cell_type": "code",
      "metadata": {
        "id": "ZGzvAiI8T28h",
        "colab": {
          "base_uri": "https://localhost:8080/"
        },
        "outputId": "0dd07337-a5a7-460b-f8c4-16e3683e2648"
      },
      "source": [
        "import numpy as np\n",
        "a = np.arange(9).reshape(3,3)\n",
        "print('original matrix is :\\n', a)\n",
        "m= np.trace(a)\n",
        "print(\"trace of matrix:\", m)\n"
      ],
      "execution_count": null,
      "outputs": [
        {
          "output_type": "stream",
          "text": [
            "original matrix is :\n",
            " [[0 1 2]\n",
            " [3 4 5]\n",
            " [6 7 8]]\n",
            "trace of matrix: 12\n"
          ],
          "name": "stdout"
        }
      ]
    },
    {
      "cell_type": "code",
      "metadata": {
        "id": "xcrfBWvHVTzj"
      },
      "source": [
        "list1 = [[1, 3], [5, 7], [9, 11]] \n",
        "list2 = [[2, 4], [6, 8], [10, 12, 14]]   \n",
        "print(\"Original lists:\")\n",
        "print(list1)\n",
        "print(list2)\n",
        "result = list(map(list.__add__, list1, list2)) \n",
        "print(\"\\nZipped list:\\n\" +  str(result))"
      ],
      "execution_count": null,
      "outputs": []
    },
    {
      "cell_type": "code",
      "metadata": {
        "id": "uM0cb6eMVk0A"
      },
      "source": [
        "def count_list(input_list): \n",
        "    return len(input_list) \n",
        "      \n",
        "list1 = [[1, 3], [5, 7], [9, 11], [13, 15, 17]] \n",
        "list2 = [[2, 4], [[6,8], [4,5,8]], [10, 12, 14]]   \n",
        "print(\"Original list:\")\n",
        "print(list1)\n",
        "print(\"\\nNumber of lists in said list of lists:\")\n",
        "print(count_list(list1))\n",
        "print(\"\\nOriginal list:\")\n",
        "print(list2)\n",
        "print(\"\\nNumber of lists in said list of lists:\")\n",
        "print(count_list(list2))"
      ],
      "execution_count": null,
      "outputs": []
    },
    {
      "cell_type": "code",
      "metadata": {
        "id": "OHblJm01VrWA"
      },
      "source": [
        "def sort_sublists(input_list):\n",
        "    result = list(map(sorted, input_list)) \n",
        "    return result\n",
        "color1 = [[\"green\", \"orange\"], [\"black\", \"white\"], [\"white\", \"black\", \"orange\"]]\n",
        "print(\"\\nOriginal list:\")\n",
        "print(color1)  \n",
        "print(\"\\nAfter sorting each sublist of the said list of lists:\")\n",
        "print(sort_sublists(color1))"
      ],
      "execution_count": null,
      "outputs": []
    },
    {
      "cell_type": "code",
      "metadata": {
        "id": "BebhOuC4WToU"
      },
      "source": [
        "def unique_sublists(input_list):\n",
        "    result ={}\n",
        "    for l in input_list: \n",
        "        result.setdefault(tuple(l), list()).append(1) \n",
        "    for a, b in result.items(): \n",
        "        result[a] = sum(b)\n",
        "    return result\n",
        "\n",
        "list1 = [[1, 3], [5, 7], [1, 3], [13, 15, 17], [5, 7], [9, 11]] \n",
        "print(\"Original list:\")\n",
        "print(list1)  \n",
        "print(\"Number of unique lists of the said list:\")\n",
        "print(unique_sublists(list1)) \n",
        "\n",
        "color1 = [[\"green\", \"orange\"], [\"black\"], [\"green\", \"orange\"], [\"white\"]]\n",
        "print(\"\\nOriginal list:\")\n",
        "print(color1)  \n",
        "print(\"Number of unique lists of the said list:\")\n",
        "print(unique_sublists(color1))"
      ],
      "execution_count": null,
      "outputs": []
    },
    {
      "cell_type": "code",
      "metadata": {
        "id": "W6ADFqGDWkm2"
      },
      "source": [
        "def count_element_in_list(input_list, x): \n",
        "    ctr = 0\n",
        "    for i in range(len(input_list)): \n",
        "        if x in input_list[i]: \n",
        "            ctr+= 1\n",
        "          \n",
        "    return ctr\n",
        "      \n",
        "\n",
        "list1 = [[1, 3], [5, 7], [1, 11], [1, 15, 7]] \n",
        "print(\"Original list:\")\n",
        "print(list1)\n",
        "print(\"\\nCount 1 in the said list:\")\n",
        "print(count_element_in_list(list1, 1)) \n",
        "print(\"\\nCount 7 in the said list:\")\n",
        "print(count_element_in_list(list1, 7)) \n",
        "\n",
        "\n",
        "list1 = [['A', 'B'], ['A', 'C'], ['A', 'D', 'E'], ['B', 'C', 'D']] \n",
        "print(\"\\nOriginal list:\")\n",
        "print(list1)\n",
        "print(\"\\nCount 'A' in the said list:\")\n",
        "print(count_element_in_list(list1, 'A')) \n",
        "print(\"\\nCount 'E' in the said list:\")\n",
        "print(count_element_in_list(list1, 'E'))"
      ],
      "execution_count": null,
      "outputs": []
    },
    {
      "cell_type": "code",
      "metadata": {
        "id": "_FM30BeoWq1o"
      },
      "source": [
        "def checkSubset(input_list1, input_list2): \n",
        "    return all(map(input_list1.__contains__, input_list2)) \n",
        "      \n",
        "\n",
        "list1 = [[1, 3], [5, 7], [9, 11], [13, 15, 17]] \n",
        "list2 = [[1, 3],[13,15,17]]   \n",
        "print(\"Original list:\")\n",
        "print(list1)\n",
        "print(list2)\n",
        "print(\"\\nIf the one of the said list is a subset of another.:\")\n",
        "print(checkSubset(list1, list2)) \n",
        "\n",
        "list1 = [\n",
        "           [\n",
        "             [1,2],[2,3]\n",
        "           ],\n",
        "           [\n",
        "             [3,4],[5,6]\n",
        "           ]\n",
        "         ]\n",
        "list2 = [\n",
        "           [\n",
        "             [3,4], [5, 6]\n",
        "           ]\n",
        "         ]\n",
        "print(\"Original list:\")\n",
        "print(list1)\n",
        "print(list2)\n",
        "print(\"\\nIf the one of the said list is a subset of another.:\")\n",
        "print(checkSubset(list1, list2)) \n",
        "list1 = [\n",
        "           [\n",
        "             [1,2],[2,3]\n",
        "           ],\n",
        "           [\n",
        "             [3,4],[5,7]\n",
        "           ]\n",
        "         ]\n",
        "list2 = [\n",
        "           [\n",
        "             [3,4], [5, 6]\n",
        "           ]\n",
        "         ]\n",
        "print(\"Original list:\")\n",
        "print(list1)\n",
        "print(list2)\n",
        "print(\"\\nIf the one of the said list is a subset of another.:\")\n",
        "print(checkSubset(list1, list2))"
      ],
      "execution_count": null,
      "outputs": []
    },
    {
      "cell_type": "code",
      "metadata": {
        "id": "gFi0kpBBX83-"
      },
      "source": [
        "def max_length_list(input_list):\n",
        "    max_length = max(len(x) for x in input_list )\n",
        "    max_list = max(input_list, key = len)\n",
        "    return(max_length, max_list)\n",
        "def min_length_list(input_list):\n",
        "    min_length = min(len(x) for x in input_list )\n",
        "    min_list = min(input_list, key = len)\n",
        "    return(min_length, min_list)\n",
        "list1 = [[0], [1, 3], [5, 7], [9, 11], [13, 15, 17]]\n",
        "print(\"Original list:\")\n",
        "print(list1)\n",
        "print(\"\\nList with maximum length of lists:\")\n",
        "print(max_length_list(list1))\n",
        "print(\"\\nList with minimum length of lists:\")\n",
        "print(min_length_list(list1))\n",
        "list1 =  [[0], [1, 3], [5, 7], [9, 11], [3, 5, 7]]\n",
        "print(\"Original list:\")\n",
        "print(list1)\n",
        "print(\"\\nList with maximum length of lists:\")\n",
        "print(max_length_list(list1))\n",
        "print(\"\\nList with minimum length of lists:\")\n",
        "print(min_length_list(list1))\n",
        "list1 =  [[12], [1, 3], [1, 34, 5, 7], [9, 11], [3, 5, 7]]\n",
        "print(\"Original list:\")\n",
        "print(list1)\n",
        "print(\"\\nList with maximum length of lists:\")\n",
        "print(max_length_list(list1))\n",
        "print(\"\\nList with minimum length of lists:\")\n",
        "print(min_length_list(list1))"
      ],
      "execution_count": null,
      "outputs": []
    },
    {
      "cell_type": "code",
      "metadata": {
        "id": "iF2MjaiSYJwS"
      },
      "source": [
        "def sort_sublists(input_list):\n",
        "    input_list.sort()  # sort by sublist contents\n",
        "    input_list.sort(key=len)\n",
        "    return input_list\n",
        "\n",
        "list1 = [[2], [0], [1, 3], [0, 7], [9, 11], [13, 15, 17]]\n",
        "print(\"Original list:\")\n",
        "print(list1)\n",
        "print(\"\\nSort the list of lists by length and value:\")\n",
        "print(sort_sublists(list1))"
      ],
      "execution_count": null,
      "outputs": []
    },
    {
      "cell_type": "code",
      "metadata": {
        "id": "6zVSH-dCYfCJ"
      },
      "source": [
        "def remove_list_range(input_list, left_range, rigth_range):\n",
        "   result = [i for i in input_list if (min(i)>=left_range and max(i)<=rigth_range)]\n",
        "   return result\n",
        "list1 = [[2], [0], [1, 2, 3], [0, 1, 2, 3, 6, 7], [9, 11], [13, 14, 15, 17]]\n",
        "left_range = 13\n",
        "rigth_range = 17\n",
        "print(\"Original list:\")\n",
        "print(list1)\n",
        "print(\"\\nAfter removing sublists from a given list of lists, which contains an element outside the given range:\")\n",
        "print(remove_list_range(list1, left_range, rigth_range))"
      ],
      "execution_count": null,
      "outputs": []
    },
    {
      "cell_type": "code",
      "metadata": {
        "id": "6Zl4eULlYmxT"
      },
      "source": [
        "from random import shuffle\n",
        "\n",
        "def shuffle_word(text_list):\n",
        "    text_list = list(text_list)\n",
        "    shuffle(text_list)\n",
        "    return ''.join(text_list)\n",
        "\n",
        "text_list = ['Python', 'list', 'exercises', 'practice', 'solution'] \n",
        "print(\"Original list:\")\n",
        "print(text_list)\n",
        "print(\"\\nAfter scrambling the letters of the strings of the said list:\")\n",
        "result =  [shuffle_word(word) for word in text_list]\n",
        "print(result) "
      ],
      "execution_count": null,
      "outputs": []
    },
    {
      "cell_type": "code",
      "metadata": {
        "id": "lr_IeJxYYsQW"
      },
      "source": [
        "def max_min_val(list_val):\n",
        "     max_val = max(i for i in list_val if isinstance(i, int)) \n",
        "     min_val = min(i for i in list_val if isinstance(i, int))\n",
        "     return(max_val, min_val)\n",
        "\n",
        "list_val = ['Python', 3, 2, 4, 5, 'version'] \n",
        "print(\"Original list:\")\n",
        "print(list_val)\n",
        "print(\"\\nMaximum and Minimum values in the said list:\")\n",
        "print(max_min_val(list_val))"
      ],
      "execution_count": null,
      "outputs": []
    },
    {
      "cell_type": "code",
      "metadata": {
        "id": "oMd5AHN7YxNt"
      },
      "source": [
        "def extract_index_ele(l1, l2, l3):\n",
        "    result = []\n",
        "    for m, n, o in zip(l1, l2, l3):\n",
        "        if (m == n == o):\n",
        "            result.append(m)\n",
        "    return result\n",
        "\n",
        "nums1 = [1, 1, 3, 4, 5, 6, 7]\n",
        "nums2 = [0, 1, 2, 3, 4, 5, 7]\n",
        "nums3 = [0, 1, 2, 3, 4, 5, 7]\n",
        "\n",
        "print(\"Original lists:\")\n",
        "print(nums1)\n",
        "print(nums2)\n",
        "print(nums3)\n",
        "print(\"\\nCommon index elements of the said lists:\") \n",
        "print(extract_index_ele(nums1, nums2, nums3))"
      ],
      "execution_count": null,
      "outputs": []
    },
    {
      "cell_type": "code",
      "metadata": {
        "id": "GXVNFIJkY1XA",
        "colab": {
          "base_uri": "https://localhost:8080/"
        },
        "outputId": "f5511628-eff8-4b84-8373-13bf188e611f"
      },
      "source": [
        "def sort_matrix(M):\n",
        "    result = sorted(M, key=sum)\n",
        "    return result\n",
        "\n",
        "matrix1 = [[1, 2, 3], [2, 4, 5], [1, 1, 1]]\n",
        "matrix2 = [[1, 2, 3], [-2, 4, -5], [1, -1, 1]]\n",
        "\n",
        "print(\"Original Matrix:\")\n",
        "print(matrix1)\n",
        "print(\"\\nSort the said matrix in ascending order according to the sum of its rows\") \n",
        "print(sort_matrix(matrix1))\n",
        "print(\"\\nOriginal Matrix:\")\n",
        "print(matrix2) \n",
        "print(\"\\nSort the said matrix in ascending order according to the sum of its rows\") \n",
        "print(sort_matrix(matrix2))"
      ],
      "execution_count": null,
      "outputs": [
        {
          "output_type": "stream",
          "text": [
            "Original Matrix:\n",
            "[[1, 2, 3], [2, 4, 5], [1, 1, 1]]\n",
            "\n",
            "Sort the said matrix in ascending order according to the sum of its rows\n",
            "[[1, 1, 1], [1, 2, 3], [2, 4, 5]]\n",
            "\n",
            "Original Matrix:\n",
            "[[1, 2, 3], [-2, 4, -5], [1, -1, 1]]\n",
            "\n",
            "Sort the said matrix in ascending order according to the sum of its rows\n",
            "[[-2, 4, -5], [1, -1, 1], [1, 2, 3]]\n"
          ],
          "name": "stdout"
        }
      ]
    },
    {
      "cell_type": "code",
      "metadata": {
        "id": "xtwhrGucZvR8",
        "colab": {
          "base_uri": "https://localhost:8080/"
        },
        "outputId": "2e244ef9-0adb-4ea6-acf3-fa417b5f8ac6"
      },
      "source": [
        "def extract_string(str_list1, l):\n",
        "    result = [e for e in str_list1 if len(e) == l] \n",
        "    return result\n",
        "\n",
        "str_list1 = ['Python', 'list', 'exercises', 'practice', 'solution'] \n",
        "print(\"Original list:\")\n",
        "print(str_list1)\n",
        "l = 8\n",
        "print(\"\\nlength of the string to extract:\")\n",
        "print(l)\n",
        "print(\"\\nAfter extracting strings of specified length from the said list:\") \n",
        "print(extract_string(str_list1 , l))"
      ],
      "execution_count": null,
      "outputs": [
        {
          "output_type": "stream",
          "text": [
            "Original list:\n",
            "['Python', 'list', 'exercises', 'practice', 'solution']\n",
            "\n",
            "length of the string to extract:\n",
            "8\n",
            "\n",
            "After extracting strings of specified length from the said list:\n",
            "['practice', 'solution']\n"
          ],
          "name": "stdout"
        }
      ]
    },
    {
      "cell_type": "code",
      "metadata": {
        "colab": {
          "base_uri": "https://localhost:8080/"
        },
        "id": "hBaSezwXyYfW",
        "outputId": "92de0baf-2902-49c1-f946-ab5906ab9127"
      },
      "source": [
        "def diff_consecutive_nums(nums):\n",
        "    result = [b-a for a, b in zip(nums[:-1], nums[1:])]\n",
        "    return result\n",
        "\n",
        "nums1 = [1, 1, 3, 4, 4, 5, 6, 7]\n",
        "print(\"Original list:\")\n",
        "print(nums1)\n",
        "print(\"Difference between consecutive numbers of the said list:\") \n",
        "print(diff_consecutive_nums(nums1))\n",
        "\n",
        "nums2 = [4, 5, 8, 9, 6, 10]\n",
        "print(\"\\nOriginal list:\")\n",
        "print(nums2)\n",
        "print(\"Difference between consecutive numbers of the said list:\") \n",
        "print(diff_consecutive_nums(nums2))"
      ],
      "execution_count": null,
      "outputs": [
        {
          "output_type": "stream",
          "text": [
            "Original list:\n",
            "[1, 1, 3, 4, 4, 5, 6, 7]\n",
            "Difference between consecutive numbers of the said list:\n",
            "[0, 2, 1, 0, 1, 1, 1]\n",
            "\n",
            "Original list:\n",
            "[4, 5, 8, 9, 6, 10]\n",
            "Difference between consecutive numbers of the said list:\n",
            "[1, 3, 1, -3, 4]\n"
          ],
          "name": "stdout"
        }
      ]
    },
    {
      "cell_type": "code",
      "metadata": {
        "colab": {
          "base_uri": "https://localhost:8080/"
        },
        "id": "6hm5j6yoypCy",
        "outputId": "821c0b9d-8508-485b-f9e5-993439be6511"
      },
      "source": [
        "def average_two_lists(nums1, nums2):\n",
        "    result = sum(nums1 + nums2) / len(nums1 + nums2) \n",
        "    return result\n",
        "\n",
        "nums1 = [1, 1, 3, 4, 4, 5, 6, 7]\n",
        "nums2 = [0, 1, 2, 3, 4, 4, 5, 7, 8]\n",
        "print(\"Original list:\")\n",
        "print(nums1)\n",
        "print(nums2)\n",
        "\n",
        "print(\"\\nAverage of two lists:\")\n",
        "print(average_two_lists(nums1, nums2))"
      ],
      "execution_count": null,
      "outputs": [
        {
          "output_type": "stream",
          "text": [
            "Original list:\n",
            "[1, 1, 3, 4, 4, 5, 6, 7]\n",
            "[0, 1, 2, 3, 4, 4, 5, 7, 8]\n",
            "\n",
            "Average of two lists:\n",
            "3.823529411764706\n"
          ],
          "name": "stdout"
        }
      ]
    },
    {
      "cell_type": "code",
      "metadata": {
        "colab": {
          "base_uri": "https://localhost:8080/"
        },
        "id": "uLOtltU005C7",
        "outputId": "d947d3f4-7772-4ebb-c3e8-33f8912b8633"
      },
      "source": [
        "def count_integer(list1):\n",
        "    ctr = 0\n",
        "    for i in list1:\n",
        "        if isinstance(i, int):\n",
        "            ctr = ctr + 1\n",
        "    return ctr\n",
        "\n",
        "list1 = [1, 'abcd', 3, 1.2, 4, 'xyz', 5, 'pqr', 7, -5, -12.22]\n",
        "\n",
        "print(\"Original list:\")\n",
        "print(list1)\n",
        "\n",
        "print(\"\\nNumber of integers in the said mixed list:\")\n",
        "print(count_integer(list1))"
      ],
      "execution_count": null,
      "outputs": [
        {
          "output_type": "stream",
          "text": [
            "Original list:\n",
            "[1, 'abcd', 3, 1.2, 4, 'xyz', 5, 'pqr', 7, -5, -12.22]\n",
            "\n",
            "Number of integers in the said mixed list:\n",
            "6\n"
          ],
          "name": "stdout"
        }
      ]
    },
    {
      "cell_type": "code",
      "metadata": {
        "colab": {
          "base_uri": "https://localhost:8080/"
        },
        "id": "1Bo056m21iYa",
        "outputId": "07dc97d2-35f8-4a4b-b524-169a8f60e67a"
      },
      "source": [
        "def remove_column(nums, n):\n",
        "   for i in nums: \n",
        "    del i[n] \n",
        "   return nums\n",
        "\n",
        "list1 = [[1, 2, 3], [2, 4, 5], [1, 1, 1]]\n",
        "n = 0\n",
        "print(\"Original Nested list:\")\n",
        "print(list1)\n",
        "print(\"After removing 1st column:\")\n",
        "print(remove_column(list1, n))"
      ],
      "execution_count": null,
      "outputs": [
        {
          "output_type": "stream",
          "text": [
            "Original Nested list:\n",
            "[[1, 2, 3], [2, 4, 5], [1, 1, 1]]\n",
            "After removing 1st column:\n",
            "[[2, 3], [4, 5], [1, 1]]\n"
          ],
          "name": "stdout"
        }
      ]
    },
    {
      "cell_type": "code",
      "metadata": {
        "colab": {
          "base_uri": "https://localhost:8080/"
        },
        "id": "6GOpVj1z1sYN",
        "outputId": "8bf340c8-f0d3-4569-e853-229358bc2ea6"
      },
      "source": [
        "def remove_column(nums, n):\n",
        "   result = [i.pop(n) for i in nums]\n",
        "   return result \n",
        "\n",
        "list1 = [[1, 2, 3], [2, 4, 5], [1, 1, 1]]\n",
        "n = 0\n",
        "print(\"Original Nested list:\")\n",
        "print(list1)\n",
        "print(\"Extract 1st column:\")\n",
        "print(remove_column(list1, n))"
      ],
      "execution_count": null,
      "outputs": [
        {
          "output_type": "stream",
          "text": [
            "Original Nested list:\n",
            "[[1, 2, 3], [2, 4, 5], [1, 1, 1]]\n",
            "Extract 1st column:\n",
            "[1, 2, 1]\n"
          ],
          "name": "stdout"
        }
      ]
    },
    {
      "cell_type": "code",
      "metadata": {
        "colab": {
          "base_uri": "https://localhost:8080/"
        },
        "id": "U23ROsRU2QQD",
        "outputId": "e5e77193-c80b-4131-9d94-b4f5953b028c"
      },
      "source": [
        "nums1 = [1, 2, 3, 4, 5, 6, 7, 8, 9, 10]\n",
        "print(\"original List:\")\n",
        "print(nums1)\n",
        "print(\"\\nRotate the said list in left direction by 4:\")\n",
        "result = nums1[3:] + nums1[:4]\n",
        "print(result)\n",
        "print(\"\\nRotate the said list in left direction by 2:\")\n",
        "result = nums1[2:] + nums1[:2]\n",
        "print(result)\n",
        "print(\"\\nRotate the said list in Right direction by 4:\")\n",
        "result = nums1[-3:] + nums1[:-4]\n",
        "print(result)\n",
        "print(\"\\nRotate the said list in Right direction by 2:\")\n",
        "result = nums1[-2:] + nums1[:-2]\n",
        "print(result)\n"
      ],
      "execution_count": null,
      "outputs": [
        {
          "output_type": "stream",
          "text": [
            "original List:\n",
            "[1, 2, 3, 4, 5, 6, 7, 8, 9, 10]\n",
            "\n",
            "Rotate the said list in left direction by 4:\n",
            "[4, 5, 6, 7, 8, 9, 10, 1, 2, 3, 4]\n",
            "\n",
            "Rotate the said list in left direction by 2:\n",
            "[3, 4, 5, 6, 7, 8, 9, 10, 1, 2]\n",
            "\n",
            "Rotate the said list in Right direction by 4:\n",
            "[8, 9, 10, 1, 2, 3, 4, 5, 6]\n",
            "\n",
            "Rotate the said list in Right direction by 2:\n",
            "[9, 10, 1, 2, 3, 4, 5, 6, 7, 8]\n"
          ],
          "name": "stdout"
        }
      ]
    },
    {
      "cell_type": "code",
      "metadata": {
        "colab": {
          "base_uri": "https://localhost:8080/"
        },
        "id": "cF8B3E7Q2fow",
        "outputId": "bfdb2348-ed6a-4b9b-c410-046ffadd6960"
      },
      "source": [
        "def max_occurrences(nums):\n",
        "    max_val = 0\n",
        "    result = nums[0] \n",
        "    for i in nums:\n",
        "        occu = nums.count(i)\n",
        "        if occu > max_val:\n",
        "            max_val = occu\n",
        "            result = i \n",
        "    return result\n",
        "\n",
        "nums = [2,3,8,4,7,9,8,2,6,5,1,6,1,2,3,4,6,9,1,2]\n",
        "print (\"Original list:\")\n",
        "print(nums)\n",
        "print(\"\\nItem with maximum occurrences of the said list:\")\n",
        "print(max_occurrences(nums)) "
      ],
      "execution_count": null,
      "outputs": [
        {
          "output_type": "stream",
          "text": [
            "Original list:\n",
            "[2, 3, 8, 4, 7, 9, 8, 2, 6, 5, 1, 6, 1, 2, 3, 4, 6, 9, 1, 2]\n",
            "\n",
            "Item with maximum occurrences of the said list:\n",
            "2\n"
          ],
          "name": "stdout"
        }
      ]
    },
    {
      "cell_type": "code",
      "metadata": {
        "colab": {
          "base_uri": "https://localhost:8080/"
        },
        "id": "tAeQP-NV2vEL",
        "outputId": "779d4315-0bc4-4e0d-f123-12bba00be121"
      },
      "source": [
        "def access_elements(nums, list_index):\n",
        "    result = [nums[i] for i in list_index]\n",
        "    return result\n",
        "\n",
        "\n",
        "nums = [2,3,8,4,7,9,8,2,6,5,1,6,1,2,3,4,6,9,1,2]\n",
        "print (\"Original list:\")\n",
        "print(nums)\n",
        "list_index = [0,3,5,7,10]\n",
        "print(\"Index list:\")\n",
        "print(list_index)\n",
        "print(\"\\nItems with specified index of the said list:\")\n",
        "print(access_elements(nums, list_index))"
      ],
      "execution_count": null,
      "outputs": [
        {
          "output_type": "stream",
          "text": [
            "Original list:\n",
            "[2, 3, 8, 4, 7, 9, 8, 2, 6, 5, 1, 6, 1, 2, 3, 4, 6, 9, 1, 2]\n",
            "Index list:\n",
            "[0, 3, 5, 7, 10]\n",
            "\n",
            "Items with specified index of the said list:\n",
            "[2, 4, 9, 2, 1]\n"
          ],
          "name": "stdout"
        }
      ]
    },
    {
      "cell_type": "code",
      "metadata": {
        "colab": {
          "base_uri": "https://localhost:8080/"
        },
        "id": "uRr7C3AT3rpH",
        "outputId": "8e9e1764-1ee5-4daf-bec6-e861e19272fe"
      },
      "source": [
        "def is_sort_list(nums):\n",
        "    result = all(nums[i] <= nums[i+1] for i in range(len(nums)-1))\n",
        "    return result\n",
        "\n",
        "nums1 = [1,2,4,6,8,10,12,14,16,17]\n",
        "print (\"Original list:\")\n",
        "print(nums1)\n",
        "print(\"\\nIs the said list is sorted!\")\n",
        "print(is_sort_list(nums1)) \n",
        "\n",
        "nums2 = [2,3,8,4,7,9,8,2,6,5,1,6,1,2,3,4,6,9,1,2]\n",
        "print (\"\\nOriginal list:\")\n",
        "print(nums1)\n",
        "print(\"\\nIs the said list is sorted!\")\n",
        "print(is_sort_list(nums2))"
      ],
      "execution_count": null,
      "outputs": [
        {
          "output_type": "stream",
          "text": [
            "Original list:\n",
            "[1, 2, 4, 6, 8, 10, 12, 14, 16, 17]\n",
            "\n",
            "Is the said list is sorted!\n",
            "True\n",
            "\n",
            "Original list:\n",
            "[1, 2, 4, 6, 8, 10, 12, 14, 16, 17]\n",
            "\n",
            "Is the said list is sorted!\n",
            "False\n"
          ],
          "name": "stdout"
        }
      ]
    },
    {
      "cell_type": "code",
      "metadata": {
        "colab": {
          "base_uri": "https://localhost:8080/"
        },
        "id": "Lnk-huca34_3",
        "outputId": "bdc396ff-0d73-44aa-932c-21d00ed8eae3"
      },
      "source": [
        "def remove_duplicate_dictionary(list_color):\n",
        "    result = [dict(e) for e in {tuple(d.items()) for d in list_color}]\n",
        "    return result\n",
        "\n",
        "list_color = [{'Green': '#008000'}, {'Black': '#000000'}, {'Blue': '#0000FF'}, {'Green': '#008000'}]\n",
        "print (\"Original list with duplicate dictionary:\")\n",
        "print(list_color)\n",
        "print(\"\\nAfter removing duplicate dictionary of the said list:\")\n",
        "print(remove_duplicate_dictionary(list_color))"
      ],
      "execution_count": null,
      "outputs": [
        {
          "output_type": "stream",
          "text": [
            "Original list with duplicate dictionary:\n",
            "[{'Green': '#008000'}, {'Black': '#000000'}, {'Blue': '#0000FF'}, {'Green': '#008000'}]\n",
            "\n",
            "After removing duplicate dictionary of the said list:\n",
            "[{'Green': '#008000'}, {'Black': '#000000'}, {'Blue': '#0000FF'}]\n"
          ],
          "name": "stdout"
        }
      ]
    },
    {
      "cell_type": "code",
      "metadata": {
        "colab": {
          "base_uri": "https://localhost:8080/"
        },
        "id": "36kCPFSh4DIE",
        "outputId": "7e047163-bdd8-4489-a1f1-24d067443af2"
      },
      "source": [
        "def extract_nth_element(test_list, n):\n",
        "    result = [x[n] for x in test_list]\n",
        "    return result\n",
        "\n",
        "students = [('Greyson Fulton', 98, 99), ('Brady Kent', 97, 96), ('Wyatt Knott', 91, 94), ('Beau Turnbull', 94, 98)] \n",
        "print (\"Original list:\")\n",
        "print(students)\n",
        "n = 0\n",
        "print(\"\\nExtract nth element ( n =\",n,\") from the said list of tuples:\")\n",
        "print(extract_nth_element(students, n))\n",
        "\n",
        "n = 2\n",
        "print(\"\\nExtract nth element ( n =\",n,\") from the said list of tuples:\")\n",
        "print(extract_nth_element(students, n))"
      ],
      "execution_count": null,
      "outputs": [
        {
          "output_type": "stream",
          "text": [
            "Original list:\n",
            "[('Greyson Fulton', 98, 99), ('Brady Kent', 97, 96), ('Wyatt Knott', 91, 94), ('Beau Turnbull', 94, 98)]\n",
            "\n",
            "Extract nth element ( n = 0 ) from the said list of tuples:\n",
            "['Greyson Fulton', 'Brady Kent', 'Wyatt Knott', 'Beau Turnbull']\n",
            "\n",
            "Extract nth element ( n = 2 ) from the said list of tuples:\n",
            "[99, 96, 94, 98]\n"
          ],
          "name": "stdout"
        }
      ]
    },
    {
      "cell_type": "code",
      "metadata": {
        "colab": {
          "base_uri": "https://localhost:8080/"
        },
        "id": "9VNccHwf4LG5",
        "outputId": "8c828d7e-bf2b-4c3b-f0e8-cb6a9933c91d"
      },
      "source": [
        "def all_unique(test_list):\n",
        "    if len(test_list) > len(set(test_list)):\n",
        "        return False\n",
        "    return True\n",
        "\n",
        "nums1 = [1,2,4,6,8,2,1,4,10,12,14,12,16,17]\n",
        "print (\"Original list:\")\n",
        "print(nums1)\n",
        "print(\"\\nIs the said list contains all unique elements!\")\n",
        "print(all_unique(nums1)) \n",
        "\n",
        "nums2 = [2,4,6,8,10,12,14]\n",
        "print (\"\\nOriginal list:\")\n",
        "print(nums2)\n",
        "print(\"\\nIs the said list contains all unique elements!\")\n",
        "print(all_unique(nums2))"
      ],
      "execution_count": null,
      "outputs": [
        {
          "output_type": "stream",
          "text": [
            "Original list:\n",
            "[1, 2, 4, 6, 8, 2, 1, 4, 10, 12, 14, 12, 16, 17]\n",
            "\n",
            "Is the said list contains all unique elements!\n",
            "False\n",
            "\n",
            "Original list:\n",
            "[2, 4, 6, 8, 10, 12, 14]\n",
            "\n",
            "Is the said list contains all unique elements!\n",
            "True\n"
          ],
          "name": "stdout"
        }
      ]
    },
    {
      "cell_type": "code",
      "metadata": {
        "id": "DJtEQEDx4cLF"
      },
      "source": [
        "from operator import itemgetter\n",
        "def index_on_inner_list(list_data, index_no):\n",
        "    result = sorted(list_data, key=itemgetter(index_no))\n",
        "    return result\n",
        "students = [('Greyson Fulton', 98, 99), ('Brady Kent', 97, 96), ('Wyatt Knott', 91, 94), ('Beau Turnbull', 94, 98)] \n",
        "print (\"Original list:\")\n",
        "print(students)\n",
        "index_no = 0\n",
        "print(\"\\nSort the said list of lists by a given index\",\"( Index = \",index_no,\") of the inner list\")\n",
        "print(index_on_inner_list(students, index_no))\n",
        "index_no = 2\n",
        "print(\"\\nSort the said list of lists by a given index\",\"( Index = \",index_no,\") of the inner list\")\n",
        "print(index_on_inner_list(students, index_no))"
      ],
      "execution_count": null,
      "outputs": []
    },
    {
      "cell_type": "code",
      "metadata": {
        "colab": {
          "base_uri": "https://localhost:8080/"
        },
        "id": "wVL8BOzy55DJ",
        "outputId": "10bedf8f-299b-436b-d217-0117cf5de41c"
      },
      "source": [
        "def index_on_inner_list(list1, list2):\n",
        "    result = [x for x in list1 if x not in list2]\n",
        "    return result\n",
        "\n",
        "list1 = [1,2,3,4,5,6,7,8,9,10]\n",
        "list2 = [2,4,6,8]\n",
        "\n",
        "print(\"Original lists:\")\n",
        "print(\"list1:\", list1)\n",
        "print(\"list2:\", list2)\n",
        "\n",
        "print(\"\\nRemove all elements from 'list1' present in 'list2:\")\n",
        "print(index_on_inner_list(list1, list2))"
      ],
      "execution_count": null,
      "outputs": [
        {
          "output_type": "stream",
          "text": [
            "Original lists:\n",
            "list1: [1, 2, 3, 4, 5, 6, 7, 8, 9, 10]\n",
            "list2: [2, 4, 6, 8]\n",
            "\n",
            "Remove all elements from 'list1' present in 'list2:\n",
            "[1, 3, 5, 7, 9, 10]\n"
          ],
          "name": "stdout"
        }
      ]
    },
    {
      "cell_type": "code",
      "metadata": {
        "colab": {
          "base_uri": "https://localhost:8080/"
        },
        "id": "hWCsT-8U6W8K",
        "outputId": "a1e2827a-8c91-49b5-a5a0-8e0dae368d30"
      },
      "source": [
        "def elements_difference(nums):\n",
        "    result = [j-i for i, j in zip(nums[:-1], nums[1:])]\n",
        "    return result\n",
        "\n",
        "nums1 = [1,2,3,4,5,6,7,8,9,10]\n",
        "nums2 = [2,4,6,8]\n",
        "\n",
        "print(\"Original list:\")\n",
        "print(nums1)\n",
        "print(\"\\nDfference between elements (n+1th – nth) of the said list :\")\n",
        "print(elements_difference(nums1))\n",
        "print(\"\\nOriginal list:\")\n",
        "print(nums2)\n",
        "print(\"\\nDfference between elements (n+1th – nth) of the said list :\")\n",
        "print(elements_difference(nums2))"
      ],
      "execution_count": null,
      "outputs": [
        {
          "output_type": "stream",
          "text": [
            "Original list:\n",
            "[1, 2, 3, 4, 5, 6, 7, 8, 9, 10]\n",
            "\n",
            "Dfference between elements (n+1th – nth) of the said list :\n",
            "[1, 1, 1, 1, 1, 1, 1, 1, 1]\n",
            "\n",
            "Original list:\n",
            "[2, 4, 6, 8]\n",
            "\n",
            "Dfference between elements (n+1th – nth) of the said list :\n",
            "[2, 2, 2]\n"
          ],
          "name": "stdout"
        }
      ]
    },
    {
      "cell_type": "code",
      "metadata": {
        "colab": {
          "base_uri": "https://localhost:8080/"
        },
        "id": "VPiuwUKI6sb_",
        "outputId": "c4b648f5-c9a2-4bea-d8fd-fbe938b2c088"
      },
      "source": [
        "def find_substring(str1, sub_str):\n",
        "   if any(sub_str in s for s in str1):\n",
        "       return True\n",
        "   return False\n",
        "\n",
        "colors = [\"red\", \"black\", \"white\", \"green\", \"orange\"]\n",
        "print(\"Original list:\")\n",
        "print(colors)\n",
        "sub_str = \"ack\"\n",
        "print(\"Substring to search:\")\n",
        "print(sub_str)\n",
        "print(\"Check if a substring presents in the said list of string values:\")\n",
        "print(find_substring(colors, sub_str))\n",
        "sub_str = \"abc\"\n",
        "print(\"Substring to search:\")\n",
        "print(sub_str)\n",
        "print(\"Check if a substring presents in the said list of string values:\")\n",
        "print(find_substring(colors, sub_str))"
      ],
      "execution_count": null,
      "outputs": [
        {
          "output_type": "stream",
          "text": [
            "Original list:\n",
            "['red', 'black', 'white', 'green', 'orange']\n",
            "Substring to search:\n",
            "ack\n",
            "Check if a substring presents in the said list of string values:\n",
            "True\n",
            "Substring to search:\n",
            "abc\n",
            "Check if a substring presents in the said list of string values:\n",
            "False\n"
          ],
          "name": "stdout"
        }
      ]
    },
    {
      "cell_type": "code",
      "metadata": {
        "colab": {
          "base_uri": "https://localhost:8080/"
        },
        "id": "tmdODeXQ7EZ8",
        "outputId": "87a14f0a-c775-4081-dce4-29f4cb5581b1"
      },
      "source": [
        "def alternate_elements(list_data):\n",
        "    result=[]\n",
        "    for item in list_data[::2]:\n",
        "        result.append(item)\n",
        "    return result \n",
        "colors = [\"red\", \"black\", \"white\", \"green\", \"orange\"]\n",
        "print(\"Original list:\")\n",
        "print(colors)\n",
        "print(\"List with alternate elements from the said list:\")\n",
        "print(alternate_elements(colors))\n",
        "nums = [2,0,3,4,0,2,8,3,4,2]\n",
        "print(\"\\nOriginal list:\")\n",
        "print(nums)\n",
        "print(\"List with alternate elements from the said list:\")\n",
        "print(alternate_elements(nums))"
      ],
      "execution_count": null,
      "outputs": [
        {
          "output_type": "stream",
          "text": [
            "Original list:\n",
            "['red', 'black', 'white', 'green', 'orange']\n",
            "List with alternate elements from the said list:\n",
            "['red', 'white', 'orange']\n",
            "\n",
            "Original list:\n",
            "[2, 0, 3, 4, 0, 2, 8, 3, 4, 2]\n",
            "List with alternate elements from the said list:\n",
            "[2, 3, 0, 8, 4]\n"
          ],
          "name": "stdout"
        }
      ]
    },
    {
      "cell_type": "code",
      "metadata": {
        "colab": {
          "base_uri": "https://localhost:8080/"
        },
        "id": "ym7Z650F7TXG",
        "outputId": "1666a4a6-2b5c-4070-e241-1c0aee7ccca2"
      },
      "source": [
        "def intersection_nested_lists(l1, l2):\n",
        "    result = [[n for n in lst if n in l1] for lst in l2]\n",
        "    return result\n",
        "nums1 = [1, 2, 3, 4, 5, 6, 7, 8, 9, 10, 11, 12, 13, 14]\n",
        "nums2 = [[12, 18, 23, 25, 45], [7, 11, 19, 24, 28], [1, 5, 8, 18, 15, 16]]\n",
        "print(\"\\nOriginal lists:\")\n",
        "print(nums1)\n",
        "print(nums2)\n",
        "print(\"\\nIntersection of said nested lists:\")\n",
        "print(intersection_nested_lists(nums1, nums2))\n"
      ],
      "execution_count": null,
      "outputs": [
        {
          "output_type": "stream",
          "text": [
            "\n",
            "Original lists:\n",
            "[1, 2, 3, 4, 5, 6, 7, 8, 9, 10, 11, 12, 13, 14]\n",
            "[[12, 18, 23, 25, 45], [7, 11, 19, 24, 28], [1, 5, 8, 18, 15, 16]]\n",
            "\n",
            "Intersection of said nested lists:\n",
            "[[12], [7, 11], [1, 5, 8]]\n"
          ],
          "name": "stdout"
        }
      ]
    },
    {
      "cell_type": "code",
      "metadata": {
        "colab": {
          "base_uri": "https://localhost:8080/"
        },
        "id": "uwUDYoDp7p0J",
        "outputId": "740e175c-cf7c-4942-9307-1fa373fe5248"
      },
      "source": [
        "def common_in_nested_lists(nested_list):\n",
        "    result = list(set.intersection(*map(set, nested_list)))\n",
        "    return result\n",
        "nested_list = [[12, 18, 23, 25, 45], [7, 12, 18, 24, 28], [1, 5, 8, 12, 15, 16, 18]]\n",
        "print(\"\\nOriginal lists:\")\n",
        "print(nested_list)\n",
        "print(\"\\nCommon element(s) in nested lists:\")\n",
        "print(common_in_nested_lists(nested_list))"
      ],
      "execution_count": null,
      "outputs": [
        {
          "output_type": "stream",
          "text": [
            "\n",
            "Original lists:\n",
            "[[12, 18, 23, 25, 45], [7, 12, 18, 24, 28], [1, 5, 8, 12, 15, 16, 18]]\n",
            "\n",
            "Common element(s) in nested lists:\n",
            "[18, 12]\n"
          ],
          "name": "stdout"
        }
      ]
    },
    {
      "cell_type": "code",
      "metadata": {
        "colab": {
          "base_uri": "https://localhost:8080/"
        },
        "id": "B4QsuOe47yBC",
        "outputId": "2760b2cf-689b-400e-abde-2da3d3d6805b"
      },
      "source": [
        "def reverse_strings_list(string_list):\n",
        "    result = [x[::-1] for x in string_list]\n",
        "    return result\n",
        "\n",
        "colors_list = [\"Red\", \"Green\", \"Blue\", \"White\", \"Black\"]\n",
        "print(\"\\nOriginal lists:\")\n",
        "print(colors_list)\n",
        "print(\"\\nReverse strings of the said given list:\")\n",
        "print(reverse_strings_list(colors_list))"
      ],
      "execution_count": null,
      "outputs": [
        {
          "output_type": "stream",
          "text": [
            "\n",
            "Original lists:\n",
            "['Red', 'Green', 'Blue', 'White', 'Black']\n",
            "\n",
            "Reverse strings of the said given list:\n",
            "['deR', 'neerG', 'eulB', 'etihW', 'kcalB']\n"
          ],
          "name": "stdout"
        }
      ]
    },
    {
      "cell_type": "code",
      "metadata": {
        "colab": {
          "base_uri": "https://localhost:8080/"
        },
        "id": "mkAx8Uyh8AkC",
        "outputId": "fe66ff09-df30-4dae-f702-fe243d0c7917"
      },
      "source": [
        "def tuple_max_val(nums):\n",
        "    result_max = max([abs(x * y) for x, y in nums] )\n",
        "    result_min = min([abs(x * y) for x, y in nums] )\n",
        "    return result_max,result_min\n",
        "nums = [(2, 7), (2, 6), (1, 8), (4, 9)]   \n",
        "print(\"The original list, tuple : \") \n",
        "print(nums)\n",
        "print(\"\\nMaximum and minimum product from the pairs of the said tuple of list:\")\n",
        "print(tuple_max_val(nums)) "
      ],
      "execution_count": null,
      "outputs": [
        {
          "output_type": "stream",
          "text": [
            "The original list, tuple : \n",
            "[(2, 7), (2, 6), (1, 8), (4, 9)]\n",
            "\n",
            "Maximum and minimum product from the pairs of the said tuple of list:\n",
            "(36, 8)\n"
          ],
          "name": "stdout"
        }
      ]
    },
    {
      "cell_type": "code",
      "metadata": {
        "colab": {
          "base_uri": "https://localhost:8080/"
        },
        "id": "hnHvHYVr8LOn",
        "outputId": "d9b11ee2-ea8a-47dc-bbaa-d045969dc693"
      },
      "source": [
        "def unique_product(list_data):\n",
        "    temp = list(set(list_data))\n",
        "    p = 1\n",
        "    for i in temp:\n",
        "        p *= i\n",
        "    return p\n",
        "nums = [10, 20, 30, 40, 20, 50, 60, 40]\n",
        "print(\"Original List : \",nums)\n",
        "print(\"Product of the unique numbers of the said list: \",unique_product(nums))"
      ],
      "execution_count": null,
      "outputs": [
        {
          "output_type": "stream",
          "text": [
            "Original List :  [10, 20, 30, 40, 20, 50, 60, 40]\n",
            "Product of the unique numbers of the said list:  720000000\n"
          ],
          "name": "stdout"
        }
      ]
    },
    {
      "cell_type": "code",
      "metadata": {
        "colab": {
          "base_uri": "https://localhost:8080/"
        },
        "id": "6l9bQ6IQ82Mm",
        "outputId": "50de4832-f016-4f02-d854-a5f105f23f52"
      },
      "source": [
        "def interleave_multiple_lists(list1,list2,list3):\n",
        "    result = [el for pair in zip(list1, list2, list3) for el in pair]\n",
        "    return result\n",
        "     \n",
        "list1 = [1,2,3,4,5,6,7]\n",
        "list2 = [10,20,30,40,50,60,70]\n",
        "list3 = [100,200,300,400,500,600,700]\n",
        "print(\"Original list:\")\n",
        "print(\"list1:\",list1)\n",
        "print(\"list2:\",list2)\n",
        "print(\"list3:\",list3)\n",
        "print(\"\\nInterleave multiple lists:\")\n",
        "print(interleave_multiple_lists(list1,list2,list3))"
      ],
      "execution_count": null,
      "outputs": [
        {
          "output_type": "stream",
          "text": [
            "Original list:\n",
            "list1: [1, 2, 3, 4, 5, 6, 7]\n",
            "list2: [10, 20, 30, 40, 50, 60, 70]\n",
            "list3: [100, 200, 300, 400, 500, 600, 700]\n",
            "\n",
            "Interleave multiple lists:\n",
            "[1, 10, 100, 2, 20, 200, 3, 30, 300, 4, 40, 400, 5, 50, 500, 6, 60, 600, 7, 70, 700]\n"
          ],
          "name": "stdout"
        }
      ]
    },
    {
      "cell_type": "code",
      "metadata": {
        "id": "SsQbM9wO-W2q"
      },
      "source": [
        ""
      ],
      "execution_count": null,
      "outputs": []
    }
  ]
}