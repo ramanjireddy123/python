{
 "cells": [
  {
   "cell_type": "code",
   "execution_count": 1,
   "id": "95ad6fdc-3f7e-4c4d-ad98-5f7d006246f9",
   "metadata": {},
   "outputs": [
    {
     "name": "stdout",
     "output_type": "stream",
     "text": [
      "[24, 35, 9, 56, 12]\n"
     ]
    }
   ],
   "source": [
    "# Python program to interchange first and last elements in a list\n",
    "# Swap function\n",
    "def swapList(x):\n",
    "\tsize = len(x)\n",
    "# Swapping\n",
    "\ttemp = x[0]\n",
    "\tx[0] = x[size - 1]\n",
    "\tx[size - 1] = temp\t\n",
    "\treturn x\n",
    "x = [12, 35, 9, 56, 24]\n",
    "print(swapList(x))\n"
   ]
  },
  {
   "cell_type": "code",
   "execution_count": 2,
   "id": "207df648-74fb-450a-a258-7e982b45933d",
   "metadata": {},
   "outputs": [
    {
     "name": "stdout",
     "output_type": "stream",
     "text": [
      "[24, 35, 9, 56, 12]\n"
     ]
    }
   ],
   "source": [
    "# The last element of the list can be referred as list[-1]. Therefore, we can simply swap list[0] with list[-1].\n",
    "def swapList(x):\n",
    "\tx[0], x[-1] = x[-1], x[0]\n",
    "\treturn x\n",
    "x = [12, 35, 9, 56, 24]\n",
    "print(swapList(x))"
   ]
  },
  {
   "cell_type": "code",
   "execution_count": 3,
   "id": "1d7e9971-b92d-435e-99c1-c74204210d60",
   "metadata": {},
   "outputs": [
    {
     "name": "stdout",
     "output_type": "stream",
     "text": [
      "[24, 35, 9, 56, 12]\n"
     ]
    }
   ],
   "source": [
    "#  Swap the first and last element is using tuple variable\n",
    "# Swap function\n",
    "def swapList(x):\n",
    "\tget = x[-1], x[0]\n",
    "\tx[0], x[-1] = get\n",
    "\treturn x\n",
    "x = [12, 35, 9, 56, 24]\n",
    "print(swapList(x))"
   ]
  },
  {
   "cell_type": "code",
   "execution_count": 4,
   "id": "f8790396-a4f7-4601-bcda-7ab52da5f44e",
   "metadata": {},
   "outputs": [
    {
     "name": "stdout",
     "output_type": "stream",
     "text": [
      "1\n",
      "[2, 3]\n",
      "4\n"
     ]
    }
   ],
   "source": [
    "# Using * operand.\n",
    "list = [1, 2, 3, 4]\n",
    "a, *b, c = list  \n",
    "print(a)\n",
    "print(b)\n",
    "print(c)"
   ]
  },
  {
   "cell_type": "code",
   "execution_count": 5,
   "id": "1cea8c09-788f-426e-8ea0-e6940144cb47",
   "metadata": {},
   "outputs": [
    {
     "name": "stdout",
     "output_type": "stream",
     "text": [
      "[24, 35, 9, 56, 12]\n"
     ]
    }
   ],
   "source": [
    "def swapList(x):\n",
    "\tstart, *middle, end = x\n",
    "\tx = [end, *middle, start]\n",
    "\treturn x\n",
    "x = [12, 35, 9, 56, 24]\n",
    "print(swapList(x))"
   ]
  },
  {
   "cell_type": "code",
   "execution_count": 6,
   "id": "17359513-21c4-42c3-838c-038e7a19de9c",
   "metadata": {},
   "outputs": [
    {
     "name": "stdout",
     "output_type": "stream",
     "text": [
      "[24, 35, 9, 56, 12]\n"
     ]
    }
   ],
   "source": [
    "# Swap the first and last elements is to use inbuilt function list.pop()\n",
    "def swapList(x):\n",
    "\tfirst = x.pop(0)\n",
    "\tlast = x.pop(-1)\n",
    "\tx.insert(0, last)\n",
    "\tx.append(first)\n",
    "\treturn x\n",
    "x = [12, 35, 9, 56, 24]\n",
    "print(swapList(x))"
   ]
  },
  {
   "cell_type": "code",
   "execution_count": 7,
   "id": "998ba34c-1d56-4d86-a73f-8a79d11d3760",
   "metadata": {},
   "outputs": [
    {
     "name": "stdout",
     "output_type": "stream",
     "text": [
      "[19, 65, 23, 90]\n"
     ]
    }
   ],
   "source": [
    "# Python program to swap two elements in a list\n",
    "#  Simple swap, using comma assignment \n",
    "def swapPositions(list, pos1, pos2):\n",
    "\tlist[pos1], list[pos2] = list[pos2], list[pos1]\n",
    "\treturn list\n",
    "List = [23, 65, 19, 90]\n",
    "pos1, pos2 = 1, 3\n",
    "print(swapPositions(List, pos1-1, pos2-1))"
   ]
  },
  {
   "cell_type": "code",
   "execution_count": 8,
   "id": "53c8eee0-9ba8-447c-8e66-05ef7d8b6a12",
   "metadata": {},
   "outputs": [
    {
     "name": "stdout",
     "output_type": "stream",
     "text": [
      "[19, 65, 23, 90]\n"
     ]
    }
   ],
   "source": [
    "# Using Inbuilt list.pop() function \n",
    "def swapPositions(list, pos1, pos2):\n",
    "\tfirst_ele = list.pop(pos1)\n",
    "\tsecond_ele = list.pop(pos2-1)\n",
    "\n",
    "\tlist.insert(pos1, second_ele)\n",
    "\tlist.insert(pos2, first_ele)\t\n",
    "\treturn list\n",
    "List = [23, 65, 19, 90]\n",
    "pos1, pos2 = 1, 3\n",
    "print(swapPositions(List, pos1-1, pos2-1))\n"
   ]
  },
  {
   "cell_type": "code",
   "execution_count": 9,
   "id": "fbb7918c-fb61-4ce5-97df-e0e362c4131b",
   "metadata": {},
   "outputs": [
    {
     "name": "stdout",
     "output_type": "stream",
     "text": [
      "5\n"
     ]
    }
   ],
   "source": [
    "# Python | Ways to find length of list\n",
    "# Demonstrating finding length of list using Naive Method\n",
    "test_list = [ 1, 4, 5, 7, 8 ]\n",
    "counter = 0\n",
    "for i in test_list:\n",
    "\tcounter = counter + 1\n",
    "print(counter)"
   ]
  },
  {
   "cell_type": "code",
   "execution_count": 10,
   "id": "b595e136-5920-4d8e-9ef5-61d0c2de28f0",
   "metadata": {},
   "outputs": [
    {
     "name": "stdout",
     "output_type": "stream",
     "text": [
      "3\n"
     ]
    }
   ],
   "source": [
    "# using of len()\n",
    "n = len([10, 20, 30])\n",
    "print(n)\n"
   ]
  },
  {
   "cell_type": "code",
   "execution_count": 11,
   "id": "70848372-e026-403d-8bd3-7608192c9b8a",
   "metadata": {},
   "outputs": [
    {
     "name": "stdout",
     "output_type": "stream",
     "text": [
      "Element Exists\n"
     ]
    }
   ],
   "source": [
    "# Check if element exists in list in Python        Naive Method\n",
    "#  Demonstrating to check the existence of an element in the list using the Naive method and in .\n",
    "test_list = [ 1, 6, 3, 5, 3, 4 ]\n",
    "# using loop\n",
    "for i in test_list:\n",
    "\tif(i == 4) :\n",
    "\t\tprint (\"Element Exists\")"
   ]
  },
  {
   "cell_type": "code",
   "execution_count": 12,
   "id": "2d67eb9f-9c14-4151-86c4-9134c5d506c9",
   "metadata": {},
   "outputs": [
    {
     "name": "stdout",
     "output_type": "stream",
     "text": [
      "Element Exists\n"
     ]
    }
   ],
   "source": [
    "test_list = [ 1, 6, 3, 5, 3, 4 ]\n",
    "if (4 in test_list):\n",
    "\tprint (\"Element Exists\")"
   ]
  },
  {
   "cell_type": "code",
   "execution_count": 13,
   "id": "d20bb54e-3e16-4ef7-aed8-3c5c864beaf1",
   "metadata": {},
   "outputs": [
    {
     "name": "stdout",
     "output_type": "stream",
     "text": [
      "Element Exists\n",
      "Element Exists\n"
     ]
    }
   ],
   "source": [
    "# Demonstrating to check existence of element in list using set() + in and sort() + bisect_left().\n",
    "from bisect import bisect_left\n",
    "test_list_set = [ 1, 6, 3, 5, 3, 4 ]\n",
    "test_list_bisect = [ 1, 6, 3, 5, 3, 4 ]\n",
    "test_list_set = set(test_list_set)\n",
    "if 4 in test_list_set :\n",
    "\tprint (\"Element Exists\")\n",
    "test_list_bisect.sort()\n",
    "if bisect_left(test_list_bisect, 4):\n",
    "\tprint (\"Element Exists\")"
   ]
  },
  {
   "cell_type": "code",
   "execution_count": 14,
   "id": "4d39328a-a231-447e-b393-d5bc2c341fe3",
   "metadata": {},
   "outputs": [
    {
     "name": "stdout",
     "output_type": "stream",
     "text": [
      "Yes\n"
     ]
    }
   ],
   "source": [
    "#  Using count()\n",
    "test_list = [10, 15, 20, 7, 46, 2808]\n",
    "exist_count = test_list.count(15)\n",
    "if exist_count > 0:\n",
    "    print(\"Yes\")\n",
    "else:\n",
    "    print(\"No\")\n"
   ]
  },
  {
   "cell_type": "code",
   "execution_count": 15,
   "id": "3b5787dd-4b2d-4989-b347-ec72afb62be6",
   "metadata": {},
   "outputs": [
    {
     "name": "stdout",
     "output_type": "stream",
     "text": [
      "GEEK before clear: [6, 0, 4, 1]\n",
      "GEEK after clear: []\n"
     ]
    }
   ],
   "source": [
    "# Different ways to clear a list in Python\n",
    "# Using clear()\n",
    "GEEK = [6, 0, 4, 1]\n",
    "print('GEEK before clear:', GEEK)\n",
    "GEEK.clear()\n",
    "print('GEEK after clear:', GEEK)"
   ]
  },
  {
   "cell_type": "code",
   "execution_count": 16,
   "id": "6c9321ed-815b-4bce-bde6-9695a0349fa6",
   "metadata": {},
   "outputs": [
    {
     "name": "stdout",
     "output_type": "stream",
     "text": [
      "List1 before deleting is : [1, 2, 3]\n",
      "List1 after clearing using clear() : []\n",
      "List2 before deleting is : [5, 6, 7]\n",
      "List2 after clearing using reinitialization : []\n"
     ]
    }
   ],
   "source": [
    "# Reinitializing the list : The initialization of the list in that scope, initializes the list with no value. i.e list of size 0. Let’s see the example demonstrating Method 1 and 2 to clear list\n",
    "\n",
    "list1 = [1, 2, 3]\n",
    "list2 = [5, 6, 7]\n",
    "print (\"List1 before deleting is : \" + str(list1))\n",
    "\n",
    "# deleting list using clear()\n",
    "list1.clear()\n",
    "\n",
    "# Printing list1 after clearing\n",
    "print (\"List1 after clearing using clear() : \" + str(list1))\n",
    "\n",
    "# Printing list2 before deleting\n",
    "print (\"List2 before deleting is : \" + str(list2))\n",
    "list2 = []  \n",
    "# Printing list2 after reinitialization\n",
    "print (\"List2 after clearing using reinitialization : \" + str(list2))"
   ]
  },
  {
   "cell_type": "code",
   "execution_count": 17,
   "id": "6a30ed0a-8db5-4ea2-9053-0b73c19d5ba1",
   "metadata": {},
   "outputs": [
    {
     "name": "stdout",
     "output_type": "stream",
     "text": [
      "List1 before deleting is : [1, 2, 3]\n",
      "List1 after clearing using *= 0: []\n"
     ]
    }
   ],
   "source": [
    "#  Using “*= 0”\n",
    "list1 = [1, 2, 3]\n",
    "print (\"List1 before deleting is : \" + str(list1)) \n",
    "# deleting list using *= 0\n",
    "list1 *= 0  \n",
    "# Printing list1 after *= 0\n",
    "print (\"List1 after clearing using *= 0: \" + str(list1))"
   ]
  },
  {
   "cell_type": "code",
   "execution_count": 18,
   "id": "fb9fb877-c28d-4561-8ebc-e7089ab05437",
   "metadata": {},
   "outputs": [
    {
     "name": "stdout",
     "output_type": "stream",
     "text": [
      "List1 before deleting is : [1, 2, 3]\n",
      "List1 after clearing using del : []\n",
      "List2 before deleting is : [5, 6, 7]\n",
      "List2 after clearing using del : []\n"
     ]
    }
   ],
   "source": [
    "# Using del : \n",
    "list1 = [1, 2, 3]\n",
    "list2 = [5, 6, 7]\n",
    "# Printing list1 before deleting\n",
    "print (\"List1 before deleting is : \" + str(list1))\n",
    "# deleting list1 using del\n",
    "del list1[:]\n",
    "print (\"List1 after clearing using del : \" + str(list1))\n",
    "# Printing list2 before deleting\n",
    "print (\"List2 before deleting is : \" + str(list2))\n",
    "# deleting list using del\n",
    "del list2[:]\n",
    "print (\"List2 after clearing using del : \" + str(list2))\n"
   ]
  },
  {
   "cell_type": "code",
   "execution_count": 19,
   "id": "6e47174a-dbb2-4a2c-aa62-f41866049946",
   "metadata": {},
   "outputs": [
    {
     "name": "stdout",
     "output_type": "stream",
     "text": [
      "[15, 14, 13, 12, 11, 10]\n"
     ]
    }
   ],
   "source": [
    "# Reversing a List in Python\n",
    "# Using the reversed() built-in function.\n",
    "def Reverse(lst):\n",
    "\treturn [ele for ele in reversed(lst)]\n",
    "lst = [10, 11, 12, 13, 14, 15]\n",
    "print(Reverse(lst))"
   ]
  },
  {
   "cell_type": "code",
   "execution_count": 20,
   "id": "f0343f83-e27c-4e51-a996-695281d21a72",
   "metadata": {},
   "outputs": [
    {
     "name": "stdout",
     "output_type": "stream",
     "text": [
      "[15, 14, 13, 12, 11, 10]\n"
     ]
    }
   ],
   "source": [
    "# Using the reverse() built-in function.\n",
    "# Reversing a list using reverse()\n",
    "def Reverse(lst):\n",
    "\tlst.reverse()\n",
    "\treturn lst\t\n",
    "lst = [10, 11, 12, 13, 14, 15]\n",
    "print(Reverse(lst))"
   ]
  },
  {
   "cell_type": "code",
   "execution_count": 21,
   "id": "13b6ac08-e0f5-419b-9fda-e9a9db74d222",
   "metadata": {},
   "outputs": [
    {
     "name": "stdout",
     "output_type": "stream",
     "text": [
      "[15, 14, 13, 12, 11, 10]\n"
     ]
    }
   ],
   "source": [
    "# Using the slicing technique.\n",
    "def Reverse(lst):\n",
    "\tnew_lst = lst[::-1]\n",
    "\treturn new_lst\t\n",
    "lst = [10, 11, 12, 13, 14, 15]\n",
    "print(Reverse(lst))"
   ]
  },
  {
   "cell_type": "code",
   "execution_count": 22,
   "id": "a2cb3e98-77ca-4abb-a344-a07d5909c668",
   "metadata": {},
   "outputs": [
    {
     "name": "stdout",
     "output_type": "stream",
     "text": [
      "Sum of all elements in given list:  74\n"
     ]
    }
   ],
   "source": [
    "# Python program to find sum of elements in list\n",
    "total = 0\n",
    "list1 = [11, 5, 17, 18, 23]\n",
    "for ele in range(0, len(list1)):\n",
    "\ttotal = total + list1[ele]\n",
    "print(\"Sum of all elements in given list: \", total)\n"
   ]
  },
  {
   "cell_type": "code",
   "execution_count": 23,
   "id": "ed3463a6-67fc-4ac5-b72d-7a378ff576b4",
   "metadata": {},
   "outputs": [
    {
     "name": "stdout",
     "output_type": "stream",
     "text": [
      "Sum of all elements in given list:  74\n"
     ]
    }
   ],
   "source": [
    "# Python program to find sum of elements in list   Using while() loop \n",
    "total = 0\n",
    "ele = 0\n",
    "list1 = [11, 5, 17, 18, 23]\n",
    "while(ele < len(list1)):\n",
    "\ttotal = total + list1[ele]\n",
    "\tele += 1\n",
    "print(\"Sum of all elements in given list: \", total)"
   ]
  },
  {
   "cell_type": "code",
   "execution_count": 24,
   "id": "614f0134-4fce-4bde-b56d-5e6d37a592e2",
   "metadata": {},
   "outputs": [
    {
     "name": "stdout",
     "output_type": "stream",
     "text": [
      "Sum of all elements in given list:  74\n"
     ]
    }
   ],
   "source": [
    "#  Recursive way \n",
    "list1 = [11, 5, 17, 18, 23]\n",
    "def sumOfList(list, size):\n",
    "    if (size == 0):\n",
    "        return 0\n",
    "    else:\n",
    "        return list[size - 1] + sumOfList(list, size - 1)\n",
    "total = sumOfList(list1, len(list1))\n",
    "print(\"Sum of all elements in given list: \", total)"
   ]
  },
  {
   "cell_type": "code",
   "execution_count": 25,
   "id": "f11e0471-23db-4ae4-8aab-d96e3c918dde",
   "metadata": {},
   "outputs": [
    {
     "name": "stdout",
     "output_type": "stream",
     "text": [
      "Sum of all elements in given list:  74\n"
     ]
    }
   ],
   "source": [
    "# Using sum() method \n",
    "list1 = [11, 5, 17, 18, 23]\n",
    "total = sum(list1)\n",
    "print(\"Sum of all elements in given list: \", total)"
   ]
  },
  {
   "cell_type": "code",
   "execution_count": 26,
   "id": "bff1155c-9c27-44aa-9b20-525a49b52ab8",
   "metadata": {},
   "outputs": [
    {
     "name": "stdout",
     "output_type": "stream",
     "text": [
      "6\n",
      "24\n"
     ]
    }
   ],
   "source": [
    "# Python | Multiply all numbers in the list (4 different ways)\n",
    "#  Traversal\n",
    "# Python program to multiply all values in the\n",
    "# list using traversal\n",
    "\n",
    "def multiplyList(myList) :\n",
    "\tresult = 1\n",
    "\tfor x in myList:\n",
    "\t\tresult = result * x\n",
    "\treturn result\n",
    "list1 = [1, 2, 3]\n",
    "list2 = [3, 2, 4]\n",
    "print(multiplyList(list1))\n",
    "print(multiplyList(list2))"
   ]
  },
  {
   "cell_type": "code",
   "execution_count": 27,
   "id": "0fb48636-15ff-4ab7-abe9-a93b544e8edd",
   "metadata": {},
   "outputs": [
    {
     "name": "stdout",
     "output_type": "stream",
     "text": [
      "6\n",
      "24\n"
     ]
    }
   ],
   "source": [
    "# list using numpy.prod()\n",
    "import numpy\n",
    "list1 = [1, 2, 3]\n",
    "list2 = [3, 2, 4]\n",
    "result1 = numpy.prod(list1)\n",
    "result2 = numpy.prod(list2)\n",
    "print(result1)\n",
    "print(result2)"
   ]
  },
  {
   "cell_type": "code",
   "execution_count": 28,
   "id": "a1baac93-2703-4125-aead-b5e7ea19b2ea",
   "metadata": {},
   "outputs": [
    {
     "name": "stdout",
     "output_type": "stream",
     "text": [
      "6\n",
      "24\n"
     ]
    }
   ],
   "source": [
    "# Using lambda function: Using numpy.array\n",
    "from functools import reduce\n",
    "list1 = [1, 2, 3]\n",
    "list2 = [3, 2, 4]\n",
    "result1 = reduce((lambda x, y: x * y), list1)\n",
    "result2 = reduce((lambda x, y: x * y), list2)\n",
    "print(result1)\n",
    "print(result2)"
   ]
  },
  {
   "cell_type": "code",
   "execution_count": 29,
   "id": "7686932f-8a92-43e1-8681-b44bec336e15",
   "metadata": {},
   "outputs": [
    {
     "name": "stdout",
     "output_type": "stream",
     "text": [
      "6\n",
      "24\n"
     ]
    }
   ],
   "source": [
    "#  Using prod function of math library: Using math.prod\n",
    "# Python3 program to multiply all values in the\n",
    "# list using math.prod\n",
    "import math\n",
    "list1 = [1, 2, 3]\n",
    "list2 = [3, 2, 4]\n",
    "result1 = math.prod(list1)\n",
    "result2 = math.prod(list2)\n",
    "print(result1)\n",
    "print(result2)"
   ]
  },
  {
   "cell_type": "code",
   "execution_count": 30,
   "id": "5471a4d3-2d24-45d3-b580-65676f90833e",
   "metadata": {},
   "outputs": [
    {
     "name": "stdout",
     "output_type": "stream",
     "text": [
      "Smallest element is: 4\n"
     ]
    }
   ],
   "source": [
    "# Python program to find smallest number in a list by using sort function \n",
    "\n",
    "list1 = [10, 20, 4, 45, 99]\n",
    "list1.sort()\n",
    "print(\"Smallest element is:\", *list1[:1])"
   ]
  },
  {
   "cell_type": "code",
   "execution_count": 31,
   "id": "d19ab007-e761-4b3b-aa62-7d544fb6c377",
   "metadata": {},
   "outputs": [
    {
     "name": "stdout",
     "output_type": "stream",
     "text": [
      "1\n"
     ]
    }
   ],
   "source": [
    "# Using min() method  \n",
    "list1 = [10, 20, 1, 45, 99]\n",
    "print(min(list1))"
   ]
  },
  {
   "cell_type": "code",
   "execution_count": 32,
   "id": "a22d6fd5-f1cf-422a-be78-d6cf31f08fcc",
   "metadata": {},
   "outputs": [
    {
     "name": "stdin",
     "output_type": "stream",
     "text": [
      "Enter number of elements in list:  4\n",
      "Enter elements:  78\n",
      "Enter elements:  45\n",
      "Enter elements:  96\n",
      "Enter elements:  15\n"
     ]
    },
    {
     "name": "stdout",
     "output_type": "stream",
     "text": [
      "Smallest element is: 15\n"
     ]
    }
   ],
   "source": [
    "# Find min list element on inputs provided by user. \n",
    "list1 = []\n",
    "num = int(input(\"Enter number of elements in list: \"))\n",
    "for i in range(1, num + 1):\n",
    "\tele= int(input(\"Enter elements: \"))\n",
    "\tlist1.append(ele)\n",
    "print(\"Smallest element is:\", min(list1))"
   ]
  },
  {
   "cell_type": "code",
   "execution_count": 33,
   "id": "20e38801-fd21-46db-8393-4711cd954739",
   "metadata": {},
   "outputs": [
    {
     "name": "stdin",
     "output_type": "stream",
     "text": [
      "List: 15, 45, 1, 46, 7\n"
     ]
    },
    {
     "name": "stdout",
     "output_type": "stream",
     "text": [
      "The list is  [15, 45, 1, 46, 7]\n",
      "The smallest element in the list is  1\n"
     ]
    }
   ],
   "source": [
    "# Find the smallest element in list.  \n",
    "# number in a list\n",
    "l=[ int(l) for l in input(\"List:\").split(\",\")]\n",
    "print(\"The list is \",l)\n",
    "min1 = l[0]\n",
    "for i in range(len(l)):\n",
    "\tif l[i] < min1:\n",
    "\t\tmin1 = l[i] #It will change\n",
    "print(\"The smallest element in the list is \",min1)"
   ]
  },
  {
   "cell_type": "code",
   "execution_count": 34,
   "id": "96982186-5482-4b2a-be0a-2379ae8d56d2",
   "metadata": {},
   "outputs": [
    {
     "name": "stdout",
     "output_type": "stream",
     "text": [
      "Largest element is: 99\n"
     ]
    }
   ],
   "source": [
    "# Python program to find largest number in a list\n",
    "# Sort the list in ascending order and print the last element in the list.\n",
    "list1 = [10, 20, 4, 45, 99]\n",
    "list1.sort()\n",
    "print(\"Largest element is:\", list1[-1])"
   ]
  },
  {
   "cell_type": "code",
   "execution_count": 35,
   "id": "b9f7883a-cea9-4dae-9ccc-7aa78d4215b9",
   "metadata": {},
   "outputs": [
    {
     "name": "stdout",
     "output_type": "stream",
     "text": [
      "99\n"
     ]
    }
   ],
   "source": [
    "# Using max() method\n",
    "\n",
    "list1 = [10, 20, 4, 45, 99]\n",
    "print(max(list1))"
   ]
  },
  {
   "cell_type": "code",
   "execution_count": 36,
   "id": "9f1b6d59-b4df-49ac-bc76-abc18f55e4ab",
   "metadata": {},
   "outputs": [
    {
     "name": "stdin",
     "output_type": "stream",
     "text": [
      "Enter number of elements in list:  4\n",
      "Enter elements:  1\n",
      "Enter elements:  8\n",
      "Enter elements:  9\n",
      "Enter elements:  3\n"
     ]
    },
    {
     "name": "stdout",
     "output_type": "stream",
     "text": [
      "Largest element is: 9\n"
     ]
    }
   ],
   "source": [
    "# Python program to find largest        Find max list element on inputs provided by user\n",
    "# number in a list\n",
    "list1 = []\n",
    "num = int(input(\"Enter number of elements in list: \"))\n",
    "for i in range(1, num + 1):\n",
    "\tele = int(input(\"Enter elements: \"))\n",
    "\tlist1.append(ele)\n",
    "print(\"Largest element is:\", max(list1))"
   ]
  },
  {
   "cell_type": "code",
   "execution_count": 38,
   "id": "4abe3d51-4b5c-4bf6-ba71-563366eafc96",
   "metadata": {},
   "outputs": [
    {
     "name": "stdout",
     "output_type": "stream",
     "text": [
      "Largest element is: 99\n"
     ]
    }
   ],
   "source": [
    "# Without using built in functions in python:\n",
    "# Python program to find largest\n",
    "# number in a list\n",
    "def myMax(list1):\n",
    "\tmax = list1[0]\n",
    "\tfor x in list1:\n",
    "\t\tif x > max :\n",
    "\t\t\tmax = x\n",
    "\treturn max\n",
    "list1 = [10, 20, 4, 45, 99]\n",
    "print(\"Largest element is:\", myMax(list1))"
   ]
  },
  {
   "cell_type": "code",
   "execution_count": null,
   "id": "8d9e34f1-6449-4bcf-99cd-a1e0e49a8403",
   "metadata": {},
   "outputs": [],
   "source": []
  }
 ],
 "metadata": {
  "kernelspec": {
   "display_name": "Python 3",
   "language": "python",
   "name": "python3"
  },
  "language_info": {
   "codemirror_mode": {
    "name": "ipython",
    "version": 3
   },
   "file_extension": ".py",
   "mimetype": "text/x-python",
   "name": "python",
   "nbconvert_exporter": "python",
   "pygments_lexer": "ipython3",
   "version": "3.8.6"
  }
 },
 "nbformat": 4,
 "nbformat_minor": 5
}
