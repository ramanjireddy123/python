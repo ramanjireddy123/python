{
 "cells": [
  {
   "cell_type": "code",
   "execution_count": 1,
   "id": "a4ed52ad-410e-4f3f-9391-968152fd2496",
   "metadata": {},
   "outputs": [
    {
     "name": "stdout",
     "output_type": "stream",
     "text": [
      "New list after removing all even numbers:  [11, 5, 17, 23]\n"
     ]
    }
   ],
   "source": [
    "# Remove multiple elements from a list in Python\n",
    "list1 = [11, 5, 17, 18, 23, 50]\n",
    "for ele in list1:\n",
    "\tif ele % 2 == 0:\n",
    "\t\tlist1.remove(ele)\n",
    "print(\"New list after removing all even numbers: \", list1)"
   ]
  },
  {
   "cell_type": "code",
   "execution_count": 2,
   "id": "3ac58bce-3921-4226-9d95-ff9526e8b4be",
   "metadata": {},
   "outputs": [
    {
     "name": "stdout",
     "output_type": "stream",
     "text": [
      "11 5 17 23\n"
     ]
    }
   ],
   "source": [
    "#  Using list comprehension\n",
    "list1 = [11, 5, 17, 18, 23, 50]\n",
    "list1 = [ elem for elem in list1 if elem % 2 != 0]\n",
    "print(*list1)"
   ]
  },
  {
   "cell_type": "code",
   "execution_count": 3,
   "id": "b2d447b1-a9bb-4899-b1d3-9ce15a6f3720",
   "metadata": {},
   "outputs": [
    {
     "name": "stdout",
     "output_type": "stream",
     "text": [
      "11 50\n"
     ]
    }
   ],
   "source": [
    "# Remove adjacent elements using list slicing\n",
    "list1 = [11, 5, 17, 18, 23, 50]\n",
    "del list1[1:5]\n",
    "print(*list1)"
   ]
  },
  {
   "cell_type": "code",
   "execution_count": 4,
   "id": "76f9fcb3-3de0-44f0-ab04-296a596366fe",
   "metadata": {},
   "outputs": [
    {
     "name": "stdout",
     "output_type": "stream",
     "text": [
      "New list after removing unwanted numbers:  [17, 18, 23, 50]\n"
     ]
    }
   ],
   "source": [
    "# Using list comprehension\n",
    "list1 = [11, 5, 17, 18, 23, 50]\n",
    "unwanted_num = {11, 5}\n",
    "list1 = [ele for ele in list1 if ele not in unwanted_num]\n",
    "print(\"New list after removing unwanted numbers: \", list1)"
   ]
  },
  {
   "cell_type": "code",
   "execution_count": 5,
   "id": "75ccf577-b37f-45a1-8150-92f19350d2a2",
   "metadata": {},
   "outputs": [
    {
     "name": "stdout",
     "output_type": "stream",
     "text": [
      "5 17 50\n"
     ]
    }
   ],
   "source": [
    "# When index of elements is known\n",
    "list1 = [11, 5, 17, 18, 23, 50]\n",
    "unwanted = [0, 3, 4]\n",
    "for ele in sorted(unwanted, reverse = True):\n",
    "\tdel list1[ele]\n",
    "print (*list1)"
   ]
  },
  {
   "cell_type": "code",
   "execution_count": 6,
   "id": "81e55092-4ad3-4ebb-bc1e-0925e6167bc2",
   "metadata": {},
   "outputs": [
    {
     "name": "stdout",
     "output_type": "stream",
     "text": [
      "List after empty list removal : [5, 6, 3, 9]\n"
     ]
    }
   ],
   "source": [
    "# Python – Remove empty List from List      using list comprehession\n",
    "test_list = [5, 6, [], 3, [], [], 9]\n",
    "res = [ele for ele in test_list if ele != []]\n",
    "print (\"List after empty list removal : \" + str(res))"
   ]
  },
  {
   "cell_type": "code",
   "execution_count": 7,
   "id": "065bbd84-9d82-49a2-bb07-37fb38c35f5d",
   "metadata": {},
   "outputs": [
    {
     "name": "stdout",
     "output_type": "stream",
     "text": [
      "List after empty list removal : [5, 6, 3, 9]\n"
     ]
    }
   ],
   "source": [
    "# Using filter()\n",
    "test_list = [5, 6, [], 3, [], [], 9]\n",
    "res = list(filter(None, test_list))\n",
    "print (\"List after empty list removal : \" + str(res))\n"
   ]
  },
  {
   "cell_type": "code",
   "execution_count": 8,
   "id": "bd0d0bd9-6910-4f1b-aed8-82c8927beb1d",
   "metadata": {},
   "outputs": [
    {
     "name": "stdout",
     "output_type": "stream",
     "text": [
      "Original List: [4, 8, 2, 10, 15, 18]\n",
      "After Cloning: [4, 8, 2, 10, 15, 18]\n"
     ]
    }
   ],
   "source": [
    "# Python | Cloning or Copying a list\n",
    "# Using slicing technique\n",
    "def Cloning(li1):\n",
    "\tli_copy = li1[:]\n",
    "\treturn li_copy\n",
    "li1 = [4, 8, 2, 10, 15, 18]\n",
    "li2 = Cloning(li1)\n",
    "print(\"Original List:\", li1)\n",
    "print(\"After Cloning:\", li2)"
   ]
  },
  {
   "cell_type": "code",
   "execution_count": 9,
   "id": "9b1a4caf-a2ee-4b8d-ac2d-d78e5b307ca8",
   "metadata": {},
   "outputs": [
    {
     "name": "stdout",
     "output_type": "stream",
     "text": [
      "Original List: [4, 8, 2, 10, 15, 18]\n",
      "After Cloning: [4, 8, 2, 10, 15, 18]\n"
     ]
    }
   ],
   "source": [
    "# Using the in-built function extend()\n",
    "def Cloning(li1):\n",
    "\tli_copy = []\n",
    "\tli_copy.extend(li1)\n",
    "\treturn li_copy\n",
    "li1 = [4, 8, 2, 10, 15, 18]\n",
    "li2 = Cloning(li1)\n",
    "print(\"Original List:\", li1)\n",
    "print(\"After Cloning:\", li2)"
   ]
  },
  {
   "cell_type": "code",
   "execution_count": 10,
   "id": "4a624c22-e060-4248-86d8-1ce70170d905",
   "metadata": {},
   "outputs": [
    {
     "name": "stdout",
     "output_type": "stream",
     "text": [
      "Original List: [4, 8, 2, 10, 15, 18]\n",
      "After Cloning: [4, 8, 2, 10, 15, 18]\n"
     ]
    }
   ],
   "source": [
    "# Using the in-built function list()\n",
    "def Cloning(li1):\n",
    "\tli_copy = list(li1)\n",
    "\treturn li_copy\n",
    "li1 = [4, 8, 2, 10, 15, 18]\n",
    "li2 = Cloning(li1)\n",
    "print(\"Original List:\", li1)\n",
    "print(\"After Cloning:\", li2)\n"
   ]
  },
  {
   "cell_type": "code",
   "execution_count": 11,
   "id": "789200cc-b30e-4cc6-821d-d9f947e27a2e",
   "metadata": {},
   "outputs": [
    {
     "name": "stdout",
     "output_type": "stream",
     "text": [
      "Original List: [4, 8, 2, 10, 15, 18]\n",
      "After Cloning: [4, 8, 2, 10, 15, 18]\n"
     ]
    }
   ],
   "source": [
    "# Python code to clone or copy a list\n",
    "# Using list comprehension\n",
    "def Cloning(li1):\n",
    "\tli_copy = [i for i in li1]\n",
    "\treturn li_copy\n",
    "li1 = [4, 8, 2, 10, 15, 18]\n",
    "li2 = Cloning(li1)\n",
    "print(\"Original List:\", li1)\n",
    "print(\"After Cloning:\", li2)\n"
   ]
  },
  {
   "cell_type": "code",
   "execution_count": 12,
   "id": "250b025e-9a95-410e-b559-fae6a8d220ee",
   "metadata": {},
   "outputs": [
    {
     "name": "stdout",
     "output_type": "stream",
     "text": [
      "Original List: [4, 8, 2, 10, 15, 18]\n",
      "After Cloning: [4, 8, 2, 10, 15, 18]\n"
     ]
    }
   ],
   "source": [
    "# Using append()\n",
    "def Cloning(li1):\n",
    "\tli_copy =[]\n",
    "\tfor item in li1: li_copy.append(item)\n",
    "\treturn li_copy\n",
    "li1 = [4, 8, 2, 10, 15, 18]\n",
    "li2 = Cloning(li1)\n",
    "print(\"Original List:\", li1)\n",
    "print(\"After Cloning:\", li2)\n"
   ]
  },
  {
   "cell_type": "code",
   "execution_count": 13,
   "id": "59dc9c5b-b613-4d85-badd-3ba9b1497672",
   "metadata": {},
   "outputs": [
    {
     "name": "stdout",
     "output_type": "stream",
     "text": [
      "Original List: [4, 8, 2, 10, 15, 18]\n",
      "After Cloning: [4, 8, 2, 10, 15, 18]\n"
     ]
    }
   ],
   "source": [
    "# Using bilt-in method copy()\n",
    "def Cloning(li1):\n",
    "\tli_copy =[]\n",
    "\tli_copy = li1.copy()\n",
    "\treturn li_copy\n",
    "li1 = [4, 8, 2, 10, 15, 18]\n",
    "li2 = Cloning(li1)\n",
    "print(\"Original List:\", li1)\n",
    "print(\"After Cloning:\", li2)\n"
   ]
  },
  {
   "cell_type": "code",
   "execution_count": 14,
   "id": "ee32a935-4984-4c90-9c3c-0917abc970ce",
   "metadata": {},
   "outputs": [
    {
     "name": "stdout",
     "output_type": "stream",
     "text": [
      "8 has occurred 5 times\n"
     ]
    }
   ],
   "source": [
    "# Python | Count occurrences of an element in a list\n",
    "# (Simple approach) \n",
    "def countX(lst, x):\n",
    "\tcount = 0\n",
    "\tfor ele in lst:\n",
    "\t\tif (ele == x):\n",
    "\t\t\tcount = count + 1\n",
    "\treturn count\n",
    "lst = [8, 6, 8, 10, 8, 20, 10, 8, 8]\n",
    "x = 8\n",
    "print('{} has occurred {} times'.format(x, countX(lst, x)))"
   ]
  },
  {
   "cell_type": "code",
   "execution_count": 15,
   "id": "e2666a1e-195c-4ddd-859e-8dbae7a29b4b",
   "metadata": {},
   "outputs": [
    {
     "name": "stdout",
     "output_type": "stream",
     "text": [
      "8 has occurred 5 times\n"
     ]
    }
   ],
   "source": [
    "# Python code to count the number of occurrences\n",
    "def countX(lst, x):\n",
    "\treturn lst.count(x)\n",
    "lst = [8, 6, 8, 10, 8, 20, 10, 8, 8]\n",
    "x = 8\n",
    "print('{} has occurred {} times'.format(x, countX(lst, x)))\n"
   ]
  },
  {
   "cell_type": "code",
   "execution_count": 16,
   "id": "fc8ce7ab-821a-466f-ac40-e8ba6d4a6381",
   "metadata": {},
   "outputs": [
    {
     "name": "stdout",
     "output_type": "stream",
     "text": [
      "3 has occurred 2 times\n"
     ]
    }
   ],
   "source": [
    "# using counter function \n",
    "from collections import Counter\n",
    "l = [1, 1, 2, 2, 3, 3, 4, 4, 5, 5]\n",
    "x = 3\n",
    "d = Counter(l)\n",
    "print('{} has occurred {} times'.format(x, d[x]))\n"
   ]
  },
  {
   "cell_type": "code",
   "execution_count": 17,
   "id": "7ee97942-34e1-4502-b8bf-d209a2ca2286",
   "metadata": {},
   "outputs": [
    {
     "name": "stdout",
     "output_type": "stream",
     "text": [
      "[('ram', '15', '8'), ('laxman', 'sita'), ('krishna', 'akbar', '45'), ('', '')]\n"
     ]
    }
   ],
   "source": [
    "# Python | Remove empty tuples from a list\n",
    "# Using the concept of List Comprehension\n",
    "def Remove(tuples):\n",
    "\ttuples = [t for t in tuples if t]\n",
    "\treturn tuples\n",
    "tuples = [(), ('ram','15','8'), (), ('laxman', 'sita'),\n",
    "\t\t('krishna', 'akbar', '45'), ('',''),()]\n",
    "print(Remove(tuples))\n"
   ]
  },
  {
   "cell_type": "code",
   "execution_count": 18,
   "id": "1b7fa730-0cf4-44d4-a78f-d316be38f91b",
   "metadata": {},
   "outputs": [
    {
     "name": "stdout",
     "output_type": "stream",
     "text": [
      "<filter object at 0x0000027EC98DE610>\n"
     ]
    }
   ],
   "source": [
    "# Using the filter() method\n",
    "def Remove(tuples):\n",
    "\ttuples = filter(None, tuples)\n",
    "\treturn tuples\n",
    "tuples = [(), ('ram','15','8'), (), ('laxman', 'sita'), ('krishna', 'akbar', '45'), ('',''),()]\n",
    "print(Remove(tuples))"
   ]
  },
  {
   "cell_type": "code",
   "execution_count": 19,
   "id": "28a13d52-7eb7-4566-a450-a4d8170ad0cb",
   "metadata": {},
   "outputs": [
    {
     "name": "stdout",
     "output_type": "stream",
     "text": [
      "[20, 30, -20, 60]\n"
     ]
    }
   ],
   "source": [
    "# Python | Program to print duplicates from a list of integers\n",
    "# Using the Brute Force approach\n",
    "def Repeat(x):\n",
    "\t_size = len(x)\n",
    "\trepeated = []\n",
    "\tfor i in range(_size):\n",
    "\t\tk = i + 1\n",
    "\t\tfor j in range(k, _size):\n",
    "\t\t\tif x[i] == x[j] and x[i] not in repeated:\n",
    "\t\t\t\trepeated.append(x[i])\n",
    "\treturn repeated\n",
    "list1 = [10, 20, 30, 20, 20, 30, 40,\n",
    "\t\t50, -20, 60, 60, -20, -20]\n",
    "print (Repeat(list1))"
   ]
  },
  {
   "cell_type": "code",
   "execution_count": 20,
   "id": "27a72207-7401-4061-9803-e6b4ba3dab90",
   "metadata": {},
   "outputs": [
    {
     "name": "stdout",
     "output_type": "stream",
     "text": [
      "Counter({1: 4, 2: 3, 5: 2, 9: 2, 3: 1, 4: 1, 6: 1, 7: 1, 8: 1})\n",
      "[1, 2, 5, 9]\n"
     ]
    }
   ],
   "source": [
    "# Using Counter() function from collection module\n",
    "from collections import Counter\n",
    "l1 = [1,2,1,2,3,4,5,1,1,2,5,6,7,8,9,9]\n",
    "d = Counter(l1)\n",
    "print(d)\n",
    "new_list = list([item for item in d if d[item]>1])\n",
    "print(new_list)"
   ]
  },
  {
   "cell_type": "code",
   "execution_count": 21,
   "id": "e0772e88-8c4c-4f61-920b-9beabc69b06d",
   "metadata": {},
   "outputs": [
    {
     "name": "stdout",
     "output_type": "stream",
     "text": [
      "[10, 30, 60, 100, 150]\n"
     ]
    }
   ],
   "source": [
    "# Python program to find Cumulative sum of a list\n",
    "def Cumulative(lists):\n",
    "\tcu_list = []\n",
    "\tlength = len(lists)\n",
    "\tcu_list = [sum(lists[0:x:1]) for x in range(0, length+1)]\n",
    "\treturn cu_list[1:]\n",
    "lists = [10, 20, 30, 40, 50]\n",
    "print (Cumulative(lists))"
   ]
  },
  {
   "cell_type": "code",
   "execution_count": 22,
   "id": "7ad451f7-23aa-4442-b647-967d10d15f22",
   "metadata": {},
   "outputs": [
    {
     "name": "stdout",
     "output_type": "stream",
     "text": [
      "[10, 30, 60, 100, 150]\n"
     ]
    }
   ],
   "source": [
    "list=[10,20,30,40,50]\n",
    "new_list=[]\n",
    "j=0\n",
    "for i in range(0,len(list)):\n",
    "\tj+=list[i]\n",
    "\tnew_list.append(j)\n",
    "print(new_list)"
   ]
  },
  {
   "cell_type": "code",
   "execution_count": 23,
   "id": "22d85c03-9df5-4061-8afc-7d7dbf423c48",
   "metadata": {},
   "outputs": [
    {
     "name": "stdout",
     "output_type": "stream",
     "text": [
      "[3, 13, 17, 7]\n"
     ]
    }
   ],
   "source": [
    "# Python | Sum of number digits in List\n",
    "# Using loop + str()\n",
    "test_list = [12, 67, 98, 34]\n",
    "res = []\n",
    "for ele in test_list:\n",
    "\tsum = 0\n",
    "\tfor digit in str(ele):\n",
    "\t\tsum += int(digit)\n",
    "\tres.append(sum)\n",
    "print(res)\n"
   ]
  },
  {
   "cell_type": "code",
   "execution_count": 24,
   "id": "ae1886d1-013f-4a07-a34b-7f2150e51a10",
   "metadata": {},
   "outputs": [
    {
     "ename": "TypeError",
     "evalue": "'list' object is not callable",
     "output_type": "error",
     "traceback": [
      "\u001b[1;31m---------------------------------------------------------------------------\u001b[0m",
      "\u001b[1;31mTypeError\u001b[0m                                 Traceback (most recent call last)",
      "\u001b[1;32m<ipython-input-24-55f19d18f317>\u001b[0m in \u001b[0;36m<module>\u001b[1;34m\u001b[0m\n\u001b[0;32m      1\u001b[0m \u001b[1;31m# Using sum() + list comprehension\u001b[0m\u001b[1;33m\u001b[0m\u001b[1;33m\u001b[0m\u001b[1;33m\u001b[0m\u001b[0m\n\u001b[0;32m      2\u001b[0m \u001b[0mtest_list\u001b[0m \u001b[1;33m=\u001b[0m \u001b[1;33m[\u001b[0m\u001b[1;36m12\u001b[0m\u001b[1;33m,\u001b[0m \u001b[1;36m67\u001b[0m\u001b[1;33m,\u001b[0m \u001b[1;36m98\u001b[0m\u001b[1;33m,\u001b[0m \u001b[1;36m34\u001b[0m\u001b[1;33m]\u001b[0m\u001b[1;33m\u001b[0m\u001b[1;33m\u001b[0m\u001b[0m\n\u001b[1;32m----> 3\u001b[1;33m \u001b[0mres\u001b[0m \u001b[1;33m=\u001b[0m \u001b[0mlist\u001b[0m\u001b[1;33m(\u001b[0m\u001b[0mmap\u001b[0m\u001b[1;33m(\u001b[0m\u001b[1;32mlambda\u001b[0m \u001b[0mele\u001b[0m\u001b[1;33m:\u001b[0m \u001b[0msum\u001b[0m\u001b[1;33m(\u001b[0m\u001b[0mint\u001b[0m\u001b[1;33m(\u001b[0m\u001b[0msub\u001b[0m\u001b[1;33m)\u001b[0m \u001b[1;32mfor\u001b[0m \u001b[0msub\u001b[0m \u001b[1;32min\u001b[0m \u001b[0mstr\u001b[0m\u001b[1;33m(\u001b[0m\u001b[0mele\u001b[0m\u001b[1;33m)\u001b[0m\u001b[1;33m)\u001b[0m\u001b[1;33m,\u001b[0m \u001b[0mtest_list\u001b[0m\u001b[1;33m)\u001b[0m\u001b[1;33m)\u001b[0m\u001b[1;33m\u001b[0m\u001b[1;33m\u001b[0m\u001b[0m\n\u001b[0m\u001b[0;32m      4\u001b[0m \u001b[0mprint\u001b[0m\u001b[1;33m(\u001b[0m\u001b[0mres\u001b[0m\u001b[1;33m)\u001b[0m\u001b[1;33m\u001b[0m\u001b[1;33m\u001b[0m\u001b[0m\n",
      "\u001b[1;31mTypeError\u001b[0m: 'list' object is not callable"
     ]
    }
   ],
   "source": [
    "# Using sum() + list comprehension\n",
    "test_list = [12, 67, 98, 34]\n",
    "res = list(map(lambda ele: sum(int(sub) for sub in str(ele)), test_list))\n",
    "print(res)"
   ]
  },
  {
   "cell_type": "code",
   "execution_count": 25,
   "id": "52297b76-4f76-457c-ba93-6db4b694f6a4",
   "metadata": {},
   "outputs": [
    {
     "ename": "TypeError",
     "evalue": "'list' object is not callable",
     "output_type": "error",
     "traceback": [
      "\u001b[1;31m---------------------------------------------------------------------------\u001b[0m",
      "\u001b[1;31mTypeError\u001b[0m                                 Traceback (most recent call last)",
      "\u001b[1;32m<ipython-input-25-f313a01aa5d7>\u001b[0m in \u001b[0;36m<module>\u001b[1;34m\u001b[0m\n\u001b[0;32m      5\u001b[0m                 \u001b[1;32myield\u001b[0m \u001b[0ml\u001b[0m\u001b[1;33m[\u001b[0m\u001b[0mi\u001b[0m\u001b[1;33m:\u001b[0m\u001b[0mi\u001b[0m \u001b[1;33m+\u001b[0m \u001b[0mn\u001b[0m\u001b[1;33m]\u001b[0m\u001b[1;33m\u001b[0m\u001b[1;33m\u001b[0m\u001b[0m\n\u001b[0;32m      6\u001b[0m \u001b[0mn\u001b[0m \u001b[1;33m=\u001b[0m \u001b[1;36m5\u001b[0m\u001b[1;33m\u001b[0m\u001b[1;33m\u001b[0m\u001b[0m\n\u001b[1;32m----> 7\u001b[1;33m \u001b[0mx\u001b[0m \u001b[1;33m=\u001b[0m \u001b[0mlist\u001b[0m\u001b[1;33m(\u001b[0m\u001b[0mdivide_chunks\u001b[0m\u001b[1;33m(\u001b[0m\u001b[0mmy_list\u001b[0m\u001b[1;33m,\u001b[0m \u001b[0mn\u001b[0m\u001b[1;33m)\u001b[0m\u001b[1;33m)\u001b[0m\u001b[1;33m\u001b[0m\u001b[1;33m\u001b[0m\u001b[0m\n\u001b[0m\u001b[0;32m      8\u001b[0m \u001b[0mprint\u001b[0m\u001b[1;33m(\u001b[0m\u001b[0mx\u001b[0m\u001b[1;33m)\u001b[0m\u001b[1;33m\u001b[0m\u001b[1;33m\u001b[0m\u001b[0m\n",
      "\u001b[1;31mTypeError\u001b[0m: 'list' object is not callable"
     ]
    }
   ],
   "source": [
    "# Break a list into chunks of size N in Python       Using yield\n",
    "my_list = ['geeks', 'for', 'geeks', 'like', 'geeky', 'nerdy', 'geek', 'love', 'questions','words', 'life']\n",
    "def divide_chunks(l, n):\n",
    "\tfor i in range(0, len(l), n):\n",
    "\t\tyield l[i:i + n]\n",
    "n = 5\n",
    "x = list(divide_chunks(my_list, n))\n",
    "print(x)"
   ]
  },
  {
   "cell_type": "code",
   "execution_count": 26,
   "id": "efb122d2-410f-45c2-873b-81638fc44a89",
   "metadata": {},
   "outputs": [
    {
     "name": "stdout",
     "output_type": "stream",
     "text": [
      "[[1, 2, 3, 4], [5, 6, 7, 8], [9]]\n"
     ]
    }
   ],
   "source": [
    "# Using List comprehension\n",
    "my_list = [1, 2, 3, 4, 5, 6, 7, 8, 9]\n",
    "n = 4\n",
    "final = [my_list[i * n:(i + 1) * n] for i in range((len(my_list) + n - 1) // n )]\n",
    "print (final)"
   ]
  },
  {
   "cell_type": "code",
   "execution_count": 27,
   "id": "2fbc3969-91ce-4241-8a92-7faff5b11df5",
   "metadata": {},
   "outputs": [
    {
     "name": "stdout",
     "output_type": "stream",
     "text": [
      "[[1, 2, 3, 4], [5, 6, 7, 8], [9]]\n"
     ]
    }
   ],
   "source": [
    "l = [1, 2, 3, 4, 5, 6, 7, 8, 9]\n",
    "n = 4\n",
    "x = [l[i:i + n] for i in range(0, len(l), n)]\n",
    "print(x)"
   ]
  },
  {
   "cell_type": "code",
   "execution_count": 28,
   "id": "216564ad-b30d-48a4-8449-2a47f866a859",
   "metadata": {},
   "outputs": [
    {
     "name": "stdout",
     "output_type": "stream",
     "text": [
      "['a', 'd', 'h', 'b', 'c', 'e', 'i', 'f', 'g']\n",
      "['g', 'k', 'r', 'e', 'e', 'g', 's', 'f', 'o']\n"
     ]
    }
   ],
   "source": [
    "# Sort the values of first list using second list in Python\n",
    "def sort_list(list1, list2):\n",
    "\tzipped_pairs = zip(list2, list1)\n",
    "\tz = [x for _, x in sorted(zipped_pairs)]\n",
    "\treturn z\n",
    "x = [\"a\", \"b\", \"c\", \"d\", \"e\", \"f\", \"g\", \"h\", \"i\"]\n",
    "y = [ 0, 1, 1, 0, 1, 2, 2, 0, 1]\n",
    "print(sort_list(x, y))\n",
    "x = [\"g\", \"e\", \"e\", \"k\", \"s\", \"f\", \"o\", \"r\", \"g\", \"e\", \"e\", \"k\", \"s\"]\n",
    "y = [ 0, 1, 1, 0, 1, 2, 2, 0, 1]\n",
    "print(sort_list(x, y))"
   ]
  },
  {
   "cell_type": "code",
   "execution_count": 29,
   "id": "f1346298-6a48-4336-bd24-ecf442a286fa",
   "metadata": {},
   "outputs": [
    {
     "data": {
      "text/plain": [
       "['a', 'd', 'h', 'b', 'c', 'e', 'i', 'f', 'g']"
      ]
     },
     "execution_count": 29,
     "metadata": {},
     "output_type": "execute_result"
    }
   ],
   "source": [
    "# By using Dictionary, list comprehension, lambda function\n",
    "def sorting_of_element(list1,list2):\n",
    "\tf_1 = {}\n",
    "\tfinal_list = []\n",
    "\tf_1 = {list1[i]: list2[i] for i in range(len(list2))}\n",
    "\tf_lst = {k: v for k, v in sorted(f_1.items(), key=lambda item: item[1])}\n",
    "\tfor i in f_lst.keys():\n",
    "\t\tfinal_list.append(i)\n",
    "\treturn final_list\n",
    "list1 = [\"a\", \"b\", \"c\", \"d\", \"e\", \"f\", \"g\", \"h\", \"i\"]\n",
    "list2 = [ 0, 1, 1, 0, 1, 2, 2, 0, 1]\n",
    "sorting_of_element(list1,list2)"
   ]
  },
  {
   "cell_type": "code",
   "execution_count": null,
   "id": "ae247860-aee0-465e-901d-5b168c6b6a92",
   "metadata": {},
   "outputs": [],
   "source": []
  }
 ],
 "metadata": {
  "kernelspec": {
   "display_name": "Python 3",
   "language": "python",
   "name": "python3"
  },
  "language_info": {
   "codemirror_mode": {
    "name": "ipython",
    "version": 3
   },
   "file_extension": ".py",
   "mimetype": "text/x-python",
   "name": "python",
   "nbconvert_exporter": "python",
   "pygments_lexer": "ipython3",
   "version": "3.8.6"
  }
 },
 "nbformat": 4,
 "nbformat_minor": 5
}
