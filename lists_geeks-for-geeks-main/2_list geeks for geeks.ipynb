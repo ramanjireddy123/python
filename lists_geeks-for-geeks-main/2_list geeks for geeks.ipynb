{
 "cells": [
  {
   "cell_type": "code",
   "execution_count": 1,
   "id": "a17fbcfa-f84a-4644-85a1-c0125ca49d92",
   "metadata": {},
   "outputs": [
    {
     "name": "stdout",
     "output_type": "stream",
     "text": [
      "Second highest number is :  45\n"
     ]
    }
   ],
   "source": [
    "# Python program to find second largest number in a list         Sorting is an easier but less optimal method. Given below is an O(n) algorithm to do the same. \n",
    "list1 = [10, 20, 4, 45, 99]\n",
    "mx=max(list1[0],list1[1])\n",
    "secondmax=min(list1[0],list1[1])\n",
    "n =len(list1)\n",
    "for i in range(2,n):\n",
    "\tif list1[i]>mx:\n",
    "\t\tsecondmax=mx\n",
    "\t\tmx=list1[i]\n",
    "\telif list1[i]>secondmax and \\\n",
    "\t\tmx != list1[i]:\n",
    "\t\tsecondmax=list1[i]\n",
    "print(\"Second highest number is : \",\\\n",
    "\tstr(secondmax))"
   ]
  },
  {
   "cell_type": "code",
   "execution_count": 2,
   "id": "2e44c8e7-28cd-4d55-b504-7c62b135b678",
   "metadata": {},
   "outputs": [
    {
     "name": "stdout",
     "output_type": "stream",
     "text": [
      "Second largest element is: 45\n"
     ]
    }
   ],
   "source": [
    "# Sort the list in ascending order and print the second last element in the list.\n",
    "list1 = [10, 20, 4, 45, 99]\n",
    "list1.sort()\n",
    "print(\"Second largest element is:\", list1[-2])"
   ]
  },
  {
   "cell_type": "code",
   "execution_count": 3,
   "id": "7282fa5d-2ce8-4e4e-9c4a-49c2849f6185",
   "metadata": {},
   "outputs": [
    {
     "name": "stdout",
     "output_type": "stream",
     "text": [
      "45\n"
     ]
    }
   ],
   "source": [
    "# By removing the max element from the list \n",
    "list1 = [10, 20, 4, 45, 99]\n",
    "new_list = set(list1)\n",
    "new_list.remove(max(new_list))\n",
    "print(max(new_list))"
   ]
  },
  {
   "cell_type": "code",
   "execution_count": 4,
   "id": "5be8bb74-b1ea-4f3e-8637-2fac6b7e086d",
   "metadata": {},
   "outputs": [
    {
     "name": "stdin",
     "output_type": "stream",
     "text": [
      "Enter number of elements in list:  5\n",
      "Enter elements:  15\n",
      "Enter elements:  12\n",
      "Enter elements:  10\n",
      "Enter elements:  16\n",
      "Enter elements:  45\n"
     ]
    },
    {
     "name": "stdout",
     "output_type": "stream",
     "text": [
      "Second largest element is: 16\n"
     ]
    }
   ],
   "source": [
    "##### Find max list element on inputs provided by the user 5\n",
    "list1 = []\n",
    "num = int(input(\"Enter number of elements in list: \"))\n",
    "for i in range(1, num + 1):\n",
    "\tele = int(input(\"Enter elements: \"))\n",
    "\tlist1.append(ele)\n",
    "'''\n",
    "# sort the list\n",
    "list1.sort()\n",
    "\t\n",
    "# print second maximum element\n",
    "print(\"Second largest element is:\", list1[-2])\n",
    "\n",
    "'''\n",
    "print(\"Second largest element is:\", sorted(list1)[-2])"
   ]
  },
  {
   "cell_type": "code",
   "execution_count": 5,
   "id": "2b154385-8c16-4071-9da1-06623ed68987",
   "metadata": {},
   "outputs": [
    {
     "name": "stdout",
     "output_type": "stream",
     "text": [
      "[85, 41]\n"
     ]
    }
   ],
   "source": [
    "# Python program to find N largest elements from a list\n",
    "def Nmaxelements(list1, N):\n",
    "\tfinal_list = []\n",
    "\tfor i in range(0, N):\n",
    "\t\tmax1 = 0\t\t\n",
    "\t\tfor j in range(len(list1)):\t\n",
    "\t\t\tif list1[j] > max1:\n",
    "\t\t\t\tmax1 = list1[j];\t\t\t\t\n",
    "\t\tlist1.remove(max1);\n",
    "\t\tfinal_list.append(max1)\n",
    "\t\t\n",
    "\tprint(final_list)\n",
    "list1 = [2, 6, 41, 85, 0, 3, 7, 6, 10]\n",
    "N = 2\n",
    "Nmaxelements(list1, N)"
   ]
  },
  {
   "cell_type": "code",
   "execution_count": 6,
   "id": "9e8b69d8-8bad-45e1-9895-6060a394a0bf",
   "metadata": {},
   "outputs": [
    {
     "name": "stdout",
     "output_type": "stream",
     "text": [
      "[298, 900, 1000, 3579]\n"
     ]
    }
   ],
   "source": [
    "# A simple solution traverse the given list N times. In every traversal, find the maximum, add it to result, and remove it from the list. Below is the implementation :\n",
    "# time Complexity : O(N * size) where size is size of the given list.\n",
    "l = [1000,298,3579,100,200,-45,900]\n",
    "n = 4\n",
    "l.sort()\n",
    "print(l[-n:])"
   ]
  },
  {
   "cell_type": "code",
   "execution_count": 7,
   "id": "a28e8e1c-17f7-4122-9cfe-25440ca3332a",
   "metadata": {},
   "outputs": [
    {
     "name": "stdout",
     "output_type": "stream",
     "text": [
      "10 4 66 "
     ]
    }
   ],
   "source": [
    "# Python program to print even numbers in a list\n",
    "# Using for loop\n",
    "list1 = [10, 21, 4, 45, 66, 93] \n",
    "for i in list1:\n",
    "    if i % 2 == 0:\n",
    "        print(i, end =' ')"
   ]
  },
  {
   "cell_type": "code",
   "execution_count": 8,
   "id": "e0bc48a7-5b05-4f76-9fe7-3aaadac64817",
   "metadata": {},
   "outputs": [
    {
     "name": "stdout",
     "output_type": "stream",
     "text": [
      "10 4 68 "
     ]
    }
   ],
   "source": [
    "# using while loop\n",
    "x = [10, 21, 4, 45, 68, 93]\n",
    "num = 0\n",
    "while(num < len(x)):\n",
    "    if num % 2 == 0:\n",
    "        print(x[num], end =' ')\n",
    "    num += 1"
   ]
  },
  {
   "cell_type": "code",
   "execution_count": 9,
   "id": "57c44270-88fe-4a40-a90b-29bf0b86038c",
   "metadata": {},
   "outputs": [
    {
     "name": "stdout",
     "output_type": "stream",
     "text": [
      "Even numbers in the list:  [10, 4, 66]\n"
     ]
    }
   ],
   "source": [
    "# using list compression\n",
    "x = [10, 21, 4, 45, 66, 93]\n",
    "y = [num for num in x if num % 2 == 0]\n",
    "print(\"Even numbers in the list: \",y)"
   ]
  },
  {
   "cell_type": "code",
   "execution_count": 10,
   "id": "b188668d-6f99-4f32-9dc4-7251b9201240",
   "metadata": {},
   "outputs": [
    {
     "name": "stdout",
     "output_type": "stream",
     "text": [
      "Even numbers in the list:  [10, 4, 66]\n"
     ]
    }
   ],
   "source": [
    "# using lambda recurssion\n",
    "a = [10, 21, 4, 45, 66, 93, 11]\n",
    "y = list(filter(lambda x: (x % 2 == 0), a))\n",
    "\n",
    "print(\"Even numbers in the list: \", y)\n"
   ]
  },
  {
   "cell_type": "code",
   "execution_count": 11,
   "id": "bfe315fa-3b15-4c4b-9380-08422b343cec",
   "metadata": {},
   "outputs": [
    {
     "name": "stdout",
     "output_type": "stream",
     "text": [
      "21 45 93 "
     ]
    }
   ],
   "source": [
    "# python program to print all odd numbers in a list            by using for loop\n",
    "x = [10, 21, 4, 45, 66, 93]\n",
    "for i in list1:\n",
    "    if i % 2 != 0:\n",
    "        print(i, end = ' ')\n",
    "        "
   ]
  },
  {
   "cell_type": "code",
   "execution_count": 12,
   "id": "0fe6cac4-2e56-4f6d-a5f7-ba570df2408b",
   "metadata": {},
   "outputs": [
    {
     "name": "stdout",
     "output_type": "stream",
     "text": [
      "21 45 93 "
     ]
    }
   ],
   "source": [
    "# using while loop\n",
    "x = [10, 21, 4, 45, 66, 93]\n",
    "num = 0\n",
    "while(num < len(x)):\n",
    "    if num % 2 != 0:\n",
    "        print(x[num], end =' ')\n",
    "    num += 1"
   ]
  },
  {
   "cell_type": "code",
   "execution_count": 13,
   "id": "71a2b9ef-c473-420f-b8f2-c8a13154266e",
   "metadata": {},
   "outputs": [
    {
     "name": "stdout",
     "output_type": "stream",
     "text": [
      "[21, 45, 93]\n"
     ]
    }
   ],
   "source": [
    "# using list compression\n",
    "list1 = [10, 21, 4, 45, 66, 93]\n",
    "only_odd = [num for num in list1 if num % 2 == 1]\n",
    "print(only_odd)"
   ]
  },
  {
   "cell_type": "code",
   "execution_count": 14,
   "id": "71a60977-3e20-4ff2-9c07-cb92e472b4ad",
   "metadata": {},
   "outputs": [
    {
     "name": "stdout",
     "output_type": "stream",
     "text": [
      "Odd numbers in the list:  [21, 45, 93, 11]\n"
     ]
    }
   ],
   "source": [
    "# using lambda function\n",
    "list1 = [10, 21, 4, 45, 66, 93, 11]\n",
    "odd_nos = list(filter(lambda x: (x % 2 != 0), list1))\n",
    "print(\"Odd numbers in the list: \", odd_nos)"
   ]
  },
  {
   "cell_type": "code",
   "execution_count": 15,
   "id": "ca4b0a0c-fdcb-45d1-8737-a75d24a8e0c5",
   "metadata": {},
   "outputs": [
    {
     "name": "stdout",
     "output_type": "stream",
     "text": [
      "4 6 8 10 12 14 16 18 "
     ]
    }
   ],
   "source": [
    "# Python program to print all even numbers in a range\n",
    "start, end = 4, 19\n",
    "for num in range(start, end + 1):\n",
    "\tif num % 2 == 0:\n",
    "\t\tprint(num, end = \" \")\n"
   ]
  },
  {
   "cell_type": "code",
   "execution_count": 16,
   "id": "9f82bc59-711e-48b0-9f0f-a6000999c155",
   "metadata": {},
   "outputs": [
    {
     "name": "stdin",
     "output_type": "stream",
     "text": [
      "Enter the start of range:  4\n",
      "Enter the end of range:  23\n"
     ]
    },
    {
     "name": "stdout",
     "output_type": "stream",
     "text": [
      "4 6 8 10 12 14 16 18 20 22 "
     ]
    }
   ],
   "source": [
    "# Python program to print Even Numbers in given range by using range method\n",
    "\n",
    "start = int(input(\"Enter the start of range: \"))\n",
    "end = int(input(\"Enter the end of range: \"))\n",
    "for num in range(start, end + 1):\n",
    "\tif num % 2 == 0:\n",
    "\t\tprint(num, end = \" \")"
   ]
  },
  {
   "cell_type": "code",
   "execution_count": 17,
   "id": "cbe98dff-5fbc-4400-9340-2e47f97539cf",
   "metadata": {},
   "outputs": [
    {
     "name": "stdout",
     "output_type": "stream",
     "text": [
      "11 0 45 66 "
     ]
    }
   ],
   "source": [
    "# Python program to print positive numbers in a list\n",
    "#  Print all positive numbers from given list using for loop\n",
    "x = [11, -21, 0, 45, 66, -93]\n",
    "for i in x:\n",
    "    if i >= 0:\n",
    "        print(i, end = ' ')\n",
    "        "
   ]
  },
  {
   "cell_type": "code",
   "execution_count": 18,
   "id": "3a5fe56b-c69b-4882-ae02-ee37069471c0",
   "metadata": {},
   "outputs": [
    {
     "name": "stdout",
     "output_type": "stream",
     "text": [
      "21 93 "
     ]
    }
   ],
   "source": [
    "# Python program to print positive Numbers in a List   using while loop\n",
    "list1 = [-10, 21, -4, -45, -66, 93]\n",
    "num = 0\n",
    "while(num < len(list1)):\n",
    "\tif list1[num] >= 0:\n",
    "\t\tprint(list1[num], end = \" \")\n",
    "\tnum += 1"
   ]
  },
  {
   "cell_type": "code",
   "execution_count": 19,
   "id": "f9f0ce48-ece3-44d6-bb64-77d45660a447",
   "metadata": {},
   "outputs": [
    {
     "name": "stdout",
     "output_type": "stream",
     "text": [
      "Positive numbers in the list:  45 93\n"
     ]
    }
   ],
   "source": [
    "# using list compression\n",
    "list1 = [-10, -21, -4, 45, -66, 93]\n",
    "pos_nos = [num for num in list1 if num >= 0]\n",
    "print(\"Positive numbers in the list: \", *pos_nos)"
   ]
  },
  {
   "cell_type": "code",
   "execution_count": 20,
   "id": "496ec9a7-8dd8-4b58-b0d1-889c77a5eb56",
   "metadata": {},
   "outputs": [
    {
     "name": "stdout",
     "output_type": "stream",
     "text": [
      "Positive numbers in the list:  21 4 93\n"
     ]
    }
   ],
   "source": [
    "# using lambda function\n",
    "list1 = [-10, 21, 4, -45, -66, 93, -11]\n",
    "pos_nos = list(filter(lambda x: (x >= 0), list1))\n",
    "print(\"Positive numbers in the list: \", *pos_nos)"
   ]
  },
  {
   "cell_type": "code",
   "execution_count": 21,
   "id": "63a84f17-891d-472e-b446-17ed947d4ec5",
   "metadata": {},
   "outputs": [
    {
     "name": "stdout",
     "output_type": "stream",
     "text": [
      "-21 -93 "
     ]
    }
   ],
   "source": [
    "# Python program to print negative numbers in a list\n",
    "# Print all negative numbers from given list using for loop\n",
    "x = [11, -21, 0, 45, 66, -93]\n",
    "for i in x:\n",
    "    if i < 0:\n",
    "        print(i, end = ' ')\n",
    "        \n"
   ]
  },
  {
   "cell_type": "code",
   "execution_count": 22,
   "id": "28647ab5-092a-44a1-aa57-6a5b20cf66f3",
   "metadata": {},
   "outputs": [
    {
     "name": "stdout",
     "output_type": "stream",
     "text": [
      "-10 -4 -45 -66 "
     ]
    }
   ],
   "source": [
    "# using while loop:\n",
    "list1 = [-10, 21, -4, -45, -66, 93]\n",
    "num = 0\n",
    "while(num < len(list1)):\n",
    "\tif list1[num] < 0:\n",
    "\t\tprint(list1[num], end = \" \")\n",
    "\tnum += 1"
   ]
  },
  {
   "cell_type": "code",
   "execution_count": 23,
   "id": "4d3fc74d-a86a-421d-9abd-76a59e5ae436",
   "metadata": {},
   "outputs": [
    {
     "name": "stdout",
     "output_type": "stream",
     "text": [
      "Negative numbers in the list:  -10 -21 -4 -66\n"
     ]
    }
   ],
   "source": [
    "# using list compression\n",
    "list1 = [-10, -21, -4, 45, -66, 93]\n",
    "neg_nos = [num for num in list1 if num < 0]\n",
    "print(\"Negative numbers in the list: \", *neg_nos)"
   ]
  },
  {
   "cell_type": "code",
   "execution_count": 24,
   "id": "224e7ce7-2ba6-4ca7-95ee-6e526ba96116",
   "metadata": {},
   "outputs": [
    {
     "name": "stdout",
     "output_type": "stream",
     "text": [
      "Negative numbers in the list:  -10 -45 -66 -11\n"
     ]
    }
   ],
   "source": [
    "# using lambda function\n",
    "list1 = [-10, 21, 4, -45, -66, 93, -11]\n",
    "neg_nos = list(filter(lambda x: (x < 0), list1))\n",
    "print(\"Negative numbers in the list: \", *neg_nos)"
   ]
  },
  {
   "cell_type": "code",
   "execution_count": 25,
   "id": "05807e56-c012-49a4-ab50-7f94cbb3dbfe",
   "metadata": {},
   "outputs": [
    {
     "name": "stdout",
     "output_type": "stream",
     "text": [
      "0 1 2 3 4 5 6 7 8 9 10 11 12 13 14 15 16 17 18 19 "
     ]
    }
   ],
   "source": [
    "# Python program to print all positive numbers in a range\n",
    "# Python program to print positive Numbers in given range\n",
    "\n",
    "start, end = -4, 19\n",
    "for num in range(start, end + 1):\n",
    "\tif num >= 0:\n",
    "\t\tprint(num, end = \" \")"
   ]
  },
  {
   "cell_type": "code",
   "execution_count": 26,
   "id": "4c7944e3-c896-40e4-8f6b-78f0fbda2dd3",
   "metadata": {},
   "outputs": [
    {
     "name": "stdin",
     "output_type": "stream",
     "text": [
      "Enter the start of range:  5\n",
      "Enter the end of range:  14\n"
     ]
    },
    {
     "name": "stdout",
     "output_type": "stream",
     "text": [
      "5 6 7 8 9 10 11 12 13 14 "
     ]
    }
   ],
   "source": [
    "# Python program to print positive Numbers in given range\n",
    "# Taking range limit from user input\n",
    "start = int(input(\"Enter the start of range: \"))\n",
    "end = int(input(\"Enter the end of range: \"))\n",
    "for num in range(start, end + 1):\n",
    "\tif num >= 0:\n",
    "\t\tprint(num, end = \" \")\n"
   ]
  },
  {
   "cell_type": "code",
   "execution_count": 27,
   "id": "8125ccb8-f3a9-429d-a5bc-576b9a64f447",
   "metadata": {},
   "outputs": [
    {
     "name": "stdout",
     "output_type": "stream",
     "text": [
      "-4 -3 -2 -1 "
     ]
    }
   ],
   "source": [
    "# Python program to print all negative numbers in a range    Print all negative numbers from given list using for loop\n",
    "start, end = -4, 19\n",
    "for num in range(start, end + 1):\n",
    "\tif num < 0:\n",
    "\t\tprint(num, end = \" \")"
   ]
  },
  {
   "cell_type": "code",
   "execution_count": 28,
   "id": "beb6d765-fc00-4cf9-b9b2-9cb2fd8ecaa4",
   "metadata": {},
   "outputs": [
    {
     "name": "stdin",
     "output_type": "stream",
     "text": [
      "Enter the start of range:  -5\n",
      "Enter the end of range:  5\n"
     ]
    },
    {
     "name": "stdout",
     "output_type": "stream",
     "text": [
      "-5 -4 -3 -2 -1 "
     ]
    }
   ],
   "source": [
    "# Taking range limit from user input\n",
    "start = int(input(\"Enter the start of range: \"))\n",
    "end = int(input(\"Enter the end of range: \"))\n",
    "for num in range(start, end + 1):\n",
    "\tif num < 0:\n",
    "\t\tprint(num, end = \" \")"
   ]
  },
  {
   "cell_type": "code",
   "execution_count": 29,
   "id": "3b40db9e-7b39-4e01-a39b-5f17faf47e08",
   "metadata": {},
   "outputs": [
    {
     "name": "stdout",
     "output_type": "stream",
     "text": [
      "5 7 9 11 13 15 17 19 "
     ]
    }
   ],
   "source": [
    "# Python program to print all odd numbers in a range\n",
    "# Print all odd numbers from given list using for loop\n",
    "start, end = 4, 19\n",
    "for num in range(start, end + 1):\n",
    "\tif num % 2 != 0:\n",
    "\t\tprint(num, end = \" \")\n"
   ]
  },
  {
   "cell_type": "code",
   "execution_count": 30,
   "id": "b03f638c-0191-4d38-aab2-46784c10c932",
   "metadata": {},
   "outputs": [
    {
     "name": "stdin",
     "output_type": "stream",
     "text": [
      "Enter the start of range:  3\n",
      "Enter the end of range:  11\n"
     ]
    },
    {
     "name": "stdout",
     "output_type": "stream",
     "text": [
      "3 5 7 9 11 "
     ]
    }
   ],
   "source": [
    "# Taking range limit from user input\n",
    "start = int(input(\"Enter the start of range: \"))\n",
    "end = int(input(\"Enter the end of range: \"))\n",
    "for num in range(start, end + 1):\n",
    "\tif num % 2 != 0:\n",
    "\t\tprint(num, end = \" \")"
   ]
  },
  {
   "cell_type": "code",
   "execution_count": 31,
   "id": "fb0c2441-d7e2-4371-aac3-40dc8fba684c",
   "metadata": {},
   "outputs": [
    {
     "name": "stdin",
     "output_type": "stream",
     "text": [
      "Enter the start of range:  3\n",
      "Enter the end of range:  14\n"
     ]
    },
    {
     "name": "stdout",
     "output_type": "stream",
     "text": [
      "4 6 8 10 12 14 "
     ]
    }
   ],
   "source": [
    "# Taking range limit from user input\n",
    "start = int(input(\"Enter the start of range: \"))\n",
    "end = int(input(\"Enter the end of range: \"))\n",
    "even_list = range(start, end + 1)[start%2::2]\n",
    "for num in even_list:\n",
    "\tprint(num, end = \" \")"
   ]
  },
  {
   "cell_type": "code",
   "execution_count": null,
   "id": "1c7f9a51-3215-469d-a9d4-aeaea306e2b8",
   "metadata": {},
   "outputs": [],
   "source": []
  }
 ],
 "metadata": {
  "kernelspec": {
   "display_name": "Python 3",
   "language": "python",
   "name": "python3"
  },
  "language_info": {
   "codemirror_mode": {
    "name": "ipython",
    "version": 3
   },
   "file_extension": ".py",
   "mimetype": "text/x-python",
   "name": "python",
   "nbconvert_exporter": "python",
   "pygments_lexer": "ipython3",
   "version": "3.8.6"
  }
 },
 "nbformat": 4,
 "nbformat_minor": 5
}
