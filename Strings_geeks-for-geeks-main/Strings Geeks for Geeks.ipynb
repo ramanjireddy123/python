{
 "cells": [
  {
   "cell_type": "code",
   "execution_count": 1,
   "id": "a86ffc63-5a95-47cd-b255-bff823f300f4",
   "metadata": {},
   "outputs": [
    {
     "name": "stdout",
     "output_type": "stream",
     "text": [
      "Without Order: efkrgso\n",
      "With Order: g\n",
      "With Order: ge\n",
      "With Order: ge\n",
      "With Order: gek\n",
      "With Order: geks\n",
      "With Order: geksf\n",
      "With Order: geksfo\n",
      "With Order: geksfor\n",
      "With Order: geksfor\n",
      "With Order: geksfor\n",
      "With Order: geksfor\n",
      "With Order: geksfor\n",
      "With Order: geksfor\n"
     ]
    }
   ],
   "source": [
    "def removeDuplicate(str):\n",
    "    s = set(str)\n",
    "    s =\"\".join(s)\n",
    "    print(\"Without Order:\",s)\n",
    "    t =\"\"\n",
    "    for i in str:\n",
    "        if(i in t):\n",
    "            pass\n",
    "        else:\n",
    "            t = t + i\n",
    "        print(\"With Order:\",t)\n",
    "str = \"geeksforgeeks\"\n",
    "removeDuplicate(str)"
   ]
  },
  {
   "cell_type": "code",
   "execution_count": 2,
   "id": "93fdf751-d149-42b7-a2e9-9b18820cac43",
   "metadata": {},
   "outputs": [
    {
     "name": "stdout",
     "output_type": "stream",
     "text": [
      "{'a': 1, 'b': 2, 'c': 3, 'd': 4, 'e': 5}\n"
     ]
    }
   ],
   "source": [
    "from collections import OrderedDict\n",
    "\n",
    "ordinary_dictionary = {}\n",
    "ordinary_dictionary['a'] = 1\n",
    "ordinary_dictionary['b'] = 2\n",
    "ordinary_dictionary['c'] = 3\n",
    "ordinary_dictionary['d'] = 4\n",
    "ordinary_dictionary['e'] = 5\n",
    "print(ordinary_dictionary)\n",
    "# What do OrderedDict and fromkeys() do ?\n"
   ]
  },
  {
   "cell_type": "code",
   "execution_count": 3,
   "id": "7c4b53e1-63f1-44c2-9f95-ffa348fdb76a",
   "metadata": {},
   "outputs": [
    {
     "name": "stdout",
     "output_type": "stream",
     "text": [
      "OrderedDict([('name', None), ('age', None), ('gender', None)])\n",
      "OrderedDict([('name', 10), ('age', 10), ('gender', 10)])\n"
     ]
    }
   ],
   "source": [
    "from collections import OrderedDict\n",
    "x = (\"name\", \"age\", \"gender\")\n",
    "dict = OrderedDict.fromkeys(x)\n",
    "print(dict)\n",
    "dict = OrderedDict.fromkeys(x, 10)\n",
    "print(dict)"
   ]
  },
  {
   "cell_type": "code",
   "execution_count": 4,
   "id": "96ac2886-7b84-43f8-8029-6195b8f2bbba",
   "metadata": {},
   "outputs": [
    {
     "name": "stdout",
     "output_type": "stream",
     "text": [
      "geeksforgeeks\n",
      "f\n"
     ]
    }
   ],
   "source": [
    "# Least Frequent Character in String       Naive method + min()\n",
    "x = \"geeksforgeeks\"\n",
    "print(x)\n",
    "a = {}\n",
    "for i in x:\n",
    "    if i in a:\n",
    "        a[i] +=1\n",
    "    else:\n",
    "        a[i] = 1\n",
    "res = min(a, key = a.get)\n",
    "print(res)\n"
   ]
  },
  {
   "cell_type": "code",
   "execution_count": 5,
   "id": "0063153e-eb1f-409a-921e-67658e29cc12",
   "metadata": {},
   "outputs": [
    {
     "name": "stdout",
     "output_type": "stream",
     "text": [
      "geeksfrogeeks\n",
      "f\n"
     ]
    }
   ],
   "source": [
    "# Using collections.Counter() + min()\n",
    "from collections import Counter\n",
    "x = \"geeksfrogeeks\"\n",
    "print(x)\n",
    "res = Counter(x)\n",
    "res = min(res, key = res.get)\n",
    "print(res)"
   ]
  },
  {
   "cell_type": "code",
   "execution_count": 6,
   "id": "78bb58eb-2556-4294-9046-146ada58bf25",
   "metadata": {},
   "outputs": [
    {
     "name": "stdout",
     "output_type": "stream",
     "text": [
      "geeksfrogeeks\n"
     ]
    },
    {
     "data": {
      "text/plain": [
       "'f'"
      ]
     },
     "execution_count": 6,
     "metadata": {},
     "output_type": "execute_result"
    }
   ],
   "source": [
    "# Using collections.Counter() + min()\n",
    "from collections import Counter\n",
    "x = \"geeksfrogeeks\"\n",
    "print(x)\n",
    "res = Counter(x)\n",
    "res = min(res, key = res.get)\n",
    "(res)"
   ]
  },
  {
   "cell_type": "code",
   "execution_count": 7,
   "id": "1645eb75-edbd-4fac-bdc2-f6d91df91475",
   "metadata": {},
   "outputs": [
    {
     "name": "stdout",
     "output_type": "stream",
     "text": [
      "geeksforgeeks\n",
      "e\n"
     ]
    }
   ],
   "source": [
    "# Maximum frequency character in String\n",
    "# Least Frequent Character in String       Naive method + min()\n",
    "x = \"geeksforgeeks\"\n",
    "print(x)\n",
    "a = {}\n",
    "for i in x:\n",
    "    if i in a:\n",
    "        a[i] +=1\n",
    "    else:\n",
    "        a[i] = 1\n",
    "res = max(a, key = a.get)\n",
    "print(res)"
   ]
  },
  {
   "cell_type": "code",
   "execution_count": 8,
   "id": "1e2d696f-598e-426a-af8f-8f3e774a244c",
   "metadata": {},
   "outputs": [
    {
     "name": "stdout",
     "output_type": "stream",
     "text": [
      "geeksfrogeeks\n",
      "e\n"
     ]
    }
   ],
   "source": [
    "# Using collections.Counter() + min()\n",
    "from collections import Counter\n",
    "x = \"geeksfrogeeks\"\n",
    "print(x)\n",
    "res = Counter(x)\n",
    "res = max(res, key = res.get)\n",
    "print(res)"
   ]
  },
  {
   "cell_type": "code",
   "execution_count": 9,
   "id": "e6f3232f-4e60-4216-b9ae-56c1c2630594",
   "metadata": {},
   "outputs": [
    {
     "name": "stdout",
     "output_type": "stream",
     "text": [
      "string is accepted\n"
     ]
    }
   ],
   "source": [
    "import re\n",
    "def run(string):\n",
    "    regex = re.compile('[@_!#$%^&*()<>?/\\|}{~:]')\n",
    "    if(regex.search(string) == None):\n",
    "        print(\"string is accepted\")\n",
    "    else:\n",
    "        print(\"string is not accepeted\")\n",
    "string = \"geeksforgeeks\"\n",
    "(run(string))"
   ]
  },
  {
   "cell_type": "code",
   "execution_count": 10,
   "id": "4abd7eb0-d4a7-4d52-9eff-b9b6de1c7062",
   "metadata": {},
   "outputs": [
    {
     "name": "stdout",
     "output_type": "stream",
     "text": [
      "string is not accepeted\n"
     ]
    }
   ],
   "source": [
    "import re\n",
    "def run(string):\n",
    "    regex = re.compile('[@_!#$%^&*()<>?/\\|}{~:]')\n",
    "    if(regex.search(string) == None):\n",
    "        print(\"string is accepted\")\n",
    "    else:\n",
    "        print(\"string is not accepeted\")\n",
    "string = \"geeks$#for@#geeks\"\n",
    "(run(string))"
   ]
  },
  {
   "cell_type": "code",
   "execution_count": 11,
   "id": "a17a57af-4853-4a2e-87e1-e30768847adb",
   "metadata": {},
   "outputs": [
    {
     "name": "stdout",
     "output_type": "stream",
     "text": [
      "[['geeksforgeeks']]\n"
     ]
    }
   ],
   "source": [
    "# Find words which are greater than given length k\n",
    "def string_k(k, str):\n",
    "    string = []\n",
    "    x = str.split(\" \")\n",
    "    for i in x:\n",
    "        if len(i) > k:\n",
    "            string.append(x)\n",
    "    return string\n",
    "k = 3\n",
    "str = \"geeksforgeeks\"\n",
    "print(string_k(k, str))"
   ]
  },
  {
   "cell_type": "code",
   "execution_count": 12,
   "id": "aff8f9de-5aa4-4ca8-ab0f-cf74ad5a3ed8",
   "metadata": {},
   "outputs": [
    {
     "name": "stdout",
     "output_type": "stream",
     "text": [
      "geeksORgeeks\n"
     ]
    }
   ],
   "source": [
    "# Python program for removing i-th character from a string\n",
    "def remove(string, i):\n",
    "    a = string[ : i]\n",
    "    b = string[i + 1: ]\n",
    "    return a + b\n",
    "string = \"geeksFORgeeks\"\n",
    "i = 5\n",
    "print(remove(string, i))"
   ]
  },
  {
   "cell_type": "code",
   "execution_count": 13,
   "id": "5fcd1e97-ba82-4b0a-841d-2186f7fb4034",
   "metadata": {},
   "outputs": [
    {
     "name": "stdout",
     "output_type": "stream",
     "text": [
      "Sixyismybook\n"
     ]
    }
   ],
   "source": [
    "x = \"Sixtyismybook\"\n",
    "remove = ['t']\n",
    "for value in remove:\n",
    "    x = x.replace(value, '')\n",
    "print(x)\n"
   ]
  },
  {
   "cell_type": "code",
   "execution_count": 14,
   "id": "3a1ea80f-d40d-411b-8ab2-9b60525dc893",
   "metadata": {},
   "outputs": [
    {
     "name": "stdout",
     "output_type": "stream",
     "text": [
      "Geeksorgeeks\n"
     ]
    }
   ],
   "source": [
    "\n",
    "my_string = \"GeeksForgeeks\"\n",
    "remove = ['F']\n",
    "for value in remove:\n",
    "    my_string = my_string.replace(value, '')\n",
    "print(my_string)"
   ]
  },
  {
   "cell_type": "code",
   "execution_count": 15,
   "id": "30746671-1a06-4ea2-848b-c06d1f5bd91d",
   "metadata": {},
   "outputs": [
    {
     "name": "stdout",
     "output_type": "stream",
     "text": [
      "geeksorgeeks\n"
     ]
    }
   ],
   "source": [
    "# The idea is to use string replace in Python\n",
    "def remove(string, i):\n",
    "    for j in range(len(string)):\n",
    "        if j == i:\n",
    "            string = string.replace(string[i], \"\", 1)\n",
    "    return string\n",
    "string = \"geeksForgeeks\"\n",
    "i = 5\n",
    "print(remove(string,i))\n"
   ]
  },
  {
   "cell_type": "code",
   "execution_count": 16,
   "id": "fa67150d-fe9c-4977-adb6-460c336efa0a",
   "metadata": {},
   "outputs": [
    {
     "name": "stdout",
     "output_type": "stream",
     "text": [
      "['greeks', 'for', 'geeks']\n",
      "greeks-for-geeks\n"
     ]
    }
   ],
   "source": [
    "# Python program to split and join a string\n",
    "def split_string(string):\n",
    "    list_string = string.split(' ')\n",
    "    return list_string\n",
    "def join_string(list_string):\n",
    "    string = '-'.join(list_string)\n",
    "    return string\n",
    "string = \"greeks for geeks\"\n",
    "list_string = split_string(string)\n",
    "print(list_string)\n",
    "new_string = join_string(list_string)\n",
    "print(new_string)"
   ]
  },
  {
   "cell_type": "code",
   "execution_count": 17,
   "id": "dafee92a-84bd-4a83-946a-577c10fe8b00",
   "metadata": {},
   "outputs": [
    {
     "name": "stdout",
     "output_type": "stream",
     "text": [
      "Yes\n"
     ]
    }
   ],
   "source": [
    "# Python | Check if a given string is binary string or not\n",
    "def check(string):\n",
    "    p = set(string)\n",
    "    s={'0' , '1'}\n",
    "    if s == p or p == {'0'} or p == {'1'}:\n",
    "        print(\"Yes\")\n",
    "    else:\n",
    "        print(\"No\")\n",
    "string = \"101010000111\"\n",
    "check(string)"
   ]
  },
  {
   "cell_type": "code",
   "execution_count": 18,
   "id": "af3c716d-e9da-4b31-9be0-f39a0c28bd54",
   "metadata": {},
   "outputs": [
    {
     "name": "stdout",
     "output_type": "stream",
     "text": [
      "Yes\n",
      "None\n"
     ]
    }
   ],
   "source": [
    "def check(string):\n",
    "    p = set(string)\n",
    "    s={'0' , '1'}\n",
    "    if s == p or p == {'0'} or p == {'1'}:\n",
    "        print(\"Yes\")\n",
    "    else:\n",
    "        print(\"No\")\n",
    "string = \"101010000111\"\n",
    "print(check(string))\n"
   ]
  },
  {
   "cell_type": "code",
   "execution_count": 19,
   "id": "280f6977-bece-4f85-b1f8-a67c671cefd8",
   "metadata": {},
   "outputs": [
    {
     "name": "stdout",
     "output_type": "stream",
     "text": [
      "No\n",
      "None\n"
     ]
    }
   ],
   "source": [
    "# Simple Iteration\n",
    "def check(string):\n",
    "    t = '01'\n",
    "    count = 0\n",
    "    for char in string:\n",
    "        if char not in t:\n",
    "            count = 1\n",
    "            break\n",
    "        else:\n",
    "            pass\n",
    "    if count:\n",
    "        print(\"No\")\n",
    "    else:\n",
    "        print(\"Yes\")\n",
    "string = \"00102000122111000021\"\n",
    "print(check(string))"
   ]
  },
  {
   "cell_type": "code",
   "execution_count": 20,
   "id": "3fff6102-28b8-415b-ae81-1ac8910595a7",
   "metadata": {},
   "outputs": [
    {
     "name": "stdout",
     "output_type": "stream",
     "text": [
      "No\n"
     ]
    }
   ],
   "source": [
    "def check(string):\n",
    "    t = '01'\n",
    "    count = 0\n",
    "    for char in string:\n",
    "        if char not in t:\n",
    "            count = 1\n",
    "            break\n",
    "        else:\n",
    "            pass\n",
    "    if count:\n",
    "        print(\"No\")\n",
    "    else:\n",
    "        print(\"Yes\")\n",
    "string = \"001021010001010\"\n",
    "check(string)"
   ]
  },
  {
   "cell_type": "code",
   "execution_count": 21,
   "id": "50dea2e6-e9bd-41af-bcb9-7b5e62c6c3fc",
   "metadata": {},
   "outputs": [
    {
     "name": "stdout",
     "output_type": "stream",
     "text": [
      "['learning', 'from']\n"
     ]
    }
   ],
   "source": [
    "# Python program to find uncommon words from two Strings\n",
    "def UncommonWords(A, B):\n",
    "    count= {}\n",
    "    for word in A.split():\n",
    "        count[word] = count.get(word, 0) + 1\n",
    "    for word in B.split():\n",
    "        count[word] = count.get(word, 0) + 1\n",
    "    return [word for word in count if count[word] == 1]\n",
    "A = \"geeks for geeks\"\n",
    "B = \"learning from geeks for geeks\"\n",
    "print(UncommonWords(A, B))"
   ]
  },
  {
   "cell_type": "code",
   "execution_count": 22,
   "id": "012c8488-0096-4a28-b49c-d5f8b4d7fd9f",
   "metadata": {},
   "outputs": [
    {
     "name": "stdout",
     "output_type": "stream",
     "text": [
      " apple fruits\n"
     ]
    }
   ],
   "source": [
    "# Another way to solve this problem:\n",
    "def uncommon(a, b):\n",
    "    x = a.split()\n",
    "    y = b.split()\n",
    "    r = ''\n",
    "    for i in x:\n",
    "        if i not in y:\n",
    "            r = r + \" \" + i\n",
    "    for j in y:\n",
    "        if j not in x:\n",
    "            r = r + \" \" + j\n",
    "    return r\n",
    "a = \"apple banana mango\"\n",
    "b = \"banana fruits mango\"\n",
    "print(uncommon(a,b))\n"
   ]
  },
  {
   "cell_type": "code",
   "execution_count": 23,
   "id": "8881df10-794e-4ce0-9d74-8e7185e6b20b",
   "metadata": {},
   "outputs": [
    {
     "data": {
      "text/plain": [
       "' apple fruits'"
      ]
     },
     "execution_count": 23,
     "metadata": {},
     "output_type": "execute_result"
    }
   ],
   "source": [
    "def uncommon(a, b):\n",
    "    x = a.split()\n",
    "    y = b.split()\n",
    "    r = ''\n",
    "    for i in x:\n",
    "        if i not in y:\n",
    "            r = r + \" \" + i\n",
    "    for j in y:\n",
    "        if j not in x:\n",
    "            r = r + \" \" + j\n",
    "    return r\n",
    "a = \"apple banana mango\"\n",
    "b = \"banana fruits mango\"\n",
    "uncommon(a,b)"
   ]
  },
  {
   "cell_type": "code",
   "execution_count": 24,
   "id": "e2a4b997-364d-41d5-87e5-6c770d0e1d95",
   "metadata": {},
   "outputs": [
    {
     "name": "stdout",
     "output_type": "stream",
     "text": [
      "['fruits', 'apple']\n"
     ]
    }
   ],
   "source": [
    "# Also another way-using in-built function “symmetric_difference()”\n",
    "def uncommon(a, b):\n",
    "    a = a.split()\n",
    "    b = b.split()\n",
    "    k = set(a).symmetric_difference(set(b))\n",
    "    return k\n",
    "a = \"apple banana mango\"\n",
    "b = \"banana fruits mango\"\n",
    "print(list(uncommon(a, b)))"
   ]
  },
  {
   "cell_type": "code",
   "execution_count": 25,
   "id": "1b26d741-185e-4f56-b9be-e07314067156",
   "metadata": {},
   "outputs": [
    {
     "name": "stdout",
     "output_type": "stream",
     "text": [
      "{'fruits', 'apple'}\n"
     ]
    }
   ],
   "source": [
    "def uncommon(a,b):\n",
    "    a=a.split()\n",
    "    b=b.split()\n",
    "    k=set(a).symmetric_difference(set(b))\n",
    "    return k\n",
    "a=\"apple banana mango\" \n",
    "b=\"banana fruits mango\"\n",
    "print(uncommon(a,b))"
   ]
  },
  {
   "cell_type": "code",
   "execution_count": 26,
   "id": "ef7c6d4c-cb7a-4e8c-9666-a9d002975a18",
   "metadata": {},
   "outputs": [
    {
     "data": {
      "text/plain": [
       "['fruits', 'apple']"
      ]
     },
     "execution_count": 26,
     "metadata": {},
     "output_type": "execute_result"
    }
   ],
   "source": [
    "def uncommon(a, b):\n",
    "    a = a.split()\n",
    "    b = b.split()\n",
    "    k = set(a).symmetric_difference(set(b))\n",
    "    return k\n",
    "a = \"apple banana mango\"\n",
    "b = \"banana fruits mango\"\n",
    "list(uncommon(a, b))"
   ]
  },
  {
   "cell_type": "code",
   "execution_count": 27,
   "id": "bab9376a-8126-41a9-82ca-94a9d96c123d",
   "metadata": {},
   "outputs": [
    {
     "name": "stdout",
     "output_type": "stream",
     "text": [
      "['Learning', 'from']\n"
     ]
    }
   ],
   "source": [
    "# Another way to solve this problem join and split\n",
    "def uncommon(A, B):\n",
    "    x = [i for i in \"\".join(B).split() if i not in \"\" .join(A).split()]\n",
    "    return x\n",
    "A = \"Geeks for Geeks\"\n",
    "B = \"Learning from Geeks for Geeks\"\n",
    "print(uncommon(A, B))\n"
   ]
  },
  {
   "cell_type": "code",
   "execution_count": 28,
   "id": "45fc9b66-886b-4888-93a5-27057d3907d4",
   "metadata": {},
   "outputs": [
    {
     "data": {
      "text/plain": [
       "['Learning', 'from']"
      ]
     },
     "execution_count": 28,
     "metadata": {},
     "output_type": "execute_result"
    }
   ],
   "source": [
    "def uncommon(A, B):\n",
    "\tun_comm = [i for i in \"\".join(B).split() if i not in \"\".join(A).split()]\n",
    "\treturn un_comm\n",
    "A = \"Geeks for Geeks\"\n",
    "B = \"Learning from Geeks for Geeks\"\n",
    "uncommon(A, B)"
   ]
  },
  {
   "cell_type": "code",
   "execution_count": 29,
   "id": "b56381af-000e-4bfe-b3a5-51f5ba21fd33",
   "metadata": {},
   "outputs": [
    {
     "name": "stdout",
     "output_type": "stream",
     "text": [
      "Gfg is best . It also has Classes now. \\Classes help understand better . \n"
     ]
    }
   ],
   "source": [
    "# Python – Replace duplicate Occurrence in String             Using split() + enumerate() + loop\n",
    "x = 'Gfg is best . Gfg also has Classes now. \\Classes help understand better . '\n",
    "x\n",
    "y =  {'Gfg' : 'It', 'Classes' : 'They' }\n",
    "x = x.split(' ')\n",
    "res = set()\n",
    "for a, b in enumerate(x):\n",
    "    if b in y:\n",
    "        if b in res:\n",
    "            x[a] = y[b]\n",
    "        else:\n",
    "            res.add(b)\n",
    "res = ' '.join(x)\n",
    "print(res)\n",
    "            \n",
    "        "
   ]
  },
  {
   "cell_type": "code",
   "execution_count": 30,
   "id": "c4cdcc68-a220-4c19-960d-ee587f03deac",
   "metadata": {},
   "outputs": [
    {
     "name": "stdout",
     "output_type": "stream",
     "text": [
      "The original string is : Gfg is best . Gfg also has Classes now. Classes help understand better . \n",
      "The string after replacing : Gfg is best . It also has Classes now. They help understand better . \n"
     ]
    }
   ],
   "source": [
    "# Using keys() + index() + list comprehension\n",
    "test_str = 'Gfg is best . Gfg also has Classes now. Classes help understand better . '\n",
    "print(\"The original string is : \" + (test_str))\n",
    "repl_dict = {'Gfg' : 'It', 'Classes' : 'They' }\n",
    "test_list = test_str.split(' ')\n",
    "res = ' '.join([repl_dict.get(val) if val in repl_dict.keys() and test_list.index(val) != idx\n",
    "\t\t\t\t\t\t\t\telse val for idx, val in enumerate(test_list)])\n",
    "print(\"The string after replacing : \" + (res))"
   ]
  },
  {
   "cell_type": "code",
   "execution_count": 31,
   "id": "72ce0dc6-9769-42d0-8061-063ff55eec5e",
   "metadata": {},
   "outputs": [
    {
     "name": "stdout",
     "output_type": "stream",
     "text": [
      "Geeksforgeeks is gfg gfg geeks and gfg\n"
     ]
    }
   ],
   "source": [
    "# Python – Replace multiple words with K                  Using join() + split() + list comprehension\n",
    "test_str = 'Geeksforgeeks is best for geeks and CS'\n",
    "word_list = [\"best\", 'CS', 'for']\n",
    "repl_wrd = 'gfg'\n",
    "res = ' '.join([repl_wrd if idx in word_list else idx for idx in test_str.split()])\n",
    "print(res)"
   ]
  },
  {
   "cell_type": "code",
   "execution_count": 32,
   "id": "e21b5d36-1943-4ba6-a651-85f93ca34f14",
   "metadata": {},
   "outputs": [
    {
     "name": "stdout",
     "output_type": "stream",
     "text": [
      "Geeksgfggeeks is gfg gfg geeks and gfg\n"
     ]
    }
   ],
   "source": [
    "# Using regex + join()\n",
    "import re\n",
    "test_str = 'Geeksforgeeks is best for geeks and CS'\n",
    "word_list = [\"best\", 'CS', 'for']\n",
    "repl_wrd = 'gfg'\n",
    "res = re.sub(\"|\".join(sorted(word_list, key = len, reverse = True)), repl_wrd, test_str)\n",
    "print(res)"
   ]
  },
  {
   "cell_type": "code",
   "execution_count": 33,
   "id": "6e0a787f-0e56-46b2-b149-7ab16eae5bc4",
   "metadata": {},
   "outputs": [
    {
     "name": "stdout",
     "output_type": "stream",
     "text": [
      "ABC\n",
      "ACB\n",
      "BAC\n",
      "BCA\n",
      "CAB\n",
      "CBA\n"
     ]
    }
   ],
   "source": [
    "# Python | Permutation of a given string using inbuilt function\n",
    "from itertools import permutations\n",
    "def allPermutations(str):\n",
    "    permList = permutations(str)\n",
    "    for perm in list(permList):\n",
    "         print (''.join(perm))\n",
    "str = 'ABC'\n",
    "allPermutations(str)"
   ]
  },
  {
   "cell_type": "code",
   "execution_count": 34,
   "id": "ba4ce18a-1b8c-488f-a6bc-7ab459dad6d8",
   "metadata": {},
   "outputs": [
    {
     "name": "stdout",
     "output_type": "stream",
     "text": [
      "GEEK\n",
      "GEKE\n",
      "GKEE\n",
      "EGEK\n",
      "EGKE\n",
      "EEGK\n",
      "EEKG\n",
      "EKGE\n",
      "EKEG\n",
      "KGEE\n",
      "KEGE\n",
      "KEEG\n"
     ]
    }
   ],
   "source": [
    "from itertools import permutations\n",
    "import string\n",
    "s = 'GEEK'\n",
    "a = string.ascii_letters\n",
    "p = permutations(s)\n",
    "d = []\n",
    "for i in list(p):\n",
    "    if (i not in d):\n",
    "        d.append(i)\n",
    "        print(''.join(i))"
   ]
  },
  {
   "cell_type": "code",
   "execution_count": 35,
   "id": "66b2c524-1111-4fa4-8087-ceb30fc8bc01",
   "metadata": {},
   "outputs": [
    {
     "name": "stdout",
     "output_type": "stream",
     "text": [
      "Urls:  ['https://auth.geeksforgeeks.org/user/Chinmoy%20Lenka/articles', 'http://www.geeksforgeeks.org/']\n"
     ]
    }
   ],
   "source": [
    "# Python | Check for URL in a String\n",
    "# Using the regular expression\n",
    "import re\n",
    "def Find(string):\n",
    "    regex = r\"(?i)\\b((?:https?://|www\\d{0,3}[.]|[a-z0-9.\\-]+[.][a-z]{2,4}/)(?:[^\\s()<>]+|\\(([^\\s()<>]+|(\\([^\\s()<>]+\\)))*\\))+(?:\\(([^\\s()<>]+|(\\([^\\s()<>]+\\)))*\\)|[^\\s`!()\\[\\]{};:'\\\".,<>?«»“”‘’]))\"\n",
    "    url = re.findall(regex,string)  \n",
    "    return [x[0] for x in url]\n",
    "string = 'My Profile: https://auth.geeksforgeeks.org/user/Chinmoy%20Lenka/articles in the portal of http://www.geeksforgeeks.org/'\n",
    "print(\"Urls: \", Find(string))"
   ]
  },
  {
   "cell_type": "code",
   "execution_count": 36,
   "id": "a7db3572-4b63-4b47-96d1-eafb4303e725",
   "metadata": {},
   "outputs": [
    {
     "name": "stdout",
     "output_type": "stream",
     "text": [
      "6\n"
     ]
    }
   ],
   "source": [
    "# Execute a String of Code in Python\n",
    "# function illustrating how exec() functions.]\n",
    "def exec_code():\n",
    "    LOC = \"\"\"\n",
    "def factorial(num):\n",
    "    fact = 1\n",
    "    for i in range(1 , num+1):\n",
    "        fact = fact + 1\n",
    "    return fact\n",
    "print(factorial(5))\n",
    "\"\"\"\n",
    "    exec(LOC)\n",
    "exec_code()"
   ]
  },
  {
   "cell_type": "code",
   "execution_count": 37,
   "id": "3c46e630-ed9d-4c2f-b126-9592be9b980b",
   "metadata": {},
   "outputs": [
    {
     "name": "stdout",
     "output_type": "stream",
     "text": [
      "120\n"
     ]
    }
   ],
   "source": [
    "def exec_code():\n",
    "    LOC = \"\"\"\n",
    "def factorial(num):\n",
    "    fact = 1\n",
    "    for i in range(1 , num+1):\n",
    "        fact = fact * i\n",
    "    return fact\n",
    "print(factorial(5))\n",
    "\"\"\"\n",
    "    exec(LOC)\n",
    "exec_code()"
   ]
  },
  {
   "cell_type": "code",
   "execution_count": 38,
   "id": "d1da7224-9f1d-4502-bae3-96051c2fa4ca",
   "metadata": {},
   "outputs": [
    {
     "name": "stdout",
     "output_type": "stream",
     "text": [
      "1\n"
     ]
    }
   ],
   "source": [
    "def exec_code():\n",
    "    LOC = \"\"\"\n",
    "def factorial(num):\n",
    "    fact = 1\n",
    "    for i in range(1 , num+1):\n",
    "        fact = fact * 1\n",
    "    return fact\n",
    "print(factorial(5))\n",
    "\"\"\"\n",
    "    exec(LOC)\n",
    "exec_code()"
   ]
  },
  {
   "cell_type": "code",
   "execution_count": 39,
   "id": "a270f315-3f6d-46bc-bc4b-6c995b02c273",
   "metadata": {},
   "outputs": [
    {
     "name": "stdout",
     "output_type": "stream",
     "text": [
      "16\n"
     ]
    }
   ],
   "source": [
    "def exec_code():\n",
    "    LOC = \"\"\"\n",
    "def factorial(num):\n",
    "    fact = 1\n",
    "    for i in range(1 , num+1):\n",
    "        fact = fact + i\n",
    "    return fact\n",
    "print(factorial(5))\n",
    "\"\"\"\n",
    "    exec(LOC)\n",
    "exec_code()"
   ]
  },
  {
   "cell_type": "code",
   "execution_count": 40,
   "id": "512669cc-48a4-4548-9115-73e7b2ff35e6",
   "metadata": {},
   "outputs": [
    {
     "name": "stdout",
     "output_type": "stream",
     "text": [
      "Left Rotation :  eksforGeeksGe\n",
      "Right Rotation :  ksGeeksforGee\n"
     ]
    }
   ],
   "source": [
    "# String slicing in Python to rotate a stringGiven a string of size n,\n",
    "# write functions to perform following operations on string.\n",
    "# Left (Or anticlockwise) rotate the given string by d elements (where d <= n).\n",
    "# Right (Or clockwise) rotate the given string by d elements (where d <= n).\n",
    "\n",
    "# Function to rotate string left and right by d length \n",
    "def rotate(input,d):\n",
    "    Lfirst = input[0 : d]\n",
    "    Lsecond = input[d : ]\n",
    "    Rfirst  = input[0 : len(input)-d]\n",
    "    Rsecond = input[len(input)-d : ]\n",
    "    \n",
    "    print (\"Left Rotation : \", (Lsecond + Lfirst) )\n",
    "    print (\"Right Rotation : \", (Rsecond + Rfirst)) \n",
    "\n",
    "input = 'GeeksforGeeks'\n",
    "d=2\n",
    "rotate(input,d) "
   ]
  },
  {
   "cell_type": "code",
   "execution_count": 41,
   "id": "2310ec65-7be4-4e43-a203-424bd3c6a4b1",
   "metadata": {},
   "outputs": [
    {
     "name": "stdout",
     "output_type": "stream",
     "text": [
      "true\n"
     ]
    }
   ],
   "source": [
    "# String slicing in Python to check if a string can become empty by recursive deletion\n",
    "def checkEmpty(input, pattern):\n",
    "    if len(input) == 0 and len(pattern) == 0:\n",
    "        return 'true'\n",
    "    if len(pattern) == 0:\n",
    "        return 'true'\n",
    "    while(len(input) != 0):\n",
    "        index = input.find(pattern)\n",
    "        if (index ==(-1)):\n",
    "            return 'false'\n",
    "        input = input[0:index] + input[index + len(pattern):]\n",
    "    return 'true'\n",
    "input = \"GEEGEEKSKS\"\n",
    "pattern = \"GEEKS\"\n",
    "print(checkEmpty(input,pattern))"
   ]
  },
  {
   "cell_type": "code",
   "execution_count": 42,
   "id": "c52e24c3-14f0-4565-b8f1-bb33a93f7a73",
   "metadata": {},
   "outputs": [
    {
     "ename": "IndentationError",
     "evalue": "expected an indented block (<ipython-input-42-7a784dc571c0>, line 18)",
     "output_type": "error",
     "traceback": [
      "\u001b[1;36m  File \u001b[1;32m\"<ipython-input-42-7a784dc571c0>\"\u001b[1;36m, line \u001b[1;32m18\u001b[0m\n\u001b[1;33m    return 'false'\u001b[0m\n\u001b[1;37m    ^\u001b[0m\n\u001b[1;31mIndentationError\u001b[0m\u001b[1;31m:\u001b[0m expected an indented block\n"
     ]
    }
   ],
   "source": [
    "def checkEmpty(input, pattern):\n",
    "\t\t\n",
    "\t# If both are empty\n",
    "\tif len(input)== 0 and len(pattern)== 0:\n",
    "\t\treturn 'true'\n",
    "\t\n",
    "\t# If only pattern is empty\n",
    "\tif len(pattern)== 0:\n",
    "\t\treturn 'true'\n",
    "\t\n",
    "\twhile (len(input) != 0):\n",
    "\n",
    "\t\t# find sub-string in main string\n",
    "\t\tindex = input.find(pattern)\n",
    "\n",
    "\t\t# check if sub-string founded or not\n",
    "\t\tif (index ==(-1)):\n",
    "\t\treturn 'false'\n",
    "\n",
    "\t\t# slice input string in two parts and concatenate\n",
    "\t\tinput = input[0:index] + input[index + len(pattern):]\t\t\t\n",
    "\n",
    "\treturn 'true'\n",
    "\t\n",
    "# Driver program\n",
    "if __name__ == \"__main__\":\n",
    "\tinput ='GEEGEEKSKS'\n",
    "\tpattern ='GEEKS'\n",
    "print (checkEmpty(input, pattern))\n"
   ]
  },
  {
   "cell_type": "code",
   "execution_count": 43,
   "id": "21f91c0b-8a60-4679-81ce-1227d3c8ee5b",
   "metadata": {},
   "outputs": [
    {
     "name": "stdout",
     "output_type": "stream",
     "text": [
      "['l']\n"
     ]
    }
   ],
   "source": [
    "# Python – Find all duplicate characters in string\n",
    "from collections import Counter\n",
    "def find_duplicate(x):\n",
    "    elements = Counter(x)\n",
    "    return [k for k, v in elements.items() if v>1]\n",
    "print(find_duplicate(\"hello\"))"
   ]
  },
  {
   "cell_type": "code",
   "execution_count": 44,
   "id": "fb60dd93-5d93-43f0-868e-926d9bebda88",
   "metadata": {},
   "outputs": [
    {
     "name": "stdout",
     "output_type": "stream",
     "text": [
      "['l']\n"
     ]
    }
   ],
   "source": [
    "def find_duplicates(x):\n",
    "    elements = {}\n",
    "    for char in x:\n",
    "        if elements.get(char,None) != None:\n",
    "            elements[char]+=1\n",
    "        else:\n",
    "            elements[char] = 1\n",
    "    return [k for k,v in elements.items() if v>1]\n",
    "print(find_duplicates(\"hello\"))"
   ]
  },
  {
   "cell_type": "code",
   "execution_count": 45,
   "id": "35059065-954a-413f-96d2-f983ad767847",
   "metadata": {},
   "outputs": [
    {
     "name": "stdout",
     "output_type": "stream",
     "text": [
      "['r', 'a', 'n', 'e', 'y', 'd']\n"
     ]
    }
   ],
   "source": [
    "def find_duplicates(x):\n",
    "    elements = {}\n",
    "    for char in x:\n",
    "        if elements.get(char,None) != None:\n",
    "            elements[char]+=1\n",
    "        else:\n",
    "            elements[char] = 1\n",
    "    return [k for k,v in elements.items() if v>1]\n",
    "print(find_duplicates(\"ramanajaneya reddy\"))"
   ]
  },
  {
   "cell_type": "code",
   "execution_count": 46,
   "id": "9771d7c5-a052-4ae8-860c-2eba7faa9c79",
   "metadata": {},
   "outputs": [
    {
     "name": "stdout",
     "output_type": "stream",
     "text": [
      "accdsforaccds\n"
     ]
    }
   ],
   "source": [
    "# # Python – Replace all occurrences of a substring in a string\n",
    "# Python3 code to demonstrate working of # Swap Binary substring# Using translate()# initializing string\n",
    "x = \"geeksforgeeks\"\n",
    "temp = str.maketrans(\"geek\", \"abcd\")\n",
    "x = x.translate(temp)\n",
    "print(x)"
   ]
  },
  {
   "cell_type": "code",
   "execution_count": 47,
   "id": "65cd9dc2-8905-4e75-b52b-1fe223f8c3c9",
   "metadata": {},
   "outputs": [
    {
     "name": "stdout",
     "output_type": "stream",
     "text": [
      "The original string is : geeksforgeeks\n"
     ]
    },
    {
     "ename": "TypeError",
     "evalue": "'str' object is not callable",
     "output_type": "error",
     "traceback": [
      "\u001b[1;31m---------------------------------------------------------------------------\u001b[0m",
      "\u001b[1;31mTypeError\u001b[0m                                 Traceback (most recent call last)",
      "\u001b[1;32m<ipython-input-47-afb5b0c406da>\u001b[0m in \u001b[0;36m<module>\u001b[1;34m\u001b[0m\n\u001b[0;32m     10\u001b[0m \u001b[1;33m\u001b[0m\u001b[0m\n\u001b[0;32m     11\u001b[0m \u001b[1;31m# printing result\u001b[0m\u001b[1;33m\u001b[0m\u001b[1;33m\u001b[0m\u001b[1;33m\u001b[0m\u001b[0m\n\u001b[1;32m---> 12\u001b[1;33m \u001b[0mprint\u001b[0m\u001b[1;33m(\u001b[0m\u001b[1;34m\"The string after swap : \"\u001b[0m \u001b[1;33m+\u001b[0m \u001b[0mstr\u001b[0m\u001b[1;33m(\u001b[0m\u001b[0mtest_str\u001b[0m\u001b[1;33m)\u001b[0m\u001b[1;33m)\u001b[0m\u001b[1;33m\u001b[0m\u001b[1;33m\u001b[0m\u001b[0m\n\u001b[0m",
      "\u001b[1;31mTypeError\u001b[0m: 'str' object is not callable"
     ]
    }
   ],
   "source": [
    "test_str = \"geeksforgeeks\"\n",
    "  \n",
    "# printing original string\n",
    "print(\"The original string is : \" + test_str)\n",
    "  \n",
    "# Swap Binary substring\n",
    "# Using translate()\n",
    "temp = str.maketrans(\"geek\", \"abcd\")\n",
    "test_str = test_str.translate(temp)\n",
    "  \n",
    "# printing result \n",
    "print(\"The string after swap : \" + str(test_str)) "
   ]
  },
  {
   "cell_type": "code",
   "execution_count": null,
   "id": "9dbae9c4-bdc6-4304-a65b-c24fd91f31de",
   "metadata": {},
   "outputs": [],
   "source": []
  }
 ],
 "metadata": {
  "kernelspec": {
   "display_name": "Python 3",
   "language": "python",
   "name": "python3"
  },
  "language_info": {
   "codemirror_mode": {
    "name": "ipython",
    "version": 3
   },
   "file_extension": ".py",
   "mimetype": "text/x-python",
   "name": "python",
   "nbconvert_exporter": "python",
   "pygments_lexer": "ipython3",
   "version": "3.8.6"
  }
 },
 "nbformat": 4,
 "nbformat_minor": 5
}
