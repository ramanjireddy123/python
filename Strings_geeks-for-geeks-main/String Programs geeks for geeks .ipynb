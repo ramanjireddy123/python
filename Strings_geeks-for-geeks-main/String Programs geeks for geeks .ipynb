{
 "cells": [
  {
   "cell_type": "code",
   "execution_count": 1,
   "id": "c8909502-d2e0-425a-ba0b-f6cafb145ee3",
   "metadata": {},
   "outputs": [
    {
     "name": "stdout",
     "output_type": "stream",
     "text": [
      "malayalam\n"
     ]
    }
   ],
   "source": [
    "s = \"malayalam\"\n",
    "s == s[::-1]\n",
    "print(s)"
   ]
  },
  {
   "cell_type": "code",
   "execution_count": 2,
   "id": "49f85d88-c9c0-41a5-b723-7447d626d2a0",
   "metadata": {},
   "outputs": [
    {
     "name": "stdout",
     "output_type": "stream",
     "text": [
      "Yes\n"
     ]
    }
   ],
   "source": [
    "def isPalindrome(s):\n",
    "    return s == s[::-1]\n",
    "s = \"malayalam\"\n",
    "ans = isPalindrome(s)\n",
    "if ans:\n",
    "    print(\"Yes\")\n",
    "else:\n",
    "    print(\"No\")  # function which return reverse of a string"
   ]
  },
  {
   "cell_type": "code",
   "execution_count": 3,
   "id": "d24f30c2-21be-496f-818c-b0f1c46a4f9d",
   "metadata": {},
   "outputs": [
    {
     "name": "stdout",
     "output_type": "stream",
     "text": [
      "Yes\n"
     ]
    }
   ],
   "source": [
    "def isPalindrome(str):\n",
    "    for i in range(0, int(len(str)/2)):\n",
    "        if str[i] != str[len(str)-i-1]:\n",
    "            return False\n",
    "        return True\n",
    "s = \"malayalam\"\n",
    "ans = isPalindrome(s)\n",
    "if(ans):\n",
    "    print(\"Yes\")\n",
    "else:\n",
    "    print(\"No\")    #Iterative Method:"
   ]
  },
  {
   "cell_type": "code",
   "execution_count": 4,
   "id": "131e5822-e635-4ba6-8a99-b56775cc3d31",
   "metadata": {},
   "outputs": [
    {
     "name": "stdout",
     "output_type": "stream",
     "text": [
      "Yes\n"
     ]
    }
   ],
   "source": [
    "def isPalindrome(s):\n",
    "    rev = ''.join(reversed(s))\n",
    "    if (s == rev):\n",
    "        return True\n",
    "    return False\n",
    "s = \"malayalam\"\n",
    "ans = isPalindrome(s)\n",
    "if (ans):\n",
    "    print(\"Yes\")\n",
    "else:\n",
    "    print(\"No\")\n",
    "# Method using the inbuilt function to reverse a string:predefined function ‘ ‘.join(reversed(string))    "
   ]
  },
  {
   "cell_type": "code",
   "execution_count": 5,
   "id": "9240f68d-b833-423c-b7e2-919c3504e983",
   "metadata": {},
   "outputs": [
    {
     "name": "stdout",
     "output_type": "stream",
     "text": [
      "Yes\n"
     ]
    }
   ],
   "source": [
    "x = \"malayalam\"\n",
    "w = \"\"\n",
    "for i in x:\n",
    "    w = i + w\n",
    "if (x == w):\n",
    "    print(\"Yes\")\n",
    "else:\n",
    "    print(\"No\")\n",
    "# Method using one extra variable:"
   ]
  },
  {
   "cell_type": "code",
   "execution_count": 6,
   "id": "8df87925-4245-4082-a521-6ff282cc0a0f",
   "metadata": {},
   "outputs": [
    {
     "name": "stdout",
     "output_type": "stream",
     "text": [
      "Yes\n"
     ]
    }
   ],
   "source": [
    "x = \"malayalam\"\n",
    "j = -1\n",
    "flag = 0\n",
    "for i in x:\n",
    "    if i != x[j]:\n",
    "        j = j - 1\n",
    "        flag = 1\n",
    "        break\n",
    "    j = j - 1\n",
    "if flag == 1:\n",
    "    print(\"No\")\n",
    "else:\n",
    "    print(\"Yes\")\n",
    "# Method using flag:"
   ]
  },
  {
   "cell_type": "code",
   "execution_count": 7,
   "id": "08f7222a-6f13-4043-b1c3-afe6b0032024",
   "metadata": {},
   "outputs": [
    {
     "name": "stdout",
     "output_type": "stream",
     "text": [
      "Yes\n"
     ]
    }
   ],
   "source": [
    "def isPalindrome(s):\n",
    "    s = s.lower()\n",
    "    l = len(s)\n",
    "    if l < 2:\n",
    "        return True\n",
    "    elif s[0] == s[l - 1]:\n",
    "        return isPalindrome(s[1:1 - 1])\n",
    "    else:\n",
    "        return False\n",
    "s = \"MalaYaLam\"\n",
    "ans = isPalindrome(s)\n",
    "if ans:\n",
    "    print(\"Yes\")\n",
    "else:\n",
    "    print(\"No\")\n",
    "# Method using recursion:   "
   ]
  },
  {
   "cell_type": "code",
   "execution_count": 8,
   "id": "defdeffd-acfe-4756-a2b8-6cfede607047",
   "metadata": {},
   "outputs": [
    {
     "name": "stdout",
     "output_type": "stream",
     "text": [
      "The entered string is palindrome\n",
      "The entered string is symmetrical\n"
     ]
    }
   ],
   "source": [
    "# Python program to check whether the string is Symmetrical or Palindrome\n",
    "def palindrome(a):\n",
    "    mid = (len(a)-1)//2\n",
    "    start = 0\n",
    "    last = len(a)-1\n",
    "    flag = 0\n",
    "    \n",
    "    while(start<mid):\n",
    "        \n",
    "        if (a[start] == a[last]):\n",
    "            \n",
    "            start += 1\n",
    "            last -= 1\n",
    "            \n",
    "        else:\n",
    "            falg = 1\n",
    "            break;\n",
    "   \n",
    "    if flag == 0:\n",
    "         print(\"The entered string is palindrome\")\n",
    "    else:\n",
    "        print(\"The entered string is not palindrome\")\n",
    "\n",
    "def symmetry(a):\n",
    "    \n",
    "    n = len(a)\n",
    "    flag = 0\n",
    "    \n",
    "    if n % 2:\n",
    "        mid = n//2 + 1\n",
    "    else:\n",
    "        mid = n//2\n",
    "    \n",
    "    start1 = 0\n",
    "    start2 = mid\n",
    "    \n",
    "    while(start1 < mid and start2 < n):\n",
    "        if(a[start1] == a[start2]):\n",
    "            start1 = start1 + 1\n",
    "            start2 = start2 + 1\n",
    "        else:\n",
    "            flag = 1\n",
    "            break\n",
    "        \n",
    "    if flag == 0:\n",
    "        print(\"The entered string is symmetrical\")\n",
    "    else:\n",
    "        print(\"The entered string is not symmetrical\")\n",
    "          \n",
    "# Driver code\n",
    "string = 'amaama'\n",
    "palindrome(string)\n",
    "symmetry(string)"
   ]
  },
  {
   "cell_type": "code",
   "execution_count": 9,
   "id": "561c8f91-1e65-489f-a850-139e402d9a1d",
   "metadata": {},
   "outputs": [
    {
     "name": "stdout",
     "output_type": "stream",
     "text": [
      "reddy is name my\n"
     ]
    }
   ],
   "source": [
    "# Reverse words in a given String in Python\n",
    "def rev_sentence(sentence):\n",
    "    x = sentence.split(' ')\n",
    "    reverse_sentence = ' '.join(reversed(x))\n",
    "    return reverse_sentence\n",
    "if __name__ == \"__main__\": \n",
    "    input = 'my name is reddy'\n",
    "    print (rev_sentence(input))"
   ]
  },
  {
   "cell_type": "code",
   "execution_count": 10,
   "id": "c30ebf7f-768e-4cc5-abe6-852b3b9438cb",
   "metadata": {},
   "outputs": [
    {
     "name": "stdout",
     "output_type": "stream",
     "text": [
      "reddy is name my\n"
     ]
    }
   ],
   "source": [
    "def rev_sentence(sentence):\n",
    "    x = sentence.split(' ')\n",
    "    reverse_sentence = ' '.join(reversed(x))\n",
    "    return reverse_sentence\n",
    "x = \"my name is reddy\"\n",
    "print(rev_sentence(x))"
   ]
  },
  {
   "cell_type": "code",
   "execution_count": 11,
   "id": "d157afdb-b3be-48cc-8971-6203777b9deb",
   "metadata": {},
   "outputs": [
    {
     "name": "stdout",
     "output_type": "stream",
     "text": [
      "The original string is : GeeksForGeeks\n",
      "The string after removal of i'th character : GeksForGeeks\n"
     ]
    }
   ],
   "source": [
    "x = \"GeeksForGeeks\"\n",
    "  \n",
    "# Printing original string \n",
    "print (\"The original string is : \" + x)\n",
    "  \n",
    "# Removing char at pos 3\n",
    "# using loop\n",
    "c = \"\"\n",
    "  \n",
    "for i in range(len(x)):\n",
    "    if i != 2:\n",
    "        c = c + x[i]\n",
    "\n",
    "print (\"The string after removal of i'th character : \" + c)\n",
    "# to remove i’th character from string in Python Naive Method"
   ]
  },
  {
   "cell_type": "code",
   "execution_count": 12,
   "id": "f11579b5-5617-4680-9fb6-46fa2bdacb1d",
   "metadata": {},
   "outputs": [
    {
     "name": "stdout",
     "output_type": "stream",
     "text": [
      "ram is my good name\n",
      "ra is y good nae\n",
      "ram i my good name\n"
     ]
    }
   ],
   "source": [
    "x = \"ram is my good name\"\n",
    "print(x)\n",
    "y = x.replace('m', '')\n",
    "print(y)\n",
    "y = x.replace('s', '', 1)\n",
    "print(y) \n",
    "# by using replace module"
   ]
  },
  {
   "cell_type": "code",
   "execution_count": 13,
   "id": "1ab5b874-3a55-4978-b048-0eb781d83c85",
   "metadata": {},
   "outputs": [
    {
     "name": "stdout",
     "output_type": "stream",
     "text": [
      "greeks for greeks\n",
      "greks for greeks\n"
     ]
    }
   ],
   "source": [
    "x = \"greeks for greeks\"\n",
    "print(x)\n",
    "y = x[:2] + x[3:]\n",
    "print(y)"
   ]
  },
  {
   "cell_type": "code",
   "execution_count": 14,
   "id": "d502d6af-2b51-41f2-b2a8-900813e5159a",
   "metadata": {},
   "outputs": [
    {
     "name": "stdout",
     "output_type": "stream",
     "text": [
      "greeks for greeks\n",
      "greks for greeks\n"
     ]
    }
   ],
   "source": [
    "x = \"greeks for greeks\"\n",
    "print(x)\n",
    "y = ''.join([x[i] for i in range(len(x)) if i != 2])\n",
    "print(y)\n",
    "#  by using join "
   ]
  },
  {
   "cell_type": "code",
   "execution_count": 15,
   "id": "052b5111-6850-4773-9bf4-bcb0cc46ec69",
   "metadata": {},
   "outputs": [
    {
     "name": "stdout",
     "output_type": "stream",
     "text": [
      "YES\n"
     ]
    }
   ],
   "source": [
    "def check(string, sub_str):\n",
    "    if (string.find(sub_str) == -1):\n",
    "        print(\"NO\")\n",
    "    else:\n",
    "        print(\"YES\")\n",
    "string= 'geeks for geeks'\n",
    "sub_str = \"geek\"\n",
    "check(string, sub_str)\n",
    "#  by using  check, find"
   ]
  },
  {
   "cell_type": "code",
   "execution_count": 16,
   "id": "bf1d03a8-2e1d-4b9d-9e06-86f6bd59704f",
   "metadata": {},
   "outputs": [
    {
     "name": "stdout",
     "output_type": "stream",
     "text": [
      "NO\n"
     ]
    }
   ],
   "source": [
    "def check(string, sub_str):\n",
    "    if (string.find(sub_str) == -1):\n",
    "        print(\"NO\")\n",
    "    else:\n",
    "        print(\"YES\")\n",
    "string= 'greeks for greeks'\n",
    "sub_str = \"geek\"\n",
    "check(string, sub_str)"
   ]
  },
  {
   "cell_type": "code",
   "execution_count": 17,
   "id": "a98f2aed-75c8-4d0b-acbb-449c1ebf375a",
   "metadata": {},
   "outputs": [
    {
     "name": "stdout",
     "output_type": "stream",
     "text": [
      "YES\n"
     ]
    }
   ],
   "source": [
    "def check(s2, s1):\n",
    "    if (s2.count(s1)>0):\n",
    "        print(\"YES\")\n",
    "    else:\n",
    "        print(\"NO\")\n",
    "s2 = \"geeks for geeks\"\n",
    "s1 = \"geek\"\n",
    "check(s2, s1)\n",
    "#  by using  check,count"
   ]
  },
  {
   "cell_type": "code",
   "execution_count": 18,
   "id": "4f58be25-e7af-4bbd-a100-35bf0c2d32a1",
   "metadata": {},
   "outputs": [
    {
     "name": "stdout",
     "output_type": "stream",
     "text": [
      "YES,string 'geeks' is present in string 'A geeks for geeks' \n"
     ]
    }
   ],
   "source": [
    "import re\n",
    "s1 = \"A geeks for geeks\"\n",
    "s2 = \"geeks\"\n",
    "if re.search(s2 , s1):\n",
    "    print(\"YES,string '{0}' is present in string '{1}' \" .format(s2, s1))\n",
    "else:\n",
    "    print(\"NO,string '{0}' is present in string '{1}' \" .format(s2, s1)) \n",
    "# ny using regular expressions import as re regEX"
   ]
  },
  {
   "cell_type": "code",
   "execution_count": 19,
   "id": "a85335fb-ca3b-4190-9632-ea6549c1d145",
   "metadata": {},
   "outputs": [
    {
     "name": "stdout",
     "output_type": "stream",
     "text": [
      "Gfg is best . Geeks are good and Geeks like Gfg\n",
      "{'Gfg': 2, 'is': 1, 'best': 1, '.': 1, 'Geeks': 2, 'are': 1, 'good': 1, 'and': 1, 'like': 1}\n"
     ]
    }
   ],
   "source": [
    "# Words Frequency in String Shorthands               Using dictionary comprehension + count() + split()\n",
    "x = 'Gfg is best . Geeks are good and Geeks like Gfg'\n",
    "print(str(x))\n",
    "res = {key : x.count(key) for key in x.split()}\n",
    "print(str(res))\n"
   ]
  },
  {
   "cell_type": "code",
   "execution_count": 20,
   "id": "0ae70c96-16d7-41e7-bdf7-941ab0af2f17",
   "metadata": {},
   "outputs": [
    {
     "name": "stdout",
     "output_type": "stream",
     "text": [
      "Gfg is best . Geeks are good and Geeks like Gfg\n",
      "{'Gfg': 2, 'is': 1, 'best': 1, '.': 1, 'Geeks': 2, 'are': 1, 'good': 1, 'and': 1, 'like': 1}\n"
     ]
    }
   ],
   "source": [
    "#  Using Counter() + split()\n",
    "from collections import Counter\n",
    "x = 'Gfg is best . Geeks are good and Geeks like Gfg'\n",
    "print(str(x))\n",
    "res = Counter(x.split())\n",
    "print(str(dict(res)))"
   ]
  },
  {
   "cell_type": "code",
   "execution_count": 21,
   "id": "511a50cd-5894-4979-a2db-d38c9e69ae2a",
   "metadata": {},
   "outputs": [
    {
     "name": "stdout",
     "output_type": "stream",
     "text": [
      "GeeksforgeeksIsBest\n"
     ]
    }
   ],
   "source": [
    "# Convert Snake case to Pascal case            Using title() + replace\n",
    "x = 'geeksforgeeks_is_best'\n",
    "res = x.replace(\"_\", \" \").title().replace(\" \", \"\")\n",
    "print(str(res))"
   ]
  },
  {
   "cell_type": "code",
   "execution_count": 22,
   "id": "f6d207c9-3a60-414f-957c-7a0d9d512903",
   "metadata": {},
   "outputs": [
    {
     "name": "stdout",
     "output_type": "stream",
     "text": [
      "geeksforgeeksisbest\n"
     ]
    }
   ],
   "source": [
    "x = 'geeksforgeeks_is_best'\n",
    "res = x.replace(\"_\", \"\")\n",
    "print(str(res))"
   ]
  },
  {
   "cell_type": "code",
   "execution_count": 23,
   "id": "1ea8c062-b762-42b0-bf28-fac5e38c86bd",
   "metadata": {},
   "outputs": [
    {
     "name": "stdout",
     "output_type": "stream",
     "text": [
      "geeksforgeeks is best\n"
     ]
    }
   ],
   "source": [
    "x = 'geeksforgeeks_is_best'\n",
    "res = x.replace(\"_\", \" \")\n",
    "print(str(res))"
   ]
  },
  {
   "cell_type": "code",
   "execution_count": 24,
   "id": "e5e9ecf1-6c61-4366-a840-27c026fdc96b",
   "metadata": {},
   "outputs": [
    {
     "name": "stdout",
     "output_type": "stream",
     "text": [
      "Geeksforgeeksisbest\n"
     ]
    }
   ],
   "source": [
    "# Using capwords()\n",
    "import string\n",
    "x = 'geeksforgeeks_is_best'\n",
    "res = string.capwords(x.replace(\"_\", \" \").replace(\" \", \"\"))\n",
    "print(str(res))"
   ]
  },
  {
   "cell_type": "code",
   "execution_count": 25,
   "id": "eab5ae31-e26d-46d6-83d3-a3517ce627be",
   "metadata": {},
   "outputs": [
    {
     "name": "stdout",
     "output_type": "stream",
     "text": [
      "GeeksforgeeksIsBest\n"
     ]
    }
   ],
   "source": [
    "import string \n",
    "x = 'geeksforgeeks_is_best'\n",
    "res = string.capwords(x.replace(\"_\", \" \")).replace(\" \", \"\")\n",
    "print(str(res)) "
   ]
  },
  {
   "cell_type": "code",
   "execution_count": 26,
   "id": "c6ee8288-9e7b-46c5-8927-6da78858a7f3",
   "metadata": {},
   "outputs": [
    {
     "name": "stdout",
     "output_type": "stream",
     "text": [
      "5\n"
     ]
    }
   ],
   "source": [
    "x = \"reddy\"\n",
    "print(len(x))"
   ]
  },
  {
   "cell_type": "code",
   "execution_count": 27,
   "id": "10ca6590-7403-493e-afb2-cba9b15205fe",
   "metadata": {},
   "outputs": [
    {
     "name": "stdout",
     "output_type": "stream",
     "text": [
      "5\n"
     ]
    }
   ],
   "source": [
    "def findlen(x):\n",
    "    counter = 0\n",
    "    for i in x:\n",
    "        counter += 1\n",
    "    return counter                      #Using for loop and in operator.\n",
    "x = \"reddy\"\n",
    "print(findlen(x))"
   ]
  },
  {
   "cell_type": "code",
   "execution_count": 28,
   "id": "8d6da897-123a-45c4-a24c-5d3b9c82220b",
   "metadata": {},
   "outputs": [
    {
     "name": "stdout",
     "output_type": "stream",
     "text": [
      "5\n"
     ]
    }
   ],
   "source": [
    "# Using while loop and Slicing.\n",
    "def findlen(x):\n",
    "    counter = 0\n",
    "    while x[counter:]:\n",
    "        counter += 1\n",
    "    return counter\n",
    "x = \"reddy\"\n",
    "print(findlen(x))"
   ]
  },
  {
   "cell_type": "code",
   "execution_count": 29,
   "id": "09860ddc-b91e-41ad-9fc7-74a607125b9f",
   "metadata": {},
   "outputs": [
    {
     "name": "stdout",
     "output_type": "stream",
     "text": [
      "7\n"
     ]
    }
   ],
   "source": [
    "# Using string methods join and count.\n",
    "def findlen(x):\n",
    "    if not str:\n",
    "        return 0\n",
    "    else:\n",
    "        y = ''\n",
    "        return((y).join(x)).count(y) + 1\n",
    "x = \"reddy\"\n",
    "print(findlen(x))"
   ]
  },
  {
   "cell_type": "code",
   "execution_count": 30,
   "id": "542e40bb-143d-4130-8895-c3e9235e2ca4",
   "metadata": {},
   "outputs": [
    {
     "name": "stdout",
     "output_type": "stream",
     "text": [
      "5\n"
     ]
    }
   ],
   "source": [
    "def findlen(x):\n",
    "    if not str:\n",
    "        return 0\n",
    "    else:\n",
    "        y = 't'\n",
    "        return((y).join(x)).count(y) + 1\n",
    "x = \"reddy\"\n",
    "print(findlen(x))"
   ]
  },
  {
   "cell_type": "code",
   "execution_count": 31,
   "id": "48a3e7f1-0060-4616-8c62-2f48ee5cd970",
   "metadata": {},
   "outputs": [
    {
     "name": "stdout",
     "output_type": "stream",
     "text": [
      "am\n",
      "only\n",
      "in\n",
      "my\n"
     ]
    }
   ],
   "source": [
    "# Python program to print even length words in a string\n",
    "def printWords(x):\n",
    "    x = x.split(' ')\n",
    "    for word in x:\n",
    "        if len(word)%2 == 0:\n",
    "            print(word)\n",
    "x = \"i am the only son in my house\"\n",
    "printWords(x)\n",
    "        "
   ]
  },
  {
   "cell_type": "code",
   "execution_count": 32,
   "id": "77932dd8-e071-4320-acb8-2e5da3a97529",
   "metadata": {},
   "outputs": [
    {
     "name": "stdout",
     "output_type": "stream",
     "text": [
      "am\n",
      "only\n",
      "in\n",
      "my\n",
      "None\n"
     ]
    }
   ],
   "source": [
    "def printWords(x):\n",
    "    x = x.split(' ')\n",
    "    for word in x:\n",
    "        if len(word)%2 == 0:\n",
    "            print(word)\n",
    "x = \"i am the only son in my house\"\n",
    "print(printWords(x))\n",
    "        "
   ]
  },
  {
   "cell_type": "code",
   "execution_count": 33,
   "id": "6428abf4-6990-4a71-aa32-3ff4f87c85ee",
   "metadata": {},
   "outputs": [
    {
     "name": "stdout",
     "output_type": "stream",
     "text": [
      "i\n",
      "the\n",
      "son\n",
      "house\n"
     ]
    }
   ],
   "source": [
    "# Python program to print odd length words in a string\n",
    "def printWords(x):\n",
    "    x = x.split(' ')\n",
    "    for word in x:\n",
    "        if len(word)%2 != 0:\n",
    "            print(word)\n",
    "x = \"i am the only son in my house\"\n",
    "printWords(x)"
   ]
  },
  {
   "cell_type": "code",
   "execution_count": 34,
   "id": "5cebf452-7b19-46fe-8934-ef6fe93fa1f9",
   "metadata": {},
   "outputs": [
    {
     "name": "stdout",
     "output_type": "stream",
     "text": [
      "Not Accepted\n",
      "Not Accepted\n",
      "Not Accepted\n",
      "Not Accepted\n",
      "Not Accepted\n",
      "Not Accepted\n",
      "Not Accepted\n",
      "Accepted\n",
      "Accepted\n"
     ]
    }
   ],
   "source": [
    "# Python | Program to accept the strings which contains all vowels\n",
    "def check(string) :\n",
    "    string = string.lower()\n",
    "    vowels = set(\"aeiou\")\n",
    "    s = set({})\n",
    "    for char in string:\n",
    "        if char in vowels :\n",
    "            s.add(char)\n",
    "        else:\n",
    "            pass\n",
    "        if len(s) == len(vowels) :\n",
    "            print(\"Accepted\")\n",
    "        else:\n",
    "            print(\"Not Accepted\")\n",
    "if __name__ == \"__main__\" :\n",
    "    string = \"SEEquoiaL\"\n",
    "    check(string)\n"
   ]
  },
  {
   "cell_type": "code",
   "execution_count": 35,
   "id": "d3105471-4b80-4235-a5cf-e13c45252b82",
   "metadata": {},
   "outputs": [
    {
     "name": "stdout",
     "output_type": "stream",
     "text": [
      "Accepted\n"
     ]
    }
   ],
   "source": [
    "def check(string) :\n",
    "\tstring = string.lower()\n",
    "\tvowels = set(\"aeiou\")\n",
    "\ts = set({})\n",
    "\tfor char in string:\n",
    "\t\tif char in vowels :\n",
    "\t\t\ts.add(char)\n",
    "\t\telse:\n",
    "\t\t\tpass\n",
    "\tif len(s) == len(vowels) :\n",
    "\t\tprint(\"Accepted\")\n",
    "\telse :\n",
    "\t\tprint(\"Not Accepted\")\n",
    "if __name__ == \"__main__\" :\t\n",
    "\tstring = \"SEEquoiaL\"\n",
    "\tcheck(string)\n"
   ]
  },
  {
   "cell_type": "code",
   "execution_count": 36,
   "id": "82fb44b5-4e2f-4e0f-be2e-cec2c27fb436",
   "metadata": {},
   "outputs": [
    {
     "name": "stdout",
     "output_type": "stream",
     "text": [
      "Accepted\n"
     ]
    }
   ],
   "source": [
    "def check(string) :\n",
    "\tstring = string.lower()\n",
    "\tvowels = set(\"aeiou\")\n",
    "\ts = set({})\n",
    "\tfor char in string:\n",
    "\t\tif char in vowels :\n",
    "\t\t\ts.add(char)\n",
    "\t\telse:\n",
    "\t\t\tpass\n",
    "\tif len(s) == len(vowels) :\n",
    "\t\tprint(\"Accepted\")\n",
    "\telse :\n",
    "\t\tprint(\"Not Accepted\")\n",
    "\n",
    "string = \"SEEquoiaL\"\n",
    "check(string)"
   ]
  },
  {
   "cell_type": "code",
   "execution_count": 37,
   "id": "685bcb41-18cb-4c74-90bc-09d63807cdbe",
   "metadata": {},
   "outputs": [
    {
     "name": "stdout",
     "output_type": "stream",
     "text": [
      "accepted\n"
     ]
    }
   ],
   "source": [
    "def check(string):\n",
    "    string = string.replace(' ', '')\n",
    "    string = string.lower()\n",
    "    vowel = [string.count('a'), string.count('e'), string.count('i'), string.count('o'), string.count('u')]\n",
    "    if vowel.count(0) > 0:\n",
    "        return ('not accepted')\n",
    "    else:\n",
    "        return('accepted')\n",
    "if __name__ == \"__main__\":\n",
    "\n",
    "\tstring = \"SEEquoiaL\"\n",
    "\n",
    "\tprint(check(string))\n"
   ]
  },
  {
   "cell_type": "code",
   "execution_count": 38,
   "id": "a2ca44ab-7960-4576-a994-f58d91a5379a",
   "metadata": {},
   "outputs": [
    {
     "name": "stdout",
     "output_type": "stream",
     "text": [
      "accepted\n"
     ]
    }
   ],
   "source": [
    "def check(string):\n",
    "\tstring = string.replace(' ', '')\n",
    "\tstring = string.lower()\n",
    "\tvowel = [string.count('a'), string.count('e'), string.count('i'), string.count('o'), string.count('u')]\n",
    "\tif vowel.count(0) > 0:\n",
    "\t\treturn('not accepted')\n",
    "\telse:\n",
    "\t\treturn('accepted')\n",
    "string = \"SEEquoiaL\"\n",
    "print(check(string))\n"
   ]
  },
  {
   "cell_type": "code",
   "execution_count": 39,
   "id": "75530389-8284-4590-9919-b601312ce942",
   "metadata": {},
   "outputs": [
    {
     "name": "stdout",
     "output_type": "stream",
     "text": [
      "accepted\n"
     ]
    }
   ],
   "source": [
    "def check(string):\n",
    "    if len(set(string.lower()).intersection(\"aeiou\")) >= 5:\n",
    "        return ('accepted')\n",
    "    else:\n",
    "        return (\"not accepted\")\n",
    "if __name__ == \"__main__\":\n",
    "\n",
    "\tstring = \"SEEquoiaL\"\n",
    "\n",
    "\tprint(check(string))"
   ]
  },
  {
   "cell_type": "code",
   "execution_count": 40,
   "id": "4da37c15-c34b-4560-98bc-e05f3f2f440c",
   "metadata": {},
   "outputs": [
    {
     "name": "stdout",
     "output_type": "stream",
     "text": [
      "accepted\n"
     ]
    }
   ],
   "source": [
    "def check(string):\n",
    "    if len(set(string.lower()).intersection(\"aeiou\")) >= 5:\n",
    "        return ('accepted')\n",
    "    else:\n",
    "        return (\"not accepted\")\n",
    "string = \"SEEquoiaL\"\n",
    "print(check(string))\n"
   ]
  },
  {
   "cell_type": "code",
   "execution_count": 41,
   "id": "32d9b182-576d-479d-be99-e9da23db02d9",
   "metadata": {},
   "outputs": [
    {
     "name": "stdout",
     "output_type": "stream",
     "text": [
      "not accepted\n"
     ]
    }
   ],
   "source": [
    "def check(string):\n",
    "\tif len(set(string.lower()).intersection(\"aeiou\")) >= 5:\n",
    "\t\treturn ('accepted')\n",
    "\telse:\n",
    "\t\treturn (\"not accepted\")\n",
    "if __name__ == \"__main__\":\n",
    "\tstring = \"geeksforgeeks\"\n",
    "\tprint(check(string))\n"
   ]
  },
  {
   "cell_type": "code",
   "execution_count": 42,
   "id": "800d29d8-6fdf-4341-b894-7b59e647c6fc",
   "metadata": {},
   "outputs": [
    {
     "name": "stdout",
     "output_type": "stream",
     "text": [
      "not accepted\n"
     ]
    }
   ],
   "source": [
    "def check(string):\n",
    "\tif len(set(string.lower()).intersection(\"aeiou\")) >= 5:\n",
    "\t\treturn ('accepted')\n",
    "\telse:\n",
    "\t\treturn (\"not accepted\")\n",
    "string = \"geeksforgeeks\"\n",
    "print(check(string))"
   ]
  },
  {
   "cell_type": "code",
   "execution_count": 43,
   "id": "3d000efc-9f22-477f-9cb3-28b1cbfc249f",
   "metadata": {},
   "outputs": [
    {
     "name": "stdout",
     "output_type": "stream",
     "text": [
      "5\n"
     ]
    }
   ],
   "source": [
    "# Python | Count the Number of matching characters in a pair of string\n",
    "def count(x, y):\n",
    "    c, j = 0, 0\n",
    "    for i in x:\n",
    "        if y.find(i)>=0 and j == x.find(i):\n",
    "            c +=1\n",
    "        j += 1\n",
    "    print(c)\n",
    "\n",
    "def main():\n",
    "    x = 'aabcddek1112@'\n",
    "    y = 'bb2211@55k'\n",
    "    count(x, y)\n",
    "if __name__==\"__main__\":\n",
    "    main()     "
   ]
  },
  {
   "cell_type": "code",
   "execution_count": 44,
   "id": "11558195-ab34-422e-a1e9-de6521f394ae",
   "metadata": {},
   "outputs": [
    {
     "name": "stdout",
     "output_type": "stream",
     "text": [
      "5\n"
     ]
    }
   ],
   "source": [
    "def count(x, y):\n",
    "    c, j = 0, 0\n",
    "    for i in x:\n",
    "        if y.find(i)>=0 and j == x.find(i):\n",
    "            c +=1\n",
    "        j += 1\n",
    "    print(c)\n",
    "\n",
    "def main():\n",
    "    x = 'aabcddek1112@'\n",
    "    y = 'bb2211@55k'\n",
    "    count(x, y)\n",
    "main()\n"
   ]
  },
  {
   "cell_type": "code",
   "execution_count": 45,
   "id": "8206100c-f629-4bde-aeae-0654127207da",
   "metadata": {},
   "outputs": [
    {
     "name": "stdout",
     "output_type": "stream",
     "text": [
      "4\n",
      "None\n"
     ]
    }
   ],
   "source": [
    "def count(x, y):\n",
    "    c, j = 0, 0\n",
    "    for i in x:\n",
    "        if y.find(i)>=0 and j == x.find(i):\n",
    "            c +=1\n",
    "        j += 1\n",
    "    print(c)\n",
    "\n",
    "def main():\n",
    "    x = 'aabcddek1112@'\n",
    "    y = 'bb2211@55k'\n",
    "    count(x, y)\n",
    "print(count(x, y))"
   ]
  },
  {
   "cell_type": "code",
   "execution_count": 46,
   "id": "f314ec67-dd67-44e5-b940-1cb1a22967ed",
   "metadata": {},
   "outputs": [
    {
     "name": "stdout",
     "output_type": "stream",
     "text": [
      "4\n"
     ]
    }
   ],
   "source": [
    "def count(x, y):\n",
    "    c, j = 0, 0\n",
    "    for i in x:\n",
    "        if y.find(i)>=0 and j == x.find(i):\n",
    "            c +=1\n",
    "        j += 1\n",
    "    print(c)\n",
    "\n",
    "def main():\n",
    "    x = 'aabcddek1112@'\n",
    "    y = 'bb2211@55k'\n",
    "    count(x, y)\n",
    "count(x, y)\n",
    "# For this, use string.find(character) in python."
   ]
  },
  {
   "cell_type": "code",
   "execution_count": 47,
   "id": "8b1a2919-950e-4767-bfef-bf4c0f9a93a3",
   "metadata": {},
   "outputs": [
    {
     "name": "stdout",
     "output_type": "stream",
     "text": [
      "5\n"
     ]
    }
   ],
   "source": [
    "def count(x, y):\n",
    "    a = set(x)\n",
    "    b = set(y)\n",
    "    r = a & b\n",
    "    print(str(len(r)))\n",
    "x = 'aabcddekll12@'\n",
    "y = 'bb2211@55k' \n",
    "count(x, y)\n",
    "\n",
    "\n",
    "# In this approach set() is used to remove duplicate on a given string.\n",
    "# 2.After that concept of set(intersection) is used on given string.\n",
    "# 3.After that we find a length using len() method."
   ]
  },
  {
   "cell_type": "code",
   "execution_count": 48,
   "id": "116c5434-1440-45a6-b065-0697c887a7bc",
   "metadata": {},
   "outputs": [
    {
     "name": "stdout",
     "output_type": "stream",
     "text": [
      "5\n"
     ]
    }
   ],
   "source": [
    "import re\n",
    "x = \"reddy\"\n",
    "y = \"ramanjaneya reddy\"\n",
    "c = 0\n",
    "for i in x:\n",
    "    if re.search(i, y):\n",
    "        c +=1\n",
    "print(c)"
   ]
  },
  {
   "cell_type": "code",
   "execution_count": 49,
   "id": "f64aec6f-9040-40fa-a607-0a0c02197689",
   "metadata": {},
   "outputs": [
    {
     "name": "stdout",
     "output_type": "stream",
     "text": [
      "Without Order =  osfekrg\n",
      "With Order =  geksfor\n"
     ]
    }
   ],
   "source": [
    "# Remove all duplicates from a given string in Python\n",
    "from collections import OrderedDict \n",
    "def removeDupWithoutOrder(x):\n",
    "    return \"\".join(set(x))\n",
    "def removeDupWithOrder(x):\n",
    "    return \"\".join(OrderedDict.fromkeys(x))\n",
    "if __name__ == \"__main__\": \n",
    "    x = \"geeksforgeeks\"\n",
    "    print (\"Without Order = \",removeDupWithoutOrder(x)) \n",
    "    print (\"With Order = \",removeDupWithOrder(x)) "
   ]
  },
  {
   "cell_type": "code",
   "execution_count": 50,
   "id": "c8eb861f-62f1-4b93-a311-24b14e0baee1",
   "metadata": {},
   "outputs": [
    {
     "name": "stdout",
     "output_type": "stream",
     "text": [
      "Without Order =  osfekrg\n",
      "With Order =  geksfor\n"
     ]
    }
   ],
   "source": [
    "from collections import OrderedDict \n",
    "def removeDupWithoutOrderr(x):\n",
    "    return \"\".join(set(x))\n",
    "def removeDupWithOrderr(x):\n",
    "    return \"\".join(OrderedDict.fromkeys(x))\n",
    "x = \"geeksforgeeks\"\n",
    "print (\"Without Order = \",removeDupWithoutOrder(x)) \n",
    "print (\"With Order = \",removeDupWithOrder(x)) "
   ]
  },
  {
   "cell_type": "code",
   "execution_count": null,
   "id": "cf182300-b4e6-4aea-8795-0dedf476659e",
   "metadata": {},
   "outputs": [],
   "source": []
  }
 ],
 "metadata": {
  "kernelspec": {
   "display_name": "Python 3",
   "language": "python",
   "name": "python3"
  },
  "language_info": {
   "codemirror_mode": {
    "name": "ipython",
    "version": 3
   },
   "file_extension": ".py",
   "mimetype": "text/x-python",
   "name": "python",
   "nbconvert_exporter": "python",
   "pygments_lexer": "ipython3",
   "version": "3.8.6"
  }
 },
 "nbformat": 4,
 "nbformat_minor": 5
}
