{
 "cells": [
  {
   "cell_type": "code",
   "execution_count": 1,
   "id": "69fc6cb8-ed01-4fdb-b53b-7cedfec9deb7",
   "metadata": {},
   "outputs": [
    {
     "name": "stdout",
     "output_type": "stream",
     "text": [
      "17\n"
     ]
    }
   ],
   "source": [
    "def string_length(str1):\n",
    "    count = 0\n",
    "    for char in str1:\n",
    "        count += 1\n",
    "    return count\n",
    "print(string_length('ramanjaneya reddy'))\n"
   ]
  },
  {
   "cell_type": "code",
   "execution_count": 2,
   "id": "8c6e96e1-ef12-4eb6-bd64-57ed75e6f6dc",
   "metadata": {},
   "outputs": [
    {
     "name": "stdout",
     "output_type": "stream",
     "text": [
      "{'g': 2, 'o': 3, 'l': 1, 'e': 1, '.': 1, 'c': 1, 'm': 1}\n"
     ]
    }
   ],
   "source": [
    "def char_frequency(str1):\n",
    "    dict = {}\n",
    "    for n in str1:\n",
    "        keys = dict.keys()\n",
    "        if n in keys:\n",
    "            dict[n] += 1\n",
    "        else:\n",
    "            dict[n] = 1\n",
    "    return dict\n",
    "print(char_frequency('google.com'))"
   ]
  },
  {
   "cell_type": "code",
   "execution_count": 3,
   "id": "045cf9cb-91f1-4fcd-91aa-f8462ec37b36",
   "metadata": {},
   "outputs": [
    {
     "name": "stdout",
     "output_type": "stream",
     "text": [
      "w3ce\n"
     ]
    }
   ],
   "source": [
    "def string_both_ends(str):\n",
    "  if len(str) < 2:\n",
    "    return ''\n",
    "\n",
    "  return str[0:2] + str[-2:]\n",
    "\n",
    "print(string_both_ends('w3resource'))"
   ]
  },
  {
   "cell_type": "code",
   "execution_count": 4,
   "id": "672e10a9-9226-49e3-b089-e7b103ebbfcb",
   "metadata": {},
   "outputs": [
    {
     "name": "stdout",
     "output_type": "stream",
     "text": [
      "w3ce\n",
      "w3w3\n"
     ]
    }
   ],
   "source": [
    "def string_both_ends(str):\n",
    "  if len(str) < 2:\n",
    "    return ''\n",
    "\n",
    "  return str[0:2] + str[-2:]\n",
    "\n",
    "print(string_both_ends('w3resource'))\n",
    "print(string_both_ends('w3'))"
   ]
  },
  {
   "cell_type": "code",
   "execution_count": 5,
   "id": "4cd15353-fac3-44c8-8691-aad1013b502d",
   "metadata": {},
   "outputs": [
    {
     "name": "stdout",
     "output_type": "stream",
     "text": [
      "resta$t\n"
     ]
    }
   ],
   "source": [
    "def change_char(str1):\n",
    "  char = str1[0]\n",
    "  str1 = str1.replace(char, '$')\n",
    "  str1 = char + str1[1:]\n",
    "  return str1\n",
    "print(change_char('restart'))\n"
   ]
  },
  {
   "cell_type": "code",
   "execution_count": 10,
   "id": "b8967f6e-a5df-4e90-b6b4-69ade8be7c95",
   "metadata": {},
   "outputs": [
    {
     "name": "stdout",
     "output_type": "stream",
     "text": [
      "xyc abz\n"
     ]
    }
   ],
   "source": [
    "def chars_mix_up(a, b):\n",
    "  new_a = b[:2] + a[2:]\n",
    "  new_b = a[:2] + b[2:]\n",
    "  return new_a + ' ' + new_b\n",
    "print(chars_mix_up('abc', 'xyz'))\n"
   ]
  },
  {
   "cell_type": "code",
   "execution_count": 11,
   "id": "e5d4dbdc-2f96-4433-b860-2733b2be4614",
   "metadata": {},
   "outputs": [
    {
     "name": "stdout",
     "output_type": "stream",
     "text": [
      "ab\n",
      "abcing\n",
      "stringly\n"
     ]
    }
   ],
   "source": [
    "def add_string(str1):\n",
    "  length = len(str1)\n",
    "  if length > 2:\n",
    "    if str1[-3:] == 'ing':\n",
    "      str1 += 'ly'\n",
    "    else:\n",
    "      str1 += 'ing'\n",
    "  return str1\n",
    "print(add_string('ab'))\n",
    "print(add_string('abc'))\n",
    "print(add_string('string'))\n"
   ]
  },
  {
   "cell_type": "code",
   "execution_count": 12,
   "id": "af1fde8a-951c-4567-a07e-9f2f9ad35b1d",
   "metadata": {},
   "outputs": [
    {
     "name": "stdout",
     "output_type": "stream",
     "text": [
      "The lyrics is good!\n",
      "The lyrics is poor!\n"
     ]
    }
   ],
   "source": [
    "def not_poor(str1):\n",
    "  snot = str1.find('not')\n",
    "  spoor = str1.find('poor')\n",
    "  if spoor > snot and snot>0 and spoor>0:\n",
    "    str1 = str1.replace(str1[snot:(spoor+4)], 'good')\n",
    "    return str1\n",
    "  else:\n",
    "    return str1\n",
    "print(not_poor('The lyrics is not that poor!'))\n",
    "print(not_poor('The lyrics is poor!'))\n"
   ]
  },
  {
   "cell_type": "code",
   "execution_count": 13,
   "id": "ee9739ec-dd64-4843-b9a1-9d26f610b259",
   "metadata": {
    "tags": []
   },
   "outputs": [
    {
     "name": "stdout",
     "output_type": "stream",
     "text": [
      "\n",
      "Longest word:  Exercises\n",
      "Length of the longest word:  9\n"
     ]
    }
   ],
   "source": [
    "def find_longest_word(words_list):\n",
    "    word_len = []\n",
    "    for n in words_list:\n",
    "        word_len.append((len(n), n))\n",
    "    word_len.sort()\n",
    "    return word_len[-1][0], word_len[-1][1]\n",
    "result = find_longest_word([\"PHP\", \"Exercises\", \"Backend\"])\n",
    "print(\"\\nLongest word: \",result[1])\n",
    "print(\"Length of the longest word: \",result[0])\n"
   ]
  },
  {
   "cell_type": "code",
   "execution_count": 14,
   "id": "f7e00be6-fc28-4b19-a00e-8bdb3b9d71ff",
   "metadata": {},
   "outputs": [
    {
     "name": "stdout",
     "output_type": "stream",
     "text": [
      "ython\n",
      "Pyton\n",
      "Pytho\n"
     ]
    }
   ],
   "source": [
    "def remove_char(str, n):\n",
    "      first_part = str[:n] \n",
    "      last_part = str[n+1:]\n",
    "      return first_part + last_part\n",
    "print(remove_char('Python', 0))\n",
    "print(remove_char('Python', 3))\n",
    "print(remove_char('Python', 5))\n"
   ]
  },
  {
   "cell_type": "code",
   "execution_count": 15,
   "id": "68ea3e86-66a7-446a-91fe-18e8e657e0e2",
   "metadata": {},
   "outputs": [
    {
     "name": "stdout",
     "output_type": "stream",
     "text": [
      "dbca\n",
      "52341\n"
     ]
    }
   ],
   "source": [
    "def change_sring(str1):\n",
    "      return str1[-1:] + str1[1:-1] + str1[:1]\n",
    "\t  \n",
    "print(change_sring('abcd'))\n",
    "print(change_sring('12345'))\n"
   ]
  },
  {
   "cell_type": "code",
   "execution_count": 16,
   "id": "c2257d9f-18b6-4121-8721-03f58f98e732",
   "metadata": {},
   "outputs": [
    {
     "name": "stdout",
     "output_type": "stream",
     "text": [
      "ace\n",
      "pto\n"
     ]
    }
   ],
   "source": [
    "def odd_values_string(str):\n",
    "  result = \"\" \n",
    "  for i in range(len(str)):\n",
    "    if i % 2 == 0:\n",
    "      result = result + str[i]\n",
    "  return result\n",
    "\n",
    "print(odd_values_string('abcdef'))\n",
    "print(odd_values_string('python'))\n"
   ]
  },
  {
   "cell_type": "code",
   "execution_count": 17,
   "id": "51d0bff5-50f2-455c-988c-feca80507cef",
   "metadata": {},
   "outputs": [
    {
     "name": "stdout",
     "output_type": "stream",
     "text": [
      "{'the': 2, 'quick': 1, 'brown': 1, 'fox': 1, 'jumps': 1, 'over': 1, 'lazy': 1, 'dog.': 1}\n"
     ]
    }
   ],
   "source": [
    "def word_count(str):\n",
    "    counts = dict()\n",
    "    words = str.split()\n",
    "\n",
    "    for word in words:\n",
    "        if word in counts:\n",
    "            counts[word] += 1\n",
    "        else:\n",
    "            counts[word] = 1\n",
    "\n",
    "    return counts\n",
    "\n",
    "print( word_count('the quick brown fox jumps over the lazy dog.'))\n"
   ]
  },
  {
   "cell_type": "code",
   "execution_count": 18,
   "id": "43ea6f5c-ba3f-44a0-850b-4442cdefe9bb",
   "metadata": {},
   "outputs": [
    {
     "name": "stdin",
     "output_type": "stream",
     "text": [
      "What's your favourite language?  english\n"
     ]
    },
    {
     "name": "stdout",
     "output_type": "stream",
     "text": [
      "My favourite language is  ENGLISH\n",
      "My favourite language is  english\n"
     ]
    }
   ],
   "source": [
    "user_input = input(\"What's your favourite language? \")\n",
    "print(\"My favourite language is \", user_input.upper())\n",
    "print(\"My favourite language is \", user_input.lower())\n"
   ]
  },
  {
   "cell_type": "code",
   "execution_count": 21,
   "id": "c39048bb-4389-4c3e-8dfc-d064aab2c2ce",
   "metadata": {},
   "outputs": [
    {
     "name": "stdin",
     "output_type": "stream",
     "text": [
      "Input comma separated sequence of words white, black, red, green, black\n"
     ]
    },
    {
     "name": "stdout",
     "output_type": "stream",
     "text": [
      " black, green, red,white\n"
     ]
    }
   ],
   "source": [
    "items = input(\"Input comma separated sequence of words\")\n",
    "words = [word for word in items.split(\",\")]\n",
    "print(\",\".join(sorted(list(set(words)))))\n"
   ]
  },
  {
   "cell_type": "code",
   "execution_count": 22,
   "id": "e7427537-e8a7-48ee-8490-368acd242453",
   "metadata": {},
   "outputs": [
    {
     "name": "stdout",
     "output_type": "stream",
     "text": [
      "<i>Python</i>\n",
      "<b>Python Tutorial</b>\n"
     ]
    }
   ],
   "source": [
    "def add_tags(tag, word):\n",
    "\treturn \"<%s>%s</%s>\" % (tag, word, tag)\n",
    "print(add_tags('i', 'Python'))\n",
    "print(add_tags('b', 'Python Tutorial'))\n"
   ]
  },
  {
   "cell_type": "code",
   "execution_count": 23,
   "id": "2f107de6-0fab-4858-b304-e2d39be07737",
   "metadata": {},
   "outputs": [
    {
     "name": "stdout",
     "output_type": "stream",
     "text": [
      "[[Python]]\n",
      "{{PHP}}\n",
      "<<HTML>>\n"
     ]
    }
   ],
   "source": [
    "def insert_sting_middle(str, word):\n",
    "\treturn str[:2] + word + str[2:]\n",
    "\n",
    "print(insert_sting_middle('[[]]', 'Python'))\n",
    "print(insert_sting_middle('{{}}', 'PHP'))\n",
    "print(insert_sting_middle('<<>>', 'HTML'))\n"
   ]
  },
  {
   "cell_type": "code",
   "execution_count": 24,
   "id": "8ab21c3a-b9a6-4148-9fc8-fcbd1005298d",
   "metadata": {},
   "outputs": [
    {
     "name": "stdout",
     "output_type": "stream",
     "text": [
      "onononon\n",
      "eseseses\n"
     ]
    }
   ],
   "source": [
    "def insert_end(str):\n",
    "\tsub_str = str[-2:]\n",
    "\treturn sub_str * 4\n",
    "\n",
    "print(insert_end('Python'))\n",
    "print(insert_end('Exercises'))\n"
   ]
  },
  {
   "cell_type": "code",
   "execution_count": 25,
   "id": "aa1b4fa3-eebe-4820-bd5d-b5e13be8d836",
   "metadata": {},
   "outputs": [
    {
     "name": "stdout",
     "output_type": "stream",
     "text": [
      "ipy\n",
      "pyt\n",
      "py\n"
     ]
    }
   ],
   "source": [
    "def first_three(str):\n",
    "\treturn str[:3] if len(str) > 3 else str\n",
    "\n",
    "print(first_three('ipy'))\n",
    "print(first_three('python'))\n",
    "print(first_three('py'))\n"
   ]
  },
  {
   "cell_type": "code",
   "execution_count": 26,
   "id": "444302fc-486c-4474-be48-2667050e09f2",
   "metadata": {},
   "outputs": [
    {
     "name": "stdout",
     "output_type": "stream",
     "text": [
      "https://www.w3resource.com/python-exercises\n",
      "https://www.w3resource.com/python\n"
     ]
    }
   ],
   "source": [
    "str1 = 'https://www.w3resource.com/python-exercises/string'\n",
    "print(str1.rsplit('/', 1)[0])\n",
    "print(str1.rsplit('-', 1)[0])\n"
   ]
  },
  {
   "cell_type": "code",
   "execution_count": 27,
   "id": "f9a5d8c4-f482-4806-800e-92e4f2956a05",
   "metadata": {},
   "outputs": [
    {
     "name": "stdout",
     "output_type": "stream",
     "text": [
      "dcba\n",
      "python\n"
     ]
    }
   ],
   "source": [
    "def reverse_string(str1):\n",
    "    if len(str1) % 4 == 0:\n",
    "       return ''.join(reversed(str1))\n",
    "    return str1\n",
    "\n",
    "print(reverse_string('abcd'))\n",
    "print(reverse_string('python'))\n"
   ]
  },
  {
   "cell_type": "code",
   "execution_count": 28,
   "id": "0c455f78-fc24-4c43-8be1-783eddd82531",
   "metadata": {},
   "outputs": [
    {
     "name": "stdout",
     "output_type": "stream",
     "text": [
      "Python\n",
      "PYTHON\n"
     ]
    }
   ],
   "source": [
    "def to_uppercase(str1):\n",
    "    num_upper = 0\n",
    "    for letter in str1[:4]: \n",
    "        if letter.upper() == letter:\n",
    "            num_upper += 1\n",
    "    if num_upper >= 2:\n",
    "        return str1.upper()\n",
    "    return str1\n",
    "\n",
    "print(to_uppercase('Python'))\n",
    "print(to_uppercase('PyThon'))\n"
   ]
  },
  {
   "cell_type": "code",
   "execution_count": 29,
   "id": "28af508d-b8a2-4b5e-a5e3-2207a1c6ffbc",
   "metadata": {},
   "outputs": [
    {
     "name": "stdout",
     "output_type": "stream",
     "text": [
      "['3', 'c', 'e', 'e', 'o', 'r', 'r', 's', 'u', 'w']\n",
      "['b', 'c', 'i', 'k', 'n', 'o', 'q', 'r', 'u', 'w']\n"
     ]
    }
   ],
   "source": [
    "#need to clarify with ranjan\n",
    "def lexicographi_sort(s):\n",
    "    return sorted(sorted(s), key=str.upper)\n",
    "\n",
    "print(lexicographi_sort('w3resource'))\n",
    "print(lexicographi_sort('quickbrown'))\n"
   ]
  },
  {
   "cell_type": "code",
   "execution_count": 30,
   "id": "57832afc-b43e-4f0b-b899-dd763a00c3de",
   "metadata": {},
   "outputs": [
    {
     "name": "stdout",
     "output_type": "stream",
     "text": [
      "Python Exercises\n",
      "\n",
      "Python Exercises\n"
     ]
    }
   ],
   "source": [
    "str1='Python Exercises\\n'\n",
    "print(str1)\n",
    "print(str1.rstrip())\n"
   ]
  },
  {
   "cell_type": "code",
   "execution_count": 31,
   "id": "9b46ed48-6983-4512-ab1a-3ec45cbda82d",
   "metadata": {},
   "outputs": [
    {
     "name": "stdout",
     "output_type": "stream",
     "text": [
      "True\n"
     ]
    }
   ],
   "source": [
    "string = \"w3resource.com\"\n",
    "print(string.startswith(\"w3r\"))\n"
   ]
  },
  {
   "cell_type": "code",
   "execution_count": 32,
   "id": "7ef8171a-56b0-421d-889e-541089511f38",
   "metadata": {},
   "outputs": [
    {
     "name": "stdout",
     "output_type": "stream",
     "text": [
      "\n",
      "   Python is a widely used high-level, general-\n",
      "purpose, interpreted,   dynamic programming\n",
      "language. Its design philosophy emphasizes   code\n",
      "readability, and its syntax allows programmers to\n",
      "express   concepts in fewer lines of code than\n",
      "possible in languages such   as C++ or Java.\n",
      "\n"
     ]
    }
   ],
   "source": [
    "import textwrap\n",
    "sample_text = '''\n",
    "  Python is a widely used high-level, general-purpose, interpreted,\n",
    "  dynamic programming language. Its design philosophy emphasizes\n",
    "  code readability, and its syntax allows programmers to express\n",
    "  concepts in fewer lines of code than possible in languages such\n",
    "  as C++ or Java.\n",
    "  '''\n",
    "print()\n",
    "print(textwrap.fill(sample_text, width=50))\n",
    "print()"
   ]
  },
  {
   "cell_type": "code",
   "execution_count": 33,
   "id": "10647ec4-9e38-469c-beec-4ab3f3ea28d1",
   "metadata": {},
   "outputs": [
    {
     "name": "stdout",
     "output_type": "stream",
     "text": [
      "\n",
      "   Python is a widely used high-level, general-purpose, interpreted,   dynamic programming language.\n",
      "Its design philosophy emphasizes   code readability, and its syntax allows programmers to express\n",
      "concepts in fewer lines of code than possible in languages such   as C++ or Java.\n",
      "\n"
     ]
    }
   ],
   "source": [
    "import textwrap\n",
    "sample_text = '''\n",
    "  Python is a widely used high-level, general-purpose, interpreted,\n",
    "  dynamic programming language. Its design philosophy emphasizes\n",
    "  code readability, and its syntax allows programmers to express\n",
    "  concepts in fewer lines of code than possible in languages such\n",
    "  as C++ or Java.\n",
    "  '''\n",
    "print()\n",
    "print(textwrap.fill(sample_text, width=100))\n",
    "print()"
   ]
  },
  {
   "cell_type": "code",
   "execution_count": 34,
   "id": "0e8e4c66-115a-42d6-ad1d-0a600f9ad963",
   "metadata": {},
   "outputs": [
    {
     "name": "stdout",
     "output_type": "stream",
     "text": [
      "\n",
      "\n",
      "Python is a widely used high-level, general-purpose, interpreted,\n",
      "dynamic programming language. Its design philosophy emphasizes\n",
      "code readability, and its syntax allows programmers to express\n",
      "concepts in fewer lines of code than possible in languages such\n",
      "as C++ or Java.\n",
      "\n",
      "\n"
     ]
    }
   ],
   "source": [
    "import textwrap\n",
    "sample_text = '''\n",
    "    Python is a widely used high-level, general-purpose, interpreted,\n",
    "    dynamic programming language. Its design philosophy emphasizes\n",
    "    code readability, and its syntax allows programmers to express\n",
    "    concepts in fewer lines of code than possible in languages such\n",
    "    as C++ or Java.\n",
    "    '''\n",
    "text_without_Indentation = textwrap.dedent(sample_text)\n",
    "print()\n",
    "print(text_without_Indentation )\n",
    "print()\n"
   ]
  },
  {
   "cell_type": "code",
   "execution_count": 35,
   "id": "bb340400-df43-42f8-9ae3-9b5c5520ca0f",
   "metadata": {},
   "outputs": [
    {
     "name": "stdout",
     "output_type": "stream",
     "text": [
      "\n",
      ">  Python is a widely used high-level, general-\n",
      "> purpose, interpreted, dynamic programming\n",
      "> language. Its design philosophy emphasizes code\n",
      "> readability, and its syntax allows programmers to\n",
      "> express concepts in fewer lines of code than\n",
      "> possible in languages such as C++ or Java.\n",
      "\n"
     ]
    }
   ],
   "source": [
    "import textwrap\n",
    "sample_text ='''\n",
    "    Python is a widely used high-level, general-purpose, interpreted,\n",
    "    dynamic programming language. Its design philosophy emphasizes\n",
    "    code readability, and its syntax allows programmers to express\n",
    "    concepts in fewer lines of code than possible in languages such\n",
    "    as C++ or Java.\n",
    "    '''\n",
    "text_without_Indentation = textwrap.dedent(sample_text)\n",
    "wrapped = textwrap.fill(text_without_Indentation, width=50)\n",
    "#wrapped += '\\n\\nSecond paragraph after a blank line.'\n",
    "final_result = textwrap.indent(wrapped, '> ')\n",
    "print()\n",
    "print(final_result)\n",
    "print()\n"
   ]
  },
  {
   "cell_type": "code",
   "execution_count": 36,
   "id": "ec49a9f7-c8b7-4698-bcea-42bb5a9e85b6",
   "metadata": {},
   "outputs": [
    {
     "name": "stdout",
     "output_type": "stream",
     "text": [
      "\n",
      "Python is a widely used high-level, general-purpose, interpreted, dynamic\n",
      "    programming language. Its design philosophy emphasizes code readability, and\n",
      "    its syntax allows programmers to express concepts in fewer lines of code\n",
      "    than possible in languages such as C++ or Java.\n",
      "\n"
     ]
    }
   ],
   "source": [
    "import textwrap\n",
    "sample_text ='''\n",
    "Python is a widely used high-level, general-purpose, interpreted, dynamic\n",
    "programming language. Its design philosophy emphasizes code readability,\n",
    "and its syntax allows programmers to express concepts in fewer lines of\n",
    "code than possible in languages such as C++ or Java.\n",
    "    '''\n",
    "\n",
    "text1 =  textwrap.dedent(sample_text).strip()\n",
    "print()\n",
    "print(textwrap.fill(text1,\n",
    "                    initial_indent='',\n",
    "                    subsequent_indent=' ' * 4,\n",
    "                    width=80,\n",
    "                    ))\n",
    "print()\n"
   ]
  },
  {
   "cell_type": "code",
   "execution_count": 37,
   "id": "802da06b-d0bf-477d-9aed-2b0eb54d0e55",
   "metadata": {},
   "outputs": [
    {
     "name": "stdout",
     "output_type": "stream",
     "text": [
      "\n",
      "Original Number:  3.1415926\n",
      "Formatted Number: 3.14\n",
      "Original Number:  12.9999\n",
      "Formatted Number: 13.00\n",
      "\n"
     ]
    }
   ],
   "source": [
    "x = 3.1415926\n",
    "y = 12.9999\n",
    "print(\"\\nOriginal Number: \", x)\n",
    "print(\"Formatted Number: \"+\"{:.2f}\".format(x));\n",
    "print(\"Original Number: \", y)\n",
    "print(\"Formatted Number: \"+\"{:.2f}\".format(y));\n",
    "print() \n"
   ]
  },
  {
   "cell_type": "code",
   "execution_count": 38,
   "id": "71a64a1f-c632-4511-9988-9bc3e97e6c33",
   "metadata": {},
   "outputs": [
    {
     "name": "stdout",
     "output_type": "stream",
     "text": [
      "\n",
      "Original Number:  3.1415926\n",
      "Formatted Number with sign: +3.14\n",
      "Original Number:  -12.9999\n",
      "Formatted Number with sign: -13.00\n",
      "\n"
     ]
    }
   ],
   "source": [
    "x = 3.1415926\n",
    "y = -12.9999\n",
    "print(\"\\nOriginal Number: \", x)\n",
    "print(\"Formatted Number with sign: \"+\"{:+.2f}\".format(x));\n",
    "print(\"Original Number: \", y)\n",
    "print(\"Formatted Number with sign: \"+\"{:+.2f}\".format(y));\n",
    "print()\n"
   ]
  },
  {
   "cell_type": "code",
   "execution_count": 39,
   "id": "68791ead-138a-4e46-b1e3-14dda9f996a7",
   "metadata": {},
   "outputs": [
    {
     "name": "stdout",
     "output_type": "stream",
     "text": [
      "\n",
      "Original Number:  3.1415926\n",
      "Formatted Number with no decimal places: 3\n",
      "Original Number:  -12.9999\n",
      "Formatted Number with no decimal places: -13\n",
      "\n"
     ]
    }
   ],
   "source": [
    "x = 3.1415926\n",
    "y = -12.9999\n",
    "print(\"\\nOriginal Number: \", x)\n",
    "print(\"Formatted Number with no decimal places: \"+\"{:.0f}\".format(x));\n",
    "print(\"Original Number: \", y)\n",
    "print(\"Formatted Number with no decimal places: \"+\"{:.0f}\".format(y));\n",
    "print()\n"
   ]
  },
  {
   "cell_type": "code",
   "execution_count": 40,
   "id": "74d4d202-75e1-4bf1-adb7-17d02e4a811d",
   "metadata": {},
   "outputs": [
    {
     "name": "stdout",
     "output_type": "stream",
     "text": [
      "\n",
      "Original Number:  3\n",
      "Formatted Number(left padding, width 2): 03\n",
      "Original Number:  123\n",
      "Formatted Number(left padding, width 6): 000123\n",
      "\n"
     ]
    }
   ],
   "source": [
    "x = 3\n",
    "y = 123\n",
    "print(\"\\nOriginal Number: \", x)\n",
    "print(\"Formatted Number(left padding, width 2): \"+\"{:0>2d}\".format(x));\n",
    "print(\"Original Number: \", y)\n",
    "print(\"Formatted Number(left padding, width 6): \"+\"{:0>6d}\".format(y));\n",
    "print()\n"
   ]
  },
  {
   "cell_type": "code",
   "execution_count": 41,
   "id": "a2633d07-e062-496e-963c-378304e08470",
   "metadata": {},
   "outputs": [
    {
     "name": "stdout",
     "output_type": "stream",
     "text": [
      "\n",
      "Original Number:  3\n",
      "Formatted Number(right padding, width 2):  3*\n",
      "Original Number:  123\n",
      "Formatted Number(right padding, width 6):  123***\n",
      "\n"
     ]
    }
   ],
   "source": [
    "x = 3\n",
    "y = 123\n",
    "print(\"\\nOriginal Number: \", x)\n",
    "print(\"Formatted Number(right padding, width 2): \"+\"{:*< 3d}\".format(x));\n",
    "print(\"Original Number: \", y)\n",
    "print(\"Formatted Number(right padding, width 6): \"+\"{:*< 7d}\".format(y));\n",
    "print()\n"
   ]
  },
  {
   "cell_type": "code",
   "execution_count": 42,
   "id": "6eacfe3d-45db-4424-b67e-55fd7bceb377",
   "metadata": {},
   "outputs": [
    {
     "name": "stdout",
     "output_type": "stream",
     "text": [
      "\n",
      "Original Number:  3000000\n",
      "Formatted Number with comma separator: 3,000,000\n",
      "Original Number:  30000000\n",
      "Formatted Number with comma separator: 30,000,000\n",
      "\n"
     ]
    }
   ],
   "source": [
    "x = 3000000\n",
    "y = 30000000\n",
    "print(\"\\nOriginal Number: \", x)\n",
    "print(\"Formatted Number with comma separator: \"+\"{:,}\".format(x));\n",
    "print(\"Original Number: \", y)\n",
    "print(\"Formatted Number with comma separator: \"+\"{:,}\".format(y));\n",
    "print()\n"
   ]
  },
  {
   "cell_type": "code",
   "execution_count": 43,
   "id": "7cb1b374-fab2-415b-9896-2260604d3b05",
   "metadata": {},
   "outputs": [
    {
     "name": "stdout",
     "output_type": "stream",
     "text": [
      "\n",
      "Original Number:  0.25\n",
      "Formatted Number with percentage: 25.00%\n",
      "Original Number:  -0.25\n",
      "Formatted Number with percentage: -25.00%\n",
      "\n"
     ]
    }
   ],
   "source": [
    "x = 0.25\n",
    "y = -0.25\n",
    "print(\"\\nOriginal Number: \", x)\n",
    "print(\"Formatted Number with percentage: \"+\"{:.2%}\".format(x));\n",
    "print(\"Original Number: \", y)\n",
    "print(\"Formatted Number with percentage: \"+\"{:.2%}\".format(y));\n",
    "print()\n"
   ]
  },
  {
   "cell_type": "code",
   "execution_count": 44,
   "id": "e14132dd-0f52-4cde-ace5-2e46fc183b8d",
   "metadata": {},
   "outputs": [
    {
     "name": "stdout",
     "output_type": "stream",
     "text": [
      "\n",
      "Original Number:  22\n",
      "Left aligned (width 10)   : 22       \n",
      "Right aligned (width 10)  :        22\n",
      "Center aligned (width 10) :    22    \n",
      "\n"
     ]
    }
   ],
   "source": [
    "x = 22\n",
    "print(\"\\nOriginal Number: \", x)\n",
    "print(\"Left aligned (width 10)   :\"+\"{:< 10d}\".format(x));\n",
    "print(\"Right aligned (width 10)  :\"+\"{:10d}\".format(x));\n",
    "print(\"Center aligned (width 10) :\"+\"{:^10d}\".format(x));\n",
    "print()\n"
   ]
  },
  {
   "cell_type": "code",
   "execution_count": 45,
   "id": "c285d3b8-3f3d-47ee-9b25-dbf720198a3c",
   "metadata": {},
   "outputs": [
    {
     "name": "stdout",
     "output_type": "stream",
     "text": [
      "\n",
      "1\n",
      "\n"
     ]
    }
   ],
   "source": [
    "str1 = 'The quick brown fox jumps over the lazy dog.'\n",
    "print()\n",
    "print(str1.count(\"fox\"))\n",
    "print()\n"
   ]
  },
  {
   "cell_type": "code",
   "execution_count": 46,
   "id": "5798d513-1b1a-42bf-9b25-454ddaa3cee2",
   "metadata": {},
   "outputs": [
    {
     "name": "stdout",
     "output_type": "stream",
     "text": [
      "\n",
      "fedcba\n",
      ".sesicrexE nohtyP\n",
      "\n"
     ]
    }
   ],
   "source": [
    "def reverse_string(str1):\n",
    "    return ''.join(reversed(str1))\n",
    "print()\n",
    "print(reverse_string(\"abcdef\"))\n",
    "print(reverse_string(\"Python Exercises.\"))\n",
    "print()\n"
   ]
  },
  {
   "cell_type": "code",
   "execution_count": 47,
   "id": "a0aa526f-d7a0-4327-a279-46e68a69b43c",
   "metadata": {},
   "outputs": [
    {
     "name": "stdout",
     "output_type": "stream",
     "text": [
      "dog. lazy the over jumps fox brown quick The\n",
      "Exercises. Python\n"
     ]
    }
   ],
   "source": [
    "def reverse_string_words(text):\n",
    "    for line in text.split('\\n'):\n",
    "        return(' '.join(line.split()[::-1]))\n",
    "print(reverse_string_words(\"The quick brown fox jumps over the lazy dog.\"))\n",
    "print(reverse_string_words(\"Python Exercises.\"))\n"
   ]
  },
  {
   "cell_type": "code",
   "execution_count": 48,
   "id": "99b94595-b777-423e-b62a-50d4714c89c7",
   "metadata": {},
   "outputs": [
    {
     "name": "stdout",
     "output_type": "stream",
     "text": [
      "\n",
      "Original String: \n",
      "The quick brown fox jumps over the lazy dog.\n",
      "After stripping a,e,i,o,u\n",
      "Th qck brwn fx jmps vr th lzy dg.\n",
      "\n"
     ]
    }
   ],
   "source": [
    "def strip_chars(str, chars):\n",
    "    return \"\".join(c for c in str if c not in chars)\n",
    "\n",
    "print(\"\\nOriginal String: \")\n",
    "print(\"The quick brown fox jumps over the lazy dog.\")\n",
    "print(\"After stripping a,e,i,o,u\")      \n",
    "print(strip_chars(\"The quick brown fox jumps over the lazy dog.\", \"aeiou\"))\n",
    "print()\n"
   ]
  },
  {
   "cell_type": "code",
   "execution_count": 49,
   "id": "56f2bbec-0cbf-40f2-bcb1-5d23c016a36c",
   "metadata": {},
   "outputs": [
    {
     "name": "stdout",
     "output_type": "stream",
     "text": [
      "o 4\n",
      "e 3\n",
      "t 2\n",
      "h 2\n",
      "u 2\n",
      "r 2\n"
     ]
    }
   ],
   "source": [
    "import collections\n",
    "str1 = 'thequickbrownfoxjumpsoverthelazydog'\n",
    "d = collections.defaultdict(int)\n",
    "for c in str1:\n",
    "    d[c] += 1\n",
    "\n",
    "for c in sorted(d, key=d.get, reverse=True):\n",
    "  if d[c] > 1:\n",
    "      print('%s %d' % (c, d[c]))\n"
   ]
  },
  {
   "cell_type": "code",
   "execution_count": 50,
   "id": "c1537195-2a59-4baf-b101-7c4f0e99d64a",
   "metadata": {},
   "outputs": [
    {
     "name": "stdout",
     "output_type": "stream",
     "text": [
      "The area of the rectangle is 1256.66cm²\n",
      "The volume of the cylinder is 1254.725cm³\n"
     ]
    }
   ],
   "source": [
    "area = 1256.66\n",
    "volume = 1254.725\n",
    "decimals = 2\n",
    "print(\"The area of the rectangle is {0:.{1}f}cm\\u00b2\".format(area, decimals))\n",
    "decimals = 3\n",
    "print(\"The volume of the cylinder is {0:.{1}f}cm\\u00b3\".format(volume, decimals))\n"
   ]
  },
  {
   "cell_type": "code",
   "execution_count": 51,
   "id": "f0e50bcb-b6a3-4212-8b54-cbcbf92b8161",
   "metadata": {},
   "outputs": [
    {
     "name": "stdout",
     "output_type": "stream",
     "text": [
      "Current character w position at 0\n",
      "Current character 3 position at 1\n",
      "Current character r position at 2\n",
      "Current character e position at 3\n",
      "Current character s position at 4\n",
      "Current character o position at 5\n",
      "Current character u position at 6\n",
      "Current character r position at 7\n",
      "Current character c position at 8\n",
      "Current character e position at 9\n"
     ]
    }
   ],
   "source": [
    "str1 = \"w3resource\"\n",
    "for index, char in enumerate(str1):\n",
    "    print(\"Current character\", char, \"position at\", index )\n"
   ]
  },
  {
   "cell_type": "code",
   "execution_count": 52,
   "id": "f21cef38-e450-49f5-bea2-961694f25d96",
   "metadata": {},
   "outputs": [
    {
     "name": "stdout",
     "output_type": "stream",
     "text": [
      "True\n",
      "False\n"
     ]
    }
   ],
   "source": [
    "import string\n",
    "alphabet = set(string.ascii_lowercase)\n",
    "input_string = 'The quick brown fox jumps over the lazy dog'\n",
    "print(set(input_string.lower()) >= alphabet)\n",
    "input_string = 'The quick brown fox jumps over the lazy cat'\n",
    "print(set(input_string.lower()) >= alphabet)\n"
   ]
  },
  {
   "cell_type": "code",
   "execution_count": 53,
   "id": "4646816b-074e-46b2-997e-f0dbf51294f3",
   "metadata": {},
   "outputs": [
    {
     "name": "stdout",
     "output_type": "stream",
     "text": [
      "['The', 'quick', 'brown', 'fox', 'jumps', 'over', 'the', 'lazy', 'dog.']\n",
      "['The', 'quick', 'brown', 'fox', 'jumps', 'over', 'the', 'lazy', 'dog.']\n"
     ]
    }
   ],
   "source": [
    "str1 = \"The quick brown fox jumps over the lazy dog.\"\n",
    "print(str1.split(' '))\n",
    "str1 = \"The-quick-brown-fox-jumps-over-the-lazy-dog.\"\n",
    "print(str1.split('-'))\n"
   ]
  },
  {
   "cell_type": "code",
   "execution_count": 54,
   "id": "47e91170-3494-4035-b969-2cb52384f43e",
   "metadata": {},
   "outputs": [
    {
     "name": "stdout",
     "output_type": "stream",
     "text": [
      "w3reSOURCE.COM\n"
     ]
    }
   ],
   "source": [
    "str1 = 'W3RESOURCE.COM'\n",
    "print(str1[:4].lower() + str1[4:])\n"
   ]
  },
  {
   "cell_type": "code",
   "execution_count": 55,
   "id": "22e914f6-57d1-4da7-9856-c9242dd111c7",
   "metadata": {},
   "outputs": [
    {
     "name": "stdout",
     "output_type": "stream",
     "text": [
      "32,054.23\n"
     ]
    }
   ],
   "source": [
    "amount = \"32.054,23\"\n",
    "maketrans = amount.maketrans\n",
    "amount = amount.translate(maketrans(',.', '.,'))\n",
    "print(amount)\n"
   ]
  },
  {
   "cell_type": "code",
   "execution_count": 56,
   "id": "f6b1e74b-8e7a-47b7-af9c-013f1cd903f5",
   "metadata": {},
   "outputs": [
    {
     "name": "stdout",
     "output_type": "stream",
     "text": [
      "4\n",
      "['e', 'o', 'u', 'e']\n"
     ]
    }
   ],
   "source": [
    "def vowel(text):\n",
    "    vowels = \"aeiuoAEIOU\"\n",
    "    print(len([letter for letter in text if letter in vowels]))\n",
    "    print([letter for letter in text if letter in vowels])\n",
    "vowel('w3resource');\n"
   ]
  },
  {
   "cell_type": "code",
   "execution_count": 57,
   "id": "b9f57359-64f5-4435-bf9c-7b9b27ac3da1",
   "metadata": {},
   "outputs": [
    {
     "name": "stdout",
     "output_type": "stream",
     "text": [
      "['w,3,r,e,s,o,u,r,c', 'e']\n",
      "['w,3,r,e,s,o,u,r', 'c', 'e']\n",
      "['w,3,r,e,s', 'o', 'u', 'r', 'c', 'e']\n"
     ]
    }
   ],
   "source": [
    "str1 = \"w,3,r,e,s,o,u,r,c,e\"\n",
    "print(str1.rsplit(',', 1))\n",
    "print(str1.rsplit(',', 2))\n",
    "print(str1.rsplit(',', 5))\n"
   ]
  },
  {
   "cell_type": "code",
   "execution_count": 1,
   "id": "ab9459f3-5611-497f-b79d-0d4ffb8951f2",
   "metadata": {},
   "outputs": [
    {
     "name": "stdout",
     "output_type": "stream",
     "text": [
      "a\n",
      "d\n",
      "None\n"
     ]
    }
   ],
   "source": [
    "def first_non_repeating_character(str1):\n",
    "  char_order = []\n",
    "  ctr = {}\n",
    "  for c in str1:\n",
    "    if c in ctr:\n",
    "      ctr[c] += 1\n",
    "    else:\n",
    "      ctr[c] = 1 \n",
    "      char_order.append(c)\n",
    "  for c in char_order:\n",
    "    if ctr[c] == 1:\n",
    "      return c\n",
    "  return None\n",
    "\n",
    "print(first_non_repeating_character('abcdef'))\n",
    "print(first_non_repeating_character('abcabcdef'))\n",
    "print(first_non_repeating_character('aabbcc'))\n"
   ]
  },
  {
   "cell_type": "code",
   "execution_count": 3,
   "id": "b0db2aef-cdd4-49e7-964f-07136791cd7d",
   "metadata": {},
   "outputs": [
    {
     "name": "stdout",
     "output_type": "stream",
     "text": [
      "[('x', 'x', 'x'), ('x', 'x', 'y'), ('x', 'x', 'z'), ('x', 'y', 'x'), ('x', 'y', 'y'), ('x', 'y', 'z'), ('x', 'z', 'x'), ('x', 'z', 'y'), ('x', 'z', 'z'), ('y', 'x', 'x'), ('y', 'x', 'y'), ('y', 'x', 'z'), ('y', 'y', 'x'), ('y', 'y', 'y'), ('y', 'y', 'z'), ('y', 'z', 'x'), ('y', 'z', 'y'), ('y', 'z', 'z'), ('z', 'x', 'x'), ('z', 'x', 'y'), ('z', 'x', 'z'), ('z', 'y', 'x'), ('z', 'y', 'y'), ('z', 'y', 'z'), ('z', 'z', 'x'), ('z', 'z', 'y'), ('z', 'z', 'z')]\n",
      "[('x', 'x'), ('x', 'y'), ('x', 'z'), ('y', 'x'), ('y', 'y'), ('y', 'z'), ('z', 'x'), ('z', 'y'), ('z', 'z')]\n"
     ]
    }
   ],
   "source": [
    "from itertools import product\n",
    "def all_repeat(str1, rno):\n",
    "  chars = list(str1)\n",
    "  results = []\n",
    "  for c in product(chars, repeat = rno):\n",
    "    results.append(c)\n",
    "  return results\n",
    "print(all_repeat('xyz', 3))\n",
    "print(all_repeat('xyz', 2))\n"
   ]
  },
  {
   "cell_type": "code",
   "execution_count": 4,
   "id": "b4f7dfd1-5c24-4d31-850e-dad8b066dce8",
   "metadata": {},
   "outputs": [
    {
     "name": "stdout",
     "output_type": "stream",
     "text": [
      "a\n",
      "None\n"
     ]
    }
   ],
   "source": [
    "def first_repeated_char(str1):\n",
    "  for index,c in enumerate(str1):\n",
    "    if str1[:index+1].count(c) > 1:\n",
    "      return c \n",
    "  return \"None\"\n",
    "\n",
    "print(first_repeated_char(\"abcdabcd\"))\n",
    "print(first_repeated_char(\"abcd\"))\n"
   ]
  },
  {
   "cell_type": "code",
   "execution_count": 6,
   "id": "c2fc0bfc-29d1-4316-b9e1-f3191d030f11",
   "metadata": {},
   "outputs": [
    {
     "name": "stdout",
     "output_type": "stream",
     "text": [
      "('a', 0)\n",
      "('b', 1)\n",
      "('c', 2)\n",
      "('x', 3)\n",
      "None\n"
     ]
    }
   ],
   "source": [
    "def first_repeated_char_smallest_distance(str1):\n",
    "  temp = {}\n",
    "  for ch in str1:\n",
    "    if ch in temp:\n",
    "      return ch, str1.index(ch);\n",
    "    else:\n",
    "      temp[ch] = 0\n",
    "  return 'None'\n",
    "print(first_repeated_char_smallest_distance(\"abcabc\"))\n",
    "print(first_repeated_char_smallest_distance(\"abcb\"))\n",
    "print(first_repeated_char_smallest_distance(\"abcc\"))\n",
    "print(first_repeated_char_smallest_distance(\"abcxxy\"))\n",
    "print(first_repeated_char_smallest_distance(\"abc\"))\n"
   ]
  },
  {
   "cell_type": "code",
   "execution_count": 7,
   "id": "1f6e0395-8116-4271-9755-ccf78be11ae1",
   "metadata": {},
   "outputs": [
    {
     "name": "stdout",
     "output_type": "stream",
     "text": [
      "ab\n",
      "ab\n",
      "ca\n",
      "None\n"
     ]
    }
   ],
   "source": [
    "def first_repeated_word(str1):\n",
    "  temp = set()\n",
    "  for word in str1.split():\n",
    "    if word in temp:\n",
    "      return word;\n",
    "    else:\n",
    "      temp.add(word)\n",
    "  return 'None'\n",
    "print(first_repeated_word(\"ab ca bc ab\"))\n",
    "print(first_repeated_word(\"ab ca bc ab ca ab bc\"))\n",
    "print(first_repeated_word(\"ab ca bc ca ab bc\"))\n",
    "print(first_repeated_word(\"ab ca bc\"))\n"
   ]
  },
  {
   "cell_type": "code",
   "execution_count": 8,
   "id": "41b1af26-a176-498e-8b81-c014fcbafe0d",
   "metadata": {},
   "outputs": [
    {
     "name": "stdout",
     "output_type": "stream",
     "text": [
      "('of', 4)\n"
     ]
    }
   ],
   "source": [
    "def word_count(str):\n",
    "    counts = dict()\n",
    "    words = str.split()\n",
    "\n",
    "    for word in words:\n",
    "        if word in counts:\n",
    "            counts[word] += 1\n",
    "        else:\n",
    "            counts[word] = 1\n",
    "\n",
    "    counts_x = sorted(counts.items(), key=lambda kv: kv[1])\n",
    "    #print(counts_x)\n",
    "    return counts_x[-2]\n",
    " \n",
    "print(word_count(\"Both of these issues are fixed by postponing the evaluation of annotations. Instead of compiling code which executes expressions in annotations at their definition time, the compiler stores the annotation in a string form equivalent to the AST of the expression in question. If needed, annotations can be resolved at runtime using typing.get_type_hints(). In the common case where this is not required, the annotations are cheaper to store (since short strings are interned by the interpreter) and make startup time faster.\"))\n"
   ]
  },
  {
   "cell_type": "code",
   "execution_count": 9,
   "id": "b7f7b37b-c2cb-423b-a85a-5b4d9aff144d",
   "metadata": {},
   "outputs": [
    {
     "name": "stdout",
     "output_type": "stream",
     "text": [
      "w3resource\n",
      "abc\n"
     ]
    }
   ],
   "source": [
    "def remove_spaces(str1):\n",
    "  str1 = str1.replace(' ','')\n",
    "  return str1\n",
    "    \n",
    "print(remove_spaces(\"w 3 res ou r ce\"))\n",
    "print(remove_spaces(\"a b c\"))\n"
   ]
  },
  {
   "cell_type": "code",
   "execution_count": 10,
   "id": "2f26be8e-a7de-4a5c-8c17-12214e5ebd22",
   "metadata": {},
   "outputs": [
    {
     "name": "stdout",
     "output_type": "stream",
     "text": [
      "\"     w3resource.com\"\n",
      "\"     w3resource.com\"\n"
     ]
    }
   ],
   "source": [
    "def move_Spaces_front(str1):\n",
    "  noSpaces_char = [ch for ch in str1 if ch!=' ']\n",
    "  spaces_char = len(str1) - len(noSpaces_char)\n",
    "  result = ' '*spaces_char\n",
    "  result = '\"'+result + ''.join(noSpaces_char)+'\"'\n",
    "  return(result)\n",
    "\n",
    "print(move_Spaces_front(\"w3resource .  com  \"))\n",
    "print(move_Spaces_front(\"   w3resource.com  \"))\n"
   ]
  },
  {
   "cell_type": "code",
   "execution_count": 11,
   "id": "baa7c3c7-194c-41b2-b2a8-cc3d3727927f",
   "metadata": {},
   "outputs": [
    {
     "name": "stdout",
     "output_type": "stream",
     "text": [
      "t\n",
      "b\n"
     ]
    }
   ],
   "source": [
    "def get_max_occuring_char(str1):\n",
    "  ASCII_SIZE = 256\n",
    "  ctr = [0] * ASCII_SIZE\n",
    "  max = -1\n",
    "  ch = ''\n",
    "  for i in str1:\n",
    "    ctr[ord(i)]+=1;\n",
    " \n",
    "  for i in str1:\n",
    "    if max < ctr[ord(i)]:\n",
    "      max = ctr[ord(i)]\n",
    "      ch = i\n",
    "  return ch\n",
    "\n",
    "print(get_max_occuring_char(\"Python: Get file creation and modification date/times\"))\n",
    "print(get_max_occuring_char(\"abcdefghijkb\"))"
   ]
  },
  {
   "cell_type": "code",
   "execution_count": 12,
   "id": "7c200316-4552-4790-abba-09e6f1210780",
   "metadata": {},
   "outputs": [
    {
     "name": "stdout",
     "output_type": "stream",
     "text": [
      "PythoN ExerciseS PracticE SolutioN\n",
      "W3ResourcE\n"
     ]
    }
   ],
   "source": [
    "def capitalize_first_last_letters(str1):\n",
    "     str1 = result = str1.title()\n",
    "     result =  \"\"\n",
    "     for word in str1.split():\n",
    "        result += word[:-1] + word[-1].upper() + \" \"\n",
    "     return result[:-1]  \n",
    "     \n",
    "print(capitalize_first_last_letters(\"python exercises practice solution\"))\n",
    "print(capitalize_first_last_letters(\"w3resource\"))\n"
   ]
  },
  {
   "cell_type": "code",
   "execution_count": 13,
   "id": "8cf8b050-5277-4df9-b5a1-b7c995d5aeef",
   "metadata": {},
   "outputs": [
    {
     "name": "stdout",
     "output_type": "stream",
     "text": [
      "python exrcisalu\n",
      "w3resouc\n"
     ]
    }
   ],
   "source": [
    "from collections import OrderedDict\n",
    "def remove_duplicate(str1):\n",
    "  return \"\".join(OrderedDict.fromkeys(str1))\n",
    "     \n",
    "print(remove_duplicate(\"python exercises practice solution\"))\n",
    "print(remove_duplicate(\"w3resource\"))\n"
   ]
  },
  {
   "cell_type": "code",
   "execution_count": 14,
   "id": "d20d6fa5-0db8-44a9-8fc4-d091914c189d",
   "metadata": {},
   "outputs": [
    {
     "name": "stdout",
     "output_type": "stream",
     "text": [
      "255.24.1.1\n",
      "127.0.0.1\n"
     ]
    }
   ],
   "source": [
    "def remove_zeros_from_ip(ip_add):\n",
    "  new_ip_add = \".\".join([str(int(i)) for i in ip_add.split(\".\")])  \n",
    "  return new_ip_add ;\n",
    "\n",
    "print(remove_zeros_from_ip(\"255.024.01.01\"))\n",
    "print(remove_zeros_from_ip(\"127.0.0.01 \"))\n"
   ]
  },
  {
   "cell_type": "code",
   "execution_count": 15,
   "id": "5845200e-b4ea-479b-a502-58bd36d0c8a0",
   "metadata": {},
   "outputs": [
    {
     "name": "stdout",
     "output_type": "stream",
     "text": [
      "15\n",
      "10\n"
     ]
    }
   ],
   "source": [
    "def sum_digits_string(str1):\n",
    "    sum_digit = 0\n",
    "    for x in str1:\n",
    "        if x.isdigit() == True:\n",
    "            z = int(x)\n",
    "            sum_digit = sum_digit + z\n",
    "\n",
    "    return sum_digit\n",
    "     \n",
    "print(sum_digits_string(\"123abcd45\"))\n",
    "print(sum_digits_string(\"abcd1234\"))\n"
   ]
  },
  {
   "cell_type": "code",
   "execution_count": 16,
   "id": "9f6903ef-b4ef-4777-874c-aae9344dc9a5",
   "metadata": {},
   "outputs": [
    {
     "name": "stdout",
     "output_type": "stream",
     "text": [
      "Original string:111000010000110\n",
      "Maximum length of consecutive 0’s:\n",
      "4\n",
      "Original string:111000111\n",
      "Maximum length of consecutive 0’s:\n",
      "3\n"
     ]
    }
   ],
   "source": [
    "def max_consecutive_0(input_str): \n",
    "     return  max(map(len,input_str.split('1')))\n",
    "str1 = '111000010000110'\n",
    "print(\"Original string:\" + str1)\n",
    "print(\"Maximum length of consecutive 0’s:\")\n",
    "print(max_consecutive_0(str1))\n",
    "str1 = '111000111'\n",
    "print(\"Original string:\" + str1)\n",
    "print(\"Maximum length of consecutive 0’s:\")\n",
    "print(max_consecutive_0(str1))\n"
   ]
  },
  {
   "cell_type": "code",
   "execution_count": 17,
   "id": "5542c35f-258b-467d-a8f8-fc1335ebf6a8",
   "metadata": {},
   "outputs": [
    {
     "name": "stdout",
     "output_type": "stream",
     "text": [
      "Two strings: Python : PHP\n",
      "P\n",
      "Two strings: Java : PHP\n",
      "No common characters.\n"
     ]
    }
   ],
   "source": [
    "from collections import Counter \n",
    "def common_chars(str1,str2): \t\n",
    "\td1 = Counter(str1) \n",
    "\td2 = Counter(str2) \n",
    "\tcommon_dict = d1 & d2 \n",
    "\tif len(common_dict) == 0: \n",
    "\t\treturn \"No common characters.\"\n",
    "\n",
    "\t# list of common elements \n",
    "\tcommon_chars = list(common_dict.elements()) \n",
    "\tcommon_chars = sorted(common_chars) \n",
    "\n",
    "\treturn ''.join(common_chars) \n",
    "\n",
    "str1 = 'Python'\n",
    "str2 = 'PHP'\n",
    "print(\"Two strings: \"+str1+' : '+str2)\n",
    "print(common_chars(str1, str2))\n",
    "str1 = 'Java'\n",
    "str2 = 'PHP'\n",
    "print(\"Two strings: \"+str1+' : '+str2)\n",
    "print(common_chars(str1, str2))\n"
   ]
  },
  {
   "cell_type": "code",
   "execution_count": 18,
   "id": "e626292c-9f7b-4399-b464-6a3d1a48fdfb",
   "metadata": {},
   "outputs": [
    {
     "name": "stdin",
     "output_type": "stream",
     "text": [
      "Input string1:  The quick brown fox\n",
      "Input string2:  jumps over the lazy dog\n"
     ]
    },
    {
     "name": "stdout",
     "output_type": "stream",
     "text": [
      "24\n"
     ]
    }
   ],
   "source": [
    "def make_map(s):\n",
    "    temp_map = {}\n",
    "    for char in s:\n",
    "        if char not in temp_map:\n",
    "            temp_map[char] = 1\n",
    "        else:\n",
    "            temp_map[char] +=1 \n",
    "    return temp_map        \n",
    "def make_anagram(str1, str2):\n",
    "    str1_map1 = make_map(str1)\n",
    "    str2_map2 = make_map(str2)\n",
    " \n",
    "    ctr = 0\n",
    "    for key in str2_map2.keys():\n",
    "        if key not in str1_map1:\n",
    "            ctr += str2_map2[key]\n",
    "        else:\n",
    "            ctr += max(0, str2_map2[key]-str1_map1[key])\n",
    " \n",
    "    for key in str1_map1.keys():\n",
    "        if key not in str2_map2:\n",
    "            ctr += str1_map1[key]\n",
    "        else:\n",
    "            ctr += max(0, str1_map1[key]-str2_map2[key]) \n",
    "    return ctr \n",
    "str1 = input(\"Input string1: \")\n",
    "str2 = input(\"Input string2: \")\n",
    "print(make_anagram(str1, str2))\n"
   ]
  },
  {
   "cell_type": "code",
   "execution_count": 19,
   "id": "52f3c6a6-647a-44ee-be98-d9e99663709a",
   "metadata": {},
   "outputs": [
    {
     "name": "stdout",
     "output_type": "stream",
     "text": [
      "egh\n",
      "abcf\n"
     ]
    }
   ],
   "source": [
    "from collections import Counter  \n",
    "def generateStrings(input): \n",
    "     str_char_ctr = Counter(input) \n",
    "     part1 = [ key for (key,count) in str_char_ctr.items() if count==1] \n",
    "     part2 = [ key for (key,count) in str_char_ctr.items() if count>1] \n",
    "     part1.sort() \n",
    "     part2.sort()\n",
    "     return part1,part2\n",
    "input = \"aabbcceffgh\"\n",
    "s1, s2 = generateStrings(input)\n",
    "print(''.join(s1))   \n",
    "print(''.join(s2))\n"
   ]
  },
  {
   "cell_type": "code",
   "execution_count": 20,
   "id": "2492d0ff-ad62-4f49-8325-1a148424b048",
   "metadata": {},
   "outputs": [
    {
     "name": "stdout",
     "output_type": "stream",
     "text": [
      "Original Substrings:\n",
      " abcdefgh\n",
      " xswerabcdwd\n",
      "\n",
      "Common longest sub_string:\n",
      "abcd\n"
     ]
    }
   ],
   "source": [
    "from difflib import SequenceMatcher \n",
    "  \n",
    "def longest_Substring(s1,s2): \n",
    "  \n",
    "     seq_match = SequenceMatcher(None,s1,s2) \n",
    "  \n",
    "     match = seq_match.find_longest_match(0, len(s1), 0, len(s2)) \n",
    "  \n",
    "     # return the longest substring \n",
    "     if (match.size!=0): \n",
    "          return (s1[match.a: match.a + match.size])  \n",
    "     else: \n",
    "          return ('Longest common sub-string not present')  \n",
    "\n",
    "s1 = 'abcdefgh'\n",
    "s2 = 'xswerabcdwd'\n",
    "print(\"Original Substrings:\\n\",s1+\"\\n\",s2)\n",
    "print(\"\\nCommon longest sub_string:\")\n",
    "print(longest_Substring(s1,s2))\n"
   ]
  },
  {
   "cell_type": "code",
   "execution_count": 21,
   "id": "98777db5-7b8a-4484-9ea9-8d3767ea1247",
   "metadata": {},
   "outputs": [
    {
     "name": "stdout",
     "output_type": "stream",
     "text": [
      "Original Substrings:\n",
      " abcdpqr\n",
      " xyzabcd\n",
      "\n",
      "After concatenating uncommon characters:\n",
      "pqrxyz\n"
     ]
    }
   ],
   "source": [
    "def uncommon_chars_concat(s1, s2):   \n",
    "     \n",
    "     set1 = set(s1) \n",
    "     set2 = set(s2) \n",
    "  \n",
    "     common_chars = list(set1 & set2) \n",
    "     result = [ch for ch in s1 if ch not in common_chars] + [ch for ch in s2 if ch not in common_chars] \n",
    "     return(''.join(result))\n",
    "\n",
    "s1 = 'abcdpqr'\n",
    "s2 = 'xyzabcd'\n",
    "print(\"Original Substrings:\\n\",s1+\"\\n\",s2)\n",
    "print(\"\\nAfter concatenating uncommon characters:\")\n",
    "print(uncommon_chars_concat(s1, s2))\n"
   ]
  },
  {
   "cell_type": "code",
   "execution_count": 22,
   "id": "4b5e3e44-27b0-4693-893f-53986e011523",
   "metadata": {},
   "outputs": [
    {
     "name": "stdout",
     "output_type": "stream",
     "text": [
      "Original String:\n",
      " Python Exercises\n",
      "\n",
      "After moving all spaces to the front:\n",
      " PythonExercises\n"
     ]
    }
   ],
   "source": [
    "def moveSpaces(str1): \n",
    "    no_spaces = [char for char in str1 if char!=' ']   \n",
    "    space= len(str1) - len(no_spaces)\n",
    "    # Create string with spaces\n",
    "    result = ' '*space    \n",
    "    return result + ''.join(no_spaces)\n",
    "  \n",
    "s1 = \"Python Exercises\"\n",
    "print(\"Original String:\\n\",s1)\n",
    "\n",
    "print(\"\\nAfter moving all spaces to the front:\")\n",
    "print(moveSpaces(s1))\n"
   ]
  },
  {
   "cell_type": "code",
   "execution_count": 24,
   "id": "0a6ca80d-8668-47fd-93c9-1a38f68c68ea",
   "metadata": {},
   "outputs": [
    {
     "name": "stdout",
     "output_type": "stream",
     "text": [
      "Original string\n",
      "Python Exercises\n",
      "Remove all characters except P in the said string:\n",
      "P\n",
      "\n",
      "Original string\n",
      "google\n",
      "Remove all characters except g in the said string:\n",
      "gg\n",
      "\n",
      "Original string\n",
      "exercises\n",
      "Remove all characters except e in the said string:\n",
      "eee\n"
     ]
    }
   ],
   "source": [
    "def remove_characters(str1,c):\n",
    "    return ''.join([el for el in str1 if el == c])\n",
    "text = \"Python Exercises\"\n",
    "print(\"Original string\")\n",
    "print(text)\n",
    "except_char = \"P\"\n",
    "print(\"Remove all characters except\",except_char,\"in the said string:\")\n",
    "print(remove_characters(text,except_char))\n",
    "\n",
    "\n",
    "text = \"google\"\n",
    "print(\"\\nOriginal string\")\n",
    "print(text)\n",
    "except_char = \"g\"\n",
    "print(\"Remove all characters except\",except_char,\"in the said string:\")\n",
    "print(remove_characters(text,except_char))\n",
    "\n",
    "\n",
    "text = \"exercises\"\n",
    "print(\"\\nOriginal string\")\n",
    "print(text)\n",
    "except_char = \"e\"\n",
    "print(\"Remove all characters except\",except_char,\"in the said string:\")\n",
    "print(remove_characters(text,except_char))\n"
   ]
  },
  {
   "cell_type": "code",
   "execution_count": 25,
   "id": "3a8d8139-72c7-402c-9e7c-383f5d826b9e",
   "metadata": {},
   "outputs": [
    {
     "name": "stdout",
     "output_type": "stream",
     "text": [
      "Original Substrings: @W3Resource.Com\n",
      "\n",
      "Upper case characters:  3\n",
      "Lower case characters:  9\n",
      "Number case:  1\n",
      "Special case characters:  2\n"
     ]
    }
   ],
   "source": [
    "def count_chars(str):\n",
    "     upper_ctr, lower_ctr, number_ctr, special_ctr = 0, 0, 0, 0\n",
    "     for i in range(len(str)):\n",
    "          if str[i] >= 'A' and str[i] <= 'Z': upper_ctr += 1\n",
    "          elif str[i] >= 'a' and str[i] <= 'z': lower_ctr += 1\n",
    "          elif str[i] >= '0' and str[i] <= '9': number_ctr += 1\n",
    "          else: special_ctr += 1\n",
    "     return upper_ctr, lower_ctr, number_ctr, special_ctr\n",
    "           \n",
    "str = \"@W3Resource.Com\"\n",
    "print(\"Original Substrings:\",str)\n",
    "u, l, n, s = count_chars(str)\n",
    "print('\\nUpper case characters: ',u)\n",
    "print('Lower case characters: ',l)\n",
    "print('Number case: ',n)\n",
    "print('Special case characters: ',s)\n"
   ]
  },
  {
   "cell_type": "code",
   "execution_count": 26,
   "id": "a8a1b49f-694a-4e5e-b562-bd6ac4d12360",
   "metadata": {},
   "outputs": [
    {
     "name": "stdout",
     "output_type": "stream",
     "text": [
      "Original Strings:\n",
      " PRWSOERIUSFK \n",
      " OSU\n",
      "Minimum window:\n",
      "OERIUS\n"
     ]
    }
   ],
   "source": [
    "#have to discuss with ranjan\n",
    "import collections\n",
    "def min_window(str1, str2):\n",
    "    result_char, missing_char = collections.Counter(str2), len(str2)\n",
    "    i = p = q = 0\n",
    "    for j, c in enumerate(str1, 1):\n",
    "        missing_char -= result_char[c] > 0\n",
    "        result_char[c] -= 1\n",
    "        if not missing_char:\n",
    "            while i < q and result_char[str1[i]] < 0:\n",
    "                result_char[str1[i]] += 1\n",
    "                i += 1\n",
    "            if not q or j - i <= q - p:\n",
    "                p, q = i, j\n",
    "    return str1[p:q]\n",
    "           \n",
    "str1 = \"PRWSOERIUSFK\"\n",
    "str2 = \"OSU\"\n",
    "print(\"Original Strings:\\n\",str1,\"\\n\",str2)\n",
    "print(\"Minimum window:\")\n",
    "print(min_window(str1,str2))\n"
   ]
  },
  {
   "cell_type": "code",
   "execution_count": 27,
   "id": "2c2ea2e5-f05f-42d0-b8ea-cc8bf5c23ad6",
   "metadata": {},
   "outputs": [
    {
     "name": "stdout",
     "output_type": "stream",
     "text": [
      "Original Strings:\n",
      " asdaewsqgtwwsa\n",
      "\n",
      "Smallest window that contains all characters of the said string:\n",
      "daewsqgt\n"
     ]
    }
   ],
   "source": [
    "#have to disscus with ranjan\n",
    "from collections import defaultdict   \n",
    "\n",
    "def find_sub_string(str): \n",
    "    str_len = len(str) \n",
    "      \n",
    "    # Count all distinct characters. \n",
    "    dist_count_char = len(set([x for x in str])) \n",
    "  \n",
    "    ctr, start_pos, start_pos_index, min_len = 0, 0, -1, 9999999999\n",
    "    curr_count = defaultdict(lambda: 0) \n",
    "    for i in range(str_len): \n",
    "        curr_count[str[i]] += 1\n",
    " \n",
    "        if curr_count[str[i]] == 1: \n",
    "            ctr += 1\n",
    "  \n",
    "        if ctr == dist_count_char: \n",
    "            while curr_count[str[start_pos]] > 1: \n",
    "                if curr_count[str[start_pos]] > 1: \n",
    "                    curr_count[str[start_pos]] -= 1\n",
    "                start_pos += 1\n",
    "  \n",
    "            len_window = i - start_pos + 1\n",
    "            if min_len > len_window: \n",
    "                min_len = len_window \n",
    "                start_pos_index = start_pos \n",
    "    return str[start_pos_index: start_pos_index + min_len] \n",
    "      \n",
    "str1 = \"asdaewsqgtwwsa\"\n",
    "print(\"Original Strings:\\n\",str1)\n",
    "print(\"\\nSmallest window that contains all characters of the said string:\")\n",
    "print(find_sub_string(str1)) \n"
   ]
  },
  {
   "cell_type": "code",
   "execution_count": 33,
   "id": "783422a6-75d6-4c66-bb38-e52b59b801af",
   "metadata": {},
   "outputs": [
    {
     "name": "stdout",
     "output_type": "stream",
     "text": [
      "7\n",
      "1\n",
      "Not found\n"
     ]
    }
   ],
   "source": [
    "def find_Index(str1, pos):\n",
    "    if len(pos) > len(str1):\n",
    "        return 'Not found'\n",
    "\n",
    "    for i in range(len(str1)):\n",
    "\n",
    "        for j in range(len(pos)):\n",
    "\n",
    "            if str1[i + j] == pos[j] and j == len(pos) - 1:\n",
    "                return i\n",
    "                \n",
    "            elif str1[i + j] != pos[j]:\n",
    "                break\n",
    "\n",
    "    return 'Not found'\n",
    "print(find_Index(\"Python Exercises\", \"Ex\"))\n",
    "print(find_Index(\"Python Exercises\", \"yt\"))\n",
    "print(find_Index(\"Python Exercises\", \"PY\"))\n"
   ]
  },
  {
   "cell_type": "code",
   "execution_count": 36,
   "id": "4aa6c4c2-0ef1-4e00-85ce-f1cd918e91ed",
   "metadata": {},
   "outputs": [
    {
     "name": "stdout",
     "output_type": "stream",
     "text": [
      "pYTHON eXERCISES\n",
      "jAVA\n",
      "nUMpY\n"
     ]
    }
   ],
   "source": [
    "def swap_case_string(str1):\n",
    "   result_str = \"\"   \n",
    "   for item in str1:\n",
    "       if item.isupper():\n",
    "           result_str += item.lower()\n",
    "       else:\n",
    "           result_str += item.upper()           \n",
    "   return result_str\n",
    "print(swap_case_string(\"Python Exercises\"))\n",
    "print(swap_case_string(\"Java\"))\n",
    "print(swap_case_string(\"NumPy\"))\n",
    "\n"
   ]
  },
  {
   "cell_type": "code",
   "execution_count": 37,
   "id": "2cbfbac9-8859-43c4-a929-b81efb59084f",
   "metadata": {},
   "outputs": [
    {
     "name": "stdout",
     "output_type": "stream",
     "text": [
      "Original Bytearray :\n",
      "[111, 12, 45, 67, 109]\n",
      "\n",
      "Hexadecimal string:\n",
      "6f0c2d436d\n"
     ]
    }
   ],
   "source": [
    "def bytearray_to_hexadecimal(list_val):\n",
    "     result = ''.join('{:02x}'.format(x) for x in list_val)  \n",
    "     return(result)\n",
    "\n",
    "list_val = [111, 12, 45, 67, 109] \n",
    "print(\"Original Bytearray :\")\n",
    "print(list_val)\n",
    "print(\"\\nHexadecimal string:\")\n",
    "print(bytearray_to_hexadecimal(list_val))\n"
   ]
  },
  {
   "cell_type": "code",
   "execution_count": 38,
   "id": "4b479528-048b-4153-8781-fa23d84b4a70",
   "metadata": {},
   "outputs": [
    {
     "name": "stdout",
     "output_type": "stream",
     "text": [
      "Original string:\n",
      "Delete all occurrences of a specified character in a given string\n",
      "\n",
      "Modified string:\n",
      "Delete ll occurrences of  specified chrcter in  given string\n"
     ]
    }
   ],
   "source": [
    "def delete_all_occurrences(str1, ch):\n",
    "     result = str1.replace(ch, \"\")\n",
    "     return(result)\n",
    "\n",
    "str_text = \"Delete all occurrences of a specified character in a given string\"\n",
    "print(\"Original string:\")\n",
    "print(str_text)\n",
    "print(\"\\nModified string:\")\n",
    "ch='a'\n",
    "print(delete_all_occurrences(str_text, ch))\n"
   ]
  },
  {
   "cell_type": "code",
   "execution_count": 39,
   "id": "342c55e3-b62b-4fac-afc5-3b36b4e728f3",
   "metadata": {},
   "outputs": [
    {
     "name": "stdout",
     "output_type": "stream",
     "text": [
      "Original strings:\n",
      "Python3\n",
      "Python2.7\n",
      "\n",
      "Intersection of two said String:\n",
      "Python\n"
     ]
    }
   ],
   "source": [
    "def intersection_of_two_string(str1, str2):\n",
    "    result = \"\"\n",
    "    for ch in str1:\n",
    "        if ch in str2 and not ch in result:\n",
    "            result += ch\n",
    "    return result\n",
    "\n",
    "str1 = 'Python3'\n",
    "str2 = 'Python2.7'\n",
    "print(\"Original strings:\")\n",
    "print(str1)\n",
    "print(str2)\n",
    "print(\"\\nIntersection of two said String:\") \n",
    "print(intersection_of_two_string(str1, str2))\n"
   ]
  },
  {
   "cell_type": "code",
   "execution_count": 41,
   "id": "7e2343d9-5c2c-4154-b716-951331ebb8be",
   "metadata": {},
   "outputs": [
    {
     "name": "stdout",
     "output_type": "stream",
     "text": [
      "Original String : Pyth*^on Exercis^es\n",
      "After removing unwanted characters:\n",
      "Python Exercises\n",
      "\n",
      "Original String : A%^!B#*CD\n",
      "After removing unwanted characters:\n",
      "ABCD\n"
     ]
    }
   ],
   "source": [
    "def remove_chars(str1, unwanted_chars):\n",
    "    for i in unwanted_chars:\n",
    "        str1 = str1.replace(i, '')\n",
    "    return str1\n",
    "\n",
    "\n",
    "\n",
    "str1 = \"Pyth*^on Exercis^es\"\n",
    "str2 = \"A%^!B#*CD\"\n",
    "\n",
    "unwanted_chars = [\"#\", \"*\", \"!\", \"^\", \"%\"]\n",
    "print (\"Original String : \" + str1)\n",
    "print(\"After removing unwanted characters:\")\n",
    "print(remove_chars(str1, unwanted_chars))\n",
    "print (\"\\nOriginal String : \" + str2)\n",
    "print(\"After removing unwanted characters:\")\n",
    "print(remove_chars(str2, unwanted_chars))\n",
    "\n"
   ]
  },
  {
   "cell_type": "code",
   "execution_count": 42,
   "id": "2c916115-2241-40d8-a609-385641e18e5c",
   "metadata": {},
   "outputs": [
    {
     "name": "stdout",
     "output_type": "stream",
     "text": [
      "Original String:\n",
      "Python Exercises Practice Solution Exercises\n",
      "\n",
      "After removing duplicate words from the said string:\n",
      "Python Exercises Practice Solution\n"
     ]
    }
   ],
   "source": [
    "def unique_list(text_str):\n",
    "    l = text_str.split()\n",
    "    temp = []\n",
    "    for x in l:\n",
    "        if x not in temp:\n",
    "            temp.append(x)\n",
    "    return ' '.join(temp)\n",
    "\n",
    "text_str = \"Python Exercises Practice Solution Exercises\"\n",
    "print(\"Original String:\")\n",
    "print(text_str)\n",
    "print(\"\\nAfter removing duplicate words from the said string:\")\n",
    "print(unique_list(text_str))\n"
   ]
  },
  {
   "cell_type": "code",
   "execution_count": 45,
   "id": "2b2e18f9-530d-41d4-a750-ecf7bb6341d9",
   "metadata": {},
   "outputs": [
    {
     "name": "stdout",
     "output_type": "stream",
     "text": [
      "Original string:\n",
      "Python Exercises\n",
      "Python Exercises\n",
      "Similarity between two said strings:\n",
      "1.0\n",
      "\n",
      "Original string:\n",
      "Python Exercises\n",
      "Python Exercise\n",
      "Similarity between two said strings:\n",
      "0.967741935483871\n",
      "\n",
      "Original string:\n",
      "Python Exercises\n",
      "Python Ex.\n",
      "Similarity between two said strings:\n",
      "0.6923076923076923\n",
      "\n",
      "Original string:\n",
      "Python Exercises\n",
      "Python\n",
      "Similarity between two said strings:\n",
      "0.5454545454545454\n",
      "\n",
      "Original string:\n",
      "Java Exercises\n",
      "Python\n",
      "Similarity between two said strings:\n",
      "0.0\n"
     ]
    }
   ],
   "source": [
    "import difflib\n",
    "def string_similarity(str1, str2):\n",
    "    result =  difflib.SequenceMatcher(a=str1.lower(), b=str2.lower())\n",
    "    return result.ratio()\n",
    "str1 = 'Python Exercises'\n",
    "str2 = 'Python Exercises'\n",
    "print(\"Original string:\")\n",
    "print(str1)\n",
    "print(str2)\n",
    "print(\"Similarity between two said strings:\")\n",
    "print(string_similarity(str1,str2))\n",
    "\n",
    "\n",
    "\n",
    "str1 = 'Python Exercises'\n",
    "str2 = 'Python Exercise'\n",
    "print(\"\\nOriginal string:\")\n",
    "print(str1)\n",
    "print(str2)\n",
    "print(\"Similarity between two said strings:\")\n",
    "print(string_similarity(str1,str2))\n",
    "\n",
    "\n",
    "\n",
    "\n",
    "str1 = 'Python Exercises'\n",
    "str2 = 'Python Ex.'\n",
    "print(\"\\nOriginal string:\")\n",
    "print(str1)\n",
    "print(str2)\n",
    "print(\"Similarity between two said strings:\")\n",
    "print(string_similarity(str1,str2))\n",
    "\n",
    "\n",
    "\n",
    "\n",
    "str1 = 'Python Exercises'\n",
    "str2 = 'Python'\n",
    "print(\"\\nOriginal string:\")\n",
    "print(str1)\n",
    "print(str2)\n",
    "print(\"Similarity between two said strings:\")\n",
    "print(string_similarity(str1,str2))\n",
    "\n",
    "\n",
    "\n",
    "str1 = 'Python Exercises'\n",
    "str1 = 'Java Exercises'\n",
    "print(\"\\nOriginal string:\")\n",
    "print(str1)\n",
    "print(str2)\n",
    "print(\"Similarity between two said strings:\")\n",
    "print(string_similarity(str1,str2))\n",
    "\n"
   ]
  },
  {
   "cell_type": "code",
   "execution_count": 46,
   "id": "0fa0d2e0-1e2f-4b68-8717-4409272136df",
   "metadata": {},
   "outputs": [
    {
     "name": "stdout",
     "output_type": "stream",
     "text": [
      "Original string: red 12 black 45 green\n",
      "Extract numbers from the said string:\n",
      "[12, 45]\n"
     ]
    }
   ],
   "source": [
    "def test(str1):\n",
    "    result = [int(str1) for str1 in str1.split() if str1.isdigit()]\n",
    "    return result\n",
    "str1 = \"red 12 black 45 green\" \n",
    "print(\"Original string:\", str1) \n",
    "print(\"Extract numbers from the said string:\")\n",
    "print(test(str1))\n"
   ]
  },
  {
   "cell_type": "code",
   "execution_count": 1,
   "id": "d42a6a77-debf-4e2e-9f99-bb204166731d",
   "metadata": {},
   "outputs": [
    {
     "name": "stdout",
     "output_type": "stream",
     "text": [
      "Original string: red 12 black 45 green\n",
      "[12, 45]\n"
     ]
    }
   ],
   "source": [
    "def test(str1):\n",
    "    result = [int(str1) for str1 in str1.split() if str1.isdigit()]\n",
    "    return result\n",
    "str1 = \"red 12 black 45 green\" \n",
    "print(\"Original string:\", str1) \n",
    "print(test(str1))"
   ]
  },
  {
   "cell_type": "code",
   "execution_count": null,
   "id": "f76a8f33-41a4-4689-b675-9844ad0e0800",
   "metadata": {},
   "outputs": [],
   "source": []
  }
 ],
 "metadata": {
  "kernelspec": {
   "display_name": "Python 3",
   "language": "python",
   "name": "python3"
  },
  "language_info": {
   "codemirror_mode": {
    "name": "ipython",
    "version": 3
   },
   "file_extension": ".py",
   "mimetype": "text/x-python",
   "name": "python",
   "nbconvert_exporter": "python",
   "pygments_lexer": "ipython3",
   "version": "3.8.6"
  }
 },
 "nbformat": 4,
 "nbformat_minor": 5
}
