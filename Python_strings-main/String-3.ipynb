{
 "cells": [
  {
   "cell_type": "code",
   "execution_count": 1,
   "id": "1eeb4564-f066-499f-a990-e6fa3c6ad10e",
   "metadata": {},
   "outputs": [
    {
     "name": "stdout",
     "output_type": "stream",
     "text": [
      "a\n",
      "d\n",
      "None\n"
     ]
    }
   ],
   "source": [
    "def first_non_repeating_character(str1):\n",
    "  char_order = []\n",
    "  ctr = {}\n",
    "  for c in str1:\n",
    "    if c in ctr:\n",
    "      ctr[c] += 1\n",
    "    else:\n",
    "      ctr[c] = 1 \n",
    "      char_order.append(c)\n",
    "  for c in char_order:\n",
    "    if ctr[c] == 1:\n",
    "      return c\n",
    "  return None\n",
    "\n",
    "print(first_non_repeating_character('abcdef'))\n",
    "print(first_non_repeating_character('abcabcdef'))\n",
    "print(first_non_repeating_character('aabbcc'))\n"
   ]
  },
  {
   "cell_type": "code",
   "execution_count": 2,
   "id": "a078bf3e-f206-4ccd-86e0-062f456c24b4",
   "metadata": {},
   "outputs": [
    {
     "name": "stdout",
     "output_type": "stream",
     "text": [
      "[('x', 'x', 'x'), ('x', 'x', 'y'), ('x', 'x', 'z'), ('x', 'y', 'x'), ('x', 'y', 'y'), ('x', 'y', 'z'), ('x', 'z', 'x'), ('x', 'z', 'y'), ('x', 'z', 'z'), ('y', 'x', 'x'), ('y', 'x', 'y'), ('y', 'x', 'z'), ('y', 'y', 'x'), ('y', 'y', 'y'), ('y', 'y', 'z'), ('y', 'z', 'x'), ('y', 'z', 'y'), ('y', 'z', 'z'), ('z', 'x', 'x'), ('z', 'x', 'y'), ('z', 'x', 'z'), ('z', 'y', 'x'), ('z', 'y', 'y'), ('z', 'y', 'z'), ('z', 'z', 'x'), ('z', 'z', 'y'), ('z', 'z', 'z')]\n",
      "[('x', 'x'), ('x', 'y'), ('x', 'z'), ('y', 'x'), ('y', 'y'), ('y', 'z'), ('z', 'x'), ('z', 'y'), ('z', 'z')]\n"
     ]
    }
   ],
   "source": [
    "from itertools import product\n",
    "def all_repeat(str1, rno):\n",
    "  chars = list(str1)\n",
    "  results = []\n",
    "  for c in product(chars, repeat = rno):\n",
    "    results.append(c)\n",
    "  return results\n",
    "print(all_repeat('xyz', 3))\n",
    "print(all_repeat('xyz', 2))\n"
   ]
  },
  {
   "cell_type": "code",
   "execution_count": 3,
   "id": "e9c02514-262d-4bfc-8afe-7d2f33af77ea",
   "metadata": {},
   "outputs": [
    {
     "name": "stdout",
     "output_type": "stream",
     "text": [
      "a\n",
      "None\n"
     ]
    }
   ],
   "source": [
    "def first_repeated_char(str1):\n",
    "  for index,c in enumerate(str1):\n",
    "    if str1[:index+1].count(c) > 1:\n",
    "      return c \n",
    "  return \"None\"\n",
    "\n",
    "print(first_repeated_char(\"abcdabcd\"))\n",
    "print(first_repeated_char(\"abcd\"))\n"
   ]
  },
  {
   "cell_type": "code",
   "execution_count": 4,
   "id": "969ddf6d-d736-4ec7-adbd-b9f2f335d932",
   "metadata": {},
   "outputs": [
    {
     "name": "stdout",
     "output_type": "stream",
     "text": [
      "('a', 0)\n",
      "('b', 1)\n",
      "('c', 2)\n",
      "('x', 3)\n",
      "None\n"
     ]
    }
   ],
   "source": [
    "def first_repeated_char_smallest_distance(str1):\n",
    "  temp = {}\n",
    "  for ch in str1:\n",
    "    if ch in temp:\n",
    "      return ch, str1.index(ch);\n",
    "    else:\n",
    "      temp[ch] = 0\n",
    "  return 'None'\n",
    "print(first_repeated_char_smallest_distance(\"abcabc\"))\n",
    "print(first_repeated_char_smallest_distance(\"abcb\"))\n",
    "print(first_repeated_char_smallest_distance(\"abcc\"))\n",
    "print(first_repeated_char_smallest_distance(\"abcxxy\"))\n",
    "print(first_repeated_char_smallest_distance(\"abc\"))"
   ]
  },
  {
   "cell_type": "code",
   "execution_count": 5,
   "id": "c1286505-eb03-4f60-a0ba-af2bbcdfc9ef",
   "metadata": {},
   "outputs": [
    {
     "name": "stdout",
     "output_type": "stream",
     "text": [
      "ab\n",
      "ab\n",
      "ca\n",
      "None\n"
     ]
    }
   ],
   "source": [
    "def first_repeated_word(str1):\n",
    "  temp = set()\n",
    "  for word in str1.split():\n",
    "    if word in temp:\n",
    "      return word;\n",
    "    else:\n",
    "      temp.add(word)\n",
    "  return 'None'\n",
    "print(first_repeated_word(\"ab ca bc ab\"))\n",
    "print(first_repeated_word(\"ab ca bc ab ca ab bc\"))\n",
    "print(first_repeated_word(\"ab ca bc ca ab bc\"))\n",
    "print(first_repeated_word(\"ab ca bc\"))\n"
   ]
  },
  {
   "cell_type": "code",
   "execution_count": 6,
   "id": "c4562117-d297-468d-8784-6379dbac07ac",
   "metadata": {},
   "outputs": [
    {
     "name": "stdout",
     "output_type": "stream",
     "text": [
      "('of', 4)\n"
     ]
    }
   ],
   "source": [
    "def word_count(str):\n",
    "    counts = dict()\n",
    "    words = str.split()\n",
    "\n",
    "    for word in words:\n",
    "        if word in counts:\n",
    "            counts[word] += 1\n",
    "        else:\n",
    "            counts[word] = 1\n",
    "\n",
    "    counts_x = sorted(counts.items(), key=lambda kv: kv[1])\n",
    "    #print(counts_x)\n",
    "    return counts_x[-2]\n",
    " \n",
    "print(word_count(\"Both of these issues are fixed by postponing the evaluation of annotations. Instead of compiling code which executes expressions in annotations at their definition time, the compiler stores the annotation in a string form equivalent to the AST of the expression in question. If needed, annotations can be resolved at runtime using typing.get_type_hints(). In the common case where this is not required, the annotations are cheaper to store (since short strings are interned by the interpreter) and make startup time faster.\"))\n"
   ]
  },
  {
   "cell_type": "code",
   "execution_count": 7,
   "id": "d9a2ca11-10b7-4b33-ab4a-013882081518",
   "metadata": {},
   "outputs": [
    {
     "name": "stdout",
     "output_type": "stream",
     "text": [
      "w3resource\n",
      "abc\n"
     ]
    }
   ],
   "source": [
    "def remove_spaces(str1):\n",
    "  str1 = str1.replace(' ','')\n",
    "  return str1\n",
    "    \n",
    "print(remove_spaces(\"w 3 res ou r ce\"))\n",
    "print(remove_spaces(\"a b c\"))\n"
   ]
  },
  {
   "cell_type": "code",
   "execution_count": 8,
   "id": "fbb17589-4c0f-4481-8530-cb78f509afe0",
   "metadata": {},
   "outputs": [
    {
     "name": "stdout",
     "output_type": "stream",
     "text": [
      "\"     w3resource.com\"\n",
      "\"     w3resource.com\"\n"
     ]
    }
   ],
   "source": [
    "def move_Spaces_front(str1):\n",
    "  noSpaces_char = [ch for ch in str1 if ch!=' ']\n",
    "  spaces_char = len(str1) - len(noSpaces_char)\n",
    "  result = ' '*spaces_char\n",
    "  result = '\"'+result + ''.join(noSpaces_char)+'\"'\n",
    "  return(result)\n",
    "\n",
    "print(move_Spaces_front(\"w3resource .  com  \"))\n",
    "print(move_Spaces_front(\"   w3resource.com  \"))\n"
   ]
  },
  {
   "cell_type": "code",
   "execution_count": 9,
   "id": "601221e3-f17c-4565-ad2f-7a0e4306ab86",
   "metadata": {},
   "outputs": [
    {
     "name": "stdout",
     "output_type": "stream",
     "text": [
      "t\n",
      "b\n"
     ]
    }
   ],
   "source": [
    "def get_max_occuring_char(str1):\n",
    "  ASCII_SIZE = 256\n",
    "  ctr = [0] * ASCII_SIZE\n",
    "  max = -1\n",
    "  ch = ''\n",
    "  for i in str1:\n",
    "    ctr[ord(i)]+=1;\n",
    " \n",
    "  for i in str1:\n",
    "    if max < ctr[ord(i)]:\n",
    "      max = ctr[ord(i)]\n",
    "      ch = i\n",
    "  return ch\n",
    "\n",
    "print(get_max_occuring_char(\"Python: Get file creation and modification date/times\"))\n",
    "print(get_max_occuring_char(\"abcdefghijkb\"))"
   ]
  },
  {
   "cell_type": "code",
   "execution_count": 10,
   "id": "4478a983-4c8b-4ba8-8d6b-f82732577a74",
   "metadata": {},
   "outputs": [
    {
     "name": "stdout",
     "output_type": "stream",
     "text": [
      "PythoN ExerciseS PracticE SolutioN\n",
      "W3ResourcE\n"
     ]
    }
   ],
   "source": [
    "def capitalize_first_last_letters(str1):\n",
    "     str1 = result = str1.title()\n",
    "     result =  \"\"\n",
    "     for word in str1.split():\n",
    "        result += word[:-1] + word[-1].upper() + \" \"\n",
    "     return result[:-1]  \n",
    "     \n",
    "print(capitalize_first_last_letters(\"python exercises practice solution\"))\n",
    "print(capitalize_first_last_letters(\"w3resource\"))\n"
   ]
  },
  {
   "cell_type": "code",
   "execution_count": 11,
   "id": "37a8ae84-da08-443e-bd54-a62ef1e9af1d",
   "metadata": {},
   "outputs": [
    {
     "name": "stdout",
     "output_type": "stream",
     "text": [
      "python exrcisalu\n",
      "w3resouc\n"
     ]
    }
   ],
   "source": [
    "from collections import OrderedDict\n",
    "def remove_duplicate(str1):\n",
    "  return \"\".join(OrderedDict.fromkeys(str1))\n",
    "     \n",
    "print(remove_duplicate(\"python exercises practice solution\"))\n",
    "print(remove_duplicate(\"w3resource\"))\n"
   ]
  },
  {
   "cell_type": "code",
   "execution_count": 12,
   "id": "31435293-e2a9-4eac-badb-1967b9fe0b3c",
   "metadata": {},
   "outputs": [
    {
     "name": "stdout",
     "output_type": "stream",
     "text": [
      "255.24.1.1\n",
      "127.0.0.1\n"
     ]
    }
   ],
   "source": [
    "def remove_zeros_from_ip(ip_add):\n",
    "  new_ip_add = \".\".join([str(int(i)) for i in ip_add.split(\".\")])  \n",
    "  return new_ip_add ;\n",
    "\n",
    "print(remove_zeros_from_ip(\"255.024.01.01\"))\n",
    "print(remove_zeros_from_ip(\"127.0.0.01 \"))\n"
   ]
  },
  {
   "cell_type": "code",
   "execution_count": 13,
   "id": "2bf4dadf-7096-49c6-a795-379596c9fc1a",
   "metadata": {},
   "outputs": [
    {
     "name": "stdout",
     "output_type": "stream",
     "text": [
      "15\n",
      "10\n"
     ]
    }
   ],
   "source": [
    "def sum_digits_string(str1):\n",
    "    sum_digit = 0\n",
    "    for x in str1:\n",
    "        if x.isdigit() == True:\n",
    "            z = int(x)\n",
    "            sum_digit = sum_digit + z\n",
    "\n",
    "    return sum_digit\n",
    "     \n",
    "print(sum_digits_string(\"123abcd45\"))\n",
    "print(sum_digits_string(\"abcd1234\"))\n",
    "\n"
   ]
  },
  {
   "cell_type": "code",
   "execution_count": 14,
   "id": "d289bb97-4fc3-452d-b0af-eb01a0aecdc1",
   "metadata": {},
   "outputs": [
    {
     "name": "stdout",
     "output_type": "stream",
     "text": [
      "Original string:111000010000110\n",
      "Maximum length of consecutive 0’s:\n",
      "4\n",
      "Original string:111000111\n",
      "Maximum length of consecutive 0’s:\n",
      "3\n"
     ]
    }
   ],
   "source": [
    "def max_consecutive_0(input_str): \n",
    "     return  max(map(len,input_str.split('1')))\n",
    "str1 = '111000010000110'\n",
    "print(\"Original string:\" + str1)\n",
    "print(\"Maximum length of consecutive 0’s:\")\n",
    "print(max_consecutive_0(str1))\n",
    "str1 = '111000111'\n",
    "print(\"Original string:\" + str1)\n",
    "print(\"Maximum length of consecutive 0’s:\")\n",
    "print(max_consecutive_0(str1))\n"
   ]
  },
  {
   "cell_type": "code",
   "execution_count": 15,
   "id": "3ba43088-66ba-4b85-9906-39da803931a6",
   "metadata": {},
   "outputs": [
    {
     "name": "stdout",
     "output_type": "stream",
     "text": [
      "Two strings: Python : PHP\n",
      "P\n",
      "Two strings: Java : PHP\n",
      "No common characters.\n"
     ]
    }
   ],
   "source": [
    "from collections import Counter \n",
    "def common_chars(str1,str2): \t\n",
    "\td1 = Counter(str1) \n",
    "\td2 = Counter(str2) \n",
    "\tcommon_dict = d1 & d2 \n",
    "\tif len(common_dict) == 0: \n",
    "\t\treturn \"No common characters.\"\n",
    "\n",
    "\t# list of common elements \n",
    "\tcommon_chars = list(common_dict.elements()) \n",
    "\tcommon_chars = sorted(common_chars) \n",
    "\n",
    "\treturn ''.join(common_chars) \n",
    "\n",
    "str1 = 'Python'\n",
    "str2 = 'PHP'\n",
    "print(\"Two strings: \"+str1+' : '+str2)\n",
    "print(common_chars(str1, str2))\n",
    "str1 = 'Java'\n",
    "str2 = 'PHP'\n",
    "print(\"Two strings: \"+str1+' : '+str2)\n",
    "print(common_chars(str1, str2))\n"
   ]
  },
  {
   "cell_type": "code",
   "execution_count": 16,
   "id": "4f25ab0e-0052-4d2a-bf15-9c3652f007d0",
   "metadata": {},
   "outputs": [
    {
     "name": "stdin",
     "output_type": "stream",
     "text": [
      "Input string1:  Ramanjaneya\n",
      "Input string2:  reddy is my boos\n"
     ]
    },
    {
     "name": "stdout",
     "output_type": "stream",
     "text": [
      "21\n"
     ]
    }
   ],
   "source": [
    "def make_map(s):\n",
    "    temp_map = {}\n",
    "    for char in s:\n",
    "        if char not in temp_map:\n",
    "            temp_map[char] = 1\n",
    "        else:\n",
    "            temp_map[char] +=1 \n",
    "    return temp_map        \n",
    "def make_anagram(str1, str2):\n",
    "    str1_map1 = make_map(str1)\n",
    "    str2_map2 = make_map(str2)\n",
    " \n",
    "    ctr = 0\n",
    "    for key in str2_map2.keys():\n",
    "        if key not in str1_map1:\n",
    "            ctr += str2_map2[key]\n",
    "        else:\n",
    "            ctr += max(0, str2_map2[key]-str1_map1[key])\n",
    " \n",
    "    for key in str1_map1.keys():\n",
    "        if key not in str2_map2:\n",
    "            ctr += str1_map1[key]\n",
    "        else:\n",
    "            ctr += max(0, str1_map1[key]-str2_map2[key]) \n",
    "    return ctr \n",
    "str1 = input(\"Input string1: \")\n",
    "str2 = input(\"Input string2: \")\n",
    "print(make_anagram(str1, str2))\n"
   ]
  },
  {
   "cell_type": "code",
   "execution_count": 17,
   "id": "94e9c63c-d2a9-48c3-b347-991c279880b1",
   "metadata": {},
   "outputs": [
    {
     "name": "stdout",
     "output_type": "stream",
     "text": [
      "egh\n",
      "abcf\n"
     ]
    }
   ],
   "source": [
    "from collections import Counter  \n",
    "def generateStrings(input): \n",
    "     str_char_ctr = Counter(input) \n",
    "     part1 = [ key for (key,count) in str_char_ctr.items() if count==1] \n",
    "     part2 = [ key for (key,count) in str_char_ctr.items() if count>1] \n",
    "     part1.sort() \n",
    "     part2.sort()\n",
    "     return part1,part2\n",
    "input = \"aabbcceffgh\"\n",
    "s1, s2 = generateStrings(input)\n",
    "print(''.join(s1))   \n",
    "print(''.join(s2))\n"
   ]
  },
  {
   "cell_type": "code",
   "execution_count": 18,
   "id": "3ab96677-17f2-4850-902f-78bdc03b8be8",
   "metadata": {},
   "outputs": [
    {
     "name": "stdout",
     "output_type": "stream",
     "text": [
      "Original Substrings:\n",
      " abcdefgh\n",
      " xswerabcdwd\n",
      "\n",
      "Common longest sub_string:\n",
      "abcd\n"
     ]
    }
   ],
   "source": [
    "from difflib import SequenceMatcher \n",
    "  \n",
    "def longest_Substring(s1,s2): \n",
    "  \n",
    "     seq_match = SequenceMatcher(None,s1,s2) \n",
    "  \n",
    "     match = seq_match.find_longest_match(0, len(s1), 0, len(s2)) \n",
    "  \n",
    "     # return the longest substring \n",
    "     if (match.size!=0): \n",
    "          return (s1[match.a: match.a + match.size])  \n",
    "     else: \n",
    "          return ('Longest common sub-string not present')  \n",
    "\n",
    "s1 = 'abcdefgh'\n",
    "s2 = 'xswerabcdwd'\n",
    "print(\"Original Substrings:\\n\",s1+\"\\n\",s2)\n",
    "print(\"\\nCommon longest sub_string:\")\n",
    "print(longest_Substring(s1,s2))\n"
   ]
  },
  {
   "cell_type": "code",
   "execution_count": 19,
   "id": "538fe375-3ceb-4e17-939f-d9871934060b",
   "metadata": {},
   "outputs": [
    {
     "name": "stdout",
     "output_type": "stream",
     "text": [
      "Original Substrings:\n",
      " abcdpqr\n",
      " xyzabcd\n",
      "\n",
      "After concatenating uncommon characters:\n",
      "pqrxyz\n"
     ]
    }
   ],
   "source": [
    "def uncommon_chars_concat(s1, s2):   \n",
    "     \n",
    "     set1 = set(s1) \n",
    "     set2 = set(s2) \n",
    "  \n",
    "     common_chars = list(set1 & set2) \n",
    "     result = [ch for ch in s1 if ch not in common_chars] + [ch for ch in s2 if ch not in common_chars] \n",
    "     return(''.join(result))\n",
    "\n",
    "s1 = 'abcdpqr'\n",
    "s2 = 'xyzabcd'\n",
    "print(\"Original Substrings:\\n\",s1+\"\\n\",s2)\n",
    "print(\"\\nAfter concatenating uncommon characters:\")\n",
    "print(uncommon_chars_concat(s1, s2))\n"
   ]
  },
  {
   "cell_type": "code",
   "execution_count": 20,
   "id": "2572b785-4dfd-47ca-b5a2-7a6241e07f86",
   "metadata": {},
   "outputs": [
    {
     "name": "stdout",
     "output_type": "stream",
     "text": [
      "Original String:\n",
      " Python Exercises\n",
      "\n",
      "After moving all spaces to the front:\n",
      " PythonExercises\n"
     ]
    }
   ],
   "source": [
    "def moveSpaces(str1): \n",
    "    no_spaces = [char for char in str1 if char!=' ']   \n",
    "    space= len(str1) - len(no_spaces)\n",
    "    # Create string with spaces\n",
    "    result = ' '*space    \n",
    "    return result + ''.join(no_spaces)\n",
    "  \n",
    "s1 = \"Python Exercises\"\n",
    "print(\"Original String:\\n\",s1)\n",
    "\n",
    "print(\"\\nAfter moving all spaces to the front:\")\n",
    "print(moveSpaces(s1))\n"
   ]
  },
  {
   "cell_type": "code",
   "execution_count": 21,
   "id": "583c6224-e1ca-4bfc-a3ed-2221d1cf7206",
   "metadata": {},
   "outputs": [
    {
     "name": "stdout",
     "output_type": "stream",
     "text": [
      "Original string\n",
      "Python Exercises\n",
      "Remove all characters except P in the said string:\n",
      "P\n",
      "\n",
      "Original string\n",
      "google\n",
      "Remove all characters except g in the said string:\n",
      "gg\n",
      "\n",
      "Original string\n",
      "exercises\n",
      "Remove all characters except e in the said string:\n",
      "eee\n"
     ]
    }
   ],
   "source": [
    "def remove_characters(str1,c):\n",
    "    return ''.join([el for el in str1 if el == c])\n",
    "text = \"Python Exercises\"\n",
    "print(\"Original string\")\n",
    "print(text)\n",
    "except_char = \"P\"\n",
    "print(\"Remove all characters except\",except_char,\"in the said string:\")\n",
    "print(remove_characters(text,except_char))\n",
    "\n",
    "\n",
    "text = \"google\"\n",
    "print(\"\\nOriginal string\")\n",
    "print(text)\n",
    "except_char = \"g\"\n",
    "print(\"Remove all characters except\",except_char,\"in the said string:\")\n",
    "print(remove_characters(text,except_char))\n",
    "\n",
    "\n",
    "text = \"exercises\"\n",
    "print(\"\\nOriginal string\")\n",
    "print(text)\n",
    "except_char = \"e\"\n",
    "print(\"Remove all characters except\",except_char,\"in the said string:\")\n",
    "print(remove_characters(text,except_char))\n"
   ]
  },
  {
   "cell_type": "code",
   "execution_count": 22,
   "id": "daa9c031-f0ec-47d9-b5fb-766d13ab8ee2",
   "metadata": {},
   "outputs": [
    {
     "name": "stdout",
     "output_type": "stream",
     "text": [
      "Original Substrings: @W3Resource.Com\n",
      "\n",
      "Upper case characters:  3\n",
      "Lower case characters:  9\n",
      "Number case:  1\n",
      "Special case characters:  2\n"
     ]
    }
   ],
   "source": [
    "def count_chars(str):\n",
    "     upper_ctr, lower_ctr, number_ctr, special_ctr = 0, 0, 0, 0\n",
    "     for i in range(len(str)):\n",
    "          if str[i] >= 'A' and str[i] <= 'Z': upper_ctr += 1\n",
    "          elif str[i] >= 'a' and str[i] <= 'z': lower_ctr += 1\n",
    "          elif str[i] >= '0' and str[i] <= '9': number_ctr += 1\n",
    "          else: special_ctr += 1\n",
    "     return upper_ctr, lower_ctr, number_ctr, special_ctr\n",
    "           \n",
    "str = \"@W3Resource.Com\"\n",
    "print(\"Original Substrings:\",str)\n",
    "u, l, n, s = count_chars(str)\n",
    "print('\\nUpper case characters: ',u)\n",
    "print('Lower case characters: ',l)\n",
    "print('Number case: ',n)\n",
    "print('Special case characters: ',s)"
   ]
  },
  {
   "cell_type": "code",
   "execution_count": 23,
   "id": "62d369c3-f365-4fc9-b003-9601fbb991a1",
   "metadata": {},
   "outputs": [
    {
     "name": "stdout",
     "output_type": "stream",
     "text": [
      "7\n",
      "1\n",
      "Not found\n"
     ]
    }
   ],
   "source": [
    "def find_Index(str1, pos):\n",
    "    if len(pos) > len(str1):\n",
    "        return 'Not found'\n",
    "\n",
    "    for i in range(len(str1)):\n",
    "\n",
    "        for j in range(len(pos)):\n",
    "\n",
    "            if str1[i + j] == pos[j] and j == len(pos) - 1:\n",
    "                return i\n",
    "                \n",
    "            elif str1[i + j] != pos[j]:\n",
    "                break\n",
    "\n",
    "    return 'Not found'\n",
    "print(find_Index(\"Python Exercises\", \"Ex\"))\n",
    "print(find_Index(\"Python Exercises\", \"yt\"))\n",
    "print(find_Index(\"Python Exercises\", \"PY\"))\n"
   ]
  },
  {
   "cell_type": "code",
   "execution_count": 24,
   "id": "0a875b8c-b312-4f00-bdef-d2f0097f0817",
   "metadata": {},
   "outputs": [
    {
     "name": "stdout",
     "output_type": "stream",
     "text": [
      "pYTHON eXERCISES\n",
      "jAVA\n",
      "nUMpY\n"
     ]
    }
   ],
   "source": [
    "def swap_case_string(str1):\n",
    "   result_str = \"\"   \n",
    "   for item in str1:\n",
    "       if item.isupper():\n",
    "           result_str += item.lower()\n",
    "       else:\n",
    "           result_str += item.upper()           \n",
    "   return result_str\n",
    "print(swap_case_string(\"Python Exercises\"))\n",
    "print(swap_case_string(\"Java\"))\n",
    "print(swap_case_string(\"NumPy\"))\n",
    "\n"
   ]
  },
  {
   "cell_type": "code",
   "execution_count": 25,
   "id": "7be969b9-ef01-4dc2-aaf3-54f10ddc05f2",
   "metadata": {},
   "outputs": [
    {
     "name": "stdout",
     "output_type": "stream",
     "text": [
      "Original Bytearray :\n",
      "[111, 12, 45, 67, 109]\n",
      "\n",
      "Hexadecimal string:\n",
      "6f0c2d436d\n"
     ]
    }
   ],
   "source": [
    "def bytearray_to_hexadecimal(list_val):\n",
    "     result = ''.join('{:02x}'.format(x) for x in list_val)  \n",
    "     return(result)\n",
    "\n",
    "list_val = [111, 12, 45, 67, 109] \n",
    "print(\"Original Bytearray :\")\n",
    "print(list_val)\n",
    "print(\"\\nHexadecimal string:\")\n",
    "print(bytearray_to_hexadecimal(list_val))\n"
   ]
  },
  {
   "cell_type": "code",
   "execution_count": null,
   "id": "3b988824-fe56-4bc5-9ca7-483b6f64fee1",
   "metadata": {},
   "outputs": [],
   "source": []
  }
 ],
 "metadata": {
  "kernelspec": {
   "display_name": "Python 3",
   "language": "python",
   "name": "python3"
  },
  "language_info": {
   "codemirror_mode": {
    "name": "ipython",
    "version": 3
   },
   "file_extension": ".py",
   "mimetype": "text/x-python",
   "name": "python",
   "nbconvert_exporter": "python",
   "pygments_lexer": "ipython3",
   "version": "3.8.6"
  }
 },
 "nbformat": 4,
 "nbformat_minor": 5
}
