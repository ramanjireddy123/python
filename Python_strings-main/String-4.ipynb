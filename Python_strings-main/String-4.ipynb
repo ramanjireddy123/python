{
 "cells": [
  {
   "cell_type": "code",
   "execution_count": 1,
   "id": "d10bd690-a5e4-4e28-8fe7-fc7c5bb45e74",
   "metadata": {},
   "outputs": [
    {
     "name": "stdout",
     "output_type": "stream",
     "text": [
      "Original string:\n",
      "Delete all occurrences of a specified character in a given string\n",
      "\n",
      "Modified string:\n",
      "Delete ll occurrences of  specified chrcter in  given string\n"
     ]
    }
   ],
   "source": [
    "def delete_all_occurrences(str1, ch):\n",
    "     result = str1.replace(ch, \"\")\n",
    "     return(result)\n",
    "\n",
    "str_text = \"Delete all occurrences of a specified character in a given string\"\n",
    "print(\"Original string:\")\n",
    "print(str_text)\n",
    "print(\"\\nModified string:\")\n",
    "ch='a'\n",
    "print(delete_all_occurrences(str_text, ch))\n"
   ]
  },
  {
   "cell_type": "code",
   "execution_count": 2,
   "id": "196e5e83-6032-46c4-a46e-66a0589335b5",
   "metadata": {},
   "outputs": [
    {
     "name": "stdout",
     "output_type": "stream",
     "text": [
      "Original strings:\n",
      "Python3\n",
      "Python2.7\n",
      "\n",
      "Intersection of two said String:\n",
      "Python\n"
     ]
    }
   ],
   "source": [
    "def intersection_of_two_string(str1, str2):\n",
    "    result = \"\"\n",
    "    for ch in str1:\n",
    "        if ch in str2 and not ch in result:\n",
    "            result += ch\n",
    "    return result\n",
    "\n",
    "str1 = 'Python3'\n",
    "str2 = 'Python2.7'\n",
    "print(\"Original strings:\")\n",
    "print(str1)\n",
    "print(str2)\n",
    "print(\"\\nIntersection of two said String:\") \n",
    "print(intersection_of_two_string(str1, str2))\n"
   ]
  },
  {
   "cell_type": "code",
   "execution_count": 3,
   "id": "25769df2-cfd3-4dcb-a8e7-8eb847bf58bd",
   "metadata": {},
   "outputs": [
    {
     "name": "stdout",
     "output_type": "stream",
     "text": [
      "Original String : Pyth*^on Exercis^es\n",
      "After removing unwanted characters:\n",
      "Python Exercises\n",
      "\n",
      "Original String : A%^!B#*CD\n",
      "After removing unwanted characters:\n",
      "ABCD\n"
     ]
    }
   ],
   "source": [
    "def remove_chars(str1, unwanted_chars):\n",
    "    for i in unwanted_chars:\n",
    "        str1 = str1.replace(i, '')\n",
    "    return str1\n",
    "\n",
    "\n",
    "\n",
    "str1 = \"Pyth*^on Exercis^es\"\n",
    "str2 = \"A%^!B#*CD\"\n",
    "\n",
    "unwanted_chars = [\"#\", \"*\", \"!\", \"^\", \"%\"]\n",
    "print (\"Original String : \" + str1)\n",
    "print(\"After removing unwanted characters:\")\n",
    "print(remove_chars(str1, unwanted_chars))\n",
    "print (\"\\nOriginal String : \" + str2)\n",
    "print(\"After removing unwanted characters:\")\n",
    "print(remove_chars(str2, unwanted_chars))\n",
    "\n"
   ]
  },
  {
   "cell_type": "code",
   "execution_count": 4,
   "id": "cb4b1471-fa44-4903-9795-9e9b865e5f60",
   "metadata": {},
   "outputs": [
    {
     "name": "stdout",
     "output_type": "stream",
     "text": [
      "Original String:\n",
      "Python Exercises Practice Solution Exercises\n",
      "\n",
      "After removing duplicate words from the said string:\n",
      "Python Exercises Practice Solution\n"
     ]
    }
   ],
   "source": [
    "def unique_list(text_str):\n",
    "    l = text_str.split()\n",
    "    temp = []\n",
    "    for x in l:\n",
    "        if x not in temp:\n",
    "            temp.append(x)\n",
    "    return ' '.join(temp)\n",
    "\n",
    "text_str = \"Python Exercises Practice Solution Exercises\"\n",
    "print(\"Original String:\")\n",
    "print(text_str)\n",
    "print(\"\\nAfter removing duplicate words from the said string:\")\n",
    "print(unique_list(text_str))\n"
   ]
  },
  {
   "cell_type": "code",
   "execution_count": 5,
   "id": "186d777c-272e-47dd-8ec0-1ea1026e8c48",
   "metadata": {},
   "outputs": [
    {
     "name": "stdout",
     "output_type": "stream",
     "text": [
      "Original string:\n",
      "Python Exercises\n",
      "Python Exercises\n",
      "Similarity between two said strings:\n",
      "1.0\n",
      "\n",
      "Original string:\n",
      "Python Exercises\n",
      "Python Exercise\n",
      "Similarity between two said strings:\n",
      "0.967741935483871\n",
      "\n",
      "Original string:\n",
      "Python Exercises\n",
      "Python Ex.\n",
      "Similarity between two said strings:\n",
      "0.6923076923076923\n",
      "\n",
      "Original string:\n",
      "Python Exercises\n",
      "Python\n",
      "Similarity between two said strings:\n",
      "0.5454545454545454\n",
      "\n",
      "Original string:\n",
      "Java Exercises\n",
      "Python\n",
      "Similarity between two said strings:\n",
      "0.0\n"
     ]
    }
   ],
   "source": [
    "import difflib\n",
    "def string_similarity(str1, str2):\n",
    "    result =  difflib.SequenceMatcher(a=str1.lower(), b=str2.lower())\n",
    "    return result.ratio()\n",
    "str1 = 'Python Exercises'\n",
    "str2 = 'Python Exercises'\n",
    "print(\"Original string:\")\n",
    "print(str1)\n",
    "print(str2)\n",
    "print(\"Similarity between two said strings:\")\n",
    "print(string_similarity(str1,str2))\n",
    "\n",
    "\n",
    "\n",
    "str1 = 'Python Exercises'\n",
    "str2 = 'Python Exercise'\n",
    "print(\"\\nOriginal string:\")\n",
    "print(str1)\n",
    "print(str2)\n",
    "print(\"Similarity between two said strings:\")\n",
    "print(string_similarity(str1,str2))\n",
    "\n",
    "\n",
    "\n",
    "\n",
    "str1 = 'Python Exercises'\n",
    "str2 = 'Python Ex.'\n",
    "print(\"\\nOriginal string:\")\n",
    "print(str1)\n",
    "print(str2)\n",
    "print(\"Similarity between two said strings:\")\n",
    "print(string_similarity(str1,str2))\n",
    "\n",
    "str1 = 'Python Exercises'\n",
    "str2 = 'Python'\n",
    "print(\"\\nOriginal string:\")\n",
    "print(str1)\n",
    "print(str2)\n",
    "print(\"Similarity between two said strings:\")\n",
    "print(string_similarity(str1,str2))\n",
    "\n",
    "\n",
    "\n",
    "str1 = 'Python Exercises'\n",
    "str1 = 'Java Exercises'\n",
    "print(\"\\nOriginal string:\")\n",
    "print(str1)\n",
    "print(str2)\n",
    "print(\"Similarity between two said strings:\")\n",
    "print(string_similarity(str1,str2))\n"
   ]
  },
  {
   "cell_type": "code",
   "execution_count": 6,
   "id": "d348d38d-16b0-4ecb-b575-10770f5ddd15",
   "metadata": {},
   "outputs": [
    {
     "name": "stdout",
     "output_type": "stream",
     "text": [
      "Original string: red 12 black 45 green\n",
      "Extract numbers from the said string:\n",
      "[12, 45]\n"
     ]
    }
   ],
   "source": [
    "def test(str1):\n",
    "    result = [int(str1) for str1 in str1.split() if str1.isdigit()]\n",
    "    return result\n",
    "str1 = \"red 12 black 45 green\" \n",
    "print(\"Original string:\", str1) \n",
    "print(\"Extract numbers from the said string:\")\n",
    "print(test(str1))\n"
   ]
  },
  {
   "cell_type": "code",
   "execution_count": 7,
   "id": "51593661-6735-4c9c-961c-d2af8e8394bf",
   "metadata": {},
   "outputs": [
    {
     "name": "stdout",
     "output_type": "stream",
     "text": [
      "Original string: red 12 black 45 green\n",
      "[12, 45]\n"
     ]
    }
   ],
   "source": [
    "def test(str1):\n",
    "    result = [int(str1) for str1 in str1.split() if str1.isdigit()]\n",
    "    return result\n",
    "str1 = \"red 12 black 45 green\" \n",
    "print(\"Original string:\", str1) \n",
    "print(test(str1))"
   ]
  },
  {
   "cell_type": "code",
   "execution_count": null,
   "id": "5d9ac8f1-a7ce-4c07-8956-31c7dbdda32e",
   "metadata": {},
   "outputs": [],
   "source": []
  }
 ],
 "metadata": {
  "kernelspec": {
   "display_name": "Python 3",
   "language": "python",
   "name": "python3"
  },
  "language_info": {
   "codemirror_mode": {
    "name": "ipython",
    "version": 3
   },
   "file_extension": ".py",
   "mimetype": "text/x-python",
   "name": "python",
   "nbconvert_exporter": "python",
   "pygments_lexer": "ipython3",
   "version": "3.8.6"
  }
 },
 "nbformat": 4,
 "nbformat_minor": 5
}
